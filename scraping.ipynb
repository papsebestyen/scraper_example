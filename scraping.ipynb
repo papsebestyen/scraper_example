{
 "cells": [
  {
   "cell_type": "code",
   "execution_count": 1,
   "id": "sweet-liberal",
   "metadata": {},
   "outputs": [],
   "source": [
    "import requests\n",
    "from bs4 import BeautifulSoup as bs\n",
    "import re\n",
    "from tqdm import tqdm\n",
    "import numpy as np\n",
    "import time\n",
    "from fake_useragent import UserAgent\n",
    "import os\n",
    "import pandas as pd\n",
    "from unicodedata import normalize\n",
    "import textract"
   ]
  },
  {
   "cell_type": "markdown",
   "id": "fatal-antenna",
   "metadata": {},
   "source": [
    "Ezt az oldalt fogjuk scrapelni:\n",
    "<br>\n",
    "https://www.gyakorikerdesek.hu/kereses.php?keres=szakkoll%C3%A9gium&oldal=1"
   ]
  },
  {
   "cell_type": "markdown",
   "id": "warming-malaysia",
   "metadata": {},
   "source": [
    "## URL linkek kiszedése "
   ]
  },
  {
   "cell_type": "markdown",
   "id": "particular-hawaiian",
   "metadata": {},
   "source": [
    "## Tiltás elleni védelem"
   ]
  },
  {
   "cell_type": "markdown",
   "id": "absent-surrey",
   "metadata": {},
   "source": [
    "Usar Agent"
   ]
  },
  {
   "cell_type": "code",
   "execution_count": 2,
   "id": "worse-scanner",
   "metadata": {},
   "outputs": [],
   "source": [
    "ua = UserAgent()"
   ]
  },
  {
   "cell_type": "code",
   "execution_count": 3,
   "id": "tutorial-transport",
   "metadata": {},
   "outputs": [
    {
     "data": {
      "text/plain": [
       "'Mozilla/5.0 (Windows NT 6.3; WOW64) AppleWebKit/537.36 (KHTML, like Gecko) Chrome/41.0.2225.0 Safari/537.36'"
      ]
     },
     "execution_count": 3,
     "metadata": {},
     "output_type": "execute_result"
    }
   ],
   "source": [
    "ua.random"
   ]
  },
  {
   "cell_type": "markdown",
   "id": "transparent-leisure",
   "metadata": {},
   "source": [
    "Proxik"
   ]
  },
  {
   "cell_type": "code",
   "execution_count": 4,
   "id": "veterinary-content",
   "metadata": {},
   "outputs": [],
   "source": [
    "def get_proxies():\n",
    "    url = 'https://free-proxy-list.net/'\n",
    "    response = requests.get(url)\n",
    "    soup = bs(response.content, 'lxml')\n",
    "    table = soup.find('div', {'class': 'table-responsive'}).table.tbody\n",
    "    table = table.find_all('tr')\n",
    "    proxies = [(row.find_all('td')[0].text + ':' + row.find_all('td')[1].text) for row in table]\n",
    "    print(f'Proxies: {len(proxies)}')\n",
    "    return [{\"http\": f'http://{proxy}', \"https\": f'https://{proxy}'} for proxy in proxies]"
   ]
  },
  {
   "cell_type": "code",
   "execution_count": 5,
   "id": "growing-reconstruction",
   "metadata": {},
   "outputs": [
    {
     "name": "stdout",
     "output_type": "stream",
     "text": [
      "Proxies: 300\n"
     ]
    }
   ],
   "source": [
    "proxies = get_proxies()"
   ]
  },
  {
   "cell_type": "code",
   "execution_count": 6,
   "id": "educated-following",
   "metadata": {},
   "outputs": [
    {
     "data": {
      "text/plain": [
       "{'http': 'http://168.169.96.17:8080', 'https': 'https://168.169.96.17:8080'}"
      ]
     },
     "execution_count": 6,
     "metadata": {},
     "output_type": "execute_result"
    }
   ],
   "source": [
    "np.random.choice(proxies)"
   ]
  },
  {
   "cell_type": "markdown",
   "id": "worthy-platinum",
   "metadata": {},
   "source": [
    "## Scrapelés"
   ]
  },
  {
   "cell_type": "markdown",
   "id": "decreased-address",
   "metadata": {},
   "source": [
    "A letiltást megoldó részek"
   ]
  },
  {
   "cell_type": "code",
   "execution_count": null,
   "id": "czech-importance",
   "metadata": {},
   "outputs": [],
   "source": [
    "session = requests.Session()"
   ]
  },
  {
   "cell_type": "code",
   "execution_count": null,
   "id": "nuclear-walnut",
   "metadata": {},
   "outputs": [],
   "source": [
    "session.proxies = np.random.choice(proxies)\n",
    "\n",
    "session.headers = {'User-Agent' : ua.random}\n",
    "\n",
    "session.timeout = 5"
   ]
  },
  {
   "cell_type": "markdown",
   "id": "varying-species",
   "metadata": {},
   "source": [
    "Küldjünk requestet"
   ]
  },
  {
   "cell_type": "code",
   "execution_count": null,
   "id": "atomic-ballot",
   "metadata": {
    "tags": []
   },
   "outputs": [],
   "source": [
    "result = session.get(f'{URL}1')"
   ]
  },
  {
   "cell_type": "markdown",
   "id": "secret-intro",
   "metadata": {},
   "source": [
    "Készüljünk arra is, ha valami nem jó"
   ]
  },
  {
   "cell_type": "code",
   "execution_count": null,
   "id": "stylish-product",
   "metadata": {
    "tags": []
   },
   "outputs": [],
   "source": [
    "try:\n",
    "    session = requests.Session()\n",
    "    \n",
    "    session.proxies = np.random.choice(proxies)\n",
    "    \n",
    "    session.headers = {'User-Agent' : ua.random}\n",
    "    \n",
    "    session.timeout = 5\n",
    "    \n",
    "    result = session.get(f'{URL}1')\n",
    "except:\n",
    "    print('HIBA')"
   ]
  },
  {
   "cell_type": "markdown",
   "id": "wicked-factory",
   "metadata": {},
   "source": [
    "Keressük meg az oldalszámokat"
   ]
  },
  {
   "cell_type": "code",
   "execution_count": null,
   "id": "novel-shape",
   "metadata": {
    "tags": []
   },
   "outputs": [],
   "source": [
    "# soup létrehozása\n",
    "soup = bs(result.content, 'lxml')\n",
    "\n",
    "# Oldalszám div\n",
    "pages = soup.find('div', {'class': 'oldalszamok'})\n",
    "print(pages.prettify())"
   ]
  },
  {
   "cell_type": "markdown",
   "id": "unlikely-despite",
   "metadata": {},
   "source": [
    "Keressük meg a mostani oldalt. Ez akkor jó, ha megyegyezik azzal, amit az url-ben megadtunk."
   ]
  },
  {
   "cell_type": "code",
   "execution_count": null,
   "id": "spread-benjamin",
   "metadata": {},
   "outputs": [],
   "source": [
    "int(pages.find('span').text)"
   ]
  },
  {
   "cell_type": "markdown",
   "id": "convinced-router",
   "metadata": {},
   "source": [
    "Ha jó az oldal, akkor nézzük meg a kérdéseket"
   ]
  },
  {
   "cell_type": "code",
   "execution_count": null,
   "id": "blocked-publicity",
   "metadata": {
    "tags": []
   },
   "outputs": [],
   "source": [
    "questions = soup.find_all('div', {'class': 'kerdeslista'})\n",
    "\n",
    "# Hogy néz ki egy kérdés\n",
    "print(questions[0].prettify())"
   ]
  },
  {
   "cell_type": "markdown",
   "id": "sensitive-potential",
   "metadata": {},
   "source": [
    "Ne vegyük figyelembe a kiemeléseket"
   ]
  },
  {
   "cell_type": "code",
   "execution_count": null,
   "id": "compound-organ",
   "metadata": {},
   "outputs": [],
   "source": [
    "questions = [q for q in questions if q.find('div', 'kerdes_kiemelt') == None]"
   ]
  },
  {
   "cell_type": "markdown",
   "id": "boring-resident",
   "metadata": {},
   "source": [
    "Szedjük ki a linkeket"
   ]
  },
  {
   "cell_type": "code",
   "execution_count": null,
   "id": "photographic-announcement",
   "metadata": {},
   "outputs": [],
   "source": [
    "links = [q.find('a')['href'] for q in questions]\n",
    "links"
   ]
  },
  {
   "cell_type": "code",
   "execution_count": null,
   "id": "geographic-archive",
   "metadata": {},
   "outputs": [],
   "source": [
    "links = [re.sub('(.*)(/.*)', '\\\\1', URL) + link for link in links]\n",
    "links"
   ]
  },
  {
   "cell_type": "markdown",
   "id": "innovative-surname",
   "metadata": {},
   "source": [
    "Az egész egy függvényben"
   ]
  },
  {
   "cell_type": "code",
   "execution_count": null,
   "id": "fatal-novel",
   "metadata": {},
   "outputs": [],
   "source": [
    "def get_urls(page_num):\n",
    "    error = False\n",
    "    last = False\n",
    "    links = []\n",
    "    \n",
    "    ua = UserAgent()\n",
    "\n",
    "    try:        \n",
    "        session = requests.Session()\n",
    "\n",
    "        session.proxies = np.random.choice(proxies)\n",
    "\n",
    "        session.headers = {'User-Agent' : ua.random}\n",
    "\n",
    "        session.timeout = 5\n",
    "\n",
    "        result = session.get(f'{URL}{page_num}')\n",
    "        \n",
    "        soup = bs(result.content, 'lxml')\n",
    "    \n",
    "        time.sleep(np.random.uniform(5,10))\n",
    "    except:\n",
    "        error = True\n",
    "        \n",
    "    try:\n",
    "        pages = soup.find('div', {'class': 'oldalszamok'})\n",
    "        last = int(pages.find('span').text) != page_num\n",
    "        if last:\n",
    "            return error, last, []\n",
    "    except:\n",
    "        last = True\n",
    "    \n",
    "    try:\n",
    "        questions = soup.find_all('div', {'class': 'kerdeslista'})\n",
    "\n",
    "        questions = [q for q in questions if q.find('div', 'kerdes_kiemelt') == None]\n",
    "\n",
    "        links = [q.find('a')['href'] for q in questions]\n",
    "\n",
    "        links = [re.sub('(.*)(/.*)', '\\\\1', URL) + link for link in links]\n",
    "    except:\n",
    "        error = True\n",
    "\n",
    "    return error, last, links"
   ]
  },
  {
   "cell_type": "code",
   "execution_count": null,
   "id": "coastal-ghost",
   "metadata": {
    "tags": []
   },
   "outputs": [],
   "source": [
    "get_urls(10)"
   ]
  },
  {
   "cell_type": "markdown",
   "id": "major-trading",
   "metadata": {},
   "source": [
    "Menjünk végig az oldalakon"
   ]
  },
  {
   "cell_type": "code",
   "execution_count": null,
   "id": "heavy-excerpt",
   "metadata": {
    "tags": []
   },
   "outputs": [],
   "source": [
    "links = []\n",
    "page_num = 1\n",
    "\n",
    "while True:\n",
    "    error, last, new_links = get_urls(page_num)\n",
    "    print(f'page: {page_num}, error: {error}, last: {last}')\n",
    "    \n",
    "    if error == False:\n",
    "        if last == True:\n",
    "            break\n",
    "        else:\n",
    "            links.extend(new_links)\n",
    "            page_num += 1\n",
    "         \n",
    "\n",
    "# kiírás csv-be\n",
    "with open('links.txt', 'w') as file:\n",
    "    file.write('\\n'.join(links))"
   ]
  },
  {
   "cell_type": "code",
   "execution_count": null,
   "id": "frank-buying",
   "metadata": {},
   "outputs": [],
   "source": [
    "links"
   ]
  },
  {
   "cell_type": "markdown",
   "id": "brave-convergence",
   "metadata": {},
   "source": [
    "# Oldalak mentése HTML-ben"
   ]
  },
  {
   "cell_type": "code",
   "execution_count": 8,
   "id": "cooperative-raise",
   "metadata": {},
   "outputs": [],
   "source": [
    "session = requests.Session()"
   ]
  },
  {
   "cell_type": "code",
   "execution_count": 9,
   "id": "prescribed-permit",
   "metadata": {},
   "outputs": [],
   "source": [
    "session.proxies = np.random.choice(proxies)"
   ]
  },
  {
   "cell_type": "code",
   "execution_count": 10,
   "id": "hindu-occurrence",
   "metadata": {},
   "outputs": [],
   "source": [
    "session.headers = {'User-Agent' : ua.random}"
   ]
  },
  {
   "cell_type": "code",
   "execution_count": 11,
   "id": "retained-folks",
   "metadata": {},
   "outputs": [],
   "source": [
    "session.timeout = 5"
   ]
  },
  {
   "cell_type": "code",
   "execution_count": 12,
   "id": "later-emerald",
   "metadata": {},
   "outputs": [],
   "source": [
    "with open('links.txt') as file:\n",
    "    links = file.read().strip().split('\\n')"
   ]
  },
  {
   "cell_type": "code",
   "execution_count": 13,
   "id": "neutral-bracelet",
   "metadata": {},
   "outputs": [],
   "source": [
    "result = session.get(links[3])"
   ]
  },
  {
   "cell_type": "code",
   "execution_count": 16,
   "id": "thermal-reporter",
   "metadata": {},
   "outputs": [
    {
     "data": {
      "text/plain": [
       "False"
      ]
     },
     "execution_count": 16,
     "metadata": {},
     "output_type": "execute_result"
    }
   ],
   "source": [
    "soup = bs(result.content, 'lxml')\n",
    "\n",
    "# Letiltott az oldal?\n",
    "soup.find('h2').text == 'Gyakorikerdesek.hu biztonsági kód'"
   ]
  },
  {
   "cell_type": "markdown",
   "id": "indonesian-legislature",
   "metadata": {},
   "source": [
    "Mappa létrehozása"
   ]
  },
  {
   "cell_type": "code",
   "execution_count": 17,
   "id": "material-polish",
   "metadata": {},
   "outputs": [],
   "source": [
    "if not os.path.exists('questions'):\n",
    "    os.makedirs('questions')"
   ]
  },
  {
   "cell_type": "markdown",
   "id": "careful-organ",
   "metadata": {},
   "source": [
    "Mentsük ki a HTML fájlt"
   ]
  },
  {
   "cell_type": "code",
   "execution_count": null,
   "id": "weekly-seventh",
   "metadata": {},
   "outputs": [],
   "source": [
    "with open(os.path.join('questions', f'page_{1}.html'), 'wb') as file:\n",
    "    file.write(result.content)"
   ]
  },
  {
   "cell_type": "markdown",
   "id": "necessary-chapel",
   "metadata": {},
   "source": [
    "Nézzük meg az egyedi azaonosítókat"
   ]
  },
  {
   "cell_type": "code",
   "execution_count": 18,
   "id": "british-banks",
   "metadata": {},
   "outputs": [
    {
     "data": {
      "text/plain": [
       "'https://www.gyakorikerdesek.hu/kozoktatas-tanfolyamok__tanulasi-lehetosegek__10480176-aki-jelentkezett-iden-az-mcc-be-kapott-mar-emailt-hogy-felvettek-vagy-nem'"
      ]
     },
     "execution_count": 18,
     "metadata": {},
     "output_type": "execute_result"
    }
   ],
   "source": [
    "links[20]"
   ]
  },
  {
   "cell_type": "code",
   "execution_count": 19,
   "id": "comprehensive-chuck",
   "metadata": {},
   "outputs": [
    {
     "data": {
      "text/plain": [
       "'10480176'"
      ]
     },
     "execution_count": 19,
     "metadata": {},
     "output_type": "execute_result"
    }
   ],
   "source": [
    "re.sub('(.*__)(\\d+)(-.*)', '\\\\2', links[20])"
   ]
  },
  {
   "cell_type": "markdown",
   "id": "exotic-dylan",
   "metadata": {},
   "source": [
    "Az egész egyben - addig fusson ameddig nem lesz jó"
   ]
  },
  {
   "cell_type": "code",
   "execution_count": null,
   "id": "ruled-cartridge",
   "metadata": {},
   "outputs": [],
   "source": [
    "def get_html_code(url):\n",
    "    \n",
    "    while True:\n",
    "        try:\n",
    "            ua = UserAgent()\n",
    "\n",
    "            session = requests.Session()\n",
    "\n",
    "            session.headers = {'User-Agent' : ua.random}\n",
    "            \n",
    "            session.proxies = np.random.choice(proxies)\n",
    "\n",
    "            session.timeout = 5\n",
    "\n",
    "            result = session.get(url)\n",
    "            \n",
    "            time.sleep(np.random.uniform(5,10))\n",
    "\n",
    "            if not os.path.exists('questions'):\n",
    "                os.makedirs('questions')\n",
    "        \n",
    "            unique_id = re.sub('(.*__)(\\d+)(-.*)', '\\\\2', url)\n",
    "            \n",
    "            soup = bs(result.content, 'lxml')\n",
    "\n",
    "            if soup.find('h2').text == 'Gyakorikerdesek.hu biztonsági kód':\n",
    "                continue\n",
    "            \n",
    "            with open(os.path.join('questions', f'page_{unique_id}.html'), 'wb') as file:\n",
    "                file.write(result.content)\n",
    "                \n",
    "            return\n",
    "        except:\n",
    "            pass"
   ]
  },
  {
   "cell_type": "code",
   "execution_count": null,
   "id": "functioning-evolution",
   "metadata": {},
   "outputs": [],
   "source": [
    "get_html_code(links[1])"
   ]
  },
  {
   "cell_type": "code",
   "execution_count": null,
   "id": "divine-origin",
   "metadata": {},
   "outputs": [],
   "source": [
    "for link in tqdm(links):\n",
    "    get_html_code(link)"
   ]
  },
  {
   "cell_type": "markdown",
   "id": "animal-complexity",
   "metadata": {},
   "source": [
    "# Scraping one page from HTML code "
   ]
  },
  {
   "cell_type": "markdown",
   "id": "distinct-webcam",
   "metadata": {},
   "source": [
    "Nyissunk meg egy HTML file-t"
   ]
  },
  {
   "cell_type": "code",
   "execution_count": 20,
   "id": "willing-progressive",
   "metadata": {},
   "outputs": [
    {
     "data": {
      "text/plain": [
       "'page_7973530.html'"
      ]
     },
     "execution_count": 20,
     "metadata": {},
     "output_type": "execute_result"
    }
   ],
   "source": [
    "os.listdir('questions')[0]"
   ]
  },
  {
   "cell_type": "code",
   "execution_count": 22,
   "id": "approved-right",
   "metadata": {},
   "outputs": [],
   "source": [
    "with open(os.path.join('questions', os.listdir('questions')[2]), 'rb') as file:\n",
    "    response = file.read()\n",
    "    \n",
    "soup = bs(response, 'lxml')"
   ]
  },
  {
   "cell_type": "markdown",
   "id": "spatial-copying",
   "metadata": {},
   "source": [
    "Keressük meg a címet"
   ]
  },
  {
   "cell_type": "code",
   "execution_count": 23,
   "id": "computational-nursing",
   "metadata": {},
   "outputs": [
    {
     "data": {
      "text/plain": [
       "'Van reális esély, hogy felvegyenek az ELTE Bolyai\\nszakkollégiumába elsőévesként?'"
      ]
     },
     "execution_count": 23,
     "metadata": {},
     "output_type": "execute_result"
    }
   ],
   "source": [
    "def find_title(soup):\n",
    "    return soup.find('div', {'class': 'kerdes_fejlec'}).find('h1').text\n",
    "\n",
    "find_title(soup)"
   ]
  },
  {
   "cell_type": "markdown",
   "id": "bridal-commitment",
   "metadata": {},
   "source": [
    "Na de milyen kódolás?"
   ]
  },
  {
   "cell_type": "code",
   "execution_count": 24,
   "id": "decent-canadian",
   "metadata": {},
   "outputs": [
    {
     "data": {
      "text/plain": [
       "b'Van re\\xc3\\xa1lis es\\xc3\\xa9ly, hogy felvegyenek az ELTE Bolyai\\nszakkoll\\xc3\\xa9gium\\xc3\\xa1ba els\\xc5\\x91\\xc3\\xa9vesk\\xc3\\xa9nt?'"
      ]
     },
     "execution_count": 24,
     "metadata": {},
     "output_type": "execute_result"
    }
   ],
   "source": [
    "find_title(soup).encode()"
   ]
  },
  {
   "cell_type": "code",
   "execution_count": 25,
   "id": "prime-coral",
   "metadata": {},
   "outputs": [
    {
     "data": {
      "text/plain": [
       "'Van reális esély, hogy felvegyenek az ELTE Bolyai\\nszakkollégiumába elsőévesként?'"
      ]
     },
     "execution_count": 25,
     "metadata": {},
     "output_type": "execute_result"
    }
   ],
   "source": [
    "normalize('NFKD', find_title(soup))"
   ]
  },
  {
   "cell_type": "code",
   "execution_count": 26,
   "id": "brave-korean",
   "metadata": {},
   "outputs": [
    {
     "data": {
      "text/plain": [
       "b'Van rea\\xcc\\x81lis ese\\xcc\\x81ly, hogy felvegyenek az ELTE Bolyai\\nszakkolle\\xcc\\x81giuma\\xcc\\x81ba elso\\xcc\\x8be\\xcc\\x81veske\\xcc\\x81nt?'"
      ]
     },
     "execution_count": 26,
     "metadata": {},
     "output_type": "execute_result"
    }
   ],
   "source": [
    "normalize('NFKD', find_title(soup)).encode()"
   ]
  },
  {
   "cell_type": "code",
   "execution_count": 32,
   "id": "atomic-memorial",
   "metadata": {},
   "outputs": [
    {
     "data": {
      "text/plain": [
       "'Van reális esély, hogy felvegyenek az ELTE Bolyai\\nszakkollégiumába elsőévesként?'"
      ]
     },
     "execution_count": 32,
     "metadata": {},
     "output_type": "execute_result"
    }
   ],
   "source": [
    "def find_title(soup):\n",
    "    title = soup.find('div', {'class': 'kerdes_fejlec'}).find('h1').text\n",
    "    title = normalize('NFKD', title)\n",
    "    return title\n",
    "    \n",
    "find_title(soup)"
   ]
  },
  {
   "cell_type": "markdown",
   "id": "false-raleigh",
   "metadata": {},
   "source": [
    "Keressük meg a tageket"
   ]
  },
  {
   "cell_type": "code",
   "execution_count": 33,
   "id": "controversial-moderator",
   "metadata": {},
   "outputs": [
    {
     "data": {
      "text/plain": [
       "['egyetem', 'matematika', 'fizika', 'felvételi', 'ELTE', 'szakkollégium']"
      ]
     },
     "execution_count": 33,
     "metadata": {},
     "output_type": "execute_result"
    }
   ],
   "source": [
    "def find_tags(soup):\n",
    "    tag_div = soup.find('div', {'class': 'kerdes_kulcsszo'})\n",
    "    tags = tag_div.find_all('span')\n",
    "    tags = [tag.text.replace('#', '') for tag in tags]\n",
    "    tags = [tag for tag in tags]\n",
    "    tags = [normalize('NFKD', tag) for tag in tags]\n",
    "    return tags\n",
    "\n",
    "find_tags(soup)"
   ]
  },
  {
   "cell_type": "markdown",
   "id": "impressed-cyprus",
   "metadata": {},
   "source": [
    "Keressük meg a dátumot"
   ]
  },
  {
   "cell_type": "code",
   "execution_count": 34,
   "id": "great-nightmare",
   "metadata": {},
   "outputs": [
    {
     "data": {
      "text/plain": [
       "'2020. máj. 21. 11:39'"
      ]
     },
     "execution_count": 34,
     "metadata": {},
     "output_type": "execute_result"
    }
   ],
   "source": [
    "def find_question_date(soup):\n",
    "    date = soup.find('div', {'class': 'kerdes_statusz'}).text\n",
    "    date = normalize('NFKD', date)\n",
    "    return date\n",
    "\n",
    "find_question_date(soup)"
   ]
  },
  {
   "cell_type": "markdown",
   "id": "crude-evolution",
   "metadata": {},
   "source": [
    "Keressük meg a kérdést"
   ]
  },
  {
   "cell_type": "code",
   "execution_count": 35,
   "id": "sporting-float",
   "metadata": {},
   "outputs": [
    {
     "data": {
      "text/plain": [
       "'Kb. 220%-os érettségi átlagom lesz, határontúli vagyok. Fizika alapszakra jelentkezek, romániai versenyeredményeim vannak fizikából és matekból.\\n'"
      ]
     },
     "execution_count": 35,
     "metadata": {},
     "output_type": "execute_result"
    }
   ],
   "source": [
    "def find_question(soup):\n",
    "    question_div = soup.find('div', {'class': 'kerdes_kerdes'})\n",
    "    question = question_div.contents[1:]\n",
    "    question = '\\n'.join([ques if isinstance(ques, str) else ques.text for ques in question])\n",
    "    question = normalize('NFKD', question)\n",
    "    return question\n",
    "\n",
    "find_question(soup)"
   ]
  },
  {
   "cell_type": "markdown",
   "id": "royal-romantic",
   "metadata": {},
   "source": [
    "Keressük meg a válaszokat"
   ]
  },
  {
   "cell_type": "code",
   "execution_count": 36,
   "id": "infrared-cartoon",
   "metadata": {
    "tags": []
   },
   "outputs": [
    {
     "data": {
      "text/plain": [
       "[<div class=\"valasz\" id=\"valasz-61876424\"><div class=\"valasz_fejlec\"> 1/7 <span class=\"anonim\">anonim</span> <span class=\"vsz\"><img alt=\"*\" src=\"//static.gyakorikerdesek.hu/p/vsz2.png\"/><img alt=\"*\" src=\"//static.gyakorikerdesek.hu/p/vsz2.png\"/><img alt=\"*\" src=\"//static.gyakorikerdesek.hu/p/vsz2.png\"/><img alt=\"*\" src=\"//static.gyakorikerdesek.hu/p/vsz0.png\"/><img alt=\"*\" src=\"//static.gyakorikerdesek.hu/p/vsz0.png\"/></span> válasza:</div><div class=\"valasz_valasz\"><div class=\"flex\" style=\"flex-wrap: nowrap;\"><div id=\"ertek61876424\" style=\"margin-right: 10px;\"><svg class=\"ertek\" viewbox=\"0 0 100 100\"><circle cx=\"50\" cy=\"50\" fill=\"#C4DCC5\" r=\"45\"></circle><path d=\"M50 10 a 40 40 0 0 1 0 80 a 40 40 0 0 1 0 -80\" fill=\"none\" stroke=\"#1F8D25\" stroke-dasharray=\"226.1,25.1\" stroke-linecap=\"round\" stroke-width=\"7\"></path><text dy=\"7\" font-size=\"20\" text-anchor=\"middle\" x=\"50\" y=\"50\">90%</text></svg></div><div id=\"valasz61876424\" style=\"min-width: 680px;\"><p style=\"margin: 0 0 7px 0;\">\"Kb. 220%-os érettségi átlagom lesz\"</p><p style=\"margin: 7px 0 7px 0;\">Ez alatt mit értesz? román vagy magyar érettségi? egyáltalán hogy lehet 100 fölött kapni?</p><br/><br/><p style=\"margin: 7px 0 7px 0;\">\"Fizika alapszakra jelentkezek, romániai versenyeredményeim vannak fizikából és matekból.\" Milyen versenyeredmények? Románia jelentősen jobb gimiben fizikából mint Mo, bár ez gondolom feltűnt :D Ha ilyen top 10-15ben voltál akkor szerintem simán felvesznek.</p></div></div></div><div class=\"flex valasz_statusz\"><div>2020. máj. 21. 11:46</div><div class=\"flex\" style=\"margin-left: auto; align-items: center; flex-wrap: nowrap;\"><div style=\"margin-right: 5px;\">Hasznos számodra ez a válasz?</div><div><a class=\"hasznos\" href=\"#\" onclick='location.href=\"/belepes\"; return false; return false;' title=\"Hasznos\"></a> <a class=\"felighasznos\" href=\"#\" onclick='location.href=\"/belepes\"; return false; return false;' title=\"Félig-meddig hasznos\"></a> <a class=\"nemhasznos\" href=\"#\" onclick='location.href=\"/belepes\"; return false; return false;' title=\"Nem hasznos\"></a></div></div></div></div>,\n",
       " <div class=\"valasz\" id=\"valasz-61876437\"><div class=\"valasz_fejlec\"> 2/7 <span class=\"anonim\">anonim</span> <span class=\"vsz\"><img alt=\"*\" src=\"//static.gyakorikerdesek.hu/p/vsz2.png\"/><img alt=\"*\" src=\"//static.gyakorikerdesek.hu/p/vsz2.png\"/><img alt=\"*\" src=\"//static.gyakorikerdesek.hu/p/vsz2.png\"/><img alt=\"*\" src=\"//static.gyakorikerdesek.hu/p/vsz2.png\"/><img alt=\"*\" src=\"//static.gyakorikerdesek.hu/p/vsz1.png\"/></span> válasza:</div><div class=\"valasz_valasz\"><div class=\"flex\" style=\"flex-wrap: nowrap;\"><div id=\"ertek61876437\" style=\"margin-right: 10px;\"><svg class=\"ertek\" viewbox=\"0 0 100 100\"><circle cx=\"50\" cy=\"50\" fill=\"#C4DCC5\" r=\"45\"></circle><path d=\"M50 10 a 40 40 0 0 1 0 80 a 40 40 0 0 1 0 -80\" fill=\"none\" stroke=\"#1F8D25\" stroke-dasharray=\"221.1,30.1\" stroke-linecap=\"round\" stroke-width=\"7\"></path><text dy=\"7\" font-size=\"20\" text-anchor=\"middle\" x=\"50\" y=\"50\">88%</text></svg></div><div id=\"valasz61876437\" style=\"min-width: 680px;\">A jelentkezők többsége és így nyilván a felvettek többsége is elsőéves. Viszont nem könnyű bekerülni, ahhoz tényleg elég komoly versenyeredmények kellenek.</div></div></div><div class=\"flex valasz_statusz\"><div>2020. máj. 21. 11:47</div><div class=\"flex\" style=\"margin-left: auto; align-items: center; flex-wrap: nowrap;\"><div style=\"margin-right: 5px;\">Hasznos számodra ez a válasz?</div><div><a class=\"hasznos\" href=\"#\" onclick='location.href=\"/belepes\"; return false; return false;' title=\"Hasznos\"></a> <a class=\"felighasznos\" href=\"#\" onclick='location.href=\"/belepes\"; return false; return false;' title=\"Félig-meddig hasznos\"></a> <a class=\"nemhasznos\" href=\"#\" onclick='location.href=\"/belepes\"; return false; return false;' title=\"Nem hasznos\"></a></div></div></div></div>,\n",
       " <div class=\"valasz\" id=\"valasz-61876553\"><div class=\"valasz_fejlec\"> 3/7 <span class=\"anonim\">anonim</span> <span class=\"vsz\"><img alt=\"*\" src=\"//static.gyakorikerdesek.hu/p/vsz2.png\"/><img alt=\"*\" src=\"//static.gyakorikerdesek.hu/p/vsz2.png\"/><img alt=\"*\" src=\"//static.gyakorikerdesek.hu/p/vsz2.png\"/><img alt=\"*\" src=\"//static.gyakorikerdesek.hu/p/vsz0.png\"/><img alt=\"*\" src=\"//static.gyakorikerdesek.hu/p/vsz0.png\"/></span> válasza:</div><div class=\"valasz_valasz\"><div class=\"flex\" style=\"flex-wrap: nowrap;\"><div id=\"ertek61876553\" style=\"margin-right: 10px;\"><svg class=\"ertek\" viewbox=\"0 0 100 100\"><circle cx=\"50\" cy=\"50\" fill=\"#C4DCC5\" r=\"45\"></circle><path d=\"M50 10 a 40 40 0 0 1 0 80 a 40 40 0 0 1 0 -80\" fill=\"none\" stroke=\"#1F8D25\" stroke-dasharray=\"221.1,30.1\" stroke-linecap=\"round\" stroke-width=\"7\"></path><text dy=\"7\" font-size=\"20\" text-anchor=\"middle\" x=\"50\" y=\"50\">88%</text></svg></div><div id=\"valasz61876553\" style=\"min-width: 680px;\">hát nemtom nekem elég sok ismerősöm felvették oda :D</div></div></div><div class=\"flex valasz_statusz\"><div>2020. máj. 21. 11:55</div><div class=\"flex\" style=\"margin-left: auto; align-items: center; flex-wrap: nowrap;\"><div style=\"margin-right: 5px;\">Hasznos számodra ez a válasz?</div><div><a class=\"hasznos\" href=\"#\" onclick='location.href=\"/belepes\"; return false; return false;' title=\"Hasznos\"></a> <a class=\"felighasznos\" href=\"#\" onclick='location.href=\"/belepes\"; return false; return false;' title=\"Félig-meddig hasznos\"></a> <a class=\"nemhasznos\" href=\"#\" onclick='location.href=\"/belepes\"; return false; return false;' title=\"Nem hasznos\"></a></div></div></div></div>,\n",
       " <div class=\"kerdes\" id=\"valasz-61877169\"><div class=\"kerdes_fejlec\"> 4/7 A kérdező kommentje:</div><div class=\"kerdes_kerdes\" style=\"padding-bottom: 10px;\"><div class=\"flex\" style=\"flex-wrap: nowrap;\"><div id=\"ertek61877169\" style=\"margin-right: 10px; display: none;\"></div><div id=\"valasz61877169\" style=\"min-width: 740px;\">Lehet, hogy rosszul tudom, de egy emelt érettségi 20% plusznak minősül. Romániai érettségit teszek le matekból és fizikából, mindkettő várhatóan hibátlan vagy közel hibátlan lesz. A román mateket elfogadják Magyarországon emelt szintű érettséginek, mert elég sok benne az analízis, meg csoportelméletet is tartalmaz. Emeltezni fizikából nem akartam kimenni, mert nem gondoltam, hogy számíthat a kollégiumnál (a jelenlegi helyzetben pedig még bonyolultabb lett volna). Az első eltalálta, top 10-15-ben voltam az utóbbi két-három évben fizikából, és szerintem is erősebb a romániai mezőny (már csak azért is, mert kb. kétszer annyi diák van).</div></div></div><div class=\"flex kerdes_statusz\"><div>2020. máj. 21. 12:43</div></div></div>,\n",
       " <div class=\"valasz\" id=\"valasz-61877973\"><div class=\"valasz_fejlec\"> 5/7 <span class=\"anonim\">anonim</span> <span class=\"vsz\"><img alt=\"*\" src=\"//static.gyakorikerdesek.hu/p/vsz2.png\"/><img alt=\"*\" src=\"//static.gyakorikerdesek.hu/p/vsz2.png\"/><img alt=\"*\" src=\"//static.gyakorikerdesek.hu/p/vsz2.png\"/><img alt=\"*\" src=\"//static.gyakorikerdesek.hu/p/vsz0.png\"/><img alt=\"*\" src=\"//static.gyakorikerdesek.hu/p/vsz0.png\"/></span> válasza:</div><div class=\"valasz_valasz\"><div class=\"flex\" style=\"flex-wrap: nowrap;\"><div id=\"ertek61877973\" style=\"margin-right: 10px;\"><svg class=\"ertek\" viewbox=\"0 0 100 100\"><circle cx=\"50\" cy=\"50\" fill=\"#C4DCC5\" r=\"45\"></circle><path d=\"M50 10 a 40 40 0 0 1 0 80 a 40 40 0 0 1 0 -80\" fill=\"none\" stroke=\"#1F8D25\" stroke-dasharray=\"221.1,30.1\" stroke-linecap=\"round\" stroke-width=\"7\"></path><text dy=\"7\" font-size=\"20\" text-anchor=\"middle\" x=\"50\" y=\"50\">88%</text></svg></div><div id=\"valasz61877973\" style=\"min-width: 680px;\"><p style=\"margin: 0 0 7px 0;\">Szerintem ebben az esetben nem csak esélyed van, de elég jó esélyed is van. Szerintem amúgy</p><p style=\"margin: 7px 0 7px 0;\">a legjobb hely Magyarországon (én első 5 körül voltam Magyarországon, de megszöktem Cambridgebe).</p><p style=\"margin: 7px 0 7px 0;\">Egy emailt mindenképp küldenék a helyedben, hogy mindent kritériumnak megfelelsz-e, mert néha elég makacsok tudnak lenni a szabályokban.</p><br/><p style=\"margin: 7px 0 7px 0;\">Mindenesetre nagyon sok sikert kívánok, és majd írd le h felvettek-e!</p><br/><p style=\"margin: 7px 0 7px 0;\">Amúgy fizikának melyik része érdekel legjobban?</p></div></div></div><div class=\"flex valasz_statusz\"><div>2020. máj. 21. 13:43</div><div class=\"flex\" style=\"margin-left: auto; align-items: center; flex-wrap: nowrap;\"><div style=\"margin-right: 5px;\">Hasznos számodra ez a válasz?</div><div><a class=\"hasznos\" href=\"#\" onclick='location.href=\"/belepes\"; return false; return false;' title=\"Hasznos\"></a> <a class=\"felighasznos\" href=\"#\" onclick='location.href=\"/belepes\"; return false; return false;' title=\"Félig-meddig hasznos\"></a> <a class=\"nemhasznos\" href=\"#\" onclick='location.href=\"/belepes\"; return false; return false;' title=\"Nem hasznos\"></a></div></div></div></div>,\n",
       " <div class=\"kerdes\" id=\"valasz-61878009\"><div class=\"kerdes_fejlec\"> 6/7 A kérdező kommentje:</div><div class=\"kerdes_kerdes\" style=\"padding-bottom: 10px;\"><div class=\"flex\" style=\"flex-wrap: nowrap;\"><div id=\"ertek61878009\" style=\"margin-right: 10px; display: none;\"></div><div id=\"valasz61878009\" style=\"min-width: 740px;\">Köszönöm szépen a válaszokat! Jelenleg nincs túl sok rálátásom a modern fizikára, de kvantumelméletet tanultam, jelenleg nagyon érdekel a fizikai kémia, molekulafizika.</div></div></div><div class=\"flex kerdes_statusz\"><div>2020. máj. 21. 13:46</div></div></div>,\n",
       " <div class=\"valasz\" id=\"valasz-62304566\"><div class=\"valasz_fejlec\"> 7/7 <span class=\"anonim\">anonim</span> <span class=\"vsz\"><img alt=\"*\" src=\"//static.gyakorikerdesek.hu/p/vsz2.png\"/><img alt=\"*\" src=\"//static.gyakorikerdesek.hu/p/vsz2.png\"/><img alt=\"*\" src=\"//static.gyakorikerdesek.hu/p/vsz2.png\"/><img alt=\"*\" src=\"//static.gyakorikerdesek.hu/p/vsz2.png\"/><img alt=\"*\" src=\"//static.gyakorikerdesek.hu/p/vsz0.png\"/></span> válasza:</div><div class=\"valasz_valasz\"><div class=\"flex\" style=\"flex-wrap: nowrap;\"><div id=\"ertek62304566\" style=\"margin-right: 10px; display: none;\"></div><div id=\"valasz62304566\" style=\"min-width: 680px;\"><p style=\"margin: 0 0 7px 0;\">Annyira senki nem makacs, hogy ne vegyenek föl, mert nincs magyarországi emelt érettségid :)</p><p style=\"margin: 7px 0 7px 0;\">(Pláne a mostani rémtörténetek mellett a határőrökkel:  <a onclick='alert(\"A link bejelentkezés után lesz kattintható.\");' title=\"Ha bejelentkezel, a link kattinthatóvá válik\">[link]</a>  )</p><br/><p style=\"margin: 7px 0 7px 0;\">Nagyobb kérdés sajnos az, hogy egyáltalán megnyithatnak-e a kollégiumok rendesen ősszel... :(</p></div></div></div><div class=\"flex valasz_statusz\"><div>2020. jún. 23. 01:45</div><div class=\"flex\" style=\"margin-left: auto; align-items: center; flex-wrap: nowrap;\"><div style=\"margin-right: 5px;\">Hasznos számodra ez a válasz?</div><div><a class=\"hasznos\" href=\"#\" onclick='location.href=\"/belepes\"; return false; return false;' title=\"Hasznos\"></a> <a class=\"felighasznos\" href=\"#\" onclick='location.href=\"/belepes\"; return false; return false;' title=\"Félig-meddig hasznos\"></a> <a class=\"nemhasznos\" href=\"#\" onclick='location.href=\"/belepes\"; return false; return false;' title=\"Nem hasznos\"></a></div></div></div></div>]"
      ]
     },
     "execution_count": 36,
     "metadata": {},
     "output_type": "execute_result"
    }
   ],
   "source": [
    "def find_answers(soup):\n",
    "    return soup.find_all('div', {'class': ('valasz', 'kerdes')})[1:-1]\n",
    "\n",
    "find_answers(soup)"
   ]
  },
  {
   "cell_type": "markdown",
   "id": "devoted-texas",
   "metadata": {},
   "source": [
    "Keressük meg a válaszok dátumát"
   ]
  },
  {
   "cell_type": "code",
   "execution_count": 37,
   "id": "macro-supplier",
   "metadata": {},
   "outputs": [],
   "source": [
    "answer = find_answers(soup)"
   ]
  },
  {
   "cell_type": "code",
   "execution_count": 38,
   "id": "technical-excuse",
   "metadata": {},
   "outputs": [
    {
     "data": {
      "text/plain": [
       "'2020. máj. 21. 12:43'"
      ]
     },
     "execution_count": 38,
     "metadata": {},
     "output_type": "execute_result"
    }
   ],
   "source": [
    "def find_answer_date(answer):\n",
    "    date_div = answer.find('div', {'class': ('valasz_statusz', 'kerdes_statusz')})\n",
    "    date = date_div.contents[0].text\n",
    "    date = normalize('NFKD', date)\n",
    "    return date\n",
    "\n",
    "find_answer_date(find_answers(soup)[3])"
   ]
  },
  {
   "cell_type": "markdown",
   "id": "assured-theta",
   "metadata": {},
   "source": [
    "Keressük meg a válaszok szövegét"
   ]
  },
  {
   "cell_type": "code",
   "execution_count": 39,
   "id": "charged-quebec",
   "metadata": {},
   "outputs": [
    {
     "data": {
      "text/plain": [
       "'Annyira senki nem makacs, hogy ne vegyenek föl, mert nincs magyarországi emelt érettségid :)\\n(Pláne a mostani rémtörténetek mellett a határőrökkel:  [link]  )\\n\\nNagyobb kérdés sajnos az, hogy egyáltalán megnyithatnak-e a kollégiumok rendesen ősszel... :('"
      ]
     },
     "execution_count": 39,
     "metadata": {},
     "output_type": "execute_result"
    }
   ],
   "source": [
    "def find_answer_text(answer):\n",
    "    answer_div = answer.find('div', {'class': ('valasz_valasz', 'kerdes_kerdes')})\n",
    "    answer = answer_div.findChild().contents[-1].contents\n",
    "    answer = '\\n'.join([ans if isinstance(ans, str) else ans.text for ans in answer])\n",
    "    answer = normalize('NFKD', answer)\n",
    "    return answer\n",
    "\n",
    "find_answer_text(find_answers(soup)[6])"
   ]
  },
  {
   "cell_type": "markdown",
   "id": "answering-apple",
   "metadata": {},
   "source": [
    "minden egyben"
   ]
  },
  {
   "cell_type": "code",
   "execution_count": 40,
   "id": "collectible-playing",
   "metadata": {
    "collapsed": true,
    "jupyter": {
     "outputs_hidden": true
    },
    "tags": []
   },
   "outputs": [
    {
     "data": {
      "text/plain": [
       "[{'title': 'Van reális esély, hogy felvegyenek az ELTE Bolyai\\nszakkollégiumába elsőévesként?',\n",
       "  'tag': ['egyetem',\n",
       "   'matematika',\n",
       "   'fizika',\n",
       "   'felvételi',\n",
       "   'ELTE',\n",
       "   'szakkollégium'],\n",
       "  'date': '2020. máj. 21. 11:39',\n",
       "  'text': 'Kb. 220%-os érettségi átlagom lesz, határontúli vagyok. Fizika alapszakra jelentkezek, romániai versenyeredményeim vannak fizikából és matekból.\\n',\n",
       "  'is_question': True,\n",
       "  'id': 'barmi'},\n",
       " {'title': 'Van reális esély, hogy felvegyenek az ELTE Bolyai\\nszakkollégiumába elsőévesként?',\n",
       "  'tag': ['egyetem',\n",
       "   'matematika',\n",
       "   'fizika',\n",
       "   'felvételi',\n",
       "   'ELTE',\n",
       "   'szakkollégium'],\n",
       "  'date': '2020. máj. 21. 11:46',\n",
       "  'text': '\"Kb. 220%-os érettségi átlagom lesz\"\\nEz alatt mit értesz? román vagy magyar érettségi? egyáltalán hogy lehet 100 fölött kapni?\\n\\n\\n\"Fizika alapszakra jelentkezek, romániai versenyeredményeim vannak fizikából és matekból.\" Milyen versenyeredmények? Románia jelentősen jobb gimiben fizikából mint Mo, bár ez gondolom feltűnt :D Ha ilyen top 10-15ben voltál akkor szerintem simán felvesznek.',\n",
       "  'is_question': False,\n",
       "  'id': 'barmi'},\n",
       " {'title': 'Van reális esély, hogy felvegyenek az ELTE Bolyai\\nszakkollégiumába elsőévesként?',\n",
       "  'tag': ['egyetem',\n",
       "   'matematika',\n",
       "   'fizika',\n",
       "   'felvételi',\n",
       "   'ELTE',\n",
       "   'szakkollégium'],\n",
       "  'date': '2020. máj. 21. 11:47',\n",
       "  'text': 'A jelentkezők többsége és így nyilván a felvettek többsége is elsőéves. Viszont nem könnyű bekerülni, ahhoz tényleg elég komoly versenyeredmények kellenek.',\n",
       "  'is_question': False,\n",
       "  'id': 'barmi'},\n",
       " {'title': 'Van reális esély, hogy felvegyenek az ELTE Bolyai\\nszakkollégiumába elsőévesként?',\n",
       "  'tag': ['egyetem',\n",
       "   'matematika',\n",
       "   'fizika',\n",
       "   'felvételi',\n",
       "   'ELTE',\n",
       "   'szakkollégium'],\n",
       "  'date': '2020. máj. 21. 11:55',\n",
       "  'text': 'hát nemtom nekem elég sok ismerősöm felvették oda :D',\n",
       "  'is_question': False,\n",
       "  'id': 'barmi'},\n",
       " {'title': 'Van reális esély, hogy felvegyenek az ELTE Bolyai\\nszakkollégiumába elsőévesként?',\n",
       "  'tag': ['egyetem',\n",
       "   'matematika',\n",
       "   'fizika',\n",
       "   'felvételi',\n",
       "   'ELTE',\n",
       "   'szakkollégium'],\n",
       "  'date': '2020. máj. 21. 12:43',\n",
       "  'text': 'Lehet, hogy rosszul tudom, de egy emelt érettségi 20% plusznak minősül. Romániai érettségit teszek le matekból és fizikából, mindkettő várhatóan hibátlan vagy közel hibátlan lesz. A román mateket elfogadják Magyarországon emelt szintű érettséginek, mert elég sok benne az analízis, meg csoportelméletet is tartalmaz. Emeltezni fizikából nem akartam kimenni, mert nem gondoltam, hogy számíthat a kollégiumnál (a jelenlegi helyzetben pedig még bonyolultabb lett volna). Az első eltalálta, top 10-15-ben voltam az utóbbi két-három évben fizikából, és szerintem is erősebb a romániai mezőny (már csak azért is, mert kb. kétszer annyi diák van).',\n",
       "  'is_question': False,\n",
       "  'id': 'barmi'},\n",
       " {'title': 'Van reális esély, hogy felvegyenek az ELTE Bolyai\\nszakkollégiumába elsőévesként?',\n",
       "  'tag': ['egyetem',\n",
       "   'matematika',\n",
       "   'fizika',\n",
       "   'felvételi',\n",
       "   'ELTE',\n",
       "   'szakkollégium'],\n",
       "  'date': '2020. máj. 21. 13:43',\n",
       "  'text': 'Szerintem ebben az esetben nem csak esélyed van, de elég jó esélyed is van. Szerintem amúgy\\na legjobb hely Magyarországon (én első 5 körül voltam Magyarországon, de megszöktem Cambridgebe).\\nEgy emailt mindenképp küldenék a helyedben, hogy mindent kritériumnak megfelelsz-e, mert néha elég makacsok tudnak lenni a szabályokban.\\n\\nMindenesetre nagyon sok sikert kívánok, és majd írd le h felvettek-e!\\n\\nAmúgy fizikának melyik része érdekel legjobban?',\n",
       "  'is_question': False,\n",
       "  'id': 'barmi'},\n",
       " {'title': 'Van reális esély, hogy felvegyenek az ELTE Bolyai\\nszakkollégiumába elsőévesként?',\n",
       "  'tag': ['egyetem',\n",
       "   'matematika',\n",
       "   'fizika',\n",
       "   'felvételi',\n",
       "   'ELTE',\n",
       "   'szakkollégium'],\n",
       "  'date': '2020. máj. 21. 13:46',\n",
       "  'text': 'Köszönöm szépen a válaszokat! Jelenleg nincs túl sok rálátásom a modern fizikára, de kvantumelméletet tanultam, jelenleg nagyon érdekel a fizikai kémia, molekulafizika.',\n",
       "  'is_question': False,\n",
       "  'id': 'barmi'},\n",
       " {'title': 'Van reális esély, hogy felvegyenek az ELTE Bolyai\\nszakkollégiumába elsőévesként?',\n",
       "  'tag': ['egyetem',\n",
       "   'matematika',\n",
       "   'fizika',\n",
       "   'felvételi',\n",
       "   'ELTE',\n",
       "   'szakkollégium'],\n",
       "  'date': '2020. jún. 23. 01:45',\n",
       "  'text': 'Annyira senki nem makacs, hogy ne vegyenek föl, mert nincs magyarországi emelt érettségid :)\\n(Pláne a mostani rémtörténetek mellett a határőrökkel:  [link]  )\\n\\nNagyobb kérdés sajnos az, hogy egyáltalán megnyithatnak-e a kollégiumok rendesen ősszel... :(',\n",
       "  'is_question': False,\n",
       "  'id': 'barmi'}]"
      ]
     },
     "execution_count": 40,
     "metadata": {},
     "output_type": "execute_result"
    }
   ],
   "source": [
    "def extract_content(soup, unique_id):\n",
    "    data = []\n",
    "    \n",
    "    title = find_title(soup)\n",
    "    tags = find_tags(soup)\n",
    "    date = find_question_date(soup)\n",
    "    text = find_question(soup)\n",
    "    \n",
    "    question_data = {'title': title,\n",
    "                     'tag': tags,\n",
    "                     'date': date,\n",
    "                     'text': text,\n",
    "                     'is_question': True,\n",
    "                     'id': unique_id}\n",
    "    \n",
    "    data.append(question_data)\n",
    "    \n",
    "    answers = find_answers(soup)\n",
    "\n",
    "    for answer in answers:\n",
    "        \n",
    "        date = find_answer_date(answer)\n",
    "        text = find_answer_text(answer)\n",
    "        \n",
    "        answer_data = {'title': title,\n",
    "                       'tag': tags,\n",
    "                       'date': date,\n",
    "                       'text': text,\n",
    "                       'is_question': False,\n",
    "                       'id': unique_id}\n",
    "        \n",
    "        data.append(answer_data)\n",
    "    \n",
    "    return data\n",
    "\n",
    "extract_content(soup, 'barmi')"
   ]
  },
  {
   "cell_type": "markdown",
   "id": "cloudy-upset",
   "metadata": {},
   "source": [
    "Menjünk végig az összes file-on"
   ]
  },
  {
   "cell_type": "code",
   "execution_count": 41,
   "id": "dress-hanging",
   "metadata": {},
   "outputs": [
    {
     "name": "stderr",
     "output_type": "stream",
     "text": [
      "  2%|▏         | 4/191 [00:00<00:05, 36.17it/s]"
     ]
    },
    {
     "name": "stdout",
     "output_type": "stream",
     "text": [
      "page_7973530.html\n",
      "page_8000830.html\n",
      "page_10495238.html\n",
      "page_9751318.html\n",
      "page_7059731.html\n",
      "page_10468461.html\n",
      "page_10908121.html\n",
      "page_7998008.html\n",
      "page_10618580.html\n"
     ]
    },
    {
     "name": "stderr",
     "output_type": "stream",
     "text": [
      "  4%|▍         | 8/191 [00:00<00:04, 38.75it/s]\n"
     ]
    },
    {
     "ename": "AttributeError",
     "evalue": "'NoneType' object has no attribute 'find_all'",
     "output_type": "error",
     "traceback": [
      "\u001b[0;31m---------------------------------------------------------------------------\u001b[0m",
      "\u001b[0;31mAttributeError\u001b[0m                            Traceback (most recent call last)",
      "\u001b[0;32m<ipython-input-41-8907f67cf0db>\u001b[0m in \u001b[0;36m<module>\u001b[0;34m\u001b[0m\n\u001b[1;32m     11\u001b[0m     \u001b[0msoup\u001b[0m \u001b[0;34m=\u001b[0m \u001b[0mbs\u001b[0m\u001b[0;34m(\u001b[0m\u001b[0mresponse\u001b[0m\u001b[0;34m,\u001b[0m \u001b[0;34m'lxml'\u001b[0m\u001b[0;34m)\u001b[0m\u001b[0;34m\u001b[0m\u001b[0;34m\u001b[0m\u001b[0m\n\u001b[1;32m     12\u001b[0m \u001b[0;34m\u001b[0m\u001b[0m\n\u001b[0;32m---> 13\u001b[0;31m     \u001b[0mfile_data\u001b[0m \u001b[0;34m=\u001b[0m \u001b[0mextract_content\u001b[0m\u001b[0;34m(\u001b[0m\u001b[0msoup\u001b[0m\u001b[0;34m,\u001b[0m \u001b[0munique_id\u001b[0m\u001b[0;34m)\u001b[0m\u001b[0;34m\u001b[0m\u001b[0;34m\u001b[0m\u001b[0m\n\u001b[0m\u001b[1;32m     14\u001b[0m \u001b[0;34m\u001b[0m\u001b[0m\n\u001b[1;32m     15\u001b[0m     \u001b[0mdata\u001b[0m\u001b[0;34m.\u001b[0m\u001b[0mextend\u001b[0m\u001b[0;34m(\u001b[0m\u001b[0mfile_data\u001b[0m\u001b[0;34m)\u001b[0m\u001b[0;34m\u001b[0m\u001b[0;34m\u001b[0m\u001b[0m\n",
      "\u001b[0;32m<ipython-input-40-07b4ca08001b>\u001b[0m in \u001b[0;36mextract_content\u001b[0;34m(soup, unique_id)\u001b[0m\n\u001b[1;32m      3\u001b[0m \u001b[0;34m\u001b[0m\u001b[0m\n\u001b[1;32m      4\u001b[0m     \u001b[0mtitle\u001b[0m \u001b[0;34m=\u001b[0m \u001b[0mfind_title\u001b[0m\u001b[0;34m(\u001b[0m\u001b[0msoup\u001b[0m\u001b[0;34m)\u001b[0m\u001b[0;34m\u001b[0m\u001b[0;34m\u001b[0m\u001b[0m\n\u001b[0;32m----> 5\u001b[0;31m     \u001b[0mtags\u001b[0m \u001b[0;34m=\u001b[0m \u001b[0mfind_tags\u001b[0m\u001b[0;34m(\u001b[0m\u001b[0msoup\u001b[0m\u001b[0;34m)\u001b[0m\u001b[0;34m\u001b[0m\u001b[0;34m\u001b[0m\u001b[0m\n\u001b[0m\u001b[1;32m      6\u001b[0m     \u001b[0mdate\u001b[0m \u001b[0;34m=\u001b[0m \u001b[0mfind_question_date\u001b[0m\u001b[0;34m(\u001b[0m\u001b[0msoup\u001b[0m\u001b[0;34m)\u001b[0m\u001b[0;34m\u001b[0m\u001b[0;34m\u001b[0m\u001b[0m\n\u001b[1;32m      7\u001b[0m     \u001b[0mtext\u001b[0m \u001b[0;34m=\u001b[0m \u001b[0mfind_question\u001b[0m\u001b[0;34m(\u001b[0m\u001b[0msoup\u001b[0m\u001b[0;34m)\u001b[0m\u001b[0;34m\u001b[0m\u001b[0;34m\u001b[0m\u001b[0m\n",
      "\u001b[0;32m<ipython-input-33-d6f8fca4128e>\u001b[0m in \u001b[0;36mfind_tags\u001b[0;34m(soup)\u001b[0m\n\u001b[1;32m      1\u001b[0m \u001b[0;32mdef\u001b[0m \u001b[0mfind_tags\u001b[0m\u001b[0;34m(\u001b[0m\u001b[0msoup\u001b[0m\u001b[0;34m)\u001b[0m\u001b[0;34m:\u001b[0m\u001b[0;34m\u001b[0m\u001b[0;34m\u001b[0m\u001b[0m\n\u001b[1;32m      2\u001b[0m     \u001b[0mtag_div\u001b[0m \u001b[0;34m=\u001b[0m \u001b[0msoup\u001b[0m\u001b[0;34m.\u001b[0m\u001b[0mfind\u001b[0m\u001b[0;34m(\u001b[0m\u001b[0;34m'div'\u001b[0m\u001b[0;34m,\u001b[0m \u001b[0;34m{\u001b[0m\u001b[0;34m'class'\u001b[0m\u001b[0;34m:\u001b[0m \u001b[0;34m'kerdes_kulcsszo'\u001b[0m\u001b[0;34m}\u001b[0m\u001b[0;34m)\u001b[0m\u001b[0;34m\u001b[0m\u001b[0;34m\u001b[0m\u001b[0m\n\u001b[0;32m----> 3\u001b[0;31m     \u001b[0mtags\u001b[0m \u001b[0;34m=\u001b[0m \u001b[0mtag_div\u001b[0m\u001b[0;34m.\u001b[0m\u001b[0mfind_all\u001b[0m\u001b[0;34m(\u001b[0m\u001b[0;34m'span'\u001b[0m\u001b[0;34m)\u001b[0m\u001b[0;34m\u001b[0m\u001b[0;34m\u001b[0m\u001b[0m\n\u001b[0m\u001b[1;32m      4\u001b[0m     \u001b[0mtags\u001b[0m \u001b[0;34m=\u001b[0m \u001b[0;34m[\u001b[0m\u001b[0mtag\u001b[0m\u001b[0;34m.\u001b[0m\u001b[0mtext\u001b[0m\u001b[0;34m.\u001b[0m\u001b[0mreplace\u001b[0m\u001b[0;34m(\u001b[0m\u001b[0;34m'#'\u001b[0m\u001b[0;34m,\u001b[0m \u001b[0;34m''\u001b[0m\u001b[0;34m)\u001b[0m \u001b[0;32mfor\u001b[0m \u001b[0mtag\u001b[0m \u001b[0;32min\u001b[0m \u001b[0mtags\u001b[0m\u001b[0;34m]\u001b[0m\u001b[0;34m\u001b[0m\u001b[0;34m\u001b[0m\u001b[0m\n\u001b[1;32m      5\u001b[0m     \u001b[0mtags\u001b[0m \u001b[0;34m=\u001b[0m \u001b[0;34m[\u001b[0m\u001b[0mtag\u001b[0m \u001b[0;32mfor\u001b[0m \u001b[0mtag\u001b[0m \u001b[0;32min\u001b[0m \u001b[0mtags\u001b[0m\u001b[0;34m]\u001b[0m\u001b[0;34m\u001b[0m\u001b[0;34m\u001b[0m\u001b[0m\n",
      "\u001b[0;31mAttributeError\u001b[0m: 'NoneType' object has no attribute 'find_all'"
     ]
    }
   ],
   "source": [
    "data = []\n",
    "\n",
    "for doc in tqdm(os.listdir(os.path.join('questions'))):\n",
    "    print(doc)\n",
    "    \n",
    "    unique_id = re.sub('page_(\\d+)\\.html', '\\\\1', doc)\n",
    "\n",
    "    with open(os.path.join('questions', doc), 'rb') as file:\n",
    "        response = file.read()\n",
    "\n",
    "    soup = bs(response, 'lxml')\n",
    "\n",
    "    file_data = extract_content(soup, unique_id)\n",
    "\n",
    "    data.extend(file_data)"
   ]
  },
  {
   "cell_type": "markdown",
   "id": "absolute-frank",
   "metadata": {},
   "source": [
    "Készüljünk ismét a rosszra"
   ]
  },
  {
   "cell_type": "code",
   "execution_count": 42,
   "id": "adaptive-threshold",
   "metadata": {},
   "outputs": [
    {
     "data": {
      "text/plain": [
       "[{'title': 'Szakkollégiumba való felvételhez önéletrajzot kérnek.\\nMit lehetne beleírni?',\n",
       "  'tag': None,\n",
       "  'date': '2020. júl. 29. 20:10',\n",
       "  'text': '',\n",
       "  'is_question': True,\n",
       "  'id': 'barmi'},\n",
       " {'title': None,\n",
       "  'tag': None,\n",
       "  'date': '2020. júl. 29. 22:08',\n",
       "  'text': 'Személyes adatok, iskolák, nyelvvizsgàk, versenyeredmények, konferenciák, demonstrátorság, diákköri tagság pl. Ilyen jellegű dolgokra kíváncsiak.',\n",
       "  'is_question': False,\n",
       "  'id': 'barmi'}]"
      ]
     },
     "execution_count": 42,
     "metadata": {},
     "output_type": "execute_result"
    }
   ],
   "source": [
    "def extract_content(soup, unique_id):\n",
    "    data = []\n",
    "    \n",
    "    try:\n",
    "        title = find_title(soup)\n",
    "    except:\n",
    "        title = None\n",
    "        \n",
    "    try:\n",
    "        tags = find_tags(soup)\n",
    "    except:\n",
    "        tags = None\n",
    "        \n",
    "    try:\n",
    "        date = find_question_date(soup)\n",
    "    except:\n",
    "        date = None\n",
    "        \n",
    "    try:\n",
    "        text = find_question(soup)\n",
    "    except:\n",
    "        text = None\n",
    "    \n",
    "    question_data = {'title': title,\n",
    "                     'tag': tags,\n",
    "                     'date': date,\n",
    "                     'text': text,\n",
    "                     'is_question': True,\n",
    "                     'id': unique_id}\n",
    "    \n",
    "    data.append(question_data)\n",
    "    \n",
    "    try:\n",
    "        answers = find_answers(soup)\n",
    "    except:\n",
    "        answers = []\n",
    "        \n",
    "    for answer in answers:\n",
    "        \n",
    "        try:\n",
    "            date = find_answer_date(answer)\n",
    "        except:\n",
    "            date = None\n",
    "            \n",
    "        try:\n",
    "            text = find_answer_text(answer)\n",
    "        except:\n",
    "            text = None\n",
    "        \n",
    "        answer_data = {'title': None,\n",
    "                       'tag': tags,\n",
    "                       'date': date,\n",
    "                       'text': text,\n",
    "                       'is_question': False,\n",
    "                       'id': unique_id}\n",
    "        \n",
    "        data.append(answer_data)\n",
    "    \n",
    "    return data\n",
    "\n",
    "extract_content(soup, 'barmi')"
   ]
  },
  {
   "cell_type": "markdown",
   "id": "lightweight-crystal",
   "metadata": {},
   "source": [
    "Menjünk végig ismét"
   ]
  },
  {
   "cell_type": "code",
   "execution_count": 43,
   "id": "further-finland",
   "metadata": {},
   "outputs": [
    {
     "name": "stderr",
     "output_type": "stream",
     "text": [
      "100%|██████████| 191/191 [00:03<00:00, 54.03it/s]\n"
     ]
    }
   ],
   "source": [
    "data = []\n",
    "\n",
    "for doc in tqdm(os.listdir(os.path.join('questions'))):\n",
    "    \n",
    "    unique_id = re.sub('page_(\\d+)\\.html', '\\\\1', doc)\n",
    "\n",
    "    with open(os.path.join('questions', doc), 'rb') as file:\n",
    "        response = file.read()\n",
    "\n",
    "    soup = bs(response, 'lxml')\n",
    "\n",
    "    file_data = extract_content(soup, unique_id)\n",
    "\n",
    "    data.extend(file_data)"
   ]
  },
  {
   "cell_type": "markdown",
   "id": "royal-universe",
   "metadata": {},
   "source": [
    "Átláthatóbban dataframe-ben"
   ]
  },
  {
   "cell_type": "code",
   "execution_count": 44,
   "id": "weighted-window",
   "metadata": {},
   "outputs": [
    {
     "data": {
      "text/html": [
       "<div>\n",
       "<style scoped>\n",
       "    .dataframe tbody tr th:only-of-type {\n",
       "        vertical-align: middle;\n",
       "    }\n",
       "\n",
       "    .dataframe tbody tr th {\n",
       "        vertical-align: top;\n",
       "    }\n",
       "\n",
       "    .dataframe thead th {\n",
       "        text-align: right;\n",
       "    }\n",
       "</style>\n",
       "<table border=\"1\" class=\"dataframe\">\n",
       "  <thead>\n",
       "    <tr style=\"text-align: right;\">\n",
       "      <th></th>\n",
       "      <th>title</th>\n",
       "      <th>tag</th>\n",
       "      <th>date</th>\n",
       "      <th>text</th>\n",
       "      <th>is_question</th>\n",
       "      <th>id</th>\n",
       "    </tr>\n",
       "  </thead>\n",
       "  <tbody>\n",
       "    <tr>\n",
       "      <th>0</th>\n",
       "      <td>Az ELTE Bolyai szakkollégiumába hogyan zajli...</td>\n",
       "      <td>[egyetem, ELTE, IK, Bolyai, szakkollégium, sz...</td>\n",
       "      <td>2016. júl. 26. 16:47</td>\n",
       "      <td>Illetve mi az a minimum versenyeredmények/tan...</td>\n",
       "      <td>True</td>\n",
       "      <td>7973530</td>\n",
       "    </tr>\n",
       "    <tr>\n",
       "      <th>1</th>\n",
       "      <td>Tudtok olyan szakkolégiumot Budapesten, ahova...</td>\n",
       "      <td>[egyetem, Budapest, közösség, szakkollégiu...</td>\n",
       "      <td>2016. aug. 5. 20:38</td>\n",
       "      <td></td>\n",
       "      <td>True</td>\n",
       "      <td>8000830</td>\n",
       "    </tr>\n",
       "    <tr>\n",
       "      <th>2</th>\n",
       "      <td>None</td>\n",
       "      <td>[egyetem, Budapest, közösség, szakkollégiu...</td>\n",
       "      <td>2016. aug. 22. 22:48</td>\n",
       "      <td>Váci Mihály kolesz</td>\n",
       "      <td>False</td>\n",
       "      <td>8000830</td>\n",
       "    </tr>\n",
       "    <tr>\n",
       "      <th>3</th>\n",
       "      <td>None</td>\n",
       "      <td>[egyetem, Budapest, közösség, szakkollégiu...</td>\n",
       "      <td>2016. szept. 7. 22:01</td>\n",
       "      <td>Na sikerült vagy mi lett végül?</td>\n",
       "      <td>False</td>\n",
       "      <td>8000830</td>\n",
       "    </tr>\n",
       "    <tr>\n",
       "      <th>4</th>\n",
       "      <td>None</td>\n",
       "      <td>[egyetem, Budapest, közösség, szakkollégiu...</td>\n",
       "      <td>2016. szept. 7. 22:05</td>\n",
       "      <td>Szerintem a legtobb szakkolinal nincs megkotes...</td>\n",
       "      <td>False</td>\n",
       "      <td>8000830</td>\n",
       "    </tr>\n",
       "    <tr>\n",
       "      <th>...</th>\n",
       "      <td>...</td>\n",
       "      <td>...</td>\n",
       "      <td>...</td>\n",
       "      <td>...</td>\n",
       "      <td>...</td>\n",
       "      <td>...</td>\n",
       "    </tr>\n",
       "    <tr>\n",
       "      <th>541</th>\n",
       "      <td>None</td>\n",
       "      <td>[kollégium, PPKE, Piliscsaba, Iosephinum Szak...</td>\n",
       "      <td>2020. máj. 14. 12:33</td>\n",
       "      <td>Köszi, hát még átgondolom ezt, maga a koll...</td>\n",
       "      <td>False</td>\n",
       "      <td>10449407</td>\n",
       "    </tr>\n",
       "    <tr>\n",
       "      <th>542</th>\n",
       "      <td>None</td>\n",
       "      <td>[kollégium, PPKE, Piliscsaba, Iosephinum Szak...</td>\n",
       "      <td>2020. máj. 14. 14:40</td>\n",
       "      <td>Nem vészes ez az ingázás. Ha valóban tanul...</td>\n",
       "      <td>False</td>\n",
       "      <td>10449407</td>\n",
       "    </tr>\n",
       "    <tr>\n",
       "      <th>543</th>\n",
       "      <td>Szegeden a Móra Ferenc kollégium ugyanaz min...</td>\n",
       "      <td>None</td>\n",
       "      <td>2016. aug. 10. 17:47</td>\n",
       "      <td>vagy 2 különböző koli? hol található a s...</td>\n",
       "      <td>True</td>\n",
       "      <td>8012920</td>\n",
       "    </tr>\n",
       "    <tr>\n",
       "      <th>544</th>\n",
       "      <td>None</td>\n",
       "      <td>None</td>\n",
       "      <td>2016. aug. 10. 17:47</td>\n",
       "      <td>mennyi az esély bekerülni?</td>\n",
       "      <td>False</td>\n",
       "      <td>8012920</td>\n",
       "    </tr>\n",
       "    <tr>\n",
       "      <th>545</th>\n",
       "      <td>None</td>\n",
       "      <td>None</td>\n",
       "      <td>2016. aug. 10. 18:10</td>\n",
       "      <td>Ugyanaz, a kollégium. A szakkollégium nevet ...</td>\n",
       "      <td>False</td>\n",
       "      <td>8012920</td>\n",
       "    </tr>\n",
       "  </tbody>\n",
       "</table>\n",
       "<p>546 rows × 6 columns</p>\n",
       "</div>"
      ],
      "text/plain": [
       "                                                 title  \\\n",
       "0    Az ELTE Bolyai szakkollégiumába hogyan zajli...   \n",
       "1    Tudtok olyan szakkolégiumot Budapesten, ahova...   \n",
       "2                                                 None   \n",
       "3                                                 None   \n",
       "4                                                 None   \n",
       "..                                                 ...   \n",
       "541                                               None   \n",
       "542                                               None   \n",
       "543  Szegeden a Móra Ferenc kollégium ugyanaz min...   \n",
       "544                                               None   \n",
       "545                                               None   \n",
       "\n",
       "                                                   tag                   date  \\\n",
       "0    [egyetem, ELTE, IK, Bolyai, szakkollégium, sz...  2016. júl. 26. 16:47   \n",
       "1    [egyetem, Budapest, közösség, szakkollégiu...    2016. aug. 5. 20:38   \n",
       "2    [egyetem, Budapest, közösség, szakkollégiu...   2016. aug. 22. 22:48   \n",
       "3    [egyetem, Budapest, közösség, szakkollégiu...  2016. szept. 7. 22:01   \n",
       "4    [egyetem, Budapest, közösség, szakkollégiu...  2016. szept. 7. 22:05   \n",
       "..                                                 ...                    ...   \n",
       "541  [kollégium, PPKE, Piliscsaba, Iosephinum Szak...  2020. máj. 14. 12:33   \n",
       "542  [kollégium, PPKE, Piliscsaba, Iosephinum Szak...  2020. máj. 14. 14:40   \n",
       "543                                               None   2016. aug. 10. 17:47   \n",
       "544                                               None   2016. aug. 10. 17:47   \n",
       "545                                               None   2016. aug. 10. 18:10   \n",
       "\n",
       "                                                  text  is_question        id  \n",
       "0    Illetve mi az a minimum versenyeredmények/tan...         True   7973530  \n",
       "1                                                              True   8000830  \n",
       "2                                 Váci Mihály kolesz        False   8000830  \n",
       "3                   Na sikerült vagy mi lett végül?        False   8000830  \n",
       "4    Szerintem a legtobb szakkolinal nincs megkotes...        False   8000830  \n",
       "..                                                 ...          ...       ...  \n",
       "541  Köszi, hát még átgondolom ezt, maga a koll...        False  10449407  \n",
       "542  Nem vészes ez az ingázás. Ha valóban tanul...        False  10449407  \n",
       "543  vagy 2 különböző koli? hol található a s...         True   8012920  \n",
       "544                       mennyi az esély bekerülni?        False   8012920  \n",
       "545  Ugyanaz, a kollégium. A szakkollégium nevet ...        False   8012920  \n",
       "\n",
       "[546 rows x 6 columns]"
      ]
     },
     "execution_count": 44,
     "metadata": {},
     "output_type": "execute_result"
    }
   ],
   "source": [
    "df = pd.DataFrame(data)\n",
    "df"
   ]
  },
  {
   "cell_type": "markdown",
   "id": "limited-canal",
   "metadata": {},
   "source": [
    "Javítsuk ki a szöveget"
   ]
  },
  {
   "cell_type": "code",
   "execution_count": 45,
   "id": "needed-university",
   "metadata": {},
   "outputs": [
    {
     "data": {
      "text/html": [
       "<div>\n",
       "<style scoped>\n",
       "    .dataframe tbody tr th:only-of-type {\n",
       "        vertical-align: middle;\n",
       "    }\n",
       "\n",
       "    .dataframe tbody tr th {\n",
       "        vertical-align: top;\n",
       "    }\n",
       "\n",
       "    .dataframe thead th {\n",
       "        text-align: right;\n",
       "    }\n",
       "</style>\n",
       "<table border=\"1\" class=\"dataframe\">\n",
       "  <thead>\n",
       "    <tr style=\"text-align: right;\">\n",
       "      <th></th>\n",
       "      <th>title</th>\n",
       "      <th>tag</th>\n",
       "      <th>date</th>\n",
       "      <th>text</th>\n",
       "      <th>is_question</th>\n",
       "      <th>id</th>\n",
       "    </tr>\n",
       "  </thead>\n",
       "  <tbody>\n",
       "    <tr>\n",
       "      <th>0</th>\n",
       "      <td>Az ELTE Bolyai szakkollégiumába hogyan zajli...</td>\n",
       "      <td>[egyetem, ELTE, IK, Bolyai, szakkollégium, sz...</td>\n",
       "      <td>2016. júl. 26. 16:47</td>\n",
       "      <td>Illetve mi az a minimum versenyeredmények/tan...</td>\n",
       "      <td>True</td>\n",
       "      <td>7973530</td>\n",
       "    </tr>\n",
       "    <tr>\n",
       "      <th>1</th>\n",
       "      <td>Tudtok olyan szakkolégiumot Budapesten, ahova...</td>\n",
       "      <td>[egyetem, Budapest, közösség, szakkollégiu...</td>\n",
       "      <td>2016. aug. 5. 20:38</td>\n",
       "      <td>None</td>\n",
       "      <td>True</td>\n",
       "      <td>8000830</td>\n",
       "    </tr>\n",
       "    <tr>\n",
       "      <th>2</th>\n",
       "      <td>None</td>\n",
       "      <td>[egyetem, Budapest, közösség, szakkollégiu...</td>\n",
       "      <td>2016. aug. 22. 22:48</td>\n",
       "      <td>Váci Mihály kolesz</td>\n",
       "      <td>False</td>\n",
       "      <td>8000830</td>\n",
       "    </tr>\n",
       "    <tr>\n",
       "      <th>3</th>\n",
       "      <td>None</td>\n",
       "      <td>[egyetem, Budapest, közösség, szakkollégiu...</td>\n",
       "      <td>2016. szept. 7. 22:01</td>\n",
       "      <td>Na sikerült vagy mi lett végül?</td>\n",
       "      <td>False</td>\n",
       "      <td>8000830</td>\n",
       "    </tr>\n",
       "    <tr>\n",
       "      <th>4</th>\n",
       "      <td>None</td>\n",
       "      <td>[egyetem, Budapest, közösség, szakkollégiu...</td>\n",
       "      <td>2016. szept. 7. 22:05</td>\n",
       "      <td>Szerintem a legtobb szakkolinal nincs megkotes...</td>\n",
       "      <td>False</td>\n",
       "      <td>8000830</td>\n",
       "    </tr>\n",
       "    <tr>\n",
       "      <th>...</th>\n",
       "      <td>...</td>\n",
       "      <td>...</td>\n",
       "      <td>...</td>\n",
       "      <td>...</td>\n",
       "      <td>...</td>\n",
       "      <td>...</td>\n",
       "    </tr>\n",
       "    <tr>\n",
       "      <th>541</th>\n",
       "      <td>None</td>\n",
       "      <td>[kollégium, PPKE, Piliscsaba, Iosephinum Szak...</td>\n",
       "      <td>2020. máj. 14. 12:33</td>\n",
       "      <td>Köszi, hát még átgondolom ezt, maga a koll...</td>\n",
       "      <td>False</td>\n",
       "      <td>10449407</td>\n",
       "    </tr>\n",
       "    <tr>\n",
       "      <th>542</th>\n",
       "      <td>None</td>\n",
       "      <td>[kollégium, PPKE, Piliscsaba, Iosephinum Szak...</td>\n",
       "      <td>2020. máj. 14. 14:40</td>\n",
       "      <td>Nem vészes ez az ingázás. Ha valóban tanul...</td>\n",
       "      <td>False</td>\n",
       "      <td>10449407</td>\n",
       "    </tr>\n",
       "    <tr>\n",
       "      <th>543</th>\n",
       "      <td>Szegeden a Móra Ferenc kollégium ugyanaz min...</td>\n",
       "      <td>None</td>\n",
       "      <td>2016. aug. 10. 17:47</td>\n",
       "      <td>vagy 2 különböző koli? hol található a s...</td>\n",
       "      <td>True</td>\n",
       "      <td>8012920</td>\n",
       "    </tr>\n",
       "    <tr>\n",
       "      <th>544</th>\n",
       "      <td>None</td>\n",
       "      <td>None</td>\n",
       "      <td>2016. aug. 10. 17:47</td>\n",
       "      <td>mennyi az esély bekerülni?</td>\n",
       "      <td>False</td>\n",
       "      <td>8012920</td>\n",
       "    </tr>\n",
       "    <tr>\n",
       "      <th>545</th>\n",
       "      <td>None</td>\n",
       "      <td>None</td>\n",
       "      <td>2016. aug. 10. 18:10</td>\n",
       "      <td>Ugyanaz, a kollégium. A szakkollégium nevet ...</td>\n",
       "      <td>False</td>\n",
       "      <td>8012920</td>\n",
       "    </tr>\n",
       "  </tbody>\n",
       "</table>\n",
       "<p>546 rows × 6 columns</p>\n",
       "</div>"
      ],
      "text/plain": [
       "                                                 title  \\\n",
       "0    Az ELTE Bolyai szakkollégiumába hogyan zajli...   \n",
       "1    Tudtok olyan szakkolégiumot Budapesten, ahova...   \n",
       "2                                                 None   \n",
       "3                                                 None   \n",
       "4                                                 None   \n",
       "..                                                 ...   \n",
       "541                                               None   \n",
       "542                                               None   \n",
       "543  Szegeden a Móra Ferenc kollégium ugyanaz min...   \n",
       "544                                               None   \n",
       "545                                               None   \n",
       "\n",
       "                                                   tag                   date  \\\n",
       "0    [egyetem, ELTE, IK, Bolyai, szakkollégium, sz...  2016. júl. 26. 16:47   \n",
       "1    [egyetem, Budapest, közösség, szakkollégiu...    2016. aug. 5. 20:38   \n",
       "2    [egyetem, Budapest, közösség, szakkollégiu...   2016. aug. 22. 22:48   \n",
       "3    [egyetem, Budapest, közösség, szakkollégiu...  2016. szept. 7. 22:01   \n",
       "4    [egyetem, Budapest, közösség, szakkollégiu...  2016. szept. 7. 22:05   \n",
       "..                                                 ...                    ...   \n",
       "541  [kollégium, PPKE, Piliscsaba, Iosephinum Szak...  2020. máj. 14. 12:33   \n",
       "542  [kollégium, PPKE, Piliscsaba, Iosephinum Szak...  2020. máj. 14. 14:40   \n",
       "543                                               None   2016. aug. 10. 17:47   \n",
       "544                                               None   2016. aug. 10. 17:47   \n",
       "545                                               None   2016. aug. 10. 18:10   \n",
       "\n",
       "                                                  text  is_question        id  \n",
       "0    Illetve mi az a minimum versenyeredmények/tan...         True   7973530  \n",
       "1                                                 None         True   8000830  \n",
       "2                                 Váci Mihály kolesz        False   8000830  \n",
       "3                   Na sikerült vagy mi lett végül?        False   8000830  \n",
       "4    Szerintem a legtobb szakkolinal nincs megkotes...        False   8000830  \n",
       "..                                                 ...          ...       ...  \n",
       "541  Köszi, hát még átgondolom ezt, maga a koll...        False  10449407  \n",
       "542  Nem vészes ez az ingázás. Ha valóban tanul...        False  10449407  \n",
       "543  vagy 2 különböző koli? hol található a s...         True   8012920  \n",
       "544                       mennyi az esély bekerülni?        False   8012920  \n",
       "545  Ugyanaz, a kollégium. A szakkollégium nevet ...        False   8012920  \n",
       "\n",
       "[546 rows x 6 columns]"
      ]
     },
     "execution_count": 45,
     "metadata": {},
     "output_type": "execute_result"
    }
   ],
   "source": [
    "df['text'] = df['text'].apply(lambda x: x if x != '' else None)\n",
    "df"
   ]
  },
  {
   "cell_type": "markdown",
   "id": "labeled-adrian",
   "metadata": {},
   "source": [
    "Mentsük ki az egészet egy csv fileba"
   ]
  },
  {
   "cell_type": "code",
   "execution_count": null,
   "id": "protective-stewart",
   "metadata": {},
   "outputs": [],
   "source": [
    "df.to_csv('data.csv', sep = ';', encoding = 'utf-8')"
   ]
  },
  {
   "cell_type": "markdown",
   "id": "sized-apparel",
   "metadata": {},
   "source": [
    "# Adatszerzés PDF-ből"
   ]
  },
  {
   "cell_type": "markdown",
   "id": "opposed-grenada",
   "metadata": {},
   "source": [
    "Szöveg kiszedése"
   ]
  },
  {
   "cell_type": "code",
   "execution_count": 70,
   "id": "essential-intervention",
   "metadata": {},
   "outputs": [],
   "source": [
    "text = textract.process('rajk_modell.pdf', method='pdftotext')"
   ]
  },
  {
   "cell_type": "markdown",
   "id": "taken-belle",
   "metadata": {},
   "source": [
    "Nézzünk bele"
   ]
  },
  {
   "cell_type": "code",
   "execution_count": 71,
   "id": "natural-moderator",
   "metadata": {},
   "outputs": [
    {
     "data": {
      "text/plain": [
       "b'CHIK \\xc3\\x81N ATTI LA \\xe2\\x80\\x93 I LY \\xc3\\x89S M\\xc3\\x81RTON\\n\\nA Rajk-modell: egy pedag\\xc3\\xb3giai\\nk\\xc3\\xads\\xc3\\xa9rlet \\xc3\\xa9s tapasztalatai\\n\\nBevezet\\xc3\\xa9s\\n\\nE\\n\\ngy orsz\\xc3\\xa1g oktat\\xc3\\xa1si rendszer\\xc3\\xa9nek sz\\xc3\\xadnvonal\\xc3\\xa1t egyebek mellett a l\\xc3\\xa9tez\\xc5\\x91 form\\xc3\\xa1k v\\xc3\\xa1ltozatoss\\xc3\\xa1ga, az innovat\\xc3\\xadv k\\xc3\\xads\\xc3\\xa9rletek befogad\\xc3\\xa1sa is m\\xc3\\xa9lyen jellemzi. A szakkoll\\xc3\\xa9giumok val\\xc3\\xb3ban innovat\\xc3\\xadv form\\xc3\\xa1k: b\\xc3\\xa1r term\\xc3\\xa9szetesen m\\xc3\\xa1s orsz\\xc3\\xa1gokban is tal\\xc3\\xa1lhat\\xc3\\xb3k\\nolyan int\\xc3\\xa9zm\\xc3\\xa9nyek, amelyek a hazai szakkoll\\xc3\\xa9giumok h\\xc3\\xa1rom mark\\xc3\\xa1ns jellemz\\xc5\\x91j\\xc3\\xa9nek, a\\nszakmais\\xc3\\xa1gnak, k\\xc3\\xb6z\\xc3\\xb6ss\\xc3\\xa9gis\\xc3\\xa9gnek \\xc3\\xa9s t\\xc3\\xa1rsadalmi \\xc3\\xa9rz\\xc3\\xa9kenys\\xc3\\xa9gnek ak\\xc3\\xa1r t\\xc3\\xb6bb von\\xc3\\xa1s\\xc3\\xa1val is\\nrendelkeznek, tapasztalataink szerint ezek integr\\xc3\\xa1lt egys\\xc3\\xa9g\\xc3\\xa9nek megval\\xc3\\xb3s\\xc3\\xadt\\xc3\\xa1sa hungaricum. K\\xc3\\xbcl\\xc3\\xb6n \\xc3\\xa9rdekess\\xc3\\xa9get \\xc3\\xa9s fontoss\\xc3\\xa1got ad a magyar szakkoll\\xc3\\xa9giumi rendszernek, hogy\\neredeti form\\xc3\\xa1j\\xc3\\xa1ban alulr\\xc3\\xb3l j\\xc3\\xb6v\\xc5\\x91 kezdem\\xc3\\xa9nyez\\xc3\\xa9sk\\xc3\\xa9nt j\\xc3\\xb6tt l\\xc3\\xa9tre, s b\\xc3\\xa1r \\xc3\\xa9vtizedek \\xc3\\xb3ta elismerten bizony\\xc3\\xadt, mind a mai napig l\\xc3\\xa9nyeg\\xc3\\xa9ben javar\\xc3\\xa9szt \\xc3\\xa1llami t\\xc3\\xa1mogat\\xc3\\xa1s n\\xc3\\xa9lk\\xc3\\xbcl m\\xc5\\xb1k\\xc3\\xb6dik.\\nLehet persze, hogy ez haszn\\xc3\\xa1ra v\\xc3\\xa1lt: a hazai fels\\xc5\\x91oktat\\xc3\\xa1s-ir\\xc3\\xa1ny\\xc3\\xadt\\xc3\\xa1s t\\xc3\\xb6bb \\xc3\\xa9vtizedes cikkcakkjainak k\\xc3\\xa9nyszer\\xc5\\xb1 k\\xc3\\xb6vet\\xc3\\xa9se val\\xc3\\xb3sz\\xc3\\xadn\\xc5\\xb1leg ink\\xc3\\xa1bb \\xc3\\xa1rtott, mint haszn\\xc3\\xa1lt volna a szakkoll\\xc3\\xa9giumi mozgalomnak.\\n\\nUgyanakkor a hazai, d\\xc3\\xb6nt\\xc5\\x91en \\xc3\\xa1llamilag ir\\xc3\\xa1ny\\xc3\\xadtott fels\\xc5\\x91oktat\\xc3\\xa1s keret\\xc3\\xa9ben sok egyetemen, f\\xc5\\x91iskol\\xc3\\xa1n egyre nehezebb a jelenlegi, tulajdonk\\xc3\\xa9ppen \\xe2\\x80\\x9et\\xc5\\xb1rt\\xe2\\x80\\x9d kateg\\xc3\\xb3ri\\xc3\\xa1ban m\\xc5\\xb1k\\xc3\\xb6dni.\\nNagy sz\\xc3\\xbcks\\xc3\\xa9g lenne arra, hogy a szakkoll\\xc3\\xa9giumok a tehets\\xc3\\xa9ggondoz\\xc3\\xa1snak ne csak szavakban legyenek elismert eszk\\xc3\\xb6zei, hanem megkapj\\xc3\\xa1k az eredm\\xc3\\xa9nyess\\xc3\\xa9get lehet\\xc5\\x91v\\xc3\\xa9 tev\\xc5\\x91\\nanyagi \\xc3\\xa9s erk\\xc3\\xb6lcsi t\\xc3\\xa1mogat\\xc3\\xa1st. Szerencs\\xc3\\xa9tlen dolog, hogy mik\\xc3\\xb6zben a t\\xc3\\xa1rsadalmi \\xc3\\xa9s technikai fejl\\xc5\\x91d\\xc3\\xa9s egyre er\\xc5\\x91teljesebben h\\xc3\\xadvja fel a figyelmet arra, hogy n\\xc3\\xb6vekv\\xc5\\x91 ig\\xc3\\xa9ny van \\xc3\\xa9s\\nlesz a t\\xc3\\xb6meges k\\xc3\\xa9pz\\xc3\\xa9sen t\\xc3\\xbal a kiemelked\\xc5\\x91 k\\xc3\\xa9pess\\xc3\\xa9g\\xc5\\xb1, \\xc3\\xb6n\\xc3\\xa1ll\\xc3\\xb3 gondolkod\\xc3\\xa1s\\xc3\\xba, alkot\\xc3\\xb3k\\xc3\\xa9pes\\nemberekre, haz\\xc3\\xa1nk fels\\xc5\\x91oktat\\xc3\\xa1sa nem \\xc3\\xa9l azzal a \\xe2\\x80\\x9ev\\xc3\\xa9letlen\\xe2\\x80\\x9d szerencs\\xc3\\xa9vel, hogy kialakult\\nbenne a szakkoll\\xc3\\xa9giumok erre alkalmas, saj\\xc3\\xa1tos rendszere.\\nVil\\xc3\\xa1gos, hogy l\\xc3\\xa9nyegesen t\\xc3\\xb6bb tud\\xc3\\xa1sra lenne sz\\xc3\\xbcks\\xc3\\xa9g a szakkoll\\xc3\\xa9giumokr\\xc3\\xb3l ahhoz,\\nhogy p\\xc3\\xa9ld\\xc3\\xa1juk sz\\xc3\\xa9lesebb k\\xc3\\xb6rben is hasznosulhasson. Ehhez szeretn\\xc3\\xa9nk e cikkel hozz\\xc3\\xa1j\\xc3\\xa1rulni. A szakkoll\\xc3\\xa9giumok sokf\\xc3\\xa9l\\xc3\\xa9k, s ez j\\xc3\\xb3 \\xe2\\x80\\x93 nem gondoljuk, hogy a Rajk-modellj\\xc3\\xa9nek\\nk\\xc3\\xb6vet\\xc3\\xa9se lenne az egyetlen j\\xc3\\xa1rhat\\xc3\\xb3 \\xc3\\xbat. \\xc3\\x9agy v\\xc3\\xa9lj\\xc3\\xbck azonban, hogy ez a modell m\\xc3\\xa1r hosszabb\\nt\\xc3\\xa1von is bizony\\xc3\\xadtott, s ez\\xc3\\xa9rt tal\\xc3\\xa1n nem \\xc3\\xa9rdektelen jellemz\\xc5\\x91it m\\xc3\\xa1soknak is megfontolni.\\n\\n\\xc2\\xb3\\xc2\\xb3 Educatio 2016/3. Chik\\xc3\\xa1n Attila \\xe2\\x80\\x93 Ily\\xc3\\xa9s M\\xc3\\xa1rton: A Rajk-modell: egy pedag\\xc3\\xb3giai k\\xc3\\xads\\xc3\\xa9rlet \\xc3\\xa9s tapasztalatai,\\n332\\xe2\\x80\\x93347. pp.\\n\\n332\\n\\n\\x0cchik\\xc3\\xa1n attila \\xe2\\x80\\x93 ily\\xc3\\xa9s m\\xc3\\xa1rton: a rajk-modell \\xe2\\x80\\xa6\\n\\nA cikk keret\\xc3\\xa9ben t\\xc3\\xa1rgyalt Rajk-modellt a k\\xc3\\xb6vetkez\\xc5\\x91 ism\\xc3\\xa9rvekkel \\xc3\\xadrhatjuk le:\\n\\xe2\\x80\\xa2 sz\\xc3\\xa9lesk\\xc3\\xb6r\\xc5\\xb1 auton\\xc3\\xb3mi\\xc3\\xa1val rendelkez\\xc5\\x91 fels\\xc5\\x91oktat\\xc3\\xa1si int\\xc3\\xa9zm\\xc3\\xa9ny;\\n\\xe2\\x80\\xa2 tev\\xc3\\xa9kenys\\xc3\\xa9ge \\xc3\\xa9rt\\xc3\\xa9kk\\xc3\\xb6zpont\\xc3\\xba, a koll\\xc3\\xa9gist\\xc3\\xa1k \\xc3\\xa1ltal elfogadott szem\\xc3\\xa9lyes \\xc3\\xa9s t\\xc3\\xa1rsadalmi \\xc3\\xa9rt\\xc3\\xa9kek az alapja;\\n\\xe2\\x80\\xa2 m\\xc5\\xb1k\\xc3\\xb6d\\xc3\\xa9se a tags\\xc3\\xa1g \\xc3\\xb6ntev\\xc3\\xa9kenys\\xc3\\xa9g\\xc3\\xa9re \\xc3\\xa9p\\xc3\\xbcl, amelyet di\\xc3\\xa1k\\xc3\\xb6nkorm\\xc3\\xa1nyzat ir\\xc3\\xa1ny\\xc3\\xad'"
      ]
     },
     "execution_count": 71,
     "metadata": {},
     "output_type": "execute_result"
    }
   ],
   "source": [
    "text[:3000]"
   ]
  },
  {
   "cell_type": "markdown",
   "id": "registered-course",
   "metadata": {},
   "source": [
    "Alakítsuk át"
   ]
  },
  {
   "cell_type": "code",
   "execution_count": 72,
   "id": "elect-corner",
   "metadata": {
    "tags": []
   },
   "outputs": [
    {
     "data": {
      "text/plain": [
       "'CHIK ÁN ATTI LA – I LY ÉS MÁRTON\\n\\nA Rajk-modell: egy pedagógiai\\nkísérlet és tapasztalatai\\n\\nBevezetés\\n\\nE\\n\\ngy ország oktatási rendszerének színvonalát egyebek mellett a létező formák változatossága, az innovatív kísérletek befogadása is mélyen jellemzi. A szakkollégiumok valóban innovatív formák: bár természetesen más országokban is találhatók\\nolyan intézmények, amelyek a hazai szakkollégiumok három markáns jellemzőjének, a\\nszakmaiságnak, közösségiségnek és társadalmi érzékenységnek akár több vonásával is\\nrendelkeznek, tapasztalataink szerint ezek integrált egységének megvalósítása hungaricum. Külön érdekességet és fontosságot ad a magyar szakkollégiumi rendszernek, hogy\\neredeti formájában alulról jövő kezdeményezésként jött létre, s bár évtizedek óta elismerten bizonyít, mind a mai napig lényegében javarészt állami támogatás nélkül működik.\\nLehet persze, hogy ez hasznára vált: a hazai felsőoktatás-irányítás több évtizedes cikkcakkjainak kényszerű követése valószínűleg inkább ártott, mint használt volna a szakkollégiumi mozgalomnak.\\n\\nUgyanakkor a hazai, döntően államilag irányított felsőoktatás keretében sok egyetemen, főiskolán egyre nehezebb a jelenlegi, tulajdonképpen „tűrt” kategóriában működni.\\nNagy szükség lenne arra, hogy a szakkollégiumok a tehetséggondozásnak ne csak szavakban legyenek elismert eszközei, hanem megkapják az eredményességet lehetővé tevő\\nanyagi és erkölcsi támogatást. Szerencsétlen dolog, hogy miközben a társadalmi és technikai fejlődés egyre erőteljesebben hívja fel a figyelmet arra, hogy növekvő igény van és\\nlesz a tömeges képzésen túl a kiemelkedő képességű, önálló gondolkodású, alkotóképes\\nemberekre, hazánk felsőoktatása nem él azzal a „véletlen” szerencsével, hogy kialakult\\nbenne a szakkollégiumok erre alkalmas, sajátos rendszere.\\nVilágos, hogy lényegesen több tudásra lenne szükség a szakkollégiumokról ahhoz,\\nhogy példájuk szélesebb körben is hasznosulhasson. Ehhez szeretnénk e cikkel hozzájárulni. A szakkollégiumok sokfélék, s ez jó – nem gondoljuk, hogy a Rajk-modelljének\\nkövetése lenne az egyetlen járható út. Úgy véljük azonban, hogy ez a modell már hosszabb\\ntávon is bizonyított, s ezért talán nem érdektelen jellemzőit másoknak is megfontolni.\\n\\n³³ Educatio 2016/3. Chikán Attila – Ilyés Márton: A Rajk-modell: egy pedagógiai kísérlet és tapasztalatai,\\n332–347. pp.\\n\\n332\\n\\n\\x0cchikán attila – ilyés márton: a rajk-modell …\\n\\nA cikk keretében tárgyalt Rajk-modellt a következő ismérvekkel írhatjuk le:\\n• széleskörű autonómiával rendelkező felsőoktatási intézmény;\\n• tevékenysége értékközpontú, a kollégisták által elfogadott személyes és társadalmi értékek az alapja;\\n• működése a tagság öntevékenységére épül, amelyet diákönkormányzat irányít;\\n• az új tagok kiválasztása a mindenkori diákok joga és feladata, ennek előkészítése során\\nfokozottan figyel a hátrányos helyzetű diákok esélyeinek biztosítására;\\n• tagjainak döntő hányada együtt lakik;\\n• a diákok folyamatos és színvonalas, általuk szabadon megválasztott témájú és formájú\\nszakm'"
      ]
     },
     "execution_count": 72,
     "metadata": {},
     "output_type": "execute_result"
    }
   ],
   "source": [
    "text = text.decode()\n",
    "text[:3000]"
   ]
  },
  {
   "cell_type": "markdown",
   "id": "adequate-communications",
   "metadata": {},
   "source": [
    "Normalizáljuk"
   ]
  },
  {
   "cell_type": "code",
   "execution_count": 73,
   "id": "frequent-mobility",
   "metadata": {
    "tags": []
   },
   "outputs": [
    {
     "data": {
      "text/plain": [
       "'CHIK ÁN ATTI LA – I LY ÉS MÁRTON\\n\\nA Rajk-modell: egy pedagógiai\\nkísérlet és tapasztalatai\\n\\nBevezetés\\n\\nE\\n\\ngy ország oktatási rendszerének színvonalát egyebek mellett a létező formák változatossága, az innovatív kísérletek befogadása is mélyen jellemzi. A szakkollégiumok valóban innovatív formák: bár természetesen más országokban is találhatók\\nolyan intézmények, amelyek a hazai szakkollégiumok három markáns jellemzőjének, a\\nszakmaiságnak, közösségiségnek és társadalmi érzékenységnek akár több vonásával is\\nrendelkeznek, tapasztalataink szerint ezek integrált egységének megvalósítása hungaricum. Külön érdekességet és fontosságot ad a magyar szakkollégiumi rendszernek, hogy\\neredeti formájában alulról jövő kezdeményezésként jött létre, s bár évtizedek óta elismerten bizonyít, mind a mai napig lényegében javarészt állami támogatás nélkül működik.\\nLehet persze, hogy ez hasznára vált: a hazai felsőoktatás-irányítás több évtizedes cikkcakkjainak kényszerű követése valószínűleg inkább ártott, mint használt volna a szakkollégiumi mozgalomnak.\\n\\nUgyanakkor a hazai, döntően államilag irányított felsőoktatás keretében sok egyetemen, főiskolán egyre nehezebb a jelenlegi, tulajdonképpen „tűrt” kategóriában működni.\\nNagy szükség lenne arra, hogy a szakkollégiumok a tehetséggondozásnak ne csak szavakban legyenek elismert eszközei, hanem megkapják az eredményességet lehetővé tevő\\nanyagi és erkölcsi támogatást. Szerencsétlen dolog, hogy miközben a társadalmi és technikai fejlődés egyre erőteljesebben hívja fel a figyelmet arra, hogy növekvő igény van és\\nlesz a tömeges képzésen túl a kiemelkedő képességű, önálló gondolkodású, alkotóképes\\nemberekre, hazánk felsőoktatása nem él azzal a „véletlen” szerencsével, hogy kialakult\\nbenne a szakkollégiumok erre alkalmas, sajátos rendszere.\\nVilágos, hogy lényegesen több tudásra lenne szükség a szakkollégiumokról ahhoz,\\nhogy példájuk szélesebb körben is hasznosulhasson. Ehhez szeretnénk e cikkel hozzájárulni. A szakkollégiumok sokfélék, s ez jó – nem gondoljuk, hogy a Rajk-modelljének\\nkövetése lenne az egyetlen járható út. Úgy véljük azonban, hogy ez a modell már hosszabb\\ntávon is bizonyított, s ezért talán nem érdektelen jellemzőit másoknak is megfontolni.\\n\\n33 Educatio 2016/3. Chikán Attila – Ilyés Márton: A Rajk-modell: egy pedagógiai kísérlet és tapasztalatai,\\n332–347. pp.\\n\\n332\\n\\n\\x0cchikán attila – ilyés márton: a rajk-modell ...\\n\\nA cikk keretében tárgyalt Rajk-modellt a következő ismérvekkel írhatjuk le:\\n• széleskörű autonómiával rendelkező felsőoktatási intézmény;\\n• tevékenysége értékközpontú, a kollégisták által elfogadott személyes és társadalmi értékek az alapja;\\n• működése a tagság öntevékenységére épül, amelyet diákönkormányzat irányít;\\n• az új tagok kiválas'"
      ]
     },
     "execution_count": 73,
     "metadata": {},
     "output_type": "execute_result"
    }
   ],
   "source": [
    "text = normalize('NFKD', text)\n",
    "text[:3000]"
   ]
  }
 ],
 "metadata": {
  "kernelspec": {
   "display_name": "Python 3",
   "language": "python",
   "name": "python3"
  },
  "language_info": {
   "codemirror_mode": {
    "name": "ipython",
    "version": 3
   },
   "file_extension": ".py",
   "mimetype": "text/x-python",
   "name": "python",
   "nbconvert_exporter": "python",
   "pygments_lexer": "ipython3",
   "version": "3.8.5"
  }
 },
 "nbformat": 4,
 "nbformat_minor": 5
}
