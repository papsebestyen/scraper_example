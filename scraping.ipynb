{
 "cells": [
  {
   "cell_type": "code",
   "execution_count": 413,
   "id": "sweet-liberal",
   "metadata": {
    "ExecuteTime": {
     "end_time": "2023-03-21T14:51:43.923913Z",
     "start_time": "2023-03-21T14:51:43.914277Z"
    }
   },
   "outputs": [],
   "source": [
    "import requests\n",
    "from bs4 import BeautifulSoup\n",
    "import re\n",
    "from tqdm import tqdm\n",
    "import numpy as np\n",
    "import time\n",
    "import os\n",
    "import pandas as pd\n",
    "from unicodedata import normalize\n",
    "import textract\n",
    "import re\n",
    "from time import sleep\n",
    "from fake_useragent import UserAgent\n",
    "import pandas as pd\n",
    "from tqdm import tqdm\n",
    "import numpy as np"
   ]
  },
  {
   "cell_type": "markdown",
   "id": "fatal-antenna",
   "metadata": {},
   "source": [
    "Ezt az oldalt fogjuk scrapelni:\n",
    "<br>\n",
    "https://www.gyakorikerdesek.hu/kereses.php?keres=szakkoll%C3%A9gium"
   ]
  },
  {
   "cell_type": "markdown",
   "id": "32f0b0ba",
   "metadata": {},
   "source": [
    "# Alapok"
   ]
  },
  {
   "cell_type": "markdown",
   "id": "197f69d1",
   "metadata": {},
   "source": [
    "## Request"
   ]
  },
  {
   "cell_type": "code",
   "execution_count": 414,
   "id": "32d67b9f",
   "metadata": {
    "ExecuteTime": {
     "end_time": "2023-03-21T15:13:44.444437Z",
     "start_time": "2023-03-21T15:13:44.428266Z"
    }
   },
   "outputs": [],
   "source": [
    "URL = \"https://www.gyakorikerdesek.hu/kereses.php?keres=szakkoll%C3%A9gium\""
   ]
  },
  {
   "cell_type": "code",
   "execution_count": 415,
   "id": "30122800",
   "metadata": {
    "ExecuteTime": {
     "end_time": "2023-03-21T15:14:02.023686Z",
     "start_time": "2023-03-21T15:14:01.808167Z"
    }
   },
   "outputs": [],
   "source": [
    "resp = requests.get(URL)"
   ]
  },
  {
   "cell_type": "code",
   "execution_count": 416,
   "id": "546bc7bc",
   "metadata": {
    "ExecuteTime": {
     "end_time": "2023-03-21T15:14:04.913478Z",
     "start_time": "2023-03-21T15:14:04.888610Z"
    }
   },
   "outputs": [
    {
     "data": {
      "text/plain": [
       "requests.models.Response"
      ]
     },
     "execution_count": 416,
     "metadata": {},
     "output_type": "execute_result"
    }
   ],
   "source": [
    "type(resp)"
   ]
  },
  {
   "cell_type": "code",
   "execution_count": 417,
   "id": "176a64ff",
   "metadata": {
    "ExecuteTime": {
     "end_time": "2023-03-21T15:14:42.263573Z",
     "start_time": "2023-03-21T15:14:42.231684Z"
    }
   },
   "outputs": [
    {
     "data": {
      "text/plain": [
       "200"
      ]
     },
     "execution_count": 417,
     "metadata": {},
     "output_type": "execute_result"
    }
   ],
   "source": [
    "resp.status_code"
   ]
  },
  {
   "cell_type": "code",
   "execution_count": 419,
   "id": "5791ad88",
   "metadata": {
    "ExecuteTime": {
     "end_time": "2023-03-21T15:15:01.977834Z",
     "start_time": "2023-03-21T15:15:01.961680Z"
    }
   },
   "outputs": [],
   "source": [
    "resp.raise_for_status()"
   ]
  },
  {
   "cell_type": "code",
   "execution_count": 420,
   "id": "e85daae8",
   "metadata": {
    "ExecuteTime": {
     "end_time": "2023-03-21T15:15:10.356541Z",
     "start_time": "2023-03-21T15:15:10.324017Z"
    }
   },
   "outputs": [
    {
     "data": {
      "text/plain": [
       "b'<!DOCTYPE html>\\n<html lang=\"hu\">\\n<head>\\n<meta name=\"viewport\" content=\"width=device-width, initial-scale=1\">\\n<meta charset=\"utf-8\">\\n<title>Szakkoll\\xc3\\xa9gium - Gyakori k\\xc3\\xa9rd\\xc3\\xa9sek</title>\\n<meta name=\"description\" content=\"Szakkoll\\xc3\\xa9gium - K\\xc3\\xa9rd\\xc3\\xa9sek a t\\xc3\\xa9m\\xc3\\xa1ban. Pl. A budapesti szakkoll\\xc3\\xa9giumokba csak akkor jelentkezhetek ha az adott egyetemre j\\xc3\\xa1rok?\">\\n<meta name=\"keywords\" content=\"szakkoll\\xc3\\xa9gium, k\\xc3\\xa9rd\\xc3\\xa9sek, v\\xc3\\xa1laszok\">\\n<meta property=\"og:title\" content=\"Szakkoll\\xc3\\xa9gium - Gyakori k\\xc3\\xa9rd\\xc3\\xa9sek\">\\n<meta property=\"og:description\" content=\"Szakkoll\\xc3\\xa9gium - K\\xc3\\xa9rd\\xc3\\xa9sek a t\\xc3\\xa9m\\xc3\\xa1ban. Pl. A budapesti szakkoll\\xc3\\xa9giumokba csak akkor jelentkezhetek ha az adott egyetemre j\\xc3\\xa1rok?\">\\n<meta property=\"og:type\" content=\"website\">\\n<meta property=\"og:image\" content=\"//static.gyakorikerdesek.hu/p/logo.jpg\">\\n<link rel=\"shortcut icon\" href=\"//static.gyakorikerdesek.hu/favicon.ico\">\\n<link rel=\"apple-touch-icon\" sizes=\"144x144\" href=\"//static.gyakorikerdesek.hu/apple-touch-icon-144x144.png\">\\n<meta name=\"msapplication-TileColor\" content=\"#FFFFFF\">\\n<meta name=\"msapplication-TileImage\" content=\"//static.gyakorikerdesek.hu/mstile-144x144.png\">\\n<style>\\nBODY{ font-size: 100%; margin: 0; padding: 0; text-align: center; width: 100%; font-family: sans-serif;} #main{ margin: 0 auto; text-align: left; border: 0; width: 980px;} .flex{ display: flex; flex-wrap: wrap;} .menu1{ margin-bottom: 15px; padding-top: 3px;} .menu1 A{ display: inline-block; height: 35px;} .menu1 INPUT, .menu1 SELECT{ height: 20px; padding: 0;} .menu2{ width: 200px; line-height: 24px; margin-bottom: 20px; padding: 10px 0 10px 0;} .menu{ padding: 0 6px 0 6px;} .menu A{ text-decoration: none;} .menu A:hover{ text-decoration: underline;} #main1{ width: 200px; margin-right: 20px;} #main2{ width: 760px; padding-top: 5px;} A{ cursor: pointer; text-decoration: none;} A:hover{ text-decoration: underline;} #siteinfo{ width: 100%; text-align: center; font-size: 90%; margin-top: 50px; padding-top: 5px;} .betoltesikon{ background-image: url(\"//static.gyakorikerdesek.hu/p/betoltes.gif\"); width: 37px; height: 37px; display: block; margin: 10px auto 10px auto;} BUTTON{ padding: 5px 10px 5px 10px;} BUTTON:hover{ cursor: pointer;} H1{ font-size: 125%; text-align: center;} H2{ font-size: 115%; text-align: center;} H3{ font-size: 105%;} .morzsamenu{ font-size: 85%; padding: 0 4px 5px 0;} .hiba{ font-size: 110%; font-weight: bold; text-align: center; padding: 5px; margin: 10px auto 10px auto;} .ok{ font-weight: bold; width: 90%; padding: 15px; margin: 10px auto 10px auto; text-align: center;} UL{ text-align: left;} #main{ background-color: #dcdcdc;} BODY{ background-color: #dcdcdc;} @media only screen and (min-width: 1081px){ HTML{ background-color: #464646;} BODY{ background-color: #464646; margin: 0 auto;} #main{ padding: 0 35px;}} .menu1{ background-color: #fafafa; box-shadow: 0 4px 2px -2px darkgray;} .menu1 A:hover{ background-color: #f7f7f7; box-shadow: 1px 1px 1px #cccccc;} .menu1 INPUT, .menu1 SELECT{ border: solid #bfbfbf 1px;} .menu2{ background-color: #efefef; box-shadow: 3px 3px 3px #aaaaaa;} A{ color: #084a94;} #siteinfo{ border-top: solid #aaaaaa 1px;} BUTTON{ border: solid #888888 1px; background-color: #cad8e8; box-shadow: 2px 2px 2px #cdcdcd;} BUTTON:hover{ border: solid black 1px; background-color: #cdcdcd;} .morzsamenu{ color: #464646;} .morzsamenu A{ color: #084a94;} .hiba{ color: #880000;} .hiba A{ color: #440000;} .ok{ border: solid #8888dd 1px; box-shadow: 2px 4px 4px #464646;} .kulcsszo_lista{ width: 100%;} .kulcsszo_lista DIV{ width: 25%; margin: 5px 0 5px 0;} .kulcsszo_lista SPAN{ color: #666666;} .oldalszamok{ margin: 20px 0 20px 0; text-align: center;} .oldalszamok A, .oldalszamok SPAN{ display: inline-block; border: solid gray 1px; padding: 3px; background-color: white; min-width: 15px; font-weight: bold; border-radius: 5px;}.oldalszamok A:hover:not(.active){ background-color: #ddd;} .kerdes_normal{ background-image: url(\"//static.gyakorikerdesek.hu/p/kerdes_normal.png\"); background-size: auto; width: 20px; height: 20px; min-width: 20px; max-width: 20px; margin: 1px 8px 1px 4px; padding: 0;} .kerdeslista{ background-color: white; text-align: left; border: solid #dddddd 1px; border-right: solid #aaaaaa 2px; border-bottom: solid #aaaaaa 2px; margin: 3px 0 3px 0; padding: 3px 0 3px 0; align-items: center; min-height: 40px;} .kerdeslista_szoveg{ word-break: break-word; max-width: 630px;} .kerdeslista_valasz{ margin: 0 5px 0 auto; border-radius: 50%; background-color: #dcdcdc; width: 25px; height: 25px; line-height: 25px; min-width: 25px; max-width: 25px; text-align: center; font-size: 11px;} .sor{ background-color: #efefef;} .kerdes_alatt{ font-size: 95%; color: #808080;} .kerdeslista_szavazas{ background-image: url(\"//static.gyakorikerdesek.hu/p/szavazas.png\"); width: 20px; height: 20px; min-width: 20px; max-width: 20px; margin-left: auto;} #stialert{ position: fixed; height: 100vh; margin: 0; padding: 0; background-color: rgba(0,0,0,0.3); font-size: 16px;}\\n#stialert A{ color: #27c;}\\n#stialert BUTTON{ display: inline-block; width: auto; padding: 8px 15px; margin: 3px 0; text-transform: uppercase; background-color: #fff; color: #000;}\\n#stialert #stidiv{ position: relative; width: 800px; max-width: 78%; max-height: 80%; padding: 20px; background-color: #ddd; border: solid #888888 1px; border-radius: 6px; box-shadow: 5px 30px 30px #888888; text-align: center; overflow-x: hidden; overflow-y: auto;}\\n#stialert SPAN{ white-space: nowrap;}\\n#stialert .sti_valasztas{ display: flex; justify-content: space-between; margin: 10px 0;}\\n</style>\\n<script>\\nfunction e(s){ return(document.getElementById(s));}\\nfunction cookienemok(){ if(confirm(\"Ehhez a m\\xc5\\xb1velethez sz\\xc3\\xbcks\\xc3\\xa9g van a cookie-k haszn\\xc3\\xa1lat\\xc3\\xa1ra. Enged\\xc3\\xa9lyezed ezt a weboldal sz\\xc3\\xa1m\\xc3\\xa1ra?\")){ ccookie(\"cookieok\",new Date().getTime(),0,94608000); return false;} else return true;}\\nfunction gcookie(s){ var re=new RegExp(s+\"=([^;]+)\"); var value=re.exec(document.cookie); return(value!=null ? unescape(value[1]):null);}\\nfunction ccookie(nev,ertek,uzenet,exp){\\n uzenet=(typeof uzenet!==\"undefined\" ? uzenet:1); exp=(typeof exp!==\"undefined\" ? exp:(ertek==\"\" ? -1:0));\\n if(nev!=\"cookieok\" && !gcookie(\"cookieok\")){ if(uzenet==0 || cookienemok()) return(0);}\\n if(exp!=0){ var t=new Date().getTime()+(exp*1000),d=new Date(); d.setTime(t);}\\n document.cookie=encodeURIComponent(nev)+\"=\"+encodeURIComponent(ertek)+\"; path=/; \"+(exp!=\"\" ? \"expires=\"+d.toGMTString()+\"; \":\"\")+\"domain=gyakorikerdesek.hu\"; return(1);\\n}\\nfunction displayset(s,n){ if(e(s)!==null) e(s).style.display=(n==2 ? \"flex\": (n==1 ? \"block\":\"none\"));}\\nvar betoltesalatt=0;\\nfunction betoltes(res,mode){\\n if(mode==0){ betoltesalatt=1; displayset(res,0); e(res).innerHTML=\"<span class=\\\\\"betoltesikon\\\\\"></span>\"; setTimeout(function(){ betoltes(res,1);},300);}\\n else if(mode==1 && betoltesalatt==1) displayset(res,1);\\n}\\nfunction classdel(c){ var x=document.getElementsByClassName(c); for(var i=0;i<x.length;i++) x[i].innerHTML=\"\";}\\nfunction ugras(el){\\n el=e(el); etop=el.offsetTop; wtop=window.scrollY; wbottom=wtop+window.innerHeight;\\n if(etop>=wbottom || etop<=wtop) window.scrollTo(0,Math.max(etop-50,0));\\n}\\nvoltres=[];\\nfunction getscript(js,res){\\n if(res!=\"\"){\\n  if(this.className!=e(res).className){ if(e(res).innerHTML!=\"\" && voltres[res]==js){ e(res).innerHTML=\"\"; return;} classdel(e(res).className);}\\n  if(res!=\"res\"){ displayset(res,1); ugras(res); betoltes(res,0);}\\n }\\n voltres[res]=js;\\n var jss=document.createElement(\"script\"); jss.type=\"text/javascript\"; jss.src=js; jss.async=true;\\n document.getElementsByTagName(\"head\")[0].appendChild(jss);\\n}\\nfunction sti_allitas(n,ertek){ document.getElementById(n).innerHTML=document.getElementById(n).innerHTML.replace((ertek==\"BE\" ? \"BE\":\"KI\"),(ertek==\"BE\" ? \"KI\":\"BE\"));}\\nfunction sti_meret(){ dd=document.getElementById(\"stidiv\"); dd.style.left=((o.offsetWidth-dd.offsetWidth)/2)+\"px\"; dd.style.top=((o.offsetHeight-dd.offsetHeight)/2)+\"px\";}\\nfunction stialert(){\\n d=document;\\n if(document.getElementById(\"stialert\")) return(null);\\n o=d.getElementsByTagName(\"html\")[0].appendChild(d.createElement(\"div\")); o.id=\"stialert\";\\n d.body.style.position=\"absolute\"; o.style.width=d.body.offsetWidth+\"px\";\\n o.innerHTML=\"<div id=\\\\\"stidiv\\\\\"><p><b>Adataid v\\xc3\\xa9delme fontos sz\\xc3\\xa1munkra!</b></p><p>Mint a weboldalak t\\xc3\\xb6bbs\\xc3\\xa9ge az interneten, honlapunk m\\xc5\\xb1k\\xc3\\xb6d\\xc3\\xa9s\\xc3\\xa9hez \\xc3\\xa9s c\\xc3\\xa9lzott hirdet\\xc3\\xa9sek megjelen\\xc3\\xadt\\xc3\\xa9s\\xc3\\xa9hez mi \\xc3\\xa9s hirdet\\xc3\\xa9si partnereink is cookie-kat t\\xc3\\xa1rolunk az \\xc3\\xa1ltalad haszn\\xc3\\xa1lt eszk\\xc3\\xb6z\\xc3\\xb6n. Ahhoz, hogy ezt megtehess\\xc3\\xbck, a hozz\\xc3\\xa1j\\xc3\\xa1rul\\xc3\\xa1sod sz\\xc3\\xbcks\\xc3\\xa9ges. Err\\xc5\\x91l az <a href=\\\\\"/adatvedelem\\\\\">adatv\\xc3\\xa9delmi t\\xc3\\xa1j\\xc3\\xa9koztat\\xc3\\xb3nkban</a> r\\xc3\\xa9szletes inform\\xc3\\xa1ci\\xc3\\xb3khoz juthatsz, illetve bizonyos cookie-k haszn\\xc3\\xa1lat\\xc3\\xa1val kapcsolatban tov\\xc3\\xa1bbi lehet\\xc5\\x91s\\xc3\\xa9geid vannak.</p><p><button onclick=\\'sti_lehetosegek();\\'>Tov\\xc3\\xa1bbi lehet\\xc5\\x91s\\xc3\\xa9gek</button> &nbsp; <button onclick=\\'sti_mentes();\\' style=\\\\\"background-color: #27c; color: #fff;\\\\\">Elfogadom</button></p></div>\";\\n sti_meret();\\n}\\nfunction sti_kiir(n){\\n if(n==\"\") be=1; else if(sti_ertek!=-1 && sti_ertek!=null) be=2; else be=0;\\n return(\"<span\"+(be!=1 ? \" style=\\\\\"cursor: pointer; color: #27c;\\\\\" onclick=\\'sti_allitas(\\\\\"\"+n+\"\\\\\",this.innerHTML);\\'\":\"\")+\">\"+(be>0 ? \"BE\":\"KI\")+\"</span>\");\\n}\\nfunction sti_valasztas(t,r,n){\\n return(\"<div class=\\\\\"sti_valasztas\\\\\"><div style=\\\\\"text-align: left;\\\\\"><b>\"+t+\":</b>\"+(n==\"\" ? \" (nem kikapcsolhat\\xc3\\xb3)\":\"\")+\"<br><small>\"+r+\"</small></div><div id=\\'\"+n+\"\\'>\"+sti_kiir(n)+\"</div></div>\");\\n}\\nfunction sti_lehetosegek(){\\n document.getElementById(\"stidiv\").innerHTML=\"<p>A weboldalunk \\xc3\\xa9s hirdet\\xc3\\xa9si partnereink \\xc3\\xa1ltal haszn\\xc3\\xa1lt cookie-kat k\\xc3\\xa9t r\\xc3\\xa9szre bontottuk. A m\\xc5\\xb1k\\xc3\\xb6d\\xc3\\xa9shez felt\\xc3\\xa9tlen sz\\xc3\\xbcks\\xc3\\xa9gesek kikapcsol\\xc3\\xa1s\\xc3\\xa1ra nincs lehet\\xc5\\x91s\\xc3\\xa9ged. A szem\\xc3\\xa9lyre szabottabb hirdet\\xc3\\xa9sekkel sz\\xc3\\xa1modra \\xc3\\xa9rdekesebb rekl\\xc3\\xa1mok jelenhetnek meg. Amennyiben ezt nem szeretn\\xc3\\xa9d, elutas\\xc3\\xadthatod. Tov\\xc3\\xa1bbi inform\\xc3\\xa1ci\\xc3\\xb3kat az <a href=\\\\\"/adatvedelem\\\\\">adatv\\xc3\\xa9delmi t\\xc3\\xa1j\\xc3\\xa9koztat\\xc3\\xb3nkban</a> olvashatsz.</b></p>\"+sti_valasztas(\"Az oldal m\\xc5\\xb1k\\xc3\\xb6d\\xc3\\xa9s\\xc3\\xa9hez sz\\xc3\\xbcks\\xc3\\xa9ges cookie-k\",\"Sz\\xc3\\xbcks\\xc3\\xa9gesek a bel\\xc3\\xa9p\\xc3\\xa9s/regisztr\\xc3\\xa1ci\\xc3\\xb3 eset\\xc3\\xa9n t\\xc3\\xb6rt\\xc3\\xa9n\\xc5\\x91 azonos\\xc3\\xadt\\xc3\\xa1shoz<br>Sz\\xc3\\xbcks\\xc3\\xa9gesek a hirdet\\xc3\\xa9sekkel kapcsolatos gyakoris\\xc3\\xa1gkorl\\xc3\\xa1toz\\xc3\\xa1shoz, \\xc3\\xb6sszes\\xc3\\xadtett jelent\\xc3\\xa9sekhez \\xc3\\xa9s vissza\\xc3\\xa9l\\xc3\\xa9sek elleni int\\xc3\\xa9zked\\xc3\\xa9sek c\\xc3\\xa9lj\\xc3\\xa1b\\xc3\\xb3l\",\"\")+sti_valasztas(\"Szem\\xc3\\xa9lyre szabott hirdet\\xc3\\xa9sek megjelen\\xc3\\xadt\\xc3\\xa9s\\xc3\\xa9hez sz\\xc3\\xbcks\\xc3\\xa9ges cookie-k\",\"A c\\xc3\\xa9lzott hirdet\\xc3\\xa9sek kor\\xc3\\xa1bban gy\\xc5\\xb1jt\\xc3\\xb6tt adatokon alapulnak, illetve adatokat gy\\xc5\\xb1jthetnek a hirdet\\xc3\\xa9s c\\xc3\\xa9lz\\xc3\\xa1s\\xc3\\xa1hoz\",\"stiok\")+(sti_ertek!=null ? \"<div class=\\\\\"sti_valasztas\\\\\"><div style=\\\\\"text-align: left;\\\\\"><a onclick=\\'sti_visszavonas();\\' style=\\\\\"cursor: pointer;\\\\\">Kor\\xc3\\xa1bbi hozz\\xc3\\xa1j\\xc3\\xa1rul\\xc3\\xa1s visszavon\\xc3\\xa1sa</a><br><small>Ha visszavonod a kor\\xc3\\xa1bbi nyilatkozatod, ezt \\xc3\\xbagy tekintj\\xc3\\xbck, hogy a weboldalunk m\\xc5\\xb1k\\xc3\\xb6d\\xc3\\xa9s\\xc3\\xa9hez sz\\xc3\\xbcks\\xc3\\xa9ges cookie-k haszn\\xc3\\xa1lat\\xc3\\xa1t sem enged\\xc3\\xa9lyezed. En\\xc3\\xa9lk\\xc3\\xbcl viszont a honlapunk tartalm\\xc3\\xa1t sem fogod el\\xc3\\xa9rni.</small></div></div>\":\"\")+\"<p><button onclick=\\'sti_mentes();\\'>Be\\xc3\\xa1ll\\xc3\\xadt\\xc3\\xa1sok ment\\xc3\\xa9se</button></p>\";\\n sti_meret();\\n}\\nfunction sti_mentes(){\\n c=document.getElementById(\"stiok\");\\n t=new Date().getTime(); d=new Date(); d.setTime(t+31536000000); if(c && c.innerHTML.indexOf(\">KI<\")!==-1) t=-1;\\n document.cookie=encodeURIComponent(\"cookieok\")+\"=\"+encodeURIComponent(t)+\"; path=/; expires=\"+d.toGMTString()+\"; domain=\"+window.location.hostname.replace(\"www.\",\"\");\\n if(sti_ertek!=null && (sti_ertek==t || (sti_ertek>-1 && t>-1))){ document.getElementsByTagName(\"html\")[0].removeChild(document.getElementById(\"stialert\")); sti_ertek=t;} else window.location.reload(false);\\n}\\nfunction sti_visszavonas(){\\n t=new Date().getTime(); d=new Date(); d.setTime(t-1);\\n document.cookie=encodeURIComponent(\"cookieok\")+\"=\"+encodeURIComponent(t)+\"; path=/; expires=\"+d.toGMTString()+\"; domain=\"+window.location.hostname.replace(\"www.\",\"\");\\n document.getElementById(\"stidiv\").innerHTML=\"<p><b>Visszavontad a cookie-k haszn\\xc3\\xa1lat\\xc3\\xa1t lehet\\xc5\\x91v\\xc3\\xa9 tev\\xc5\\x91 hozz\\xc3\\xa1j\\xc3\\xa1rul\\xc3\\xa1sodat.</b></p><p>A weboldalunk haszn\\xc3\\xa1lat\\xc3\\xa1hoz felt\\xc3\\xa9tlen\\xc3\\xbcl sz\\xc3\\xbcks\\xc3\\xa9ges cookie-k n\\xc3\\xa9lk\\xc3\\xbcl a honlapunk tartalm\\xc3\\xa1t nem \\xc3\\xa9red el. Ha a k\\xc3\\xa9s\\xc5\\x91bbiekben meggondoln\\xc3\\xa1d magad, a honlap \\xc3\\xbajb\\xc3\\xb3li megl\\xc3\\xa1togat\\xc3\\xa1sakor \\xc3\\xbajra d\\xc3\\xb6nthetsz a cookie-kr\\xc3\\xb3l.</p>\";\\n}\\nvar re=new RegExp(\"cookieok=([^;]+)\"); var sti_ertek=re.exec(document.cookie); sti_ertek=(sti_ertek!=null ? unescape(sti_ertek[1]):null);\\n\\n</script>\\n\\n\\n</head>\\n<body>\\n\\n<div id=\"main\">\\n<div class=\"flex menu1\" style=\"align-items: center; flex-wrap: nowrap;\">\\n<div><img src=\"//static.gyakorikerdesek.hu/p/fejlec_desktop.png\" alt=\"fejl\\xc3\\xa9c\" style=\"width: 250px; height: 50px; margin-right: 10px; cursor: pointer;\" onclick=\\'location.href=\"/\";\\'></div>\\n<div>\\n<a href=\"/\" title=\"Gyakorik\\xc3\\xa9rd\\xc3\\xa9sek kezd\\xc5\\x91oldal\"><img src=\"//static.gyakorikerdesek.hu/p/desktopmenu_kezdooldal.png\" alt=\"Gyakori k\\xc3\\xa9rd\\xc3\\xa9sek\" style=\"width: 30px; height: 30px;\"></a>\\n <a href=\"/belepes\"><img src=\\'//static.gyakorikerdesek.hu/p/desktopmenu_sajat.png\\' alt=\\'Bel\\xc3\\xa9p\\xc3\\xa9s\\' title=\"Bel\\xc3\\xa9p\\xc3\\xa9s - Regisztr\\xc3\\xa1ci\\xc3\\xb3\"></a> <a href=\"/belepes\"><img src=\"//static.gyakorikerdesek.hu/p/desktopmenu_uj.png\" alt=\"\\xc3\\x9aj k\\xc3\\xa9rd\\xc3\\xa9s\" title=\"\\xc3\\x9aj k\\xc3\\xa9rd\\xc3\\xa9s\"></a> <a href=\"/egy_veletlen_kerdes\" title=\"Egy v\\xc3\\xa9letlen k\\xc3\\xa9rd\\xc3\\xa9s\"><img src=\"//static.gyakorikerdesek.hu/p/desktopmenu_veletlen.png\" alt=\"V\\xc3\\xa9letlen k\\xc3\\xa9rd\\xc3\\xa9s\" style=\"width: 84px; height: 30px;\"></a>\\n</div>\\n<form id=\"keresesform\" action=\"/kereses.php\" method=\"get\" onsubmit=\\'if(e(\"keres\").value.trim()!=\"\") window.open(\"/kereses.php?keres=\"+e(\"keres\").value.trim()+(e(\"kategoria\") && e(\"kategoria\").value!=\"0\" ? \"&kategoria=\"+e(\"kategoria\").value:\"\"),\"_self\"); return false;\\' style=\"margin-left: auto;\">\\n<div class=\"flex\" style=\"align-items: center;\">\\n<div><input type=\"text\" id=\"keres\" name=\"keres\" value=\\'szakkoll\\xc3\\xa9gium\\' size=\"20\" maxlength=\"50\" title=\"Keresett sz\\xc3\\xb3\"></div>\\n<div style=\"margin: 0 5px 0 10px;\"><img src=\"//static.gyakorikerdesek.hu/p/mobilmenu_kereses.png\" alt=\"Keres\\xc3\\xa9s\" onclick=\\'e(\"keresesform\").onsubmit();\\' style=\"cursor: pointer; width: 30px; height: 30px;\"></div>\\n</div></form>\\n</div>\\n<div class=\"flex\" style=\"flex-wrap: nowrap;\">\\n<div id=\"main1\">\\n\\n<div class=\"menu2\"><div id=\"alkategoria\" class=\"menu\"><div><i><a href=\\'/\\'>Kezd\\xc5\\x91oldal</a></i></div><div><a href=\\'/allatok\\'>\\xc3\\x81llatok</a></div><div><a href=\\'/csaladi-kapcsolatok\\'>Csal\\xc3\\xa1di kapcsolatok</a></div><div><a href=\\'/egeszseg\\'>Eg\\xc3\\xa9szs\\xc3\\xa9g</a></div><div><a href=\\'/elektronikus-eszkozok\\'>Elektronikus eszk\\xc3\\xb6z\\xc3\\xb6k</a></div><div><a href=\\'/emberek\\'>Emberek</a></div><div><a href=\\'/etelek-italok\\'>\\xc3\\x89telek, italok</a></div><div><a href=\\'/ezoteria\\'>Ezot\\xc3\\xa9ria</a></div><div><a href=\\'/felnott-parkapcsolatok\\'>Feln\\xc5\\x91tt p\\xc3\\xa1rkapcsolatok</a></div><div><a href=\\'/fogyokurak\\'>Fogy\\xc3\\xb3k\\xc3\\xbar\\xc3\\xa1k</a></div><div><a href=\\'/gyerekvallalas-neveles\\'>Gyerekv\\xc3\\xa1llal\\xc3\\xa1s, nevel\\xc3\\xa9s</a></div><div><a href=\\'/ismerkedes\\'>Ismerked\\xc3\\xa9s</a></div><div><a href=\\'/kozlekedes\\'>K\\xc3\\xb6zleked\\xc3\\xa9s</a></div><div><a href=\\'/kozoktatas-tanfolyamok\\'>K\\xc3\\xb6zoktat\\xc3\\xa1s, tanfolyamok</a></div><div><a href=\\'/kultura-es-kozosseg\\'>Kult\\xc3\\xbara \\xc3\\xa9s k\\xc3\\xb6z\\xc3\\xb6ss\\xc3\\xa9g</a></div><div><a href=\\'/otthon\\'>Otthon</a></div><div><a href=\\'/politika\\'>Politika</a></div><div><a href=\\'/sport-mozgas\\'>Sport, mozg\\xc3\\xa1s</a></div><div><a href=\\'/szamitastechnika\\'>Sz\\xc3\\xa1m\\xc3\\xadt\\xc3\\xa1stechnika</a></div><div><a href=\\'/szepseg-es-divat\\'>Sz\\xc3\\xa9ps\\xc3\\xa9g \\xc3\\xa9s divat</a></div><div><a href=\\'/szexualitas\\'>Szexualit\\xc3\\xa1s</a></div><div><a href=\\'/szorakozas\\'>Sz\\xc3\\xb3rakoz\\xc3\\xa1s</a></div><div><a href=\\'/tini-parkapcsolatok\\'>Tini p\\xc3\\xa1rkapcsolatok</a></div><div><a href=\\'/tudomanyok\\'>Tudom\\xc3\\xa1nyok</a></div><div><a href=\\'/utazas\\'>Utaz\\xc3\\xa1s</a></div><div><a href=\\'/unnepek\\'>\\xc3\\x9cnnepek</a></div><div><a href=\\'/uzlet-es-penzugyek\\'>\\xc3\\x9czlet \\xc3\\xa9s p\\xc3\\xa9nz\\xc3\\xbcgyek</a></div><div><a href=\\'/egyeb-kerdesek\\'>Egy\\xc3\\xa9b k\\xc3\\xa9rd\\xc3\\xa9sek</a></div></div></div><br></div><div id=\"main2\"><div class=\"morzsamenu\"><a href=\\'/\\' title=\"Gyakorikerdesek\">Kezd\\xc5\\x91oldal</a> &raquo; <b>Keres\\xc3\\xa9s</b></div>\\n<h1>Szakkoll\\xc3\\xa9gium - Gyakori k\\xc3\\xa9rd\\xc3\\xa9sek</h1>\\n<h2>Tal\\xc3\\xa1lt kulcsszavak:</h2><div class=\"flex kulcsszo_lista\"><div><input type=\"checkbox\" id=\"chkb106826\" onclick=\\'alert(\"A kulcssz\\xc3\\xb3 figyel\\xc3\\xa9s be\\xc3\\xa1ll\\xc3\\xadt\\xc3\\xa1s\\xc3\\xa1hoz be kell jelentkezned!\"); location.href=\"/belepes\";\\' class=\"check\"> <a href=\\'/kereses.php?keres=szakkoll%C3%A9gium\\'>szakkoll\\xc3\\xa9gium</a></div><div><input type=\"checkbox\" id=\"chkb358583\" onclick=\\'alert(\"A kulcssz\\xc3\\xb3 figyel\\xc3\\xa9s be\\xc3\\xa1ll\\xc3\\xadt\\xc3\\xa1s\\xc3\\xa1hoz be kell jelentkezned!\"); location.href=\"/belepes\";\\' class=\"check\"> <a href=\\'/kereses.php?keres=M%C3%A1rton+%C3%81ron+Szakkoll%C3%A9gium\\'>M\\xc3\\xa1rton \\xc3\\x81ron Szakkoll\\xc3\\xa9gium</a></div><div><input type=\"checkbox\" id=\"chkb1557150\" onclick=\\'alert(\"A kulcssz\\xc3\\xb3 figyel\\xc3\\xa9s be\\xc3\\xa1ll\\xc3\\xadt\\xc3\\xa1s\\xc3\\xa1hoz be kell jelentkezned!\"); location.href=\"/belepes\";\\' class=\"check\"> <a href=\\'/kereses.php?keres=Szent+Ign%C3%A1c+Jezsuita+Szakkoll%C3%A9gium\\'>Szent Ign\\xc3\\xa1c Jezsuita Szakkoll\\xc3\\xa9gium</a></div></div><br><h2>Tal\\xc3\\xa1lt k\\xc3\\xa9rd\\xc3\\xa9sek:</h2><div class=\"oldalszamok\" style=\"text-align: center;\"> <span style=\\'background-color: #efefef; padding: 5px; font-weight: bold;\\'>1</span> <a href=\\'/kereses.php?keres=szakkoll%C3%A9gium&oldal=2\\' title=\"szakkoll\\xc3\\xa9gium 2.\">2</a>  <a href=\\'/kereses.php?keres=szakkoll%C3%A9gium&oldal=3\\' title=\"szakkoll\\xc3\\xa9gium 3.\">3</a>  <a href=\\'/kereses.php?keres=szakkoll%C3%A9gium&oldal=4\\' title=\"szakkoll\\xc3\\xa9gium 4.\">4</a>  <a href=\\'/kereses.php?keres=szakkoll%C3%A9gium&oldal=5\\' title=\"szakkoll\\xc3\\xa9gium 5.\">5</a>  <a href=\\'/kereses.php?keres=szakkoll%C3%A9gium&oldal=6\\' title=\"szakkoll\\xc3\\xa9gium 6.\">6</a>  <a href=\\'/kereses.php?keres=szakkoll%C3%A9gium&oldal=7\\' title=\"szakkoll\\xc3\\xa9gium 7.\">7</a>  <a href=\\'/kereses.php?keres=szakkoll%C3%A9gium&oldal=8\\' title=\"szakkoll\\xc3\\xa9gium 8.\">8</a>  <a href=\\'/kereses.php?keres=szakkoll%C3%A9gium&oldal=9\\' title=\"szakkoll\\xc3\\xa9gium 9.\">9</a>  <a href=\\'/kereses.php?keres=szakkoll%C3%A9gium&oldal=10\\' title=\"szakkoll\\xc3\\xa9gium 10.\">10</a> <a href=\\'/kereses.php?keres=szakkoll%C3%A9gium&oldal=2\\' title=\"szakkoll\\xc3\\xa9gium 2.\">&#10095;</a> <a href=\\'/kereses.php?keres=szakkoll%C3%A9gium&oldal=10\\' title=\"szakkoll\\xc3\\xa9gium 10.\">&#10095;&#10095;</a> </div>\\n<div class=\"flex kerdeslista\" style=\"flex-wrap: nowrap;\" id=\"k12165689\"><div class=\"kerdes_normal\"></div><div class=\"kerdeslista_szoveg\"><a href=\\'/kozoktatas-tanfolyamok__egyeb-kerdesek__12165689-a-budapesti-szakkollegiumokba-csak-akkor-jelentkezhetek-ha-az-adott-egyetemre-ja\\'>A budapesti szakkoll\\xc3\\xa9giumokba csak akkor jelentkezhetek ha az adott egyetemre j\\xc3\\xa1rok?</a><br><span class=\"kerdes_alatt\"><a href=\\'/kozoktatas-tanfolyamok__egyeb-kerdesek\\' class=\\'kerdes_alatt\\'>K\\xc3\\xb6zoktat\\xc3\\xa1s, tanfolyamok &raquo; Egy\\xc3\\xa9b k\\xc3\\xa9rd\\xc3\\xa9sek</a></span></div><div class=\"kerdeslista_valasz\">1</div></div><div class=\"flex kerdeslista sor\" style=\"flex-wrap: nowrap;\" id=\"k12143277\"><div class=\"kerdes_normal\"></div><div class=\"kerdeslista_szoveg\"><a href=\\'/kozoktatas-tanfolyamok__magyar-iskolak__12143277-miert-nem-veszik-fel-az-elte-btk-n-a-telefont\\'>Mi\\xc3\\xa9rt nem veszik fel az ELTE btk.-n a telefont?</a><br><span class=\"kerdes_alatt\"><a href=\\'/kozoktatas-tanfolyamok__magyar-iskolak\\' class=\\'kerdes_alatt\\'>K\\xc3\\xb6zoktat\\xc3\\xa1s, tanfolyamok &raquo; Magyar iskol\\xc3\\xa1k</a></span></div><div class=\"kerdeslista_valasz\">3</div></div><div class=\"flex kerdeslista\" style=\"flex-wrap: nowrap;\" id=\"k12104749\"><div class=\"kerdes_normal\"></div><div class=\"kerdeslista_szoveg\"><a href=\\'/kozoktatas-tanfolyamok__egyeb-kerdesek__12104749-szakkollegiumi-tapasztalatok\\'>Szakkoll\\xc3\\xa9giumi tapasztalatok?</a><br><span class=\"kerdes_alatt\"><a href=\\'/kozoktatas-tanfolyamok__egyeb-kerdesek\\' class=\\'kerdes_alatt\\'>K\\xc3\\xb6zoktat\\xc3\\xa1s, tanfolyamok &raquo; Egy\\xc3\\xa9b k\\xc3\\xa9rd\\xc3\\xa9sek</a></span></div><div class=\"kerdeslista_valasz\">2</div></div><div class=\"flex kerdeslista sor\" style=\"flex-wrap: nowrap;\" id=\"k12090303\"><div class=\"kerdes_normal\"></div><div class=\"kerdeslista_szoveg\"><a href=\\'/kozoktatas-tanfolyamok__tanulasi-lehetosegek__12090303-mit-kell-tudni-az-egyetemi-szakkollegiumokrol-pontosan-hogy-mukodik-mik-a-tags\\'>Mit kell tudni az egyetemi szakkoll\\xc3\\xa9giumokr\\xc3\\xb3l? pontosan hogy m\\xc5\\xb1k\\xc3\\xb6dik, mik a tags\\xc3\\xa1gi felt\\xc3\\xa9telek, \\xc3\\xa9s mik k\\xc3\\xb6telezetts\\xc3\\xa9gek?</a><br><span class=\"kerdes_alatt\"><a href=\\'/kozoktatas-tanfolyamok__tanulasi-lehetosegek\\' class=\\'kerdes_alatt\\'>K\\xc3\\xb6zoktat\\xc3\\xa1s, tanfolyamok &raquo; Tanul\\xc3\\xa1si lehet\\xc5\\x91s\\xc3\\xa9gek</a></span></div><div class=\"kerdeslista_valasz\">2</div></div><div class=\"flex kerdeslista\" style=\"flex-wrap: nowrap;\" id=\"k11913351\"><div class=\"kerdes_normal\"></div><div class=\"kerdeslista_szoveg\"><a href=\\'/kozoktatas-tanfolyamok__magyar-iskolak__11913351-phd-skent-keso-szakkolegiumba-jelentkezni\\'>PhD-sk\\xc3\\xa9nt k\\xc3\\xa9s\\xc5\\x91 szakkol\\xc3\\xa9giumba jelentkezni?</a><br><span class=\"kerdes_alatt\"><a href=\\'/kozoktatas-tanfolyamok__magyar-iskolak\\' class=\\'kerdes_alatt\\'>K\\xc3\\xb6zoktat\\xc3\\xa1s, tanfolyamok &raquo; Magyar iskol\\xc3\\xa1k</a></span></div><div class=\"kerdeslista_valasz\">0</div></div><div class=\"flex kerdeslista sor\" style=\"flex-wrap: nowrap;\" id=\"k11894807\"><div class=\"kerdes_normal\"></div><div class=\"kerdeslista_szoveg\"><a href=\\'/kozoktatas-tanfolyamok__magyar-iskolak__11894807-miert-epp-a-harkaly-szerepel-az-elte-bibo-istvan-szakkollegium-logojabanbannere\\'>Mi\\xc3\\xa9rt \\xc3\\xa9pp a hark\\xc3\\xa1ly szerepel az ELTE Bib\\xc3\\xb3 Istv\\xc3\\xa1n Szakkoll\\xc3\\xa9gium log\\xc3\\xb3j\\xc3\\xa1ban/banner\\xc3\\xa9ben?</a><br><span class=\"kerdes_alatt\"><a href=\\'/kozoktatas-tanfolyamok__magyar-iskolak\\' class=\\'kerdes_alatt\\'>K\\xc3\\xb6zoktat\\xc3\\xa1s, tanfolyamok &raquo; Magyar iskol\\xc3\\xa1k</a></span></div><div class=\"kerdeslista_valasz\">0</div></div><div class=\"flex kerdeslista\" style=\"flex-wrap: nowrap;\" id=\"k11888739\"><div class=\"kerdes_normal\"></div><div class=\"kerdeslista_szoveg\"><a href=\\'/kozoktatas-tanfolyamok__magyar-iskolak__11888739-a-benda-kalman-szakkollegium-felveteli-elbeszelgetesen-mi-varhato-milyen-kerdes\\'>A Benda K\\xc3\\xa1lm\\xc3\\xa1n Szakkoll\\xc3\\xa9gium felv\\xc3\\xa9teli elbesz\\xc3\\xa9lget\\xc3\\xa9s\\xc3\\xa9n mi v\\xc3\\xa1rhat\\xc3\\xb3? Milyen k\\xc3\\xa9rd\\xc3\\xa9sek? Milyen t\\xc3\\xa9m\\xc3\\xa1k?</a><br><span class=\"kerdes_alatt\"><a href=\\'/kozoktatas-tanfolyamok__magyar-iskolak\\' class=\\'kerdes_alatt\\'>K\\xc3\\xb6zoktat\\xc3\\xa1s, tanfolyamok &raquo; Magyar iskol\\xc3\\xa1k</a></span></div><div class=\"kerdeslista_valasz\">0</div></div><div class=\"flex kerdeslista sor\" style=\"flex-wrap: nowrap;\" id=\"k11854503\"><div class=\"kerdes_normal\"></div><div class=\"kerdeslista_szoveg\"><a href=\\'/kozoktatas-tanfolyamok__magyar-iskolak__11854503-mcc-mathias-corvinus-collegiumrol-velemeny\\'>MCC (mathias corvinus coll\\xc3\\xa9gium)r\\xc3\\xb3l v\\xc3\\xa9lem\\xc3\\xa9ny?</a><br><span class=\"kerdes_alatt\"><a href=\\'/kozoktatas-tanfolyamok__magyar-iskolak\\' class=\\'kerdes_alatt\\'>K\\xc3\\xb6zoktat\\xc3\\xa1s, tanfolyamok &raquo; Magyar iskol\\xc3\\xa1k</a></span></div><div class=\"kerdeslista_valasz\">3</div></div><div class=\"flex kerdeslista\" style=\"flex-wrap: nowrap;\" id=\"k11853338\"><div class=\"kerdes_normal\"></div><div class=\"kerdeslista_szoveg\"><a href=\\'/kozoktatas-tanfolyamok__specialis-tanfolyamok__11853338-lenne-eselyem-szakkollegiumba\\'>Lenne es\\xc3\\xa9lyem szakkoll\\xc3\\xa9giumba?</a><br><span class=\"kerdes_alatt\"><a href=\\'/kozoktatas-tanfolyamok__specialis-tanfolyamok\\' class=\\'kerdes_alatt\\'>K\\xc3\\xb6zoktat\\xc3\\xa1s, tanfolyamok &raquo; Speci\\xc3\\xa1lis tanfolyamok</a></span></div><div class=\"kerdeslista_valasz\">3</div></div><div class=\"flex kerdeslista sor\" style=\"flex-wrap: nowrap;\" id=\"k11851503\"><div class=\"kerdes_normal\"></div><div class=\"kerdeslista_szoveg\"><a href=\\'/kozoktatas-tanfolyamok__magyar-iskolak__11851503-az-eotvos-jozsef-szakkollegiumra-kinek-van-eselye-bekerulni\\'>Az E\\xc3\\xb6tv\\xc3\\xb6s J\\xc3\\xb3zsef Szakkoll\\xc3\\xa9giumra kinek van es\\xc3\\xa9lye beker\\xc3\\xbclni?</a><br><span class=\"kerdes_alatt\"><a href=\\'/kozoktatas-tanfolyamok__magyar-iskolak\\' class=\\'kerdes_alatt\\'>K\\xc3\\xb6zoktat\\xc3\\xa1s, tanfolyamok &raquo; Magyar iskol\\xc3\\xa1k</a></span></div><div class=\"kerdeslista_valasz\">1</div></div><div class=\"flex kerdeslista\" style=\"flex-wrap: nowrap;\" id=\"k11837483\"><div class=\"kerdes_normal\"></div><div class=\"kerdeslista_szoveg\"><a href=\\'/kozoktatas-tanfolyamok__magyar-iskolak__11837483-elte-szakkollegiumokrol-mit-lehet-tudni-hogyan-kell-jelentkezni\\'>ELTE szakkoll\\xc3\\xa9giumokr\\xc3\\xb3l mit lehet tudni? Hogyan kell jelentkezni?</a><br><span class=\"kerdes_alatt\"><a href=\\'/kozoktatas-tanfolyamok__magyar-iskolak\\' class=\\'kerdes_alatt\\'>K\\xc3\\xb6zoktat\\xc3\\xa1s, tanfolyamok &raquo; Magyar iskol\\xc3\\xa1k</a></span></div><div class=\"kerdeslista_valasz\">3</div></div><div class=\"flex kerdeslista sor\" style=\"flex-wrap: nowrap;\" id=\"k11832490\"><div class=\"kerdes_normal\"></div><div class=\"kerdeslista_szoveg\"><a href=\\'/kozoktatas-tanfolyamok__egyeb-kerdesek__11832490-melyiket-ajanlanatok-inkabb-az-elte-marton-aron-szakkollegiumot-vagy-az-erdos\\'>Melyiket aj\\xc3\\xa1nlan\\xc3\\xa1tok ink\\xc3\\xa1bb, az ELTE M\\xc3\\xa1rton \\xc3\\x81ron Szakkoll\\xc3\\xa9giumot, vagy az Erd\\xc5\\x91s P\\xc3\\xa1l Koll\\xc3\\xa9giumot?</a><br><span class=\"kerdes_alatt\"><a href=\\'/kozoktatas-tanfolyamok__egyeb-kerdesek\\' class=\\'kerdes_alatt\\'>K\\xc3\\xb6zoktat\\xc3\\xa1s, tanfolyamok &raquo; Egy\\xc3\\xa9b k\\xc3\\xa9rd\\xc3\\xa9sek</a></span></div><div class=\"kerdeslista_valasz\">1</div></div><div class=\"flex kerdeslista\" style=\"flex-wrap: nowrap;\" id=\"k11800923\"><div class=\"kerdes_normal\"></div><div class=\"kerdeslista_szoveg\"><a href=\\'/kozoktatas-tanfolyamok__magyar-iskolak__11800923-az-elte-illyes-sandor-szakkollegiumaba-mennyire-nehez-bekerulni-golyakent\\'>Az ELTE Illy\\xc3\\xa9s S\\xc3\\xa1ndor Szakkoll\\xc3\\xa9gium\\xc3\\xa1ba mennyire neh\\xc3\\xa9z beker\\xc3\\xbclni g\\xc3\\xb3lyak\\xc3\\xa9nt?</a><br><span class=\"kerdes_alatt\"><a href=\\'/kozoktatas-tanfolyamok__magyar-iskolak\\' class=\\'kerdes_alatt\\'>K\\xc3\\xb6zoktat\\xc3\\xa1s, tanfolyamok &raquo; Magyar iskol\\xc3\\xa1k</a></span></div><div class=\"kerdeslista_valasz\">1</div></div><div class=\"flex kerdeslista sor\" style=\"flex-wrap: nowrap;\" id=\"k11792228\"><div class=\"kerdes_normal\"></div><div class=\"kerdeslista_szoveg\"><a href=\\'/kozoktatas-tanfolyamok__tanulasi-lehetosegek__11792228-elte-ik-programtervezo-informatikus-msc-velemenyek\\'>ELTE IK programtervez\\xc5\\x91 informatikus MSc v\\xc3\\xa9lem\\xc3\\xa9nyek?</a><br><span class=\"kerdes_alatt\"><a href=\\'/kozoktatas-tanfolyamok__tanulasi-lehetosegek\\' class=\\'kerdes_alatt\\'>K\\xc3\\xb6zoktat\\xc3\\xa1s, tanfolyamok &raquo; Tanul\\xc3\\xa1si lehet\\xc5\\x91s\\xc3\\xa9gek</a></span></div><div class=\"kerdeslista_szavazas\" title=\"Szavaz\\xc3\\xa1ssal b\\xc5\\x91v\\xc3\\xadtett k\\xc3\\xa9rd\\xc3\\xa9s\"></div><div class=\"kerdeslista_valasz\" style=\"margin-left: 8px;\">2</div></div><div class=\"flex kerdeslista\" style=\"flex-wrap: nowrap;\" id=\"k11763442\"><div class=\"kerdes_normal\"></div><div class=\"kerdeslista_szoveg\"><a href=\\'/kozoktatas-tanfolyamok__egyeb-kerdesek__11763442-elso-eves-egyetemistakent-is-jelentkezhetek-szakkoliba\\'>Els\\xc5\\x91 \\xc3\\xa9ves egyetemistak\\xc3\\xa9nt is jelentkezhetek szakkoliba?</a><br><span class=\"kerdes_alatt\"><a href=\\'/kozoktatas-tanfolyamok__egyeb-kerdesek\\' class=\\'kerdes_alatt\\'>K\\xc3\\xb6zoktat\\xc3\\xa1s, tanfolyamok &raquo; Egy\\xc3\\xa9b k\\xc3\\xa9rd\\xc3\\xa9sek</a></span></div><div class=\"kerdeslista_valasz\">2</div></div><div class=\"flex kerdeslista sor\" style=\"flex-wrap: nowrap;\" id=\"k11699696\"><div class=\"kerdes_normal\"></div><div class=\"kerdeslista_szoveg\"><a href=\\'/kozoktatas-tanfolyamok__egyeb-kerdesek__11699696-milyen-mindenkinek-elerheto-szakkolik-vannak-pesten\\'>Milyen mindenkinek el\\xc3\\xa9rhet\\xc5\\x91 szakkolik vannak Pesten?</a><br><span class=\"kerdes_alatt\"><a href=\\'/kozoktatas-tanfolyamok__egyeb-kerdesek\\' class=\\'kerdes_alatt\\'>K\\xc3\\xb6zoktat\\xc3\\xa1s, tanfolyamok &raquo; Egy\\xc3\\xa9b k\\xc3\\xa9rd\\xc3\\xa9sek</a></span></div><div class=\"kerdeslista_valasz\">2</div></div><div class=\"flex kerdeslista\" style=\"flex-wrap: nowrap;\" id=\"k11589033\"><div class=\"kerdes_normal\"></div><div class=\"kerdeslista_szoveg\"><a href=\\'/kozoktatas-tanfolyamok__magyar-iskolak__11589033-mit-tudtok-a-navratil-akos-szakkollegiumrol\\'>Mit tudtok a Navratil \\xc3\\x81kos szakkoll\\xc3\\xa9giumr\\xc3\\xb3l?</a><br><span class=\"kerdes_alatt\"><a href=\\'/kozoktatas-tanfolyamok__magyar-iskolak\\' class=\\'kerdes_alatt\\'>K\\xc3\\xb6zoktat\\xc3\\xa1s, tanfolyamok &raquo; Magyar iskol\\xc3\\xa1k</a></span></div><div class=\"kerdeslista_valasz\">2</div></div><div class=\"flex kerdeslista sor\" style=\"flex-wrap: nowrap;\" id=\"k11554175\"><div class=\"kerdes_normal\"></div><div class=\"kerdeslista_szoveg\"><a href=\\'/uzlet-es-penzugyek__karrier-fizetes__11554175-egyetem-mellett-minel-elobb-gyakornoki-munka-vagy-tanulni-amennyit-csak-lehet\\'>Egyetem mellett min\\xc3\\xa9l el\\xc5\\x91bb gyakornoki munka, vagy tanulni, amennyit csak lehet?</a><br><span class=\"kerdes_alatt\"><a href=\\'/uzlet-es-penzugyek__karrier-fizetes\\' class=\\'kerdes_alatt\\'>\\xc3\\x9czlet \\xc3\\xa9s p\\xc3\\xa9nz\\xc3\\xbcgyek &raquo; Karrier, fizet\\xc3\\xa9s</a></span></div><div class=\"kerdeslista_szavazas\" title=\"Szavaz\\xc3\\xa1ssal b\\xc5\\x91v\\xc3\\xadtett k\\xc3\\xa9rd\\xc3\\xa9s\"></div><div class=\"kerdeslista_valasz\" style=\"margin-left: 8px;\">14</div></div><div class=\"flex kerdeslista\" style=\"flex-wrap: nowrap;\" id=\"k11553419\"><div class=\"kerdes_normal\"></div><div class=\"kerdeslista_szoveg\"><a href=\\'/kozoktatas-tanfolyamok__tanulasi-lehetosegek__11553419-szakkolegiumi-felvetel-hogy-mukodik-ha-valaki-csak-bejaros-es-nem-bentlakos-aka\\'>Szakkol\\xc3\\xa9giumi felv\\xc3\\xa9tel hogy m\\xc5\\xb1k\\xc3\\xb6dik, ha valaki csak bej\\xc3\\xa1r\\xc3\\xb3s \\xc3\\xa9s nem bentlak\\xc3\\xb3s akar lenni?</a><br><span class=\"kerdes_alatt\"><a href=\\'/kozoktatas-tanfolyamok__tanulasi-lehetosegek\\' class=\\'kerdes_alatt\\'>K\\xc3\\xb6zoktat\\xc3\\xa1s, tanfolyamok &raquo; Tanul\\xc3\\xa1si lehet\\xc5\\x91s\\xc3\\xa9gek</a></span></div><div class=\"kerdeslista_valasz\">2</div></div><div class=\"flex kerdeslista sor\" style=\"flex-wrap: nowrap;\" id=\"k11541072\"><div class=\"kerdes_normal\"></div><div class=\"kerdeslista_szoveg\"><a href=\\'/kozoktatas-tanfolyamok__egyeb-kerdesek__11541072-ha-nagyon-jo-erettsegit-irok-de-nincsenek-versenyeredmenyeim-akkormeg-van-esel\\'>Ha nagyon j\\xc3\\xb3 \\xc3\\xa9retts\\xc3\\xa9git \\xc3\\xadrok, de nincsenek versenyeredm\\xc3\\xa9nyeim, akkorm\\xc3\\xa9g van es\\xc3\\xa9ly arra, hogy felvegyenek a Bolyai Koll\\xc3\\xa9giumba (ELTE)?</a><br><span class=\"kerdes_alatt\"><a href=\\'/kozoktatas-tanfolyamok__egyeb-kerdesek\\' class=\\'kerdes_alatt\\'>K\\xc3\\xb6zoktat\\xc3\\xa1s, tanfolyamok &raquo; Egy\\xc3\\xa9b k\\xc3\\xa9rd\\xc3\\xa9sek</a></span></div><div class=\"kerdeslista_valasz\">3</div></div><div class=\"flex kerdeslista\" style=\"flex-wrap: nowrap;\" id=\"k11540555\"><div class=\"kerdes_normal\"></div><div class=\"kerdeslista_szoveg\"><a href=\\'/kozoktatas-tanfolyamok__tanulasi-lehetosegek__11540555-velemenyek-az-elte-illyes-sandor-szakkollegiumarol\\'>V\\xc3\\xa9lem\\xc3\\xa9nyek az ELTE Illy\\xc3\\xa9s S\\xc3\\xa1ndor Szakkoll\\xc3\\xa9gium\\xc3\\xa1r\\xc3\\xb3l?</a><br><span class=\"kerdes_alatt\"><a href=\\'/kozoktatas-tanfolyamok__tanulasi-lehetosegek\\' class=\\'kerdes_alatt\\'>K\\xc3\\xb6zoktat\\xc3\\xa1s, tanfolyamok &raquo; Tanul\\xc3\\xa1si lehet\\xc5\\x91s\\xc3\\xa9gek</a></span></div><div class=\"kerdeslista_valasz\">2</div></div><div class=\"flex kerdeslista sor\" style=\"flex-wrap: nowrap;\" id=\"k11507308\"><div class=\"kerdes_normal\"></div><div class=\"kerdeslista_szoveg\"><a href=\\'/kozoktatas-tanfolyamok__tanulasi-lehetosegek__11507308-velemenyek-az-eotvos-jozsef-collegiumrol\\'>V\\xc3\\xa9lem\\xc3\\xa9nyek az E\\xc3\\xb6tv\\xc3\\xb6s J\\xc3\\xb3zsef Collegiumr\\xc3\\xb3l?</a><br><span class=\"kerdes_alatt\"><a href=\\'/kozoktatas-tanfolyamok__tanulasi-lehetosegek\\' class=\\'kerdes_alatt\\'>K\\xc3\\xb6zoktat\\xc3\\xa1s, tanfolyamok &raquo; Tanul\\xc3\\xa1si lehet\\xc5\\x91s\\xc3\\xa9gek</a></span></div><div class=\"kerdeslista_valasz\">1</div></div><div class=\"flex kerdeslista\" style=\"flex-wrap: nowrap;\" id=\"k11340462\"><div class=\"kerdes_normal\"></div><div class=\"kerdeslista_szoveg\"><a href=\\'/kozoktatas-tanfolyamok__tanulasi-lehetosegek__11340462-milyen-szakkollegiumokat-ismertek-ahova-nem-csak-1-2-evben-lehet-jelentkezni-j\\'>Milyen szakkoll\\xc3\\xa9giumokat ismertek, ahova nem csak 1-2. \\xc3\\xa9vben lehet jelentkezni jog\\xc3\\xa1sz szakos hallgat\\xc3\\xb3k\\xc3\\xa9nt?</a><br><span class=\"kerdes_alatt\"><a href=\\'/kozoktatas-tanfolyamok__tanulasi-lehetosegek\\' class=\\'kerdes_alatt\\'>K\\xc3\\xb6zoktat\\xc3\\xa1s, tanfolyamok &raquo; Tanul\\xc3\\xa1si lehet\\xc5\\x91s\\xc3\\xa9gek</a></span></div><div class=\"kerdeslista_valasz\">0</div></div><div class=\"flex kerdeslista sor\" style=\"flex-wrap: nowrap;\" id=\"k11327958\"><div class=\"kerdes_normal\"></div><div class=\"kerdeslista_szoveg\"><a href=\\'/kozoktatas-tanfolyamok__tanulasi-lehetosegek__11327958-szerintetek-melyik-corvinusos-szakkoli-a-legjobb\\'>Szerintetek melyik Corvinusos szakkoli a legjobb?</a><br><span class=\"kerdes_alatt\"><a href=\\'/kozoktatas-tanfolyamok__tanulasi-lehetosegek\\' class=\\'kerdes_alatt\\'>K\\xc3\\xb6zoktat\\xc3\\xa1s, tanfolyamok &raquo; Tanul\\xc3\\xa1si lehet\\xc5\\x91s\\xc3\\xa9gek</a></span></div><div class=\"kerdeslista_szavazas\" title=\"Szavaz\\xc3\\xa1ssal b\\xc5\\x91v\\xc3\\xadtett k\\xc3\\xa9rd\\xc3\\xa9s\"></div><div class=\"kerdeslista_valasz\" style=\"margin-left: 8px;\">1</div></div><div class=\"oldalszamok\" style=\"text-align: center;\"> <span style=\\'background-color: #efefef; padding: 5px; font-weight: bold;\\'>1</span> <a href=\\'/kereses.php?keres=szakkoll%C3%A9gium&oldal=2\\' title=\"szakkoll\\xc3\\xa9gium 2.\">2</a>  <a href=\\'/kereses.php?keres=szakkoll%C3%A9gium&oldal=3\\' title=\"szakkoll\\xc3\\xa9gium 3.\">3</a>  <a href=\\'/kereses.php?keres=szakkoll%C3%A9gium&oldal=4\\' title=\"szakkoll\\xc3\\xa9gium 4.\">4</a>  <a href=\\'/kereses.php?keres=szakkoll%C3%A9gium&oldal=5\\' title=\"szakkoll\\xc3\\xa9gium 5.\">5</a>  <a href=\\'/kereses.php?keres=szakkoll%C3%A9gium&oldal=6\\' title=\"szakkoll\\xc3\\xa9gium 6.\">6</a>  <a href=\\'/kereses.php?keres=szakkoll%C3%A9gium&oldal=7\\' title=\"szakkoll\\xc3\\xa9gium 7.\">7</a>  <a href=\\'/kereses.php?keres=szakkoll%C3%A9gium&oldal=8\\' title=\"szakkoll\\xc3\\xa9gium 8.\">8</a>  <a href=\\'/kereses.php?keres=szakkoll%C3%A9gium&oldal=9\\' title=\"szakkoll\\xc3\\xa9gium 9.\">9</a>  <a href=\\'/kereses.php?keres=szakkoll%C3%A9gium&oldal=10\\' title=\"szakkoll\\xc3\\xa9gium 10.\">10</a> <a href=\\'/kereses.php?keres=szakkoll%C3%A9gium&oldal=2\\' title=\"szakkoll\\xc3\\xa9gium 2.\">&#10095;</a> <a href=\\'/kereses.php?keres=szakkoll%C3%A9gium&oldal=10\\' title=\"szakkoll\\xc3\\xa9gium 10.\">&#10095;&#10095;</a> </div>\\n</div></div><br><div id=\"widgettaboola\"></div>\\n<div id=\"siteinfo\">\\n<button onclick=\\'if(!gcookie(\"cookieok\") && cookienemok()) return false; ccookie(\"sotet_mod\",\"1679411641\",1209600); location.reload(false);\\'>S\\xc3\\xb6t\\xc3\\xa9t m\\xc3\\xb3d bekapcsol\\xc3\\xa1sa</button><br><br>\\n\\nMinden jog fenntartva &#169; 2023, www.gyakorikerdesek.hu<br>\\n<a href=\"/help\">GYIK</a> |\\n<a href=\"/felhasznaloi_szabalyzat\">Szab\\xc3\\xa1lyzat</a> |\\n<a href=\"/jogi_nyilatkozat\">Jogi nyilatkozat</a> |\\n<a href=\"/adatvedelem\">Adatv\\xc3\\xa9delem</a> | <a href=\"#\" onclick=\\'stialert(); sti_lehetosegek();\\'>Cookie be\\xc3\\xa1ll\\xc3\\xadt\\xc3\\xa1sok</a> |\\n<a href=\"//www.webminute.hu/\" target=\"_blank\">WebMinute Kft.</a> |\\n<a href=\"/facebook\" target=\"_blank\">Facebook</a> |\\nKapcsolat: <span style=\"white-space: nowrap;\">info(kukac)gyakorikerdesek.hu</span>\\n<br><br>\\n<div style=\"text-align: center;\">A weboldalon megjelen\\xc5\\x91 anyagok nem min\\xc5\\x91s\\xc3\\xbclnek szerkeszt\\xc5\\x91i tartalomnak, el\\xc5\\x91zetes ellen\\xc5\\x91rz\\xc3\\xa9sen nem esnek \\xc3\\xa1t, az \\xc3\\xbczemeltet\\xc5\\x91 v\\xc3\\xa9lem\\xc3\\xa9ny\\xc3\\xa9t nem t\\xc3\\xbckr\\xc3\\xb6zik.<br>Ha kifog\\xc3\\xa1ssal szeretne \\xc3\\xa9lni valamely tartalommal kapcsolatban, k\\xc3\\xa9rj\\xc3\\xbck jelezze e-mailes el\\xc3\\xa9rhet\\xc5\\x91s\\xc3\\xa9g\\xc3\\xbcnk\\xc3\\xb6n!</div>\\n</div>\\n</div>\\n<div id=\"res\"></div>\\n<script>stialert();</script></body>\\n</html>\\n'"
      ]
     },
     "execution_count": 420,
     "metadata": {},
     "output_type": "execute_result"
    }
   ],
   "source": [
    "resp.content"
   ]
  },
  {
   "cell_type": "markdown",
   "id": "8a8e6d71",
   "metadata": {
    "ExecuteTime": {
     "end_time": "2022-11-29T09:56:56.563407Z",
     "start_time": "2022-11-29T09:56:56.542530Z"
    }
   },
   "source": [
    "## Keresés a DOM-ban"
   ]
  },
  {
   "cell_type": "code",
   "execution_count": 421,
   "id": "b74e0cf0",
   "metadata": {
    "ExecuteTime": {
     "end_time": "2023-03-21T15:16:35.864854Z",
     "start_time": "2023-03-21T15:16:35.712234Z"
    }
   },
   "outputs": [],
   "source": [
    "soup = BeautifulSoup(resp.content, \"html5lib\")"
   ]
  },
  {
   "cell_type": "code",
   "execution_count": 422,
   "id": "6c369cb7",
   "metadata": {
    "ExecuteTime": {
     "end_time": "2023-03-21T15:16:37.876543Z",
     "start_time": "2023-03-21T15:16:37.861791Z"
    }
   },
   "outputs": [
    {
     "data": {
      "text/plain": [
       "bs4.BeautifulSoup"
      ]
     },
     "execution_count": 422,
     "metadata": {},
     "output_type": "execute_result"
    }
   ],
   "source": [
    "type(soup)"
   ]
  },
  {
   "cell_type": "code",
   "execution_count": 423,
   "id": "a8eb1324",
   "metadata": {
    "ExecuteTime": {
     "end_time": "2023-03-21T15:16:49.698978Z",
     "start_time": "2023-03-21T15:16:49.657902Z"
    }
   },
   "outputs": [
    {
     "name": "stdout",
     "output_type": "stream",
     "text": [
      "<!DOCTYPE html>\n",
      "<html lang=\"hu\">\n",
      " <head>\n",
      "  <meta content=\"width=device-width, initial-scale=1\" name=\"viewport\"/>\n",
      "  <meta charset=\"utf-8\"/>\n",
      "  <title>\n",
      "   Szakkollégium - Gyakori kérdések\n",
      "  </title>\n",
      "  <meta content=\"Szakkollégium - Kérdések a témában. Pl. A budapesti szakkollégiumokba csak akkor jelentkezhetek ha az adott egyetemre járok?\" name=\"description\"/>\n",
      "  <meta content=\"szakkollégium, kérdések, válaszok\" name=\"keywords\"/>\n",
      "  <meta content=\"Szakkollégium - Gyakori kérdések\" property=\"og:title\"/>\n",
      "  <meta content=\"Szakkollégium - Kérdések a témában. Pl. A budapesti szakkollégiumokba csak akkor jelentkezhetek ha az adott egyetemre járok?\" property=\"og:description\"/>\n",
      "  <meta content=\"website\" property=\"og:type\"/>\n",
      "  <meta content=\"//static.gyakorikerdesek.hu/p/logo.jpg\" property=\"og:image\"/>\n",
      "  <link href=\"//static.gyakorikerdesek.hu/favicon.ico\" rel=\"shortcut icon\"/>\n",
      "  <link href=\"//static.gyakorikerdesek.hu/apple-touch-icon-144x144.png\" rel=\"apple-touch-icon\" sizes=\"144x144\"/>\n",
      "  <meta content=\"#FFFFFF\" name=\"msapplication-TileColor\"/>\n",
      "  <meta content=\"//static.gyakorikerdesek.hu/mstile-144x144.png\" name=\"msapplication-TileImage\"/>\n",
      "  <style>\n",
      "   BODY{ font-size: 100%; margin: 0; padding: 0; text-align: center; width: 100%; font-family: sans-serif;} #main{ margin: 0 auto; text-align: left; border: 0; width: 980px;} .flex{ display: flex; flex-wrap: wrap;} .menu1{ margin-bottom: 15px; padding-top: 3px;} .menu1 A{ display: inline-block; height: 35px;} .menu1 INPUT, .menu1 SELECT{ height: 20px; padding: 0;} .menu2{ width: 200px; line-height: 24px; margin-bottom: 20px; padding: 10px 0 10px 0;} .menu{ padding: 0 6px 0 6px;} .menu A{ text-decoration: none;} .menu A:hover{ text-decoration: underline;} #main1{ width: 200px; margin-right: 20px;} #main2{ width: 760px; padding-top: 5px;} A{ cursor: pointer; text-decoration: none;} A:hover{ text-decoration: underline;} #siteinfo{ width: 100%; text-align: center; font-size: 90%; margin-top: 50px; padding-top: 5px;} .betoltesikon{ background-image: url(\"//static.gyakorikerdesek.hu/p/betoltes.gif\"); width: 37px; height: 37px; display: block; margin: 10px auto 10px auto;} BUTTON{ padding: 5px 10px 5px 10px;} BUTTON:hover{ cursor: pointer;} H1{ font-size: 125%; text-align: center;} H2{ font-size: 115%; text-align: center;} H3{ font-size: 105%;} .morzsamenu{ font-size: 85%; padding: 0 4px 5px 0;} .hiba{ font-size: 110%; font-weight: bold; text-align: center; padding: 5px; margin: 10px auto 10px auto;} .ok{ font-weight: bold; width: 90%; padding: 15px; margin: 10px auto 10px auto; text-align: center;} UL{ text-align: left;} #main{ background-color: #dcdcdc;} BODY{ background-color: #dcdcdc;} @media only screen and (min-width: 1081px){ HTML{ background-color: #464646;} BODY{ background-color: #464646; margin: 0 auto;} #main{ padding: 0 35px;}} .menu1{ background-color: #fafafa; box-shadow: 0 4px 2px -2px darkgray;} .menu1 A:hover{ background-color: #f7f7f7; box-shadow: 1px 1px 1px #cccccc;} .menu1 INPUT, .menu1 SELECT{ border: solid #bfbfbf 1px;} .menu2{ background-color: #efefef; box-shadow: 3px 3px 3px #aaaaaa;} A{ color: #084a94;} #siteinfo{ border-top: solid #aaaaaa 1px;} BUTTON{ border: solid #888888 1px; background-color: #cad8e8; box-shadow: 2px 2px 2px #cdcdcd;} BUTTON:hover{ border: solid black 1px; background-color: #cdcdcd;} .morzsamenu{ color: #464646;} .morzsamenu A{ color: #084a94;} .hiba{ color: #880000;} .hiba A{ color: #440000;} .ok{ border: solid #8888dd 1px; box-shadow: 2px 4px 4px #464646;} .kulcsszo_lista{ width: 100%;} .kulcsszo_lista DIV{ width: 25%; margin: 5px 0 5px 0;} .kulcsszo_lista SPAN{ color: #666666;} .oldalszamok{ margin: 20px 0 20px 0; text-align: center;} .oldalszamok A, .oldalszamok SPAN{ display: inline-block; border: solid gray 1px; padding: 3px; background-color: white; min-width: 15px; font-weight: bold; border-radius: 5px;}.oldalszamok A:hover:not(.active){ background-color: #ddd;} .kerdes_normal{ background-image: url(\"//static.gyakorikerdesek.hu/p/kerdes_normal.png\"); background-size: auto; width: 20px; height: 20px; min-width: 20px; max-width: 20px; margin: 1px 8px 1px 4px; padding: 0;} .kerdeslista{ background-color: white; text-align: left; border: solid #dddddd 1px; border-right: solid #aaaaaa 2px; border-bottom: solid #aaaaaa 2px; margin: 3px 0 3px 0; padding: 3px 0 3px 0; align-items: center; min-height: 40px;} .kerdeslista_szoveg{ word-break: break-word; max-width: 630px;} .kerdeslista_valasz{ margin: 0 5px 0 auto; border-radius: 50%; background-color: #dcdcdc; width: 25px; height: 25px; line-height: 25px; min-width: 25px; max-width: 25px; text-align: center; font-size: 11px;} .sor{ background-color: #efefef;} .kerdes_alatt{ font-size: 95%; color: #808080;} .kerdeslista_szavazas{ background-image: url(\"//static.gyakorikerdesek.hu/p/szavazas.png\"); width: 20px; height: 20px; min-width: 20px; max-width: 20px; margin-left: auto;} #stialert{ position: fixed; height: 100vh; margin: 0; padding: 0; background-color: rgba(0,0,0,0.3); font-size: 16px;}\n",
      "#stialert A{ color: #27c;}\n",
      "#stialert BUTTON{ display: inline-block; width: auto; padding: 8px 15px; margin: 3px 0; text-transform: uppercase; background-color: #fff; color: #000;}\n",
      "#stialert #stidiv{ position: relative; width: 800px; max-width: 78%; max-height: 80%; padding: 20px; background-color: #ddd; border: solid #888888 1px; border-radius: 6px; box-shadow: 5px 30px 30px #888888; text-align: center; overflow-x: hidden; overflow-y: auto;}\n",
      "#stialert SPAN{ white-space: nowrap;}\n",
      "#stialert .sti_valasztas{ display: flex; justify-content: space-between; margin: 10px 0;}\n",
      "  </style>\n",
      "  <script>\n",
      "   function e(s){ return(document.getElementById(s));}\n",
      "function cookienemok(){ if(confirm(\"Ehhez a művelethez szükség van a cookie-k használatára. Engedélyezed ezt a weboldal számára?\")){ ccookie(\"cookieok\",new Date().getTime(),0,94608000); return false;} else return true;}\n",
      "function gcookie(s){ var re=new RegExp(s+\"=([^;]+)\"); var value=re.exec(document.cookie); return(value!=null ? unescape(value[1]):null);}\n",
      "function ccookie(nev,ertek,uzenet,exp){\n",
      " uzenet=(typeof uzenet!==\"undefined\" ? uzenet:1); exp=(typeof exp!==\"undefined\" ? exp:(ertek==\"\" ? -1:0));\n",
      " if(nev!=\"cookieok\" && !gcookie(\"cookieok\")){ if(uzenet==0 || cookienemok()) return(0);}\n",
      " if(exp!=0){ var t=new Date().getTime()+(exp*1000),d=new Date(); d.setTime(t);}\n",
      " document.cookie=encodeURIComponent(nev)+\"=\"+encodeURIComponent(ertek)+\"; path=/; \"+(exp!=\"\" ? \"expires=\"+d.toGMTString()+\"; \":\"\")+\"domain=gyakorikerdesek.hu\"; return(1);\n",
      "}\n",
      "function displayset(s,n){ if(e(s)!==null) e(s).style.display=(n==2 ? \"flex\": (n==1 ? \"block\":\"none\"));}\n",
      "var betoltesalatt=0;\n",
      "function betoltes(res,mode){\n",
      " if(mode==0){ betoltesalatt=1; displayset(res,0); e(res).innerHTML=\"<span class=\\\"betoltesikon\\\"></span>\"; setTimeout(function(){ betoltes(res,1);},300);}\n",
      " else if(mode==1 && betoltesalatt==1) displayset(res,1);\n",
      "}\n",
      "function classdel(c){ var x=document.getElementsByClassName(c); for(var i=0;i<x.length;i++) x[i].innerHTML=\"\";}\n",
      "function ugras(el){\n",
      " el=e(el); etop=el.offsetTop; wtop=window.scrollY; wbottom=wtop+window.innerHeight;\n",
      " if(etop>=wbottom || etop<=wtop) window.scrollTo(0,Math.max(etop-50,0));\n",
      "}\n",
      "voltres=[];\n",
      "function getscript(js,res){\n",
      " if(res!=\"\"){\n",
      "  if(this.className!=e(res).className){ if(e(res).innerHTML!=\"\" && voltres[res]==js){ e(res).innerHTML=\"\"; return;} classdel(e(res).className);}\n",
      "  if(res!=\"res\"){ displayset(res,1); ugras(res); betoltes(res,0);}\n",
      " }\n",
      " voltres[res]=js;\n",
      " var jss=document.createElement(\"script\"); jss.type=\"text/javascript\"; jss.src=js; jss.async=true;\n",
      " document.getElementsByTagName(\"head\")[0].appendChild(jss);\n",
      "}\n",
      "function sti_allitas(n,ertek){ document.getElementById(n).innerHTML=document.getElementById(n).innerHTML.replace((ertek==\"BE\" ? \"BE\":\"KI\"),(ertek==\"BE\" ? \"KI\":\"BE\"));}\n",
      "function sti_meret(){ dd=document.getElementById(\"stidiv\"); dd.style.left=((o.offsetWidth-dd.offsetWidth)/2)+\"px\"; dd.style.top=((o.offsetHeight-dd.offsetHeight)/2)+\"px\";}\n",
      "function stialert(){\n",
      " d=document;\n",
      " if(document.getElementById(\"stialert\")) return(null);\n",
      " o=d.getElementsByTagName(\"html\")[0].appendChild(d.createElement(\"div\")); o.id=\"stialert\";\n",
      " d.body.style.position=\"absolute\"; o.style.width=d.body.offsetWidth+\"px\";\n",
      " o.innerHTML=\"<div id=\\\"stidiv\\\"><p><b>Adataid védelme fontos számunkra!</b></p><p>Mint a weboldalak többsége az interneten, honlapunk működéséhez és célzott hirdetések megjelenítéséhez mi és hirdetési partnereink is cookie-kat tárolunk az általad használt eszközön. Ahhoz, hogy ezt megtehessük, a hozzájárulásod szükséges. Erről az <a href=\\\"/adatvedelem\\\">adatvédelmi tájékoztatónkban</a> részletes információkhoz juthatsz, illetve bizonyos cookie-k használatával kapcsolatban további lehetőségeid vannak.</p><p><button onclick='sti_lehetosegek();'>További lehetőségek</button> &nbsp; <button onclick='sti_mentes();' style=\\\"background-color: #27c; color: #fff;\\\">Elfogadom</button></p></div>\";\n",
      " sti_meret();\n",
      "}\n",
      "function sti_kiir(n){\n",
      " if(n==\"\") be=1; else if(sti_ertek!=-1 && sti_ertek!=null) be=2; else be=0;\n",
      " return(\"<span\"+(be!=1 ? \" style=\\\"cursor: pointer; color: #27c;\\\" onclick='sti_allitas(\\\"\"+n+\"\\\",this.innerHTML);'\":\"\")+\">\"+(be>0 ? \"BE\":\"KI\")+\"</span>\");\n",
      "}\n",
      "function sti_valasztas(t,r,n){\n",
      " return(\"<div class=\\\"sti_valasztas\\\"><div style=\\\"text-align: left;\\\"><b>\"+t+\":</b>\"+(n==\"\" ? \" (nem kikapcsolható)\":\"\")+\"<br><small>\"+r+\"</small></div><div id='\"+n+\"'>\"+sti_kiir(n)+\"</div></div>\");\n",
      "}\n",
      "function sti_lehetosegek(){\n",
      " document.getElementById(\"stidiv\").innerHTML=\"<p>A weboldalunk és hirdetési partnereink által használt cookie-kat két részre bontottuk. A működéshez feltétlen szükségesek kikapcsolására nincs lehetőséged. A személyre szabottabb hirdetésekkel számodra érdekesebb reklámok jelenhetnek meg. Amennyiben ezt nem szeretnéd, elutasíthatod. További információkat az <a href=\\\"/adatvedelem\\\">adatvédelmi tájékoztatónkban</a> olvashatsz.</b></p>\"+sti_valasztas(\"Az oldal működéséhez szükséges cookie-k\",\"Szükségesek a belépés/regisztráció esetén történő azonosításhoz<br>Szükségesek a hirdetésekkel kapcsolatos gyakoriságkorlátozáshoz, összesített jelentésekhez és visszaélések elleni intézkedések céljából\",\"\")+sti_valasztas(\"Személyre szabott hirdetések megjelenítéséhez szükséges cookie-k\",\"A célzott hirdetések korábban gyűjtött adatokon alapulnak, illetve adatokat gyűjthetnek a hirdetés célzásához\",\"stiok\")+(sti_ertek!=null ? \"<div class=\\\"sti_valasztas\\\"><div style=\\\"text-align: left;\\\"><a onclick='sti_visszavonas();' style=\\\"cursor: pointer;\\\">Korábbi hozzájárulás visszavonása</a><br><small>Ha visszavonod a korábbi nyilatkozatod, ezt úgy tekintjük, hogy a weboldalunk működéséhez szükséges cookie-k használatát sem engedélyezed. Enélkül viszont a honlapunk tartalmát sem fogod elérni.</small></div></div>\":\"\")+\"<p><button onclick='sti_mentes();'>Beállítások mentése</button></p>\";\n",
      " sti_meret();\n",
      "}\n",
      "function sti_mentes(){\n",
      " c=document.getElementById(\"stiok\");\n",
      " t=new Date().getTime(); d=new Date(); d.setTime(t+31536000000); if(c && c.innerHTML.indexOf(\">KI<\")!==-1) t=-1;\n",
      " document.cookie=encodeURIComponent(\"cookieok\")+\"=\"+encodeURIComponent(t)+\"; path=/; expires=\"+d.toGMTString()+\"; domain=\"+window.location.hostname.replace(\"www.\",\"\");\n",
      " if(sti_ertek!=null && (sti_ertek==t || (sti_ertek>-1 && t>-1))){ document.getElementsByTagName(\"html\")[0].removeChild(document.getElementById(\"stialert\")); sti_ertek=t;} else window.location.reload(false);\n",
      "}\n",
      "function sti_visszavonas(){\n",
      " t=new Date().getTime(); d=new Date(); d.setTime(t-1);\n",
      " document.cookie=encodeURIComponent(\"cookieok\")+\"=\"+encodeURIComponent(t)+\"; path=/; expires=\"+d.toGMTString()+\"; domain=\"+window.location.hostname.replace(\"www.\",\"\");\n",
      " document.getElementById(\"stidiv\").innerHTML=\"<p><b>Visszavontad a cookie-k használatát lehetővé tevő hozzájárulásodat.</b></p><p>A weboldalunk használatához feltétlenül szükséges cookie-k nélkül a honlapunk tartalmát nem éred el. Ha a későbbiekben meggondolnád magad, a honlap újbóli meglátogatásakor újra dönthetsz a cookie-król.</p>\";\n",
      "}\n",
      "var re=new RegExp(\"cookieok=([^;]+)\"); var sti_ertek=re.exec(document.cookie); sti_ertek=(sti_ertek!=null ? unescape(sti_ertek[1]):null);\n",
      "  </script>\n",
      " </head>\n",
      " <body>\n",
      "  <div id=\"main\">\n",
      "   <div class=\"flex menu1\" style=\"align-items: center; flex-wrap: nowrap;\">\n",
      "    <div>\n",
      "     <img alt=\"fejléc\" onclick='location.href=\"/\";' src=\"//static.gyakorikerdesek.hu/p/fejlec_desktop.png\" style=\"width: 250px; height: 50px; margin-right: 10px; cursor: pointer;\"/>\n",
      "    </div>\n",
      "    <div>\n",
      "     <a href=\"/\" title=\"Gyakorikérdések kezdőoldal\">\n",
      "      <img alt=\"Gyakori kérdések\" src=\"//static.gyakorikerdesek.hu/p/desktopmenu_kezdooldal.png\" style=\"width: 30px; height: 30px;\"/>\n",
      "     </a>\n",
      "     <a href=\"/belepes\">\n",
      "      <img alt=\"Belépés\" src=\"//static.gyakorikerdesek.hu/p/desktopmenu_sajat.png\" title=\"Belépés - Regisztráció\"/>\n",
      "     </a>\n",
      "     <a href=\"/belepes\">\n",
      "      <img alt=\"Új kérdés\" src=\"//static.gyakorikerdesek.hu/p/desktopmenu_uj.png\" title=\"Új kérdés\"/>\n",
      "     </a>\n",
      "     <a href=\"/egy_veletlen_kerdes\" title=\"Egy véletlen kérdés\">\n",
      "      <img alt=\"Véletlen kérdés\" src=\"//static.gyakorikerdesek.hu/p/desktopmenu_veletlen.png\" style=\"width: 84px; height: 30px;\"/>\n",
      "     </a>\n",
      "    </div>\n",
      "    <form action=\"/kereses.php\" id=\"keresesform\" method=\"get\" onsubmit='if(e(\"keres\").value.trim()!=\"\") window.open(\"/kereses.php?keres=\"+e(\"keres\").value.trim()+(e(\"kategoria\") &amp;&amp; e(\"kategoria\").value!=\"0\" ? \"&amp;kategoria=\"+e(\"kategoria\").value:\"\"),\"_self\"); return false;' style=\"margin-left: auto;\">\n",
      "     <div class=\"flex\" style=\"align-items: center;\">\n",
      "      <div>\n",
      "       <input id=\"keres\" maxlength=\"50\" name=\"keres\" size=\"20\" title=\"Keresett szó\" type=\"text\" value=\"szakkollégium\"/>\n",
      "      </div>\n",
      "      <div style=\"margin: 0 5px 0 10px;\">\n",
      "       <img alt=\"Keresés\" onclick='e(\"keresesform\").onsubmit();' src=\"//static.gyakorikerdesek.hu/p/mobilmenu_kereses.png\" style=\"cursor: pointer; width: 30px; height: 30px;\"/>\n",
      "      </div>\n",
      "     </div>\n",
      "    </form>\n",
      "   </div>\n",
      "   <div class=\"flex\" style=\"flex-wrap: nowrap;\">\n",
      "    <div id=\"main1\">\n",
      "     <div class=\"menu2\">\n",
      "      <div class=\"menu\" id=\"alkategoria\">\n",
      "       <div>\n",
      "        <i>\n",
      "         <a href=\"/\">\n",
      "          Kezdőoldal\n",
      "         </a>\n",
      "        </i>\n",
      "       </div>\n",
      "       <div>\n",
      "        <a href=\"/allatok\">\n",
      "         Állatok\n",
      "        </a>\n",
      "       </div>\n",
      "       <div>\n",
      "        <a href=\"/csaladi-kapcsolatok\">\n",
      "         Családi kapcsolatok\n",
      "        </a>\n",
      "       </div>\n",
      "       <div>\n",
      "        <a href=\"/egeszseg\">\n",
      "         Egészség\n",
      "        </a>\n",
      "       </div>\n",
      "       <div>\n",
      "        <a href=\"/elektronikus-eszkozok\">\n",
      "         Elektronikus eszközök\n",
      "        </a>\n",
      "       </div>\n",
      "       <div>\n",
      "        <a href=\"/emberek\">\n",
      "         Emberek\n",
      "        </a>\n",
      "       </div>\n",
      "       <div>\n",
      "        <a href=\"/etelek-italok\">\n",
      "         Ételek, italok\n",
      "        </a>\n",
      "       </div>\n",
      "       <div>\n",
      "        <a href=\"/ezoteria\">\n",
      "         Ezotéria\n",
      "        </a>\n",
      "       </div>\n",
      "       <div>\n",
      "        <a href=\"/felnott-parkapcsolatok\">\n",
      "         Felnőtt párkapcsolatok\n",
      "        </a>\n",
      "       </div>\n",
      "       <div>\n",
      "        <a href=\"/fogyokurak\">\n",
      "         Fogyókúrák\n",
      "        </a>\n",
      "       </div>\n",
      "       <div>\n",
      "        <a href=\"/gyerekvallalas-neveles\">\n",
      "         Gyerekvállalás, nevelés\n",
      "        </a>\n",
      "       </div>\n",
      "       <div>\n",
      "        <a href=\"/ismerkedes\">\n",
      "         Ismerkedés\n",
      "        </a>\n",
      "       </div>\n",
      "       <div>\n",
      "        <a href=\"/kozlekedes\">\n",
      "         Közlekedés\n",
      "        </a>\n",
      "       </div>\n",
      "       <div>\n",
      "        <a href=\"/kozoktatas-tanfolyamok\">\n",
      "         Közoktatás, tanfolyamok\n",
      "        </a>\n",
      "       </div>\n",
      "       <div>\n",
      "        <a href=\"/kultura-es-kozosseg\">\n",
      "         Kultúra és közösség\n",
      "        </a>\n",
      "       </div>\n",
      "       <div>\n",
      "        <a href=\"/otthon\">\n",
      "         Otthon\n",
      "        </a>\n",
      "       </div>\n",
      "       <div>\n",
      "        <a href=\"/politika\">\n",
      "         Politika\n",
      "        </a>\n",
      "       </div>\n",
      "       <div>\n",
      "        <a href=\"/sport-mozgas\">\n",
      "         Sport, mozgás\n",
      "        </a>\n",
      "       </div>\n",
      "       <div>\n",
      "        <a href=\"/szamitastechnika\">\n",
      "         Számítástechnika\n",
      "        </a>\n",
      "       </div>\n",
      "       <div>\n",
      "        <a href=\"/szepseg-es-divat\">\n",
      "         Szépség és divat\n",
      "        </a>\n",
      "       </div>\n",
      "       <div>\n",
      "        <a href=\"/szexualitas\">\n",
      "         Szexualitás\n",
      "        </a>\n",
      "       </div>\n",
      "       <div>\n",
      "        <a href=\"/szorakozas\">\n",
      "         Szórakozás\n",
      "        </a>\n",
      "       </div>\n",
      "       <div>\n",
      "        <a href=\"/tini-parkapcsolatok\">\n",
      "         Tini párkapcsolatok\n",
      "        </a>\n",
      "       </div>\n",
      "       <div>\n",
      "        <a href=\"/tudomanyok\">\n",
      "         Tudományok\n",
      "        </a>\n",
      "       </div>\n",
      "       <div>\n",
      "        <a href=\"/utazas\">\n",
      "         Utazás\n",
      "        </a>\n",
      "       </div>\n",
      "       <div>\n",
      "        <a href=\"/unnepek\">\n",
      "         Ünnepek\n",
      "        </a>\n",
      "       </div>\n",
      "       <div>\n",
      "        <a href=\"/uzlet-es-penzugyek\">\n",
      "         Üzlet és pénzügyek\n",
      "        </a>\n",
      "       </div>\n",
      "       <div>\n",
      "        <a href=\"/egyeb-kerdesek\">\n",
      "         Egyéb kérdések\n",
      "        </a>\n",
      "       </div>\n",
      "      </div>\n",
      "     </div>\n",
      "     <br/>\n",
      "    </div>\n",
      "    <div id=\"main2\">\n",
      "     <div class=\"morzsamenu\">\n",
      "      <a href=\"/\" title=\"Gyakorikerdesek\">\n",
      "       Kezdőoldal\n",
      "      </a>\n",
      "      »\n",
      "      <b>\n",
      "       Keresés\n",
      "      </b>\n",
      "     </div>\n",
      "     <h1>\n",
      "      Szakkollégium - Gyakori kérdések\n",
      "     </h1>\n",
      "     <h2>\n",
      "      Talált kulcsszavak:\n",
      "     </h2>\n",
      "     <div class=\"flex kulcsszo_lista\">\n",
      "      <div>\n",
      "       <input class=\"check\" id=\"chkb106826\" onclick='alert(\"A kulcsszó figyelés beállításához be kell jelentkezned!\"); location.href=\"/belepes\";' type=\"checkbox\"/>\n",
      "       <a href=\"/kereses.php?keres=szakkoll%C3%A9gium\">\n",
      "        szakkollégium\n",
      "       </a>\n",
      "      </div>\n",
      "      <div>\n",
      "       <input class=\"check\" id=\"chkb358583\" onclick='alert(\"A kulcsszó figyelés beállításához be kell jelentkezned!\"); location.href=\"/belepes\";' type=\"checkbox\"/>\n",
      "       <a href=\"/kereses.php?keres=M%C3%A1rton+%C3%81ron+Szakkoll%C3%A9gium\">\n",
      "        Márton Áron Szakkollégium\n",
      "       </a>\n",
      "      </div>\n",
      "      <div>\n",
      "       <input class=\"check\" id=\"chkb1557150\" onclick='alert(\"A kulcsszó figyelés beállításához be kell jelentkezned!\"); location.href=\"/belepes\";' type=\"checkbox\"/>\n",
      "       <a href=\"/kereses.php?keres=Szent+Ign%C3%A1c+Jezsuita+Szakkoll%C3%A9gium\">\n",
      "        Szent Ignác Jezsuita Szakkollégium\n",
      "       </a>\n",
      "      </div>\n",
      "     </div>\n",
      "     <br/>\n",
      "     <h2>\n",
      "      Talált kérdések:\n",
      "     </h2>\n",
      "     <div class=\"oldalszamok\" style=\"text-align: center;\">\n",
      "      <span style=\"background-color: #efefef; padding: 5px; font-weight: bold;\">\n",
      "       1\n",
      "      </span>\n",
      "      <a href=\"/kereses.php?keres=szakkoll%C3%A9gium&amp;oldal=2\" title=\"szakkollégium 2.\">\n",
      "       2\n",
      "      </a>\n",
      "      <a href=\"/kereses.php?keres=szakkoll%C3%A9gium&amp;oldal=3\" title=\"szakkollégium 3.\">\n",
      "       3\n",
      "      </a>\n",
      "      <a href=\"/kereses.php?keres=szakkoll%C3%A9gium&amp;oldal=4\" title=\"szakkollégium 4.\">\n",
      "       4\n",
      "      </a>\n",
      "      <a href=\"/kereses.php?keres=szakkoll%C3%A9gium&amp;oldal=5\" title=\"szakkollégium 5.\">\n",
      "       5\n",
      "      </a>\n",
      "      <a href=\"/kereses.php?keres=szakkoll%C3%A9gium&amp;oldal=6\" title=\"szakkollégium 6.\">\n",
      "       6\n",
      "      </a>\n",
      "      <a href=\"/kereses.php?keres=szakkoll%C3%A9gium&amp;oldal=7\" title=\"szakkollégium 7.\">\n",
      "       7\n",
      "      </a>\n",
      "      <a href=\"/kereses.php?keres=szakkoll%C3%A9gium&amp;oldal=8\" title=\"szakkollégium 8.\">\n",
      "       8\n",
      "      </a>\n",
      "      <a href=\"/kereses.php?keres=szakkoll%C3%A9gium&amp;oldal=9\" title=\"szakkollégium 9.\">\n",
      "       9\n",
      "      </a>\n",
      "      <a href=\"/kereses.php?keres=szakkoll%C3%A9gium&amp;oldal=10\" title=\"szakkollégium 10.\">\n",
      "       10\n",
      "      </a>\n",
      "      <a href=\"/kereses.php?keres=szakkoll%C3%A9gium&amp;oldal=2\" title=\"szakkollégium 2.\">\n",
      "       ❯\n",
      "      </a>\n",
      "      <a href=\"/kereses.php?keres=szakkoll%C3%A9gium&amp;oldal=10\" title=\"szakkollégium 10.\">\n",
      "       ❯❯\n",
      "      </a>\n",
      "     </div>\n",
      "     <div class=\"flex kerdeslista\" id=\"k12165689\" style=\"flex-wrap: nowrap;\">\n",
      "      <div class=\"kerdes_normal\">\n",
      "      </div>\n",
      "      <div class=\"kerdeslista_szoveg\">\n",
      "       <a href=\"/kozoktatas-tanfolyamok__egyeb-kerdesek__12165689-a-budapesti-szakkollegiumokba-csak-akkor-jelentkezhetek-ha-az-adott-egyetemre-ja\">\n",
      "        A budapesti szakkollégiumokba csak akkor jelentkezhetek ha az adott egyetemre járok?\n",
      "       </a>\n",
      "       <br/>\n",
      "       <span class=\"kerdes_alatt\">\n",
      "        <a class=\"kerdes_alatt\" href=\"/kozoktatas-tanfolyamok__egyeb-kerdesek\">\n",
      "         Közoktatás, tanfolyamok » Egyéb kérdések\n",
      "        </a>\n",
      "       </span>\n",
      "      </div>\n",
      "      <div class=\"kerdeslista_valasz\">\n",
      "       1\n",
      "      </div>\n",
      "     </div>\n",
      "     <div class=\"flex kerdeslista sor\" id=\"k12143277\" style=\"flex-wrap: nowrap;\">\n",
      "      <div class=\"kerdes_normal\">\n",
      "      </div>\n",
      "      <div class=\"kerdeslista_szoveg\">\n",
      "       <a href=\"/kozoktatas-tanfolyamok__magyar-iskolak__12143277-miert-nem-veszik-fel-az-elte-btk-n-a-telefont\">\n",
      "        Miért nem veszik fel az ELTE btk.-n a telefont?\n",
      "       </a>\n",
      "       <br/>\n",
      "       <span class=\"kerdes_alatt\">\n",
      "        <a class=\"kerdes_alatt\" href=\"/kozoktatas-tanfolyamok__magyar-iskolak\">\n",
      "         Közoktatás, tanfolyamok » Magyar iskolák\n",
      "        </a>\n",
      "       </span>\n",
      "      </div>\n",
      "      <div class=\"kerdeslista_valasz\">\n",
      "       3\n",
      "      </div>\n",
      "     </div>\n",
      "     <div class=\"flex kerdeslista\" id=\"k12104749\" style=\"flex-wrap: nowrap;\">\n",
      "      <div class=\"kerdes_normal\">\n",
      "      </div>\n",
      "      <div class=\"kerdeslista_szoveg\">\n",
      "       <a href=\"/kozoktatas-tanfolyamok__egyeb-kerdesek__12104749-szakkollegiumi-tapasztalatok\">\n",
      "        Szakkollégiumi tapasztalatok?\n",
      "       </a>\n",
      "       <br/>\n",
      "       <span class=\"kerdes_alatt\">\n",
      "        <a class=\"kerdes_alatt\" href=\"/kozoktatas-tanfolyamok__egyeb-kerdesek\">\n",
      "         Közoktatás, tanfolyamok » Egyéb kérdések\n",
      "        </a>\n",
      "       </span>\n",
      "      </div>\n",
      "      <div class=\"kerdeslista_valasz\">\n",
      "       2\n",
      "      </div>\n",
      "     </div>\n",
      "     <div class=\"flex kerdeslista sor\" id=\"k12090303\" style=\"flex-wrap: nowrap;\">\n",
      "      <div class=\"kerdes_normal\">\n",
      "      </div>\n",
      "      <div class=\"kerdeslista_szoveg\">\n",
      "       <a href=\"/kozoktatas-tanfolyamok__tanulasi-lehetosegek__12090303-mit-kell-tudni-az-egyetemi-szakkollegiumokrol-pontosan-hogy-mukodik-mik-a-tags\">\n",
      "        Mit kell tudni az egyetemi szakkollégiumokról? pontosan hogy működik, mik a tagsági feltételek, és mik kötelezettségek?\n",
      "       </a>\n",
      "       <br/>\n",
      "       <span class=\"kerdes_alatt\">\n",
      "        <a class=\"kerdes_alatt\" href=\"/kozoktatas-tanfolyamok__tanulasi-lehetosegek\">\n",
      "         Közoktatás, tanfolyamok » Tanulási lehetőségek\n",
      "        </a>\n",
      "       </span>\n",
      "      </div>\n",
      "      <div class=\"kerdeslista_valasz\">\n",
      "       2\n",
      "      </div>\n",
      "     </div>\n",
      "     <div class=\"flex kerdeslista\" id=\"k11913351\" style=\"flex-wrap: nowrap;\">\n",
      "      <div class=\"kerdes_normal\">\n",
      "      </div>\n",
      "      <div class=\"kerdeslista_szoveg\">\n",
      "       <a href=\"/kozoktatas-tanfolyamok__magyar-iskolak__11913351-phd-skent-keso-szakkolegiumba-jelentkezni\">\n",
      "        PhD-sként késő szakkolégiumba jelentkezni?\n",
      "       </a>\n",
      "       <br/>\n",
      "       <span class=\"kerdes_alatt\">\n",
      "        <a class=\"kerdes_alatt\" href=\"/kozoktatas-tanfolyamok__magyar-iskolak\">\n",
      "         Közoktatás, tanfolyamok » Magyar iskolák\n",
      "        </a>\n",
      "       </span>\n",
      "      </div>\n",
      "      <div class=\"kerdeslista_valasz\">\n",
      "       0\n",
      "      </div>\n",
      "     </div>\n",
      "     <div class=\"flex kerdeslista sor\" id=\"k11894807\" style=\"flex-wrap: nowrap;\">\n",
      "      <div class=\"kerdes_normal\">\n",
      "      </div>\n",
      "      <div class=\"kerdeslista_szoveg\">\n",
      "       <a href=\"/kozoktatas-tanfolyamok__magyar-iskolak__11894807-miert-epp-a-harkaly-szerepel-az-elte-bibo-istvan-szakkollegium-logojabanbannere\">\n",
      "        Miért épp a harkály szerepel az ELTE Bibó István Szakkollégium logójában/bannerében?\n",
      "       </a>\n",
      "       <br/>\n",
      "       <span class=\"kerdes_alatt\">\n",
      "        <a class=\"kerdes_alatt\" href=\"/kozoktatas-tanfolyamok__magyar-iskolak\">\n",
      "         Közoktatás, tanfolyamok » Magyar iskolák\n",
      "        </a>\n",
      "       </span>\n",
      "      </div>\n",
      "      <div class=\"kerdeslista_valasz\">\n",
      "       0\n",
      "      </div>\n",
      "     </div>\n",
      "     <div class=\"flex kerdeslista\" id=\"k11888739\" style=\"flex-wrap: nowrap;\">\n",
      "      <div class=\"kerdes_normal\">\n",
      "      </div>\n",
      "      <div class=\"kerdeslista_szoveg\">\n",
      "       <a href=\"/kozoktatas-tanfolyamok__magyar-iskolak__11888739-a-benda-kalman-szakkollegium-felveteli-elbeszelgetesen-mi-varhato-milyen-kerdes\">\n",
      "        A Benda Kálmán Szakkollégium felvételi elbeszélgetésén mi várható? Milyen kérdések? Milyen témák?\n",
      "       </a>\n",
      "       <br/>\n",
      "       <span class=\"kerdes_alatt\">\n",
      "        <a class=\"kerdes_alatt\" href=\"/kozoktatas-tanfolyamok__magyar-iskolak\">\n",
      "         Közoktatás, tanfolyamok » Magyar iskolák\n",
      "        </a>\n",
      "       </span>\n",
      "      </div>\n",
      "      <div class=\"kerdeslista_valasz\">\n",
      "       0\n",
      "      </div>\n",
      "     </div>\n",
      "     <div class=\"flex kerdeslista sor\" id=\"k11854503\" style=\"flex-wrap: nowrap;\">\n",
      "      <div class=\"kerdes_normal\">\n",
      "      </div>\n",
      "      <div class=\"kerdeslista_szoveg\">\n",
      "       <a href=\"/kozoktatas-tanfolyamok__magyar-iskolak__11854503-mcc-mathias-corvinus-collegiumrol-velemeny\">\n",
      "        MCC (mathias corvinus collégium)ról vélemény?\n",
      "       </a>\n",
      "       <br/>\n",
      "       <span class=\"kerdes_alatt\">\n",
      "        <a class=\"kerdes_alatt\" href=\"/kozoktatas-tanfolyamok__magyar-iskolak\">\n",
      "         Közoktatás, tanfolyamok » Magyar iskolák\n",
      "        </a>\n",
      "       </span>\n",
      "      </div>\n",
      "      <div class=\"kerdeslista_valasz\">\n",
      "       3\n",
      "      </div>\n",
      "     </div>\n",
      "     <div class=\"flex kerdeslista\" id=\"k11853338\" style=\"flex-wrap: nowrap;\">\n",
      "      <div class=\"kerdes_normal\">\n",
      "      </div>\n",
      "      <div class=\"kerdeslista_szoveg\">\n",
      "       <a href=\"/kozoktatas-tanfolyamok__specialis-tanfolyamok__11853338-lenne-eselyem-szakkollegiumba\">\n",
      "        Lenne esélyem szakkollégiumba?\n",
      "       </a>\n",
      "       <br/>\n",
      "       <span class=\"kerdes_alatt\">\n",
      "        <a class=\"kerdes_alatt\" href=\"/kozoktatas-tanfolyamok__specialis-tanfolyamok\">\n",
      "         Közoktatás, tanfolyamok » Speciális tanfolyamok\n",
      "        </a>\n",
      "       </span>\n",
      "      </div>\n",
      "      <div class=\"kerdeslista_valasz\">\n",
      "       3\n",
      "      </div>\n",
      "     </div>\n",
      "     <div class=\"flex kerdeslista sor\" id=\"k11851503\" style=\"flex-wrap: nowrap;\">\n",
      "      <div class=\"kerdes_normal\">\n",
      "      </div>\n",
      "      <div class=\"kerdeslista_szoveg\">\n",
      "       <a href=\"/kozoktatas-tanfolyamok__magyar-iskolak__11851503-az-eotvos-jozsef-szakkollegiumra-kinek-van-eselye-bekerulni\">\n",
      "        Az Eötvös József Szakkollégiumra kinek van esélye bekerülni?\n",
      "       </a>\n",
      "       <br/>\n",
      "       <span class=\"kerdes_alatt\">\n",
      "        <a class=\"kerdes_alatt\" href=\"/kozoktatas-tanfolyamok__magyar-iskolak\">\n",
      "         Közoktatás, tanfolyamok » Magyar iskolák\n",
      "        </a>\n",
      "       </span>\n",
      "      </div>\n",
      "      <div class=\"kerdeslista_valasz\">\n",
      "       1\n",
      "      </div>\n",
      "     </div>\n",
      "     <div class=\"flex kerdeslista\" id=\"k11837483\" style=\"flex-wrap: nowrap;\">\n",
      "      <div class=\"kerdes_normal\">\n",
      "      </div>\n",
      "      <div class=\"kerdeslista_szoveg\">\n",
      "       <a href=\"/kozoktatas-tanfolyamok__magyar-iskolak__11837483-elte-szakkollegiumokrol-mit-lehet-tudni-hogyan-kell-jelentkezni\">\n",
      "        ELTE szakkollégiumokról mit lehet tudni? Hogyan kell jelentkezni?\n",
      "       </a>\n",
      "       <br/>\n",
      "       <span class=\"kerdes_alatt\">\n",
      "        <a class=\"kerdes_alatt\" href=\"/kozoktatas-tanfolyamok__magyar-iskolak\">\n",
      "         Közoktatás, tanfolyamok » Magyar iskolák\n",
      "        </a>\n",
      "       </span>\n",
      "      </div>\n",
      "      <div class=\"kerdeslista_valasz\">\n",
      "       3\n",
      "      </div>\n",
      "     </div>\n",
      "     <div class=\"flex kerdeslista sor\" id=\"k11832490\" style=\"flex-wrap: nowrap;\">\n",
      "      <div class=\"kerdes_normal\">\n",
      "      </div>\n",
      "      <div class=\"kerdeslista_szoveg\">\n",
      "       <a href=\"/kozoktatas-tanfolyamok__egyeb-kerdesek__11832490-melyiket-ajanlanatok-inkabb-az-elte-marton-aron-szakkollegiumot-vagy-az-erdos\">\n",
      "        Melyiket ajánlanátok inkább, az ELTE Márton Áron Szakkollégiumot, vagy az Erdős Pál Kollégiumot?\n",
      "       </a>\n",
      "       <br/>\n",
      "       <span class=\"kerdes_alatt\">\n",
      "        <a class=\"kerdes_alatt\" href=\"/kozoktatas-tanfolyamok__egyeb-kerdesek\">\n",
      "         Közoktatás, tanfolyamok » Egyéb kérdések\n",
      "        </a>\n",
      "       </span>\n",
      "      </div>\n",
      "      <div class=\"kerdeslista_valasz\">\n",
      "       1\n",
      "      </div>\n",
      "     </div>\n",
      "     <div class=\"flex kerdeslista\" id=\"k11800923\" style=\"flex-wrap: nowrap;\">\n",
      "      <div class=\"kerdes_normal\">\n",
      "      </div>\n",
      "      <div class=\"kerdeslista_szoveg\">\n",
      "       <a href=\"/kozoktatas-tanfolyamok__magyar-iskolak__11800923-az-elte-illyes-sandor-szakkollegiumaba-mennyire-nehez-bekerulni-golyakent\">\n",
      "        Az ELTE Illyés Sándor Szakkollégiumába mennyire nehéz bekerülni gólyaként?\n",
      "       </a>\n",
      "       <br/>\n",
      "       <span class=\"kerdes_alatt\">\n",
      "        <a class=\"kerdes_alatt\" href=\"/kozoktatas-tanfolyamok__magyar-iskolak\">\n",
      "         Közoktatás, tanfolyamok » Magyar iskolák\n",
      "        </a>\n",
      "       </span>\n",
      "      </div>\n",
      "      <div class=\"kerdeslista_valasz\">\n",
      "       1\n",
      "      </div>\n",
      "     </div>\n",
      "     <div class=\"flex kerdeslista sor\" id=\"k11792228\" style=\"flex-wrap: nowrap;\">\n",
      "      <div class=\"kerdes_normal\">\n",
      "      </div>\n",
      "      <div class=\"kerdeslista_szoveg\">\n",
      "       <a href=\"/kozoktatas-tanfolyamok__tanulasi-lehetosegek__11792228-elte-ik-programtervezo-informatikus-msc-velemenyek\">\n",
      "        ELTE IK programtervező informatikus MSc vélemények?\n",
      "       </a>\n",
      "       <br/>\n",
      "       <span class=\"kerdes_alatt\">\n",
      "        <a class=\"kerdes_alatt\" href=\"/kozoktatas-tanfolyamok__tanulasi-lehetosegek\">\n",
      "         Közoktatás, tanfolyamok » Tanulási lehetőségek\n",
      "        </a>\n",
      "       </span>\n",
      "      </div>\n",
      "      <div class=\"kerdeslista_szavazas\" title=\"Szavazással bővített kérdés\">\n",
      "      </div>\n",
      "      <div class=\"kerdeslista_valasz\" style=\"margin-left: 8px;\">\n",
      "       2\n",
      "      </div>\n",
      "     </div>\n",
      "     <div class=\"flex kerdeslista\" id=\"k11763442\" style=\"flex-wrap: nowrap;\">\n",
      "      <div class=\"kerdes_normal\">\n",
      "      </div>\n",
      "      <div class=\"kerdeslista_szoveg\">\n",
      "       <a href=\"/kozoktatas-tanfolyamok__egyeb-kerdesek__11763442-elso-eves-egyetemistakent-is-jelentkezhetek-szakkoliba\">\n",
      "        Első éves egyetemistaként is jelentkezhetek szakkoliba?\n",
      "       </a>\n",
      "       <br/>\n",
      "       <span class=\"kerdes_alatt\">\n",
      "        <a class=\"kerdes_alatt\" href=\"/kozoktatas-tanfolyamok__egyeb-kerdesek\">\n",
      "         Közoktatás, tanfolyamok » Egyéb kérdések\n",
      "        </a>\n",
      "       </span>\n",
      "      </div>\n",
      "      <div class=\"kerdeslista_valasz\">\n",
      "       2\n",
      "      </div>\n",
      "     </div>\n",
      "     <div class=\"flex kerdeslista sor\" id=\"k11699696\" style=\"flex-wrap: nowrap;\">\n",
      "      <div class=\"kerdes_normal\">\n",
      "      </div>\n",
      "      <div class=\"kerdeslista_szoveg\">\n",
      "       <a href=\"/kozoktatas-tanfolyamok__egyeb-kerdesek__11699696-milyen-mindenkinek-elerheto-szakkolik-vannak-pesten\">\n",
      "        Milyen mindenkinek elérhető szakkolik vannak Pesten?\n",
      "       </a>\n",
      "       <br/>\n",
      "       <span class=\"kerdes_alatt\">\n",
      "        <a class=\"kerdes_alatt\" href=\"/kozoktatas-tanfolyamok__egyeb-kerdesek\">\n",
      "         Közoktatás, tanfolyamok » Egyéb kérdések\n",
      "        </a>\n",
      "       </span>\n",
      "      </div>\n",
      "      <div class=\"kerdeslista_valasz\">\n",
      "       2\n",
      "      </div>\n",
      "     </div>\n",
      "     <div class=\"flex kerdeslista\" id=\"k11589033\" style=\"flex-wrap: nowrap;\">\n",
      "      <div class=\"kerdes_normal\">\n",
      "      </div>\n",
      "      <div class=\"kerdeslista_szoveg\">\n",
      "       <a href=\"/kozoktatas-tanfolyamok__magyar-iskolak__11589033-mit-tudtok-a-navratil-akos-szakkollegiumrol\">\n",
      "        Mit tudtok a Navratil Ákos szakkollégiumról?\n",
      "       </a>\n",
      "       <br/>\n",
      "       <span class=\"kerdes_alatt\">\n",
      "        <a class=\"kerdes_alatt\" href=\"/kozoktatas-tanfolyamok__magyar-iskolak\">\n",
      "         Közoktatás, tanfolyamok » Magyar iskolák\n",
      "        </a>\n",
      "       </span>\n",
      "      </div>\n",
      "      <div class=\"kerdeslista_valasz\">\n",
      "       2\n",
      "      </div>\n",
      "     </div>\n",
      "     <div class=\"flex kerdeslista sor\" id=\"k11554175\" style=\"flex-wrap: nowrap;\">\n",
      "      <div class=\"kerdes_normal\">\n",
      "      </div>\n",
      "      <div class=\"kerdeslista_szoveg\">\n",
      "       <a href=\"/uzlet-es-penzugyek__karrier-fizetes__11554175-egyetem-mellett-minel-elobb-gyakornoki-munka-vagy-tanulni-amennyit-csak-lehet\">\n",
      "        Egyetem mellett minél előbb gyakornoki munka, vagy tanulni, amennyit csak lehet?\n",
      "       </a>\n",
      "       <br/>\n",
      "       <span class=\"kerdes_alatt\">\n",
      "        <a class=\"kerdes_alatt\" href=\"/uzlet-es-penzugyek__karrier-fizetes\">\n",
      "         Üzlet és pénzügyek » Karrier, fizetés\n",
      "        </a>\n",
      "       </span>\n",
      "      </div>\n",
      "      <div class=\"kerdeslista_szavazas\" title=\"Szavazással bővített kérdés\">\n",
      "      </div>\n",
      "      <div class=\"kerdeslista_valasz\" style=\"margin-left: 8px;\">\n",
      "       14\n",
      "      </div>\n",
      "     </div>\n",
      "     <div class=\"flex kerdeslista\" id=\"k11553419\" style=\"flex-wrap: nowrap;\">\n",
      "      <div class=\"kerdes_normal\">\n",
      "      </div>\n",
      "      <div class=\"kerdeslista_szoveg\">\n",
      "       <a href=\"/kozoktatas-tanfolyamok__tanulasi-lehetosegek__11553419-szakkolegiumi-felvetel-hogy-mukodik-ha-valaki-csak-bejaros-es-nem-bentlakos-aka\">\n",
      "        Szakkolégiumi felvétel hogy működik, ha valaki csak bejárós és nem bentlakós akar lenni?\n",
      "       </a>\n",
      "       <br/>\n",
      "       <span class=\"kerdes_alatt\">\n",
      "        <a class=\"kerdes_alatt\" href=\"/kozoktatas-tanfolyamok__tanulasi-lehetosegek\">\n",
      "         Közoktatás, tanfolyamok » Tanulási lehetőségek\n",
      "        </a>\n",
      "       </span>\n",
      "      </div>\n",
      "      <div class=\"kerdeslista_valasz\">\n",
      "       2\n",
      "      </div>\n",
      "     </div>\n",
      "     <div class=\"flex kerdeslista sor\" id=\"k11541072\" style=\"flex-wrap: nowrap;\">\n",
      "      <div class=\"kerdes_normal\">\n",
      "      </div>\n",
      "      <div class=\"kerdeslista_szoveg\">\n",
      "       <a href=\"/kozoktatas-tanfolyamok__egyeb-kerdesek__11541072-ha-nagyon-jo-erettsegit-irok-de-nincsenek-versenyeredmenyeim-akkormeg-van-esel\">\n",
      "        Ha nagyon jó érettségit írok, de nincsenek versenyeredményeim, akkormég van esély arra, hogy felvegyenek a Bolyai Kollégiumba (ELTE)?\n",
      "       </a>\n",
      "       <br/>\n",
      "       <span class=\"kerdes_alatt\">\n",
      "        <a class=\"kerdes_alatt\" href=\"/kozoktatas-tanfolyamok__egyeb-kerdesek\">\n",
      "         Közoktatás, tanfolyamok » Egyéb kérdések\n",
      "        </a>\n",
      "       </span>\n",
      "      </div>\n",
      "      <div class=\"kerdeslista_valasz\">\n",
      "       3\n",
      "      </div>\n",
      "     </div>\n",
      "     <div class=\"flex kerdeslista\" id=\"k11540555\" style=\"flex-wrap: nowrap;\">\n",
      "      <div class=\"kerdes_normal\">\n",
      "      </div>\n",
      "      <div class=\"kerdeslista_szoveg\">\n",
      "       <a href=\"/kozoktatas-tanfolyamok__tanulasi-lehetosegek__11540555-velemenyek-az-elte-illyes-sandor-szakkollegiumarol\">\n",
      "        Vélemények az ELTE Illyés Sándor Szakkollégiumáról?\n",
      "       </a>\n",
      "       <br/>\n",
      "       <span class=\"kerdes_alatt\">\n",
      "        <a class=\"kerdes_alatt\" href=\"/kozoktatas-tanfolyamok__tanulasi-lehetosegek\">\n",
      "         Közoktatás, tanfolyamok » Tanulási lehetőségek\n",
      "        </a>\n",
      "       </span>\n",
      "      </div>\n",
      "      <div class=\"kerdeslista_valasz\">\n",
      "       2\n",
      "      </div>\n",
      "     </div>\n",
      "     <div class=\"flex kerdeslista sor\" id=\"k11507308\" style=\"flex-wrap: nowrap;\">\n",
      "      <div class=\"kerdes_normal\">\n",
      "      </div>\n",
      "      <div class=\"kerdeslista_szoveg\">\n",
      "       <a href=\"/kozoktatas-tanfolyamok__tanulasi-lehetosegek__11507308-velemenyek-az-eotvos-jozsef-collegiumrol\">\n",
      "        Vélemények az Eötvös József Collegiumról?\n",
      "       </a>\n",
      "       <br/>\n",
      "       <span class=\"kerdes_alatt\">\n",
      "        <a class=\"kerdes_alatt\" href=\"/kozoktatas-tanfolyamok__tanulasi-lehetosegek\">\n",
      "         Közoktatás, tanfolyamok » Tanulási lehetőségek\n",
      "        </a>\n",
      "       </span>\n",
      "      </div>\n",
      "      <div class=\"kerdeslista_valasz\">\n",
      "       1\n",
      "      </div>\n",
      "     </div>\n",
      "     <div class=\"flex kerdeslista\" id=\"k11340462\" style=\"flex-wrap: nowrap;\">\n",
      "      <div class=\"kerdes_normal\">\n",
      "      </div>\n",
      "      <div class=\"kerdeslista_szoveg\">\n",
      "       <a href=\"/kozoktatas-tanfolyamok__tanulasi-lehetosegek__11340462-milyen-szakkollegiumokat-ismertek-ahova-nem-csak-1-2-evben-lehet-jelentkezni-j\">\n",
      "        Milyen szakkollégiumokat ismertek, ahova nem csak 1-2. évben lehet jelentkezni jogász szakos hallgatóként?\n",
      "       </a>\n",
      "       <br/>\n",
      "       <span class=\"kerdes_alatt\">\n",
      "        <a class=\"kerdes_alatt\" href=\"/kozoktatas-tanfolyamok__tanulasi-lehetosegek\">\n",
      "         Közoktatás, tanfolyamok » Tanulási lehetőségek\n",
      "        </a>\n",
      "       </span>\n",
      "      </div>\n",
      "      <div class=\"kerdeslista_valasz\">\n",
      "       0\n",
      "      </div>\n",
      "     </div>\n",
      "     <div class=\"flex kerdeslista sor\" id=\"k11327958\" style=\"flex-wrap: nowrap;\">\n",
      "      <div class=\"kerdes_normal\">\n",
      "      </div>\n",
      "      <div class=\"kerdeslista_szoveg\">\n",
      "       <a href=\"/kozoktatas-tanfolyamok__tanulasi-lehetosegek__11327958-szerintetek-melyik-corvinusos-szakkoli-a-legjobb\">\n",
      "        Szerintetek melyik Corvinusos szakkoli a legjobb?\n",
      "       </a>\n",
      "       <br/>\n",
      "       <span class=\"kerdes_alatt\">\n",
      "        <a class=\"kerdes_alatt\" href=\"/kozoktatas-tanfolyamok__tanulasi-lehetosegek\">\n",
      "         Közoktatás, tanfolyamok » Tanulási lehetőségek\n",
      "        </a>\n",
      "       </span>\n",
      "      </div>\n",
      "      <div class=\"kerdeslista_szavazas\" title=\"Szavazással bővített kérdés\">\n",
      "      </div>\n",
      "      <div class=\"kerdeslista_valasz\" style=\"margin-left: 8px;\">\n",
      "       1\n",
      "      </div>\n",
      "     </div>\n",
      "     <div class=\"oldalszamok\" style=\"text-align: center;\">\n",
      "      <span style=\"background-color: #efefef; padding: 5px; font-weight: bold;\">\n",
      "       1\n",
      "      </span>\n",
      "      <a href=\"/kereses.php?keres=szakkoll%C3%A9gium&amp;oldal=2\" title=\"szakkollégium 2.\">\n",
      "       2\n",
      "      </a>\n",
      "      <a href=\"/kereses.php?keres=szakkoll%C3%A9gium&amp;oldal=3\" title=\"szakkollégium 3.\">\n",
      "       3\n",
      "      </a>\n",
      "      <a href=\"/kereses.php?keres=szakkoll%C3%A9gium&amp;oldal=4\" title=\"szakkollégium 4.\">\n",
      "       4\n",
      "      </a>\n",
      "      <a href=\"/kereses.php?keres=szakkoll%C3%A9gium&amp;oldal=5\" title=\"szakkollégium 5.\">\n",
      "       5\n",
      "      </a>\n",
      "      <a href=\"/kereses.php?keres=szakkoll%C3%A9gium&amp;oldal=6\" title=\"szakkollégium 6.\">\n",
      "       6\n",
      "      </a>\n",
      "      <a href=\"/kereses.php?keres=szakkoll%C3%A9gium&amp;oldal=7\" title=\"szakkollégium 7.\">\n",
      "       7\n",
      "      </a>\n",
      "      <a href=\"/kereses.php?keres=szakkoll%C3%A9gium&amp;oldal=8\" title=\"szakkollégium 8.\">\n",
      "       8\n",
      "      </a>\n",
      "      <a href=\"/kereses.php?keres=szakkoll%C3%A9gium&amp;oldal=9\" title=\"szakkollégium 9.\">\n",
      "       9\n",
      "      </a>\n",
      "      <a href=\"/kereses.php?keres=szakkoll%C3%A9gium&amp;oldal=10\" title=\"szakkollégium 10.\">\n",
      "       10\n",
      "      </a>\n",
      "      <a href=\"/kereses.php?keres=szakkoll%C3%A9gium&amp;oldal=2\" title=\"szakkollégium 2.\">\n",
      "       ❯\n",
      "      </a>\n",
      "      <a href=\"/kereses.php?keres=szakkoll%C3%A9gium&amp;oldal=10\" title=\"szakkollégium 10.\">\n",
      "       ❯❯\n",
      "      </a>\n",
      "     </div>\n",
      "    </div>\n",
      "   </div>\n",
      "   <br/>\n",
      "   <div id=\"widgettaboola\">\n",
      "   </div>\n",
      "   <div id=\"siteinfo\">\n",
      "    <button onclick='if(!gcookie(\"cookieok\") &amp;&amp; cookienemok()) return false; ccookie(\"sotet_mod\",\"1679411641\",1209600); location.reload(false);'>\n",
      "     Sötét mód bekapcsolása\n",
      "    </button>\n",
      "    <br/>\n",
      "    <br/>\n",
      "    Minden jog fenntartva © 2023, www.gyakorikerdesek.hu\n",
      "    <br/>\n",
      "    <a href=\"/help\">\n",
      "     GYIK\n",
      "    </a>\n",
      "    |\n",
      "    <a href=\"/felhasznaloi_szabalyzat\">\n",
      "     Szabályzat\n",
      "    </a>\n",
      "    |\n",
      "    <a href=\"/jogi_nyilatkozat\">\n",
      "     Jogi nyilatkozat\n",
      "    </a>\n",
      "    |\n",
      "    <a href=\"/adatvedelem\">\n",
      "     Adatvédelem\n",
      "    </a>\n",
      "    |\n",
      "    <a href=\"#\" onclick=\"stialert(); sti_lehetosegek();\">\n",
      "     Cookie beállítások\n",
      "    </a>\n",
      "    |\n",
      "    <a href=\"//www.webminute.hu/\" target=\"_blank\">\n",
      "     WebMinute Kft.\n",
      "    </a>\n",
      "    |\n",
      "    <a href=\"/facebook\" target=\"_blank\">\n",
      "     Facebook\n",
      "    </a>\n",
      "    |\n",
      "Kapcsolat:\n",
      "    <span style=\"white-space: nowrap;\">\n",
      "     info(kukac)gyakorikerdesek.hu\n",
      "    </span>\n",
      "    <br/>\n",
      "    <br/>\n",
      "    <div style=\"text-align: center;\">\n",
      "     A weboldalon megjelenő anyagok nem minősülnek szerkesztői tartalomnak, előzetes ellenőrzésen nem esnek át, az üzemeltető véleményét nem tükrözik.\n",
      "     <br/>\n",
      "     Ha kifogással szeretne élni valamely tartalommal kapcsolatban, kérjük jelezze e-mailes elérhetőségünkön!\n",
      "    </div>\n",
      "   </div>\n",
      "  </div>\n",
      "  <div id=\"res\">\n",
      "  </div>\n",
      "  <script>\n",
      "   stialert();\n",
      "  </script>\n",
      " </body>\n",
      "</html>\n"
     ]
    }
   ],
   "source": [
    "print(soup.prettify())"
   ]
  },
  {
   "cell_type": "markdown",
   "id": "70fcbf1b",
   "metadata": {},
   "source": [
    "Látjuk hogy vannak `div` típusú elemek `kerdeslista` class-el, amelyek az egyes kérdéseket lehatárolják. \n",
    "\n",
    "*Lásd Chrome inspect funkció.*"
   ]
  },
  {
   "cell_type": "markdown",
   "id": "1f685339",
   "metadata": {},
   "source": [
    "### Egy elem kijelölése"
   ]
  },
  {
   "cell_type": "markdown",
   "id": "abc1eab8",
   "metadata": {},
   "source": [
    "Jelöljük ki az első ilyen elemet"
   ]
  },
  {
   "cell_type": "code",
   "execution_count": 424,
   "id": "58ebed4e",
   "metadata": {
    "ExecuteTime": {
     "end_time": "2023-03-21T15:19:12.177743Z",
     "start_time": "2023-03-21T15:19:12.145331Z"
    }
   },
   "outputs": [],
   "source": [
    "elem = soup.find(\"div\", attrs={\"class\", \"kerdeslista\"})"
   ]
  },
  {
   "cell_type": "code",
   "execution_count": 426,
   "id": "c792edbf",
   "metadata": {
    "ExecuteTime": {
     "end_time": "2023-03-21T15:19:24.201574Z",
     "start_time": "2023-03-21T15:19:24.177934Z"
    }
   },
   "outputs": [
    {
     "name": "stdout",
     "output_type": "stream",
     "text": [
      "<div class=\"flex kerdeslista\" id=\"k12165689\" style=\"flex-wrap: nowrap;\">\n",
      " <div class=\"kerdes_normal\">\n",
      " </div>\n",
      " <div class=\"kerdeslista_szoveg\">\n",
      "  <a href=\"/kozoktatas-tanfolyamok__egyeb-kerdesek__12165689-a-budapesti-szakkollegiumokba-csak-akkor-jelentkezhetek-ha-az-adott-egyetemre-ja\">\n",
      "   A budapesti szakkollégiumokba csak akkor jelentkezhetek ha az adott egyetemre járok?\n",
      "  </a>\n",
      "  <br/>\n",
      "  <span class=\"kerdes_alatt\">\n",
      "   <a class=\"kerdes_alatt\" href=\"/kozoktatas-tanfolyamok__egyeb-kerdesek\">\n",
      "    Közoktatás, tanfolyamok » Egyéb kérdések\n",
      "   </a>\n",
      "  </span>\n",
      " </div>\n",
      " <div class=\"kerdeslista_valasz\">\n",
      "  1\n",
      " </div>\n",
      "</div>\n",
      "\n"
     ]
    }
   ],
   "source": [
    "print(elem.prettify())"
   ]
  },
  {
   "cell_type": "markdown",
   "id": "91304d7f",
   "metadata": {},
   "source": [
    "A `prettify` method segít szépen ábrázolni a DOM-ot."
   ]
  },
  {
   "cell_type": "code",
   "execution_count": 427,
   "id": "c7473562",
   "metadata": {
    "ExecuteTime": {
     "end_time": "2023-03-21T15:20:20.891649Z",
     "start_time": "2023-03-21T15:20:20.864381Z"
    }
   },
   "outputs": [],
   "source": [
    "soup.find(\"div\", attrs={\"class\": \"kerdeslistak\"})"
   ]
  },
  {
   "cell_type": "code",
   "execution_count": 428,
   "id": "62e7a163",
   "metadata": {
    "ExecuteTime": {
     "end_time": "2023-03-21T15:20:22.464357Z",
     "start_time": "2023-03-21T15:20:22.439644Z"
    }
   },
   "outputs": [
    {
     "name": "stdout",
     "output_type": "stream",
     "text": [
      "<div class=\"flex kerdeslista\" id=\"k12165689\" style=\"flex-wrap: nowrap;\">\n",
      " <div class=\"kerdes_normal\">\n",
      " </div>\n",
      " <div class=\"kerdeslista_szoveg\">\n",
      "  <a href=\"/kozoktatas-tanfolyamok__egyeb-kerdesek__12165689-a-budapesti-szakkollegiumokba-csak-akkor-jelentkezhetek-ha-az-adott-egyetemre-ja\">\n",
      "   A budapesti szakkollégiumokba csak akkor jelentkezhetek ha az adott egyetemre járok?\n",
      "  </a>\n",
      "  <br/>\n",
      "  <span class=\"kerdes_alatt\">\n",
      "   <a class=\"kerdes_alatt\" href=\"/kozoktatas-tanfolyamok__egyeb-kerdesek\">\n",
      "    Közoktatás, tanfolyamok » Egyéb kérdések\n",
      "   </a>\n",
      "  </span>\n",
      " </div>\n",
      " <div class=\"kerdeslista_valasz\">\n",
      "  1\n",
      " </div>\n",
      "</div>\n",
      "\n"
     ]
    }
   ],
   "source": [
    "print(elem.prettify())"
   ]
  },
  {
   "cell_type": "markdown",
   "id": "b4b5e5a8",
   "metadata": {},
   "source": [
    "A fenti kijelölést egyébként máshogy is meg lehet csinálni, erre íme pár példa"
   ]
  },
  {
   "cell_type": "code",
   "execution_count": 200,
   "id": "647845b4",
   "metadata": {
    "ExecuteTime": {
     "end_time": "2023-03-21T13:55:22.634596Z",
     "start_time": "2023-03-21T13:55:22.602147Z"
    }
   },
   "outputs": [
    {
     "data": {
      "text/plain": [
       "<div class=\"flex kerdeslista\" id=\"k12165689\" style=\"flex-wrap: nowrap;\"><div class=\"kerdes_normal\"></div><div class=\"kerdeslista_szoveg\"><a href=\"/kozoktatas-tanfolyamok__egyeb-kerdesek__12165689-a-budapesti-szakkollegiumokba-csak-akkor-jelentkezhetek-ha-az-adott-egyetemre-ja\">A budapesti szakkollégiumokba csak akkor jelentkezhetek ha az adott egyetemre járok?</a><br/><span class=\"kerdes_alatt\"><a class=\"kerdes_alatt\" href=\"/kozoktatas-tanfolyamok__egyeb-kerdesek\">Közoktatás, tanfolyamok » Egyéb kérdések</a></span></div><div class=\"kerdeslista_valasz\">1</div></div>"
      ]
     },
     "execution_count": 200,
     "metadata": {},
     "output_type": "execute_result"
    }
   ],
   "source": [
    "soup.find(\"div\", class_=\"kerdeslista\")"
   ]
  },
  {
   "cell_type": "code",
   "execution_count": 429,
   "id": "5ff168e6",
   "metadata": {
    "ExecuteTime": {
     "end_time": "2023-03-21T15:22:22.259532Z",
     "start_time": "2023-03-21T15:22:22.226342Z"
    }
   },
   "outputs": [
    {
     "data": {
      "text/plain": [
       "<div class=\"flex kerdeslista\" id=\"k12165689\" style=\"flex-wrap: nowrap;\"><div class=\"kerdes_normal\"></div><div class=\"kerdeslista_szoveg\"><a href=\"/kozoktatas-tanfolyamok__egyeb-kerdesek__12165689-a-budapesti-szakkollegiumokba-csak-akkor-jelentkezhetek-ha-az-adott-egyetemre-ja\">A budapesti szakkollégiumokba csak akkor jelentkezhetek ha az adott egyetemre járok?</a><br/><span class=\"kerdes_alatt\"><a class=\"kerdes_alatt\" href=\"/kozoktatas-tanfolyamok__egyeb-kerdesek\">Közoktatás, tanfolyamok » Egyéb kérdések</a></span></div><div class=\"kerdeslista_valasz\">1</div></div>"
      ]
     },
     "execution_count": 429,
     "metadata": {},
     "output_type": "execute_result"
    }
   ],
   "source": [
    "soup.select_one(\"div.kerdeslista\")"
   ]
  },
  {
   "cell_type": "markdown",
   "id": "6ce8cb69",
   "metadata": {},
   "source": [
    "Ez utóbbi CSS selector alapján keres. Szerintem ez a legjobb módszer egyébként, univerzálisabban használható.\n",
    "\n",
    "Segítség hozzá itt:  \n",
    "https://www.w3schools.com/cssref/css_selectors.php"
   ]
  },
  {
   "cell_type": "markdown",
   "id": "88b29f79",
   "metadata": {},
   "source": [
    "### Több elem kijelölése\n",
    "\n",
    "Hasonló az előzőhöz, csak egy listát kapunk vissza a patternnek megfelelő objektumok alapján."
   ]
  },
  {
   "cell_type": "markdown",
   "id": "59c18b5d",
   "metadata": {},
   "source": [
    "Standard `Beautifulsoup` megoldás"
   ]
  },
  {
   "cell_type": "code",
   "execution_count": 202,
   "id": "93333146",
   "metadata": {
    "ExecuteTime": {
     "end_time": "2023-03-21T13:55:27.755698Z",
     "start_time": "2023-03-21T13:55:27.731758Z"
    }
   },
   "outputs": [],
   "source": [
    "elems = soup.find_all(\"div\", attrs={\"class\", \"kerdeslista\"})"
   ]
  },
  {
   "cell_type": "code",
   "execution_count": 430,
   "id": "5793fbcf",
   "metadata": {
    "ExecuteTime": {
     "end_time": "2023-03-21T15:22:42.607390Z",
     "start_time": "2023-03-21T15:22:42.574858Z"
    }
   },
   "outputs": [
    {
     "data": {
      "text/plain": [
       "<div class=\"kerdes\"><div class=\"kerdes_fejlec\"><h1>Miért nem veszik fel az ELTE btk.-n a telefont?</h1>\n",
       "</div><div class=\"kerdeslista_ikon\"></div><div class=\"kerdes_kerdes\"><div style=\"width: 100%; margin-bottom: 10px; text-align: right;\"><input class=\"check\" id=\"chkb\" onclick='location.href=\"/belepes\"; return false;' type=\"checkbox\"/> Figyelt kérdés</div>Napok óta próbálom hívni őket, hogy a halasztási lehetőségekről érdeklődjek, illetve a szakkollégiumi kérdéseim is lennének. Erre csicsk4 diszpécser csaj beleszól unottan, hogy \"JOOOL VAAAAN TOVÁBB KAPCSOLOM\", ásít, tovább kapcsol, aztán kicsöng és semmi, ez volt az első alkalom, másodszorra már fel se veszi, mármint a ügyintéző kiscsaj, biztos letiltotta a számom. Miért mindenki hülye ebben az országban? Rendesen kezdek undorodni az ELTE-től. Normálisan szeretnék érdeklődni és nem lehet, azóta ahová átirányított is próbáltam felhívni azzal a mellékkel, de sose veszik fel, egyszer sem. Pedig annál az egy alkalomnál mikor méltóztatott a kiscsaj felvenni, tök kedves és normális voltam, ő meg ok nélkül csicsk4 az elejétől kezdve? Azt hiszem megb4sztatom a dékánt, aztán pedig a rektort, a piszlicsáré, jelentéktelen messze az ő szintjük alatti kérdéseimmel. Igen, ez lesz a helyes út.<br/></div><br/><div class=\"kerdes_kulcsszo\"><span><a href=\"/kereses.php?keres=%C3%BCgyint%C3%A9z%C3%A9s\" title=\"ügyintézés\">#ügyintézés</a></span> <span><a href=\"/kereses.php?keres=ELTE\" title=\"ELTE\">#ELTE</a></span> <span><a href=\"/kereses.php?keres=BTK\" title=\"BTK\">#BTK</a></span> <span><a href=\"/kereses.php?keres=adminisztr%C3%A1ci%C3%B3\" title=\"adminisztráció\">#adminisztráció</a></span> <span><a href=\"/kereses.php?keres=szakkoll%C3%A9gium\" title=\"szakkollégium\">#szakkollégium</a></span> <span style=\"color: #666666;\" title=\"Ezt a kulcsszót még nem ellenőrizte moderátor, addig nem kattintható!\">#Hulladék ország</span></div><div class=\"flex kerdes_statusz\"><div title=\"A kérdés kiírásának időpontja\">febr. 20. 18:13</div></div></div>"
      ]
     },
     "execution_count": 430,
     "metadata": {},
     "output_type": "execute_result"
    }
   ],
   "source": [
    "elems[0]"
   ]
  },
  {
   "cell_type": "code",
   "execution_count": 431,
   "id": "1fd68664",
   "metadata": {
    "ExecuteTime": {
     "end_time": "2023-03-21T15:22:44.902765Z",
     "start_time": "2023-03-21T15:22:44.886900Z"
    }
   },
   "outputs": [
    {
     "data": {
      "text/plain": [
       "6"
      ]
     },
     "execution_count": 431,
     "metadata": {},
     "output_type": "execute_result"
    }
   ],
   "source": [
    "len(elems)"
   ]
  },
  {
   "cell_type": "markdown",
   "id": "72dd79c8",
   "metadata": {},
   "source": [
    "CSS selectorral"
   ]
  },
  {
   "cell_type": "code",
   "execution_count": 432,
   "id": "a9184d93",
   "metadata": {
    "ExecuteTime": {
     "end_time": "2023-03-21T15:22:58.929585Z",
     "start_time": "2023-03-21T15:22:58.885958Z"
    }
   },
   "outputs": [
    {
     "data": {
      "text/plain": [
       "[<div class=\"flex kerdeslista\" id=\"k12165689\" style=\"flex-wrap: nowrap;\"><div class=\"kerdes_normal\"></div><div class=\"kerdeslista_szoveg\"><a href=\"/kozoktatas-tanfolyamok__egyeb-kerdesek__12165689-a-budapesti-szakkollegiumokba-csak-akkor-jelentkezhetek-ha-az-adott-egyetemre-ja\">A budapesti szakkollégiumokba csak akkor jelentkezhetek ha az adott egyetemre járok?</a><br/><span class=\"kerdes_alatt\"><a class=\"kerdes_alatt\" href=\"/kozoktatas-tanfolyamok__egyeb-kerdesek\">Közoktatás, tanfolyamok » Egyéb kérdések</a></span></div><div class=\"kerdeslista_valasz\">1</div></div>,\n",
       " <div class=\"flex kerdeslista sor\" id=\"k12143277\" style=\"flex-wrap: nowrap;\"><div class=\"kerdes_normal\"></div><div class=\"kerdeslista_szoveg\"><a href=\"/kozoktatas-tanfolyamok__magyar-iskolak__12143277-miert-nem-veszik-fel-az-elte-btk-n-a-telefont\">Miért nem veszik fel az ELTE btk.-n a telefont?</a><br/><span class=\"kerdes_alatt\"><a class=\"kerdes_alatt\" href=\"/kozoktatas-tanfolyamok__magyar-iskolak\">Közoktatás, tanfolyamok » Magyar iskolák</a></span></div><div class=\"kerdeslista_valasz\">3</div></div>,\n",
       " <div class=\"flex kerdeslista\" id=\"k12104749\" style=\"flex-wrap: nowrap;\"><div class=\"kerdes_normal\"></div><div class=\"kerdeslista_szoveg\"><a href=\"/kozoktatas-tanfolyamok__egyeb-kerdesek__12104749-szakkollegiumi-tapasztalatok\">Szakkollégiumi tapasztalatok?</a><br/><span class=\"kerdes_alatt\"><a class=\"kerdes_alatt\" href=\"/kozoktatas-tanfolyamok__egyeb-kerdesek\">Közoktatás, tanfolyamok » Egyéb kérdések</a></span></div><div class=\"kerdeslista_valasz\">2</div></div>,\n",
       " <div class=\"flex kerdeslista sor\" id=\"k12090303\" style=\"flex-wrap: nowrap;\"><div class=\"kerdes_normal\"></div><div class=\"kerdeslista_szoveg\"><a href=\"/kozoktatas-tanfolyamok__tanulasi-lehetosegek__12090303-mit-kell-tudni-az-egyetemi-szakkollegiumokrol-pontosan-hogy-mukodik-mik-a-tags\">Mit kell tudni az egyetemi szakkollégiumokról? pontosan hogy működik, mik a tagsági feltételek, és mik kötelezettségek?</a><br/><span class=\"kerdes_alatt\"><a class=\"kerdes_alatt\" href=\"/kozoktatas-tanfolyamok__tanulasi-lehetosegek\">Közoktatás, tanfolyamok » Tanulási lehetőségek</a></span></div><div class=\"kerdeslista_valasz\">2</div></div>,\n",
       " <div class=\"flex kerdeslista\" id=\"k11913351\" style=\"flex-wrap: nowrap;\"><div class=\"kerdes_normal\"></div><div class=\"kerdeslista_szoveg\"><a href=\"/kozoktatas-tanfolyamok__magyar-iskolak__11913351-phd-skent-keso-szakkolegiumba-jelentkezni\">PhD-sként késő szakkolégiumba jelentkezni?</a><br/><span class=\"kerdes_alatt\"><a class=\"kerdes_alatt\" href=\"/kozoktatas-tanfolyamok__magyar-iskolak\">Közoktatás, tanfolyamok » Magyar iskolák</a></span></div><div class=\"kerdeslista_valasz\">0</div></div>,\n",
       " <div class=\"flex kerdeslista sor\" id=\"k11894807\" style=\"flex-wrap: nowrap;\"><div class=\"kerdes_normal\"></div><div class=\"kerdeslista_szoveg\"><a href=\"/kozoktatas-tanfolyamok__magyar-iskolak__11894807-miert-epp-a-harkaly-szerepel-az-elte-bibo-istvan-szakkollegium-logojabanbannere\">Miért épp a harkály szerepel az ELTE Bibó István Szakkollégium logójában/bannerében?</a><br/><span class=\"kerdes_alatt\"><a class=\"kerdes_alatt\" href=\"/kozoktatas-tanfolyamok__magyar-iskolak\">Közoktatás, tanfolyamok » Magyar iskolák</a></span></div><div class=\"kerdeslista_valasz\">0</div></div>,\n",
       " <div class=\"flex kerdeslista\" id=\"k11888739\" style=\"flex-wrap: nowrap;\"><div class=\"kerdes_normal\"></div><div class=\"kerdeslista_szoveg\"><a href=\"/kozoktatas-tanfolyamok__magyar-iskolak__11888739-a-benda-kalman-szakkollegium-felveteli-elbeszelgetesen-mi-varhato-milyen-kerdes\">A Benda Kálmán Szakkollégium felvételi elbeszélgetésén mi várható? Milyen kérdések? Milyen témák?</a><br/><span class=\"kerdes_alatt\"><a class=\"kerdes_alatt\" href=\"/kozoktatas-tanfolyamok__magyar-iskolak\">Közoktatás, tanfolyamok » Magyar iskolák</a></span></div><div class=\"kerdeslista_valasz\">0</div></div>,\n",
       " <div class=\"flex kerdeslista sor\" id=\"k11854503\" style=\"flex-wrap: nowrap;\"><div class=\"kerdes_normal\"></div><div class=\"kerdeslista_szoveg\"><a href=\"/kozoktatas-tanfolyamok__magyar-iskolak__11854503-mcc-mathias-corvinus-collegiumrol-velemeny\">MCC (mathias corvinus collégium)ról vélemény?</a><br/><span class=\"kerdes_alatt\"><a class=\"kerdes_alatt\" href=\"/kozoktatas-tanfolyamok__magyar-iskolak\">Közoktatás, tanfolyamok » Magyar iskolák</a></span></div><div class=\"kerdeslista_valasz\">3</div></div>,\n",
       " <div class=\"flex kerdeslista\" id=\"k11853338\" style=\"flex-wrap: nowrap;\"><div class=\"kerdes_normal\"></div><div class=\"kerdeslista_szoveg\"><a href=\"/kozoktatas-tanfolyamok__specialis-tanfolyamok__11853338-lenne-eselyem-szakkollegiumba\">Lenne esélyem szakkollégiumba?</a><br/><span class=\"kerdes_alatt\"><a class=\"kerdes_alatt\" href=\"/kozoktatas-tanfolyamok__specialis-tanfolyamok\">Közoktatás, tanfolyamok » Speciális tanfolyamok</a></span></div><div class=\"kerdeslista_valasz\">3</div></div>,\n",
       " <div class=\"flex kerdeslista sor\" id=\"k11851503\" style=\"flex-wrap: nowrap;\"><div class=\"kerdes_normal\"></div><div class=\"kerdeslista_szoveg\"><a href=\"/kozoktatas-tanfolyamok__magyar-iskolak__11851503-az-eotvos-jozsef-szakkollegiumra-kinek-van-eselye-bekerulni\">Az Eötvös József Szakkollégiumra kinek van esélye bekerülni?</a><br/><span class=\"kerdes_alatt\"><a class=\"kerdes_alatt\" href=\"/kozoktatas-tanfolyamok__magyar-iskolak\">Közoktatás, tanfolyamok » Magyar iskolák</a></span></div><div class=\"kerdeslista_valasz\">1</div></div>,\n",
       " <div class=\"flex kerdeslista\" id=\"k11837483\" style=\"flex-wrap: nowrap;\"><div class=\"kerdes_normal\"></div><div class=\"kerdeslista_szoveg\"><a href=\"/kozoktatas-tanfolyamok__magyar-iskolak__11837483-elte-szakkollegiumokrol-mit-lehet-tudni-hogyan-kell-jelentkezni\">ELTE szakkollégiumokról mit lehet tudni? Hogyan kell jelentkezni?</a><br/><span class=\"kerdes_alatt\"><a class=\"kerdes_alatt\" href=\"/kozoktatas-tanfolyamok__magyar-iskolak\">Közoktatás, tanfolyamok » Magyar iskolák</a></span></div><div class=\"kerdeslista_valasz\">3</div></div>,\n",
       " <div class=\"flex kerdeslista sor\" id=\"k11832490\" style=\"flex-wrap: nowrap;\"><div class=\"kerdes_normal\"></div><div class=\"kerdeslista_szoveg\"><a href=\"/kozoktatas-tanfolyamok__egyeb-kerdesek__11832490-melyiket-ajanlanatok-inkabb-az-elte-marton-aron-szakkollegiumot-vagy-az-erdos\">Melyiket ajánlanátok inkább, az ELTE Márton Áron Szakkollégiumot, vagy az Erdős Pál Kollégiumot?</a><br/><span class=\"kerdes_alatt\"><a class=\"kerdes_alatt\" href=\"/kozoktatas-tanfolyamok__egyeb-kerdesek\">Közoktatás, tanfolyamok » Egyéb kérdések</a></span></div><div class=\"kerdeslista_valasz\">1</div></div>,\n",
       " <div class=\"flex kerdeslista\" id=\"k11800923\" style=\"flex-wrap: nowrap;\"><div class=\"kerdes_normal\"></div><div class=\"kerdeslista_szoveg\"><a href=\"/kozoktatas-tanfolyamok__magyar-iskolak__11800923-az-elte-illyes-sandor-szakkollegiumaba-mennyire-nehez-bekerulni-golyakent\">Az ELTE Illyés Sándor Szakkollégiumába mennyire nehéz bekerülni gólyaként?</a><br/><span class=\"kerdes_alatt\"><a class=\"kerdes_alatt\" href=\"/kozoktatas-tanfolyamok__magyar-iskolak\">Közoktatás, tanfolyamok » Magyar iskolák</a></span></div><div class=\"kerdeslista_valasz\">1</div></div>,\n",
       " <div class=\"flex kerdeslista sor\" id=\"k11792228\" style=\"flex-wrap: nowrap;\"><div class=\"kerdes_normal\"></div><div class=\"kerdeslista_szoveg\"><a href=\"/kozoktatas-tanfolyamok__tanulasi-lehetosegek__11792228-elte-ik-programtervezo-informatikus-msc-velemenyek\">ELTE IK programtervező informatikus MSc vélemények?</a><br/><span class=\"kerdes_alatt\"><a class=\"kerdes_alatt\" href=\"/kozoktatas-tanfolyamok__tanulasi-lehetosegek\">Közoktatás, tanfolyamok » Tanulási lehetőségek</a></span></div><div class=\"kerdeslista_szavazas\" title=\"Szavazással bővített kérdés\"></div><div class=\"kerdeslista_valasz\" style=\"margin-left: 8px;\">2</div></div>,\n",
       " <div class=\"flex kerdeslista\" id=\"k11763442\" style=\"flex-wrap: nowrap;\"><div class=\"kerdes_normal\"></div><div class=\"kerdeslista_szoveg\"><a href=\"/kozoktatas-tanfolyamok__egyeb-kerdesek__11763442-elso-eves-egyetemistakent-is-jelentkezhetek-szakkoliba\">Első éves egyetemistaként is jelentkezhetek szakkoliba?</a><br/><span class=\"kerdes_alatt\"><a class=\"kerdes_alatt\" href=\"/kozoktatas-tanfolyamok__egyeb-kerdesek\">Közoktatás, tanfolyamok » Egyéb kérdések</a></span></div><div class=\"kerdeslista_valasz\">2</div></div>,\n",
       " <div class=\"flex kerdeslista sor\" id=\"k11699696\" style=\"flex-wrap: nowrap;\"><div class=\"kerdes_normal\"></div><div class=\"kerdeslista_szoveg\"><a href=\"/kozoktatas-tanfolyamok__egyeb-kerdesek__11699696-milyen-mindenkinek-elerheto-szakkolik-vannak-pesten\">Milyen mindenkinek elérhető szakkolik vannak Pesten?</a><br/><span class=\"kerdes_alatt\"><a class=\"kerdes_alatt\" href=\"/kozoktatas-tanfolyamok__egyeb-kerdesek\">Közoktatás, tanfolyamok » Egyéb kérdések</a></span></div><div class=\"kerdeslista_valasz\">2</div></div>,\n",
       " <div class=\"flex kerdeslista\" id=\"k11589033\" style=\"flex-wrap: nowrap;\"><div class=\"kerdes_normal\"></div><div class=\"kerdeslista_szoveg\"><a href=\"/kozoktatas-tanfolyamok__magyar-iskolak__11589033-mit-tudtok-a-navratil-akos-szakkollegiumrol\">Mit tudtok a Navratil Ákos szakkollégiumról?</a><br/><span class=\"kerdes_alatt\"><a class=\"kerdes_alatt\" href=\"/kozoktatas-tanfolyamok__magyar-iskolak\">Közoktatás, tanfolyamok » Magyar iskolák</a></span></div><div class=\"kerdeslista_valasz\">2</div></div>,\n",
       " <div class=\"flex kerdeslista sor\" id=\"k11554175\" style=\"flex-wrap: nowrap;\"><div class=\"kerdes_normal\"></div><div class=\"kerdeslista_szoveg\"><a href=\"/uzlet-es-penzugyek__karrier-fizetes__11554175-egyetem-mellett-minel-elobb-gyakornoki-munka-vagy-tanulni-amennyit-csak-lehet\">Egyetem mellett minél előbb gyakornoki munka, vagy tanulni, amennyit csak lehet?</a><br/><span class=\"kerdes_alatt\"><a class=\"kerdes_alatt\" href=\"/uzlet-es-penzugyek__karrier-fizetes\">Üzlet és pénzügyek » Karrier, fizetés</a></span></div><div class=\"kerdeslista_szavazas\" title=\"Szavazással bővített kérdés\"></div><div class=\"kerdeslista_valasz\" style=\"margin-left: 8px;\">14</div></div>,\n",
       " <div class=\"flex kerdeslista\" id=\"k11553419\" style=\"flex-wrap: nowrap;\"><div class=\"kerdes_normal\"></div><div class=\"kerdeslista_szoveg\"><a href=\"/kozoktatas-tanfolyamok__tanulasi-lehetosegek__11553419-szakkolegiumi-felvetel-hogy-mukodik-ha-valaki-csak-bejaros-es-nem-bentlakos-aka\">Szakkolégiumi felvétel hogy működik, ha valaki csak bejárós és nem bentlakós akar lenni?</a><br/><span class=\"kerdes_alatt\"><a class=\"kerdes_alatt\" href=\"/kozoktatas-tanfolyamok__tanulasi-lehetosegek\">Közoktatás, tanfolyamok » Tanulási lehetőségek</a></span></div><div class=\"kerdeslista_valasz\">2</div></div>,\n",
       " <div class=\"flex kerdeslista sor\" id=\"k11541072\" style=\"flex-wrap: nowrap;\"><div class=\"kerdes_normal\"></div><div class=\"kerdeslista_szoveg\"><a href=\"/kozoktatas-tanfolyamok__egyeb-kerdesek__11541072-ha-nagyon-jo-erettsegit-irok-de-nincsenek-versenyeredmenyeim-akkormeg-van-esel\">Ha nagyon jó érettségit írok, de nincsenek versenyeredményeim, akkormég van esély arra, hogy felvegyenek a Bolyai Kollégiumba (ELTE)?</a><br/><span class=\"kerdes_alatt\"><a class=\"kerdes_alatt\" href=\"/kozoktatas-tanfolyamok__egyeb-kerdesek\">Közoktatás, tanfolyamok » Egyéb kérdések</a></span></div><div class=\"kerdeslista_valasz\">3</div></div>,\n",
       " <div class=\"flex kerdeslista\" id=\"k11540555\" style=\"flex-wrap: nowrap;\"><div class=\"kerdes_normal\"></div><div class=\"kerdeslista_szoveg\"><a href=\"/kozoktatas-tanfolyamok__tanulasi-lehetosegek__11540555-velemenyek-az-elte-illyes-sandor-szakkollegiumarol\">Vélemények az ELTE Illyés Sándor Szakkollégiumáról?</a><br/><span class=\"kerdes_alatt\"><a class=\"kerdes_alatt\" href=\"/kozoktatas-tanfolyamok__tanulasi-lehetosegek\">Közoktatás, tanfolyamok » Tanulási lehetőségek</a></span></div><div class=\"kerdeslista_valasz\">2</div></div>,\n",
       " <div class=\"flex kerdeslista sor\" id=\"k11507308\" style=\"flex-wrap: nowrap;\"><div class=\"kerdes_normal\"></div><div class=\"kerdeslista_szoveg\"><a href=\"/kozoktatas-tanfolyamok__tanulasi-lehetosegek__11507308-velemenyek-az-eotvos-jozsef-collegiumrol\">Vélemények az Eötvös József Collegiumról?</a><br/><span class=\"kerdes_alatt\"><a class=\"kerdes_alatt\" href=\"/kozoktatas-tanfolyamok__tanulasi-lehetosegek\">Közoktatás, tanfolyamok » Tanulási lehetőségek</a></span></div><div class=\"kerdeslista_valasz\">1</div></div>,\n",
       " <div class=\"flex kerdeslista\" id=\"k11340462\" style=\"flex-wrap: nowrap;\"><div class=\"kerdes_normal\"></div><div class=\"kerdeslista_szoveg\"><a href=\"/kozoktatas-tanfolyamok__tanulasi-lehetosegek__11340462-milyen-szakkollegiumokat-ismertek-ahova-nem-csak-1-2-evben-lehet-jelentkezni-j\">Milyen szakkollégiumokat ismertek, ahova nem csak 1-2. évben lehet jelentkezni jogász szakos hallgatóként?</a><br/><span class=\"kerdes_alatt\"><a class=\"kerdes_alatt\" href=\"/kozoktatas-tanfolyamok__tanulasi-lehetosegek\">Közoktatás, tanfolyamok » Tanulási lehetőségek</a></span></div><div class=\"kerdeslista_valasz\">0</div></div>,\n",
       " <div class=\"flex kerdeslista sor\" id=\"k11327958\" style=\"flex-wrap: nowrap;\"><div class=\"kerdes_normal\"></div><div class=\"kerdeslista_szoveg\"><a href=\"/kozoktatas-tanfolyamok__tanulasi-lehetosegek__11327958-szerintetek-melyik-corvinusos-szakkoli-a-legjobb\">Szerintetek melyik Corvinusos szakkoli a legjobb?</a><br/><span class=\"kerdes_alatt\"><a class=\"kerdes_alatt\" href=\"/kozoktatas-tanfolyamok__tanulasi-lehetosegek\">Közoktatás, tanfolyamok » Tanulási lehetőségek</a></span></div><div class=\"kerdeslista_szavazas\" title=\"Szavazással bővített kérdés\"></div><div class=\"kerdeslista_valasz\" style=\"margin-left: 8px;\">1</div></div>]"
      ]
     },
     "execution_count": 432,
     "metadata": {},
     "output_type": "execute_result"
    }
   ],
   "source": [
    "soup.select(\"div.kerdeslista\")"
   ]
  },
  {
   "cell_type": "markdown",
   "id": "8f470807",
   "metadata": {},
   "source": [
    "# Scraping"
   ]
  },
  {
   "cell_type": "markdown",
   "id": "b0f83789",
   "metadata": {},
   "source": [
    "## Linkek begyűjtése\n",
    "\n",
    "Ahhoz hogy be tudjuk gyűjteni a hozzászólásokat, először meg kéne tudni mondani, hogy pontosan hány ilyen kérdés volt és azokat milyen linken lehet elérni.\n",
    "\n",
    "**Segítség:**  \n",
    "Ilyenkor elég végig iterálni az oldalakon és begyűjteni minden linket!"
   ]
  },
  {
   "cell_type": "markdown",
   "id": "eef36812",
   "metadata": {},
   "source": [
    "Ha megnyitod a második oldalt, akkor látszik, hogy az URL az alábbira változik:  \n",
    "https://www.gyakorikerdesek.hu/kereses.php?keres=szakkoll%C3%A9gium&oldal=2\n",
    "\n",
    "Tehát ebből már sejthető, hogy az URL végén az `oldal=2` mondja majd meg, hogy hanyadik oldalon vagyunk jelenleg. Ez egyébként gyakorta így van, mivel az úgynevezett [query stringet](https://en.wikipedia.org/wiki/Query_string) hasznják a legtöbbször."
   ]
  },
  {
   "cell_type": "markdown",
   "id": "dcbff7fa",
   "metadata": {},
   "source": [
    "A query stringek a `request.get` methodnál könnyen megadhatóak egy dictionary-vel:"
   ]
  },
  {
   "cell_type": "code",
   "execution_count": 434,
   "id": "6ae7282a",
   "metadata": {
    "ExecuteTime": {
     "end_time": "2023-03-21T15:26:04.874634Z",
     "start_time": "2023-03-21T15:26:04.729850Z"
    }
   },
   "outputs": [],
   "source": [
    "resp = requests.get(url=URL, params={\"oldal\": 2})"
   ]
  },
  {
   "cell_type": "code",
   "execution_count": 435,
   "id": "17ee33d2",
   "metadata": {
    "ExecuteTime": {
     "end_time": "2023-03-21T15:26:11.446859Z",
     "start_time": "2023-03-21T15:26:11.414635Z"
    }
   },
   "outputs": [
    {
     "data": {
      "text/plain": [
       "'https://www.gyakorikerdesek.hu/kereses.php?keres=szakkoll%C3%A9gium&oldal=2'"
      ]
     },
     "execution_count": 435,
     "metadata": {},
     "output_type": "execute_result"
    }
   ],
   "source": [
    "resp.url"
   ]
  },
  {
   "cell_type": "markdown",
   "id": "dba1279a",
   "metadata": {},
   "source": [
    "Az egyszerűség kedvéért itt egy függvényt, ami a requestet és a parseolást egyben elvégzi."
   ]
  },
  {
   "cell_type": "code",
   "execution_count": 436,
   "id": "d2ac0d6e",
   "metadata": {
    "ExecuteTime": {
     "end_time": "2023-03-21T15:26:38.912250Z",
     "start_time": "2023-03-21T15:26:38.887801Z"
    }
   },
   "outputs": [],
   "source": [
    "def get_soup(url: str, params: dict = None):\n",
    "    resp = requests.get(url=url, params=params)\n",
    "    resp.raise_for_status()\n",
    "    return BeautifulSoup(resp.content, \"html5lib\")"
   ]
  },
  {
   "cell_type": "markdown",
   "id": "1a28924f",
   "metadata": {},
   "source": [
    "### Oldalak száma"
   ]
  },
  {
   "cell_type": "markdown",
   "id": "c184acdd",
   "metadata": {},
   "source": [
    "Már csak azt kéne megtudni, hogy összesen hány oldal lehet.\n",
    "\n",
    "Ha ránézel az oldalra, látod, hogy gombokkal lehet váltani oldalakat. Ez szuper, mert akkor valószínűleg a HTML-ben is nyoma van ennek. Még látványosabb, hogy az utolsó gomb mindig az utolsó oldalra vezet, tehát nekünk erre lesz majd szükségünk."
   ]
  },
  {
   "cell_type": "markdown",
   "id": "9801fd84",
   "metadata": {},
   "source": [
    "Ezt az utolsó elemet egy `div` tárolja, aminek `oldalszamok` a class-e. Ezen belül pedig `a` elemek reprezentálják a gombokat."
   ]
  },
  {
   "cell_type": "code",
   "execution_count": 438,
   "id": "0518a9d4",
   "metadata": {
    "ExecuteTime": {
     "end_time": "2023-03-21T15:27:53.431080Z",
     "start_time": "2023-03-21T15:27:53.382584Z"
    }
   },
   "outputs": [
    {
     "data": {
      "text/plain": [
       "[<a href=\"/kereses.php?keres=szakkoll%C3%A9gium&amp;oldal=2\" title=\"szakkollégium 2.\">2</a>,\n",
       " <a href=\"/kereses.php?keres=szakkoll%C3%A9gium&amp;oldal=3\" title=\"szakkollégium 3.\">3</a>,\n",
       " <a href=\"/kereses.php?keres=szakkoll%C3%A9gium&amp;oldal=4\" title=\"szakkollégium 4.\">4</a>,\n",
       " <a href=\"/kereses.php?keres=szakkoll%C3%A9gium&amp;oldal=5\" title=\"szakkollégium 5.\">5</a>,\n",
       " <a href=\"/kereses.php?keres=szakkoll%C3%A9gium&amp;oldal=6\" title=\"szakkollégium 6.\">6</a>,\n",
       " <a href=\"/kereses.php?keres=szakkoll%C3%A9gium&amp;oldal=7\" title=\"szakkollégium 7.\">7</a>,\n",
       " <a href=\"/kereses.php?keres=szakkoll%C3%A9gium&amp;oldal=8\" title=\"szakkollégium 8.\">8</a>,\n",
       " <a href=\"/kereses.php?keres=szakkoll%C3%A9gium&amp;oldal=9\" title=\"szakkollégium 9.\">9</a>,\n",
       " <a href=\"/kereses.php?keres=szakkoll%C3%A9gium&amp;oldal=10\" title=\"szakkollégium 10.\">10</a>,\n",
       " <a href=\"/kereses.php?keres=szakkoll%C3%A9gium&amp;oldal=2\" title=\"szakkollégium 2.\">❯</a>,\n",
       " <a href=\"/kereses.php?keres=szakkoll%C3%A9gium&amp;oldal=10\" title=\"szakkollégium 10.\">❯❯</a>,\n",
       " <a href=\"/kereses.php?keres=szakkoll%C3%A9gium&amp;oldal=2\" title=\"szakkollégium 2.\">2</a>,\n",
       " <a href=\"/kereses.php?keres=szakkoll%C3%A9gium&amp;oldal=3\" title=\"szakkollégium 3.\">3</a>,\n",
       " <a href=\"/kereses.php?keres=szakkoll%C3%A9gium&amp;oldal=4\" title=\"szakkollégium 4.\">4</a>,\n",
       " <a href=\"/kereses.php?keres=szakkoll%C3%A9gium&amp;oldal=5\" title=\"szakkollégium 5.\">5</a>,\n",
       " <a href=\"/kereses.php?keres=szakkoll%C3%A9gium&amp;oldal=6\" title=\"szakkollégium 6.\">6</a>,\n",
       " <a href=\"/kereses.php?keres=szakkoll%C3%A9gium&amp;oldal=7\" title=\"szakkollégium 7.\">7</a>,\n",
       " <a href=\"/kereses.php?keres=szakkoll%C3%A9gium&amp;oldal=8\" title=\"szakkollégium 8.\">8</a>,\n",
       " <a href=\"/kereses.php?keres=szakkoll%C3%A9gium&amp;oldal=9\" title=\"szakkollégium 9.\">9</a>,\n",
       " <a href=\"/kereses.php?keres=szakkoll%C3%A9gium&amp;oldal=10\" title=\"szakkollégium 10.\">10</a>,\n",
       " <a href=\"/kereses.php?keres=szakkoll%C3%A9gium&amp;oldal=2\" title=\"szakkollégium 2.\">❯</a>,\n",
       " <a href=\"/kereses.php?keres=szakkoll%C3%A9gium&amp;oldal=10\" title=\"szakkollégium 10.\">❯❯</a>]"
      ]
     },
     "execution_count": 438,
     "metadata": {},
     "output_type": "execute_result"
    }
   ],
   "source": [
    "soup.select(\"div.oldalszamok a\")"
   ]
  },
  {
   "cell_type": "markdown",
   "id": "bc8320e1",
   "metadata": {},
   "source": [
    "Látszik, hogy a tetején és az alján is vannak ilyen gombok, de ez nem gond, mert az utolsó elég lesz."
   ]
  },
  {
   "cell_type": "code",
   "execution_count": 439,
   "id": "50d908fa",
   "metadata": {
    "ExecuteTime": {
     "end_time": "2023-03-21T15:28:36.641208Z",
     "start_time": "2023-03-21T15:28:36.592601Z"
    }
   },
   "outputs": [
    {
     "data": {
      "text/plain": [
       "<a href=\"/kereses.php?keres=szakkoll%C3%A9gium&amp;oldal=10\" title=\"szakkollégium 10.\">❯❯</a>"
      ]
     },
     "execution_count": 439,
     "metadata": {},
     "output_type": "execute_result"
    }
   ],
   "source": [
    "elem = soup.select(\"div.oldalszamok a\")[-1]\n",
    "elem"
   ]
  },
  {
   "cell_type": "markdown",
   "id": "12f6910b",
   "metadata": {
    "ExecuteTime": {
     "end_time": "2022-11-29T10:29:05.859788Z",
     "start_time": "2022-11-29T10:29:05.837378Z"
    }
   },
   "source": [
    "Ez az az elem, most szedjük ki belőle a releváns információt. A `href` attribútum fogja ez tárolni egy link formájában.\n",
    "\n",
    "Ezt a `soup.get` methoddal lehet kiszedni."
   ]
  },
  {
   "cell_type": "code",
   "execution_count": 440,
   "id": "361774ec",
   "metadata": {
    "ExecuteTime": {
     "end_time": "2023-03-21T15:28:59.653754Z",
     "start_time": "2023-03-21T15:28:59.633541Z"
    }
   },
   "outputs": [
    {
     "data": {
      "text/plain": [
       "'/kereses.php?keres=szakkoll%C3%A9gium&oldal=10'"
      ]
     },
     "execution_count": 440,
     "metadata": {},
     "output_type": "execute_result"
    }
   ],
   "source": [
    "last_url = elem.get(\"href\")\n",
    "last_url"
   ]
  },
  {
   "cell_type": "markdown",
   "id": "c22529cd",
   "metadata": {},
   "source": [
    "Végül szedjük ki a string végéről a számot"
   ]
  },
  {
   "cell_type": "code",
   "execution_count": 47,
   "id": "ab8c22e4",
   "metadata": {
    "ExecuteTime": {
     "end_time": "2023-03-21T13:13:19.313148Z",
     "start_time": "2023-03-21T13:13:19.287894Z"
    }
   },
   "outputs": [
    {
     "data": {
      "text/plain": [
       "10"
      ]
     },
     "execution_count": 47,
     "metadata": {},
     "output_type": "execute_result"
    }
   ],
   "source": [
    "int(last_url.split(\"=\")[-1])"
   ]
  },
  {
   "cell_type": "markdown",
   "id": "46ab874a",
   "metadata": {},
   "source": [
    "Az egész egy függvényben:"
   ]
  },
  {
   "cell_type": "code",
   "execution_count": 441,
   "id": "dc61683c",
   "metadata": {
    "ExecuteTime": {
     "end_time": "2023-03-21T15:29:40.183895Z",
     "start_time": "2023-03-21T15:29:40.167313Z"
    }
   },
   "outputs": [],
   "source": [
    "def get_last_page(url: str):\n",
    "    soup = get_soup(url=url)\n",
    "    last_elem = elem = soup.select(\"div.oldalszamok a\")[-1]\n",
    "    last_url = last_elem.get(\"href\")\n",
    "    return int(last_url.split(\"=\")[-1])"
   ]
  },
  {
   "cell_type": "code",
   "execution_count": 442,
   "id": "0f9d8f4e",
   "metadata": {
    "ExecuteTime": {
     "end_time": "2023-03-21T15:29:41.851594Z",
     "start_time": "2023-03-21T15:29:41.618709Z"
    },
    "scrolled": false
   },
   "outputs": [
    {
     "data": {
      "text/plain": [
       "10"
      ]
     },
     "execution_count": 442,
     "metadata": {},
     "output_type": "execute_result"
    }
   ],
   "source": [
    "get_last_page(url=URL)"
   ]
  },
  {
   "cell_type": "markdown",
   "id": "d79dff98",
   "metadata": {},
   "source": [
    "### URL tábla összeállítása"
   ]
  },
  {
   "cell_type": "markdown",
   "id": "5eefbc64",
   "metadata": {},
   "source": [
    "Korábban már láttuk, hogy így néz ki egy kérdés"
   ]
  },
  {
   "cell_type": "code",
   "execution_count": 443,
   "id": "ff5ebbc3",
   "metadata": {
    "ExecuteTime": {
     "end_time": "2023-03-21T15:30:45.084461Z",
     "start_time": "2023-03-21T15:30:45.054368Z"
    }
   },
   "outputs": [
    {
     "name": "stdout",
     "output_type": "stream",
     "text": [
      "<div class=\"flex kerdeslista\" id=\"k12165689\" style=\"flex-wrap: nowrap;\">\n",
      " <div class=\"kerdes_normal\">\n",
      " </div>\n",
      " <div class=\"kerdeslista_szoveg\">\n",
      "  <a href=\"/kozoktatas-tanfolyamok__egyeb-kerdesek__12165689-a-budapesti-szakkollegiumokba-csak-akkor-jelentkezhetek-ha-az-adott-egyetemre-ja\">\n",
      "   A budapesti szakkollégiumokba csak akkor jelentkezhetek ha az adott egyetemre járok?\n",
      "  </a>\n",
      "  <br/>\n",
      "  <span class=\"kerdes_alatt\">\n",
      "   <a class=\"kerdes_alatt\" href=\"/kozoktatas-tanfolyamok__egyeb-kerdesek\">\n",
      "    Közoktatás, tanfolyamok » Egyéb kérdések\n",
      "   </a>\n",
      "  </span>\n",
      " </div>\n",
      " <div class=\"kerdeslista_valasz\">\n",
      "  1\n",
      " </div>\n",
      "</div>\n",
      "\n"
     ]
    }
   ],
   "source": [
    "elem = soup.select(\"div.kerdeslista\")[0]\n",
    "print(elem.prettify())"
   ]
  },
  {
   "cell_type": "markdown",
   "id": "8d133fe9",
   "metadata": {},
   "source": [
    "Nekünk ebből az **id**, a **szöveg** és az **url** fog kelleni."
   ]
  },
  {
   "cell_type": "code",
   "execution_count": 444,
   "id": "02584c7e",
   "metadata": {
    "ExecuteTime": {
     "end_time": "2023-03-21T15:30:54.653438Z",
     "start_time": "2023-03-21T15:30:54.630455Z"
    }
   },
   "outputs": [
    {
     "data": {
      "text/plain": [
       "'k12165689'"
      ]
     },
     "execution_count": 444,
     "metadata": {},
     "output_type": "execute_result"
    }
   ],
   "source": [
    "elem.get(\"id\")"
   ]
  },
  {
   "cell_type": "code",
   "execution_count": 445,
   "id": "c62915ba",
   "metadata": {
    "ExecuteTime": {
     "end_time": "2023-03-21T15:31:13.685740Z",
     "start_time": "2023-03-21T15:31:13.669854Z"
    }
   },
   "outputs": [
    {
     "data": {
      "text/plain": [
       "'/kozoktatas-tanfolyamok__egyeb-kerdesek__12165689-a-budapesti-szakkollegiumokba-csak-akkor-jelentkezhetek-ha-az-adott-egyetemre-ja'"
      ]
     },
     "execution_count": 445,
     "metadata": {},
     "output_type": "execute_result"
    }
   ],
   "source": [
    "elem.select_one(\"div.kerdeslista_szoveg a\").get(\"href\")"
   ]
  },
  {
   "cell_type": "markdown",
   "id": "1f87eea0",
   "metadata": {
    "ExecuteTime": {
     "end_time": "2022-11-29T10:38:01.650023Z",
     "start_time": "2022-11-29T10:38:01.625533Z"
    }
   },
   "source": [
    "A szöveget a `soup.get_text` methoddal tudjátok kinyerni. A strip paraméter megadja, hogy levágja-e a felesleges karaktereket a string két oldaláról."
   ]
  },
  {
   "cell_type": "code",
   "execution_count": 446,
   "id": "6657bfd5",
   "metadata": {
    "ExecuteTime": {
     "end_time": "2023-03-21T15:31:48.581093Z",
     "start_time": "2023-03-21T15:31:48.556351Z"
    }
   },
   "outputs": [
    {
     "data": {
      "text/plain": [
       "'A budapesti szakkollégiumokba csak akkor jelentkezhetek ha az adott egyetemre járok?'"
      ]
     },
     "execution_count": 446,
     "metadata": {},
     "output_type": "execute_result"
    }
   ],
   "source": [
    "elem.select_one(\"div.kerdeslista_szoveg a\").get_text(strip=True)"
   ]
  },
  {
   "cell_type": "markdown",
   "id": "348148e5",
   "metadata": {},
   "source": [
    "Egyben az egész egy függvényként"
   ]
  },
  {
   "cell_type": "code",
   "execution_count": 447,
   "id": "62120b74",
   "metadata": {
    "ExecuteTime": {
     "end_time": "2023-03-21T15:32:00.587585Z",
     "start_time": "2023-03-21T15:32:00.563860Z"
    }
   },
   "outputs": [],
   "source": [
    "def _parse_listing_elem(elem):\n",
    "    return {\n",
    "        \"id\": elem.get(\"id\"),\n",
    "        \"url\": elem.select_one(\"div.kerdeslista_szoveg a\").get(\"href\"),\n",
    "        \"question\": elem.select_one(\"div.kerdeslista_szoveg a\").get_text(strip=True),\n",
    "    }"
   ]
  },
  {
   "cell_type": "code",
   "execution_count": 448,
   "id": "78694f9a",
   "metadata": {
    "ExecuteTime": {
     "end_time": "2023-03-21T15:32:04.237135Z",
     "start_time": "2023-03-21T15:32:04.215107Z"
    }
   },
   "outputs": [
    {
     "data": {
      "text/plain": [
       "{'id': 'k12165689',\n",
       " 'url': '/kozoktatas-tanfolyamok__egyeb-kerdesek__12165689-a-budapesti-szakkollegiumokba-csak-akkor-jelentkezhetek-ha-az-adott-egyetemre-ja',\n",
       " 'question': 'A budapesti szakkollégiumokba csak akkor jelentkezhetek ha az adott egyetemre járok?'}"
      ]
     },
     "execution_count": 448,
     "metadata": {},
     "output_type": "execute_result"
    }
   ],
   "source": [
    "_parse_listing_elem(elem)"
   ]
  },
  {
   "cell_type": "markdown",
   "id": "18bf3a69",
   "metadata": {},
   "source": [
    "Most csináljunk egy függvényt egy oldal összers kérdésének kinyerésére is."
   ]
  },
  {
   "cell_type": "code",
   "execution_count": 449,
   "id": "d6f87b5f",
   "metadata": {
    "ExecuteTime": {
     "end_time": "2023-03-21T15:33:22.755765Z",
     "start_time": "2023-03-21T15:33:22.732408Z"
    }
   },
   "outputs": [],
   "source": [
    "def parse_listing_page(soup):\n",
    "    return [_parse_listing_elem(elem) for elem in soup.select(\"div.kerdeslista\")]"
   ]
  },
  {
   "cell_type": "code",
   "execution_count": 450,
   "id": "e4f3ef48",
   "metadata": {
    "ExecuteTime": {
     "end_time": "2023-03-21T15:33:25.124726Z",
     "start_time": "2023-03-21T15:33:25.084095Z"
    }
   },
   "outputs": [
    {
     "data": {
      "text/plain": [
       "[{'id': 'k12165689',\n",
       "  'url': '/kozoktatas-tanfolyamok__egyeb-kerdesek__12165689-a-budapesti-szakkollegiumokba-csak-akkor-jelentkezhetek-ha-az-adott-egyetemre-ja',\n",
       "  'question': 'A budapesti szakkollégiumokba csak akkor jelentkezhetek ha az adott egyetemre járok?'},\n",
       " {'id': 'k12143277',\n",
       "  'url': '/kozoktatas-tanfolyamok__magyar-iskolak__12143277-miert-nem-veszik-fel-az-elte-btk-n-a-telefont',\n",
       "  'question': 'Miért nem veszik fel az ELTE btk.-n a telefont?'},\n",
       " {'id': 'k12104749',\n",
       "  'url': '/kozoktatas-tanfolyamok__egyeb-kerdesek__12104749-szakkollegiumi-tapasztalatok',\n",
       "  'question': 'Szakkollégiumi tapasztalatok?'},\n",
       " {'id': 'k12090303',\n",
       "  'url': '/kozoktatas-tanfolyamok__tanulasi-lehetosegek__12090303-mit-kell-tudni-az-egyetemi-szakkollegiumokrol-pontosan-hogy-mukodik-mik-a-tags',\n",
       "  'question': 'Mit kell tudni az egyetemi szakkollégiumokról? pontosan hogy működik, mik a tagsági feltételek, és mik kötelezettségek?'},\n",
       " {'id': 'k11913351',\n",
       "  'url': '/kozoktatas-tanfolyamok__magyar-iskolak__11913351-phd-skent-keso-szakkolegiumba-jelentkezni',\n",
       "  'question': 'PhD-sként késő szakkolégiumba jelentkezni?'}]"
      ]
     },
     "execution_count": 450,
     "metadata": {},
     "output_type": "execute_result"
    }
   ],
   "source": [
    "parse_listing_page(soup)[:5]"
   ]
  },
  {
   "cell_type": "markdown",
   "id": "15be42b7",
   "metadata": {},
   "source": [
    "És végül így már végig tudunk iterálni az összes oldalon."
   ]
  },
  {
   "cell_type": "code",
   "execution_count": 453,
   "id": "f60070ed",
   "metadata": {
    "ExecuteTime": {
     "end_time": "2023-03-21T15:34:10.517708Z",
     "start_time": "2023-03-21T15:34:10.277856Z"
    }
   },
   "outputs": [
    {
     "data": {
      "text/plain": [
       "[1, 2, 3, 4, 5, 6, 7, 8, 9, 10]"
      ]
     },
     "execution_count": 453,
     "metadata": {},
     "output_type": "execute_result"
    }
   ],
   "source": [
    "pages = list(range(1, get_last_page(url=URL) + 1))\n",
    "pages"
   ]
  },
  {
   "cell_type": "code",
   "execution_count": 454,
   "id": "8566a089",
   "metadata": {
    "ExecuteTime": {
     "end_time": "2023-03-21T15:34:54.411584Z",
     "start_time": "2023-03-21T15:34:52.863132Z"
    }
   },
   "outputs": [
    {
     "name": "stderr",
     "output_type": "stream",
     "text": [
      "100%|██████████| 10/10 [00:01<00:00,  6.63it/s]\n"
     ]
    }
   ],
   "source": [
    "listing_recs = []\n",
    "for page in tqdm(pages):\n",
    "    soup = get_soup(url=URL, params={\"oldal\": page})\n",
    "    listing_recs.extend(parse_listing_page(soup=soup))"
   ]
  },
  {
   "cell_type": "markdown",
   "id": "65b940e3",
   "metadata": {
    "ExecuteTime": {
     "end_time": "2022-11-29T10:47:03.756165Z",
     "start_time": "2022-11-29T10:47:03.716214Z"
    }
   },
   "source": [
    "Beolvasás `DataFrame`-be."
   ]
  },
  {
   "cell_type": "code",
   "execution_count": 456,
   "id": "3bab3f67",
   "metadata": {
    "ExecuteTime": {
     "end_time": "2023-03-21T15:35:21.594882Z",
     "start_time": "2023-03-21T15:35:21.578583Z"
    }
   },
   "outputs": [],
   "source": [
    "df_listing = pd.DataFrame(listing_recs)"
   ]
  },
  {
   "cell_type": "code",
   "execution_count": 457,
   "id": "d5cf2f29",
   "metadata": {
    "ExecuteTime": {
     "end_time": "2023-03-21T15:35:23.079571Z",
     "start_time": "2023-03-21T15:35:23.039899Z"
    }
   },
   "outputs": [
    {
     "data": {
      "text/html": [
       "<div>\n",
       "<style scoped>\n",
       "    .dataframe tbody tr th:only-of-type {\n",
       "        vertical-align: middle;\n",
       "    }\n",
       "\n",
       "    .dataframe tbody tr th {\n",
       "        vertical-align: top;\n",
       "    }\n",
       "\n",
       "    .dataframe thead th {\n",
       "        text-align: right;\n",
       "    }\n",
       "</style>\n",
       "<table border=\"1\" class=\"dataframe\">\n",
       "  <thead>\n",
       "    <tr style=\"text-align: right;\">\n",
       "      <th></th>\n",
       "      <th>id</th>\n",
       "      <th>url</th>\n",
       "      <th>question</th>\n",
       "    </tr>\n",
       "  </thead>\n",
       "  <tbody>\n",
       "    <tr>\n",
       "      <th>0</th>\n",
       "      <td>k12165689</td>\n",
       "      <td>/kozoktatas-tanfolyamok__egyeb-kerdesek__12165...</td>\n",
       "      <td>A budapesti szakkollégiumokba csak akkor jelen...</td>\n",
       "    </tr>\n",
       "    <tr>\n",
       "      <th>1</th>\n",
       "      <td>k12143277</td>\n",
       "      <td>/kozoktatas-tanfolyamok__magyar-iskolak__12143...</td>\n",
       "      <td>Miért nem veszik fel az ELTE btk.-n a telefont?</td>\n",
       "    </tr>\n",
       "    <tr>\n",
       "      <th>2</th>\n",
       "      <td>k12104749</td>\n",
       "      <td>/kozoktatas-tanfolyamok__egyeb-kerdesek__12104...</td>\n",
       "      <td>Szakkollégiumi tapasztalatok?</td>\n",
       "    </tr>\n",
       "    <tr>\n",
       "      <th>3</th>\n",
       "      <td>k12090303</td>\n",
       "      <td>/kozoktatas-tanfolyamok__tanulasi-lehetosegek_...</td>\n",
       "      <td>Mit kell tudni az egyetemi szakkollégiumokról?...</td>\n",
       "    </tr>\n",
       "    <tr>\n",
       "      <th>4</th>\n",
       "      <td>k11913351</td>\n",
       "      <td>/kozoktatas-tanfolyamok__magyar-iskolak__11913...</td>\n",
       "      <td>PhD-sként késő szakkolégiumba jelentkezni?</td>\n",
       "    </tr>\n",
       "  </tbody>\n",
       "</table>\n",
       "</div>"
      ],
      "text/plain": [
       "          id                                                url  \\\n",
       "0  k12165689  /kozoktatas-tanfolyamok__egyeb-kerdesek__12165...   \n",
       "1  k12143277  /kozoktatas-tanfolyamok__magyar-iskolak__12143...   \n",
       "2  k12104749  /kozoktatas-tanfolyamok__egyeb-kerdesek__12104...   \n",
       "3  k12090303  /kozoktatas-tanfolyamok__tanulasi-lehetosegek_...   \n",
       "4  k11913351  /kozoktatas-tanfolyamok__magyar-iskolak__11913...   \n",
       "\n",
       "                                            question  \n",
       "0  A budapesti szakkollégiumokba csak akkor jelen...  \n",
       "1    Miért nem veszik fel az ELTE btk.-n a telefont?  \n",
       "2                      Szakkollégiumi tapasztalatok?  \n",
       "3  Mit kell tudni az egyetemi szakkollégiumokról?...  \n",
       "4         PhD-sként késő szakkolégiumba jelentkezni?  "
      ]
     },
     "execution_count": 457,
     "metadata": {},
     "output_type": "execute_result"
    }
   ],
   "source": [
    "df_listing.head(5)"
   ]
  },
  {
   "cell_type": "markdown",
   "id": "c0105d12",
   "metadata": {},
   "source": [
    "## Szövegek kiszedése"
   ]
  },
  {
   "cell_type": "code",
   "execution_count": 458,
   "id": "8d0afe7c",
   "metadata": {
    "ExecuteTime": {
     "end_time": "2023-03-21T15:40:50.896793Z",
     "start_time": "2023-03-21T15:40:50.874309Z"
    }
   },
   "outputs": [
    {
     "data": {
      "text/plain": [
       "'/kozoktatas-tanfolyamok__egyeb-kerdesek__12165689-a-budapesti-szakkollegiumokba-csak-akkor-jelentkezhetek-ha-az-adott-egyetemre-ja'"
      ]
     },
     "execution_count": 458,
     "metadata": {},
     "output_type": "execute_result"
    }
   ],
   "source": [
    "listing_recs[0][\"url\"]"
   ]
  },
  {
   "cell_type": "markdown",
   "id": "31cb7e7f",
   "metadata": {},
   "source": [
    "Ilyen URL-eket kaptunk a korábbi lépésben. Ezeket úgy kell értelmezni, hogy az alap URL (https://www.gyakorikerdesek.hu) utáni részt jelölik:\n",
    "https://www.gyakorikerdesek.hu/kozoktatas-tanfolyamok__magyar-iskolak__11913351-phd-skent-keso-szakkolegiumba-jelentkezni"
   ]
  },
  {
   "cell_type": "code",
   "execution_count": 460,
   "id": "7486035b",
   "metadata": {
    "ExecuteTime": {
     "end_time": "2023-03-21T15:41:21.098354Z",
     "start_time": "2023-03-21T15:41:21.073904Z"
    }
   },
   "outputs": [
    {
     "data": {
      "text/plain": [
       "'https://www.gyakorikerdesek.hu/kozoktatas-tanfolyamok__egyeb-kerdesek__12165689-a-budapesti-szakkollegiumokba-csak-akkor-jelentkezhetek-ha-az-adott-egyetemre-ja'"
      ]
     },
     "execution_count": 460,
     "metadata": {},
     "output_type": "execute_result"
    }
   ],
   "source": [
    "BASE_URL = \"https://www.gyakorikerdesek.hu\"\n",
    "BASE_URL + listing_recs[0][\"url\"]"
   ]
  },
  {
   "cell_type": "markdown",
   "id": "3cad60af",
   "metadata": {},
   "source": [
    "### Parsing függvények"
   ]
  },
  {
   "cell_type": "markdown",
   "id": "738ded7d",
   "metadata": {},
   "source": [
    "Nézzünk meg jobban egy oldalt. A szövegeket a `kerdes_kerdes` vagy `valasz_valasz` class-el rendelkező `div` elemek tartalmazzák."
   ]
  },
  {
   "cell_type": "code",
   "execution_count": 463,
   "id": "c994d59b",
   "metadata": {
    "ExecuteTime": {
     "end_time": "2023-03-21T15:43:10.221283Z",
     "start_time": "2023-03-21T15:43:09.957300Z"
    }
   },
   "outputs": [],
   "source": [
    "soup = get_soup(url=BASE_URL + listing_recs[1][\"url\"])"
   ]
  },
  {
   "cell_type": "markdown",
   "id": "8186e6c2",
   "metadata": {},
   "source": [
    "Válasszuk ki a megfelelő elemeket. A CSS selectorban a vessző az uniót jelöli."
   ]
  },
  {
   "cell_type": "code",
   "execution_count": 464,
   "id": "aba8aefe",
   "metadata": {
    "ExecuteTime": {
     "end_time": "2023-03-21T15:43:11.899049Z",
     "start_time": "2023-03-21T15:43:11.872364Z"
    }
   },
   "outputs": [],
   "source": [
    "elems = soup.select(\"div.kerdes, div.valasz\")"
   ]
  },
  {
   "cell_type": "markdown",
   "id": "8a8f1427",
   "metadata": {},
   "source": [
    "Nézzünk meg egy ilyen elemet."
   ]
  },
  {
   "cell_type": "code",
   "execution_count": 465,
   "id": "d51d0466",
   "metadata": {
    "ExecuteTime": {
     "end_time": "2023-03-21T15:43:22.297317Z",
     "start_time": "2023-03-21T15:43:22.272341Z"
    },
    "scrolled": true
   },
   "outputs": [
    {
     "name": "stdout",
     "output_type": "stream",
     "text": [
      "<div class=\"valasz\" id=\"valasz-75983453\">\n",
      " <div class=\"valasz_fejlec\">\n",
      "  1/4\n",
      "  <span class=\"anonim\">\n",
      "   anonim\n",
      "  </span>\n",
      "  <span class=\"vsz\">\n",
      "   <img alt=\"*\" src=\"//static.gyakorikerdesek.hu/p/vsz2.png\"/>\n",
      "   <img alt=\"*\" src=\"//static.gyakorikerdesek.hu/p/vsz2.png\"/>\n",
      "   <img alt=\"*\" src=\"//static.gyakorikerdesek.hu/p/vsz2.png\"/>\n",
      "   <img alt=\"*\" src=\"//static.gyakorikerdesek.hu/p/vsz2.png\"/>\n",
      "   <img alt=\"*\" src=\"//static.gyakorikerdesek.hu/p/vsz1.png\"/>\n",
      "  </span>\n",
      "  válasza:\n",
      " </div>\n",
      " <div class=\"valasz_valasz\">\n",
      "  <div class=\"flex\" style=\"flex-wrap: nowrap;\">\n",
      "   <div id=\"ertek75983453\" style=\"margin-right: 10px;\">\n",
      "    <svg class=\"ertek\" viewBox=\"0 0 100 100\">\n",
      "     <circle cx=\"50\" cy=\"50\" fill=\"#C4DCC5\" r=\"45\">\n",
      "     </circle>\n",
      "     <path d=\"M50 10 a 40 40 0 0 1 0 80 a 40 40 0 0 1 0 -80\" fill=\"none\" stroke=\"#1F8D25\" stroke-dasharray=\"251.2,0\" stroke-linecap=\"round\" stroke-width=\"7\">\n",
      "     </path>\n",
      "     <text dy=\"7\" font-size=\"20\" text-anchor=\"middle\" x=\"50\" y=\"50\">\n",
      "      100%\n",
      "     </text>\n",
      "    </svg>\n",
      "   </div>\n",
      "   <div id=\"valasz75983453\" style=\"min-width: 680px;\">\n",
      "    <p style=\"margin: 0 0 7px 0;\">\n",
      "     Mert ezen a héten még tavaszi szünet van, és a tanulmányi hivatalban csak ügyelet van. Írj nekik e-mailt.\n",
      "    </p>\n",
      "    <br/>\n",
      "    <p style=\"margin: 7px 0 7px 0;\">\n",
      "     <a onclick='alert(\"A link bejelentkezés után lesz kattintható.\");' title=\"Ha bejelentkezel, a link kattinthatóvá válik\">\n",
      "      [link]\n",
      "     </a>\n",
      "    </p>\n",
      "   </div>\n",
      "  </div>\n",
      " </div>\n",
      " <div class=\"flex valasz_statusz\">\n",
      "  <div>\n",
      "   febr. 20. 18:22\n",
      "  </div>\n",
      "  <div class=\"flex\" style=\"margin-left: auto; align-items: center; flex-wrap: nowrap;\">\n",
      "   <div style=\"margin-right: 5px;\">\n",
      "    Hasznos számodra ez a válasz?\n",
      "   </div>\n",
      "   <div>\n",
      "    <a class=\"hasznos\" href=\"#\" onclick='location.href=\"/belepes\"; return false; return false;' title=\"Hasznos\">\n",
      "    </a>\n",
      "    <a class=\"felighasznos\" href=\"#\" onclick='location.href=\"/belepes\"; return false; return false;' title=\"Félig-meddig hasznos\">\n",
      "    </a>\n",
      "    <a class=\"nemhasznos\" href=\"#\" onclick='location.href=\"/belepes\"; return false; return false;' title=\"Nem hasznos\">\n",
      "    </a>\n",
      "   </div>\n",
      "  </div>\n",
      " </div>\n",
      "</div>\n",
      "\n"
     ]
    }
   ],
   "source": [
    "print(elems[1].prettify())"
   ]
  },
  {
   "cell_type": "code",
   "execution_count": 466,
   "id": "86952c9e",
   "metadata": {
    "ExecuteTime": {
     "end_time": "2023-03-21T15:48:04.458204Z",
     "start_time": "2023-03-21T15:48:04.433709Z"
    }
   },
   "outputs": [
    {
     "data": {
      "text/plain": [
       "'100%\\nMert ezen a héten még tavaszi szünet van, és a tanulmányi hivatalban csak ügyelet van. Írj nekik e-mailt.\\n \\n[link]\\n '"
      ]
     },
     "execution_count": 466,
     "metadata": {},
     "output_type": "execute_result"
    }
   ],
   "source": [
    "def parse_msg_text(soup: BeautifulSoup):\n",
    "    elem = soup.select_one(\"div.kerdes_kerdes, div.valasz_valasz\")\n",
    "    return elem.get_text(separator=\"\\n\")\n",
    "\n",
    "\n",
    "parse_msg_text(elems[1])"
   ]
  },
  {
   "cell_type": "code",
   "execution_count": 468,
   "id": "ff2b9b89",
   "metadata": {
    "ExecuteTime": {
     "end_time": "2023-03-21T15:48:26.506513Z",
     "start_time": "2023-03-21T15:48:26.474113Z"
    }
   },
   "outputs": [
    {
     "data": {
      "text/plain": [
       "'febr. 20. 18:22'"
      ]
     },
     "execution_count": 468,
     "metadata": {},
     "output_type": "execute_result"
    }
   ],
   "source": [
    "def parse_msg_date(soup):\n",
    "    return soup.select_one(\"div.kerdes_statusz div, div.valasz_statusz div\").get_text()\n",
    "\n",
    "\n",
    "parse_msg_date(elems[1])"
   ]
  },
  {
   "cell_type": "code",
   "execution_count": 470,
   "id": "e2ff8f39",
   "metadata": {
    "ExecuteTime": {
     "end_time": "2023-03-21T15:48:37.969029Z",
     "start_time": "2023-03-21T15:48:37.952688Z"
    }
   },
   "outputs": [
    {
     "data": {
      "text/plain": [
       "'\\xa01/4 anonim  válasza:'"
      ]
     },
     "execution_count": 470,
     "metadata": {},
     "output_type": "execute_result"
    }
   ],
   "source": [
    "def parse_msg_header(soup):\n",
    "    return soup.select_one(\"div.kerdes_fejlec, div.valasz_fejlec\").get_text()\n",
    "\n",
    "\n",
    "parse_msg_header(elems[1])"
   ]
  },
  {
   "cell_type": "markdown",
   "id": "1ff1700d",
   "metadata": {},
   "source": [
    "Végül írjunk egy függvényt, ami feldolgoz egy kommentet."
   ]
  },
  {
   "cell_type": "code",
   "execution_count": 472,
   "id": "f747cea1",
   "metadata": {
    "ExecuteTime": {
     "end_time": "2023-03-21T15:48:58.607949Z",
     "start_time": "2023-03-21T15:48:58.580091Z"
    }
   },
   "outputs": [
    {
     "data": {
      "text/plain": [
       "{'comment': '100%\\nMert ezen a héten még tavaszi szünet van, és a tanulmányi hivatalban csak ügyelet van. Írj nekik e-mailt.\\n \\n[link]\\n ',\n",
       " 'date': 'febr. 20. 18:22',\n",
       " 'header': '\\xa01/4 anonim  válasza:'}"
      ]
     },
     "execution_count": 472,
     "metadata": {},
     "output_type": "execute_result"
    }
   ],
   "source": [
    "def parse_msg(elem):\n",
    "    return {\n",
    "        \"comment\": parse_msg_text(elem),\n",
    "        \"date\": parse_msg_date(elem),\n",
    "        \"header\": parse_msg_header(elem),\n",
    "    }\n",
    "\n",
    "\n",
    "parse_msg(elems[1])"
   ]
  },
  {
   "cell_type": "markdown",
   "id": "932f9685",
   "metadata": {},
   "source": [
    "És egy olyat is, ami az adott oldal összes kommentjét feldolgozza."
   ]
  },
  {
   "cell_type": "code",
   "execution_count": 473,
   "id": "3a4d183a",
   "metadata": {
    "ExecuteTime": {
     "end_time": "2023-03-21T15:49:11.457509Z",
     "start_time": "2023-03-21T15:49:11.408614Z"
    }
   },
   "outputs": [
    {
     "data": {
      "text/plain": [
       "[{'comment': ' Figyelt kérdés\\nNapok óta próbálom hívni őket, hogy a halasztási lehetőségekről érdeklődjek, illetve a szakkollégiumi kérdéseim is lennének. Erre csicsk4 diszpécser csaj beleszól unottan, hogy \"JOOOL VAAAAN TOVÁBB KAPCSOLOM\", ásít, tovább kapcsol, aztán kicsöng és semmi, ez volt az első alkalom, másodszorra már fel se veszi, mármint a ügyintéző kiscsaj, biztos letiltotta a számom. Miért mindenki hülye ebben az országban? Rendesen kezdek undorodni az ELTE-től. Normálisan szeretnék érdeklődni és nem lehet, azóta ahová átirányított is próbáltam felhívni azzal a mellékkel, de sose veszik fel, egyszer sem. Pedig annál az egy alkalomnál mikor méltóztatott a kiscsaj felvenni, tök kedves és normális voltam, ő meg ok nélkül csicsk4 az elejétől kezdve? Azt hiszem megb4sztatom a dékánt, aztán pedig a rektort, a piszlicsáré, jelentéktelen messze az ő szintjük alatti kérdéseimmel. Igen, ez lesz a helyes út.',\n",
       "  'date': 'febr. 20. 18:13',\n",
       "  'header': 'Miért nem veszik fel az ELTE btk.-n a telefont?\\n'},\n",
       " {'comment': '100%\\nMert ezen a héten még tavaszi szünet van, és a tanulmányi hivatalban csak ügyelet van. Írj nekik e-mailt.\\n \\n[link]\\n ',\n",
       "  'date': 'febr. 20. 18:22',\n",
       "  'header': '\\xa01/4 anonim  válasza:'},\n",
       " {'comment': '65%\\nMert még nem kezdődött meg a félév...',\n",
       "  'date': 'febr. 20. 18:31',\n",
       "  'header': '\\xa02/4 anonim  válasza:'},\n",
       " {'comment': '100%\\n2, a félév elkezdődőtt, csak még a tanítás nem, el addig is lehet érni e-mailben a tanulmányi hivatalt',\n",
       "  'date': 'febr. 20. 18:33',\n",
       "  'header': '\\xa03/4 anonim  válasza:'},\n",
       " {'comment': 'Köszönöm a válaszokat, eléggé kétségbe voltam esve, de most megnyugodtam, köszönöm! 🙏',\n",
       "  'date': 'febr. 23. 14:30',\n",
       "  'header': '\\xa04/4 A kérdező kommentje:'}]"
      ]
     },
     "execution_count": 473,
     "metadata": {},
     "output_type": "execute_result"
    }
   ],
   "source": [
    "def parse_all_msg(soup):\n",
    "    elems = soup.select(\"div.kerdes, div.valasz\")\n",
    "    return [parse_msg(e) for e in elems if \"resv\" not in e.get(\"class\")]\n",
    "\n",
    "\n",
    "parse_all_msg(soup)"
   ]
  },
  {
   "cell_type": "markdown",
   "id": "8f4b1f41",
   "metadata": {},
   "source": [
    "### Összes oldal feldolgozása"
   ]
  },
  {
   "cell_type": "markdown",
   "id": "dd90b26a",
   "metadata": {},
   "source": [
    "Végül iteráljunk végig az összes thread-en és szedjük ki a kommenteket."
   ]
  },
  {
   "cell_type": "markdown",
   "id": "2acf581a",
   "metadata": {},
   "source": [
    "Az id-k miatt `DataFrame`-et használunk. Erről később lesz szó."
   ]
  },
  {
   "cell_type": "code",
   "execution_count": 474,
   "id": "79718364",
   "metadata": {
    "ExecuteTime": {
     "end_time": "2023-03-21T15:50:42.596464Z",
     "start_time": "2023-03-21T15:50:26.697114Z"
    }
   },
   "outputs": [
    {
     "name": "stderr",
     "output_type": "stream",
     "text": [
      "100%|██████████| 60/60 [00:15<00:00,  3.78it/s]\n"
     ]
    }
   ],
   "source": [
    "comments = []\n",
    "for listing in tqdm(listing_recs):\n",
    "    soup = get_soup(url=BASE_URL + listing[\"url\"])\n",
    "    comment_recs = parse_all_msg(soup)\n",
    "    comments.append(pd.DataFrame(comment_recs).assign(thread_id=listing[\"id\"]))"
   ]
  },
  {
   "cell_type": "code",
   "execution_count": 475,
   "id": "99f46957",
   "metadata": {
    "ExecuteTime": {
     "end_time": "2023-03-21T15:50:46.998244Z",
     "start_time": "2023-03-21T15:50:46.942889Z"
    }
   },
   "outputs": [
    {
     "data": {
      "text/html": [
       "<div>\n",
       "<style scoped>\n",
       "    .dataframe tbody tr th:only-of-type {\n",
       "        vertical-align: middle;\n",
       "    }\n",
       "\n",
       "    .dataframe tbody tr th {\n",
       "        vertical-align: top;\n",
       "    }\n",
       "\n",
       "    .dataframe thead th {\n",
       "        text-align: right;\n",
       "    }\n",
       "</style>\n",
       "<table border=\"1\" class=\"dataframe\">\n",
       "  <thead>\n",
       "    <tr style=\"text-align: right;\">\n",
       "      <th></th>\n",
       "      <th>comment</th>\n",
       "      <th>date</th>\n",
       "      <th>header</th>\n",
       "      <th>thread_id</th>\n",
       "    </tr>\n",
       "  </thead>\n",
       "  <tbody>\n",
       "    <tr>\n",
       "      <th>0</th>\n",
       "      <td>Figyelt kérdés\\nPéldául az ELTE szakkollégium...</td>\n",
       "      <td>márc. 9. 14:52</td>\n",
       "      <td>A budapesti szakkollégiumokba csak akkor jelen...</td>\n",
       "      <td>k12165689</td>\n",
       "    </tr>\n",
       "    <tr>\n",
       "      <th>1</th>\n",
       "      <td>Ha csak az elteseknek hirdetik meg a tagfelvét...</td>\n",
       "      <td>márc. 9. 14:55</td>\n",
       "      <td>1/1 anonim  válasza:</td>\n",
       "      <td>k12165689</td>\n",
       "    </tr>\n",
       "    <tr>\n",
       "      <th>0</th>\n",
       "      <td>Figyelt kérdés\\nNapok óta próbálom hívni őket...</td>\n",
       "      <td>febr. 20. 18:13</td>\n",
       "      <td>Miért nem veszik fel az ELTE btk.-n a telefont?\\n</td>\n",
       "      <td>k12143277</td>\n",
       "    </tr>\n",
       "    <tr>\n",
       "      <th>1</th>\n",
       "      <td>100%\\nMert ezen a héten még tavaszi szünet van...</td>\n",
       "      <td>febr. 20. 18:22</td>\n",
       "      <td>1/4 anonim  válasza:</td>\n",
       "      <td>k12143277</td>\n",
       "    </tr>\n",
       "    <tr>\n",
       "      <th>2</th>\n",
       "      <td>65%\\nMert még nem kezdődött meg a félév...</td>\n",
       "      <td>febr. 20. 18:31</td>\n",
       "      <td>2/4 anonim  válasza:</td>\n",
       "      <td>k12143277</td>\n",
       "    </tr>\n",
       "    <tr>\n",
       "      <th>...</th>\n",
       "      <td>...</td>\n",
       "      <td>...</td>\n",
       "      <td>...</td>\n",
       "      <td>...</td>\n",
       "    </tr>\n",
       "    <tr>\n",
       "      <th>3</th>\n",
       "      <td>annak a szaknak a kimondott kolesza ahova felv...</td>\n",
       "      <td>2010. júl. 28. 18:49</td>\n",
       "      <td>3/5 anonim  válasza:</td>\n",
       "      <td>k1039145</td>\n",
       "    </tr>\n",
       "    <tr>\n",
       "      <th>4</th>\n",
       "      <td>Nem, nem azt jelenti. A szakkollégium név arra...</td>\n",
       "      <td>2010. júl. 28. 19:04</td>\n",
       "      <td>4/5 anonim  válasza:</td>\n",
       "      <td>k1039145</td>\n",
       "    </tr>\n",
       "    <tr>\n",
       "      <th>5</th>\n",
       "      <td>Na de akkor csak abba a koleszba felvételizhet...</td>\n",
       "      <td>2010. júl. 29. 21:41</td>\n",
       "      <td>5/5 A kérdező kommentje:</td>\n",
       "      <td>k1039145</td>\n",
       "    </tr>\n",
       "    <tr>\n",
       "      <th>0</th>\n",
       "      <td>Figyelt kérdés\\nLakott már vki ott, és milyen...</td>\n",
       "      <td>2009. júl. 18. 20:58</td>\n",
       "      <td>Budapesti Márton Áron Szakkollégium milyen hel...</td>\n",
       "      <td>k327099</td>\n",
       "    </tr>\n",
       "    <tr>\n",
       "      <th>1</th>\n",
       "      <td>76%\\nJó hely, nekem több ismerősöm is lakik ot...</td>\n",
       "      <td>2009. júl. 25. 17:12</td>\n",
       "      <td>1/1 anonim  válasza:</td>\n",
       "      <td>k327099</td>\n",
       "    </tr>\n",
       "  </tbody>\n",
       "</table>\n",
       "<p>213 rows × 4 columns</p>\n",
       "</div>"
      ],
      "text/plain": [
       "                                              comment                  date  \\\n",
       "0    Figyelt kérdés\\nPéldául az ELTE szakkollégium...        márc. 9. 14:52   \n",
       "1   Ha csak az elteseknek hirdetik meg a tagfelvét...        márc. 9. 14:55   \n",
       "0    Figyelt kérdés\\nNapok óta próbálom hívni őket...       febr. 20. 18:13   \n",
       "1   100%\\nMert ezen a héten még tavaszi szünet van...       febr. 20. 18:22   \n",
       "2          65%\\nMert még nem kezdődött meg a félév...       febr. 20. 18:31   \n",
       "..                                                ...                   ...   \n",
       "3   annak a szaknak a kimondott kolesza ahova felv...  2010. júl. 28. 18:49   \n",
       "4   Nem, nem azt jelenti. A szakkollégium név arra...  2010. júl. 28. 19:04   \n",
       "5   Na de akkor csak abba a koleszba felvételizhet...  2010. júl. 29. 21:41   \n",
       "0    Figyelt kérdés\\nLakott már vki ott, és milyen...  2009. júl. 18. 20:58   \n",
       "1   76%\\nJó hely, nekem több ismerősöm is lakik ot...  2009. júl. 25. 17:12   \n",
       "\n",
       "                                               header  thread_id  \n",
       "0   A budapesti szakkollégiumokba csak akkor jelen...  k12165689  \n",
       "1                                1/1 anonim  válasza:  k12165689  \n",
       "0   Miért nem veszik fel az ELTE btk.-n a telefont?\\n  k12143277  \n",
       "1                                1/4 anonim  válasza:  k12143277  \n",
       "2                                2/4 anonim  válasza:  k12143277  \n",
       "..                                                ...        ...  \n",
       "3                                3/5 anonim  válasza:   k1039145  \n",
       "4                                4/5 anonim  válasza:   k1039145  \n",
       "5                            5/5 A kérdező kommentje:   k1039145  \n",
       "0   Budapesti Márton Áron Szakkollégium milyen hel...    k327099  \n",
       "1                                1/1 anonim  válasza:    k327099  \n",
       "\n",
       "[213 rows x 4 columns]"
      ]
     },
     "execution_count": 475,
     "metadata": {},
     "output_type": "execute_result"
    }
   ],
   "source": [
    "df_comments = pd.concat(comments)\n",
    "df_comments"
   ]
  },
  {
   "cell_type": "markdown",
   "id": "e8381625",
   "metadata": {
    "ExecuteTime": {
     "end_time": "2023-03-21T14:24:43.963576Z",
     "start_time": "2023-03-21T14:24:43.942799Z"
    }
   },
   "source": [
    "Normalizálás"
   ]
  },
  {
   "cell_type": "code",
   "execution_count": 479,
   "id": "94566da6",
   "metadata": {
    "ExecuteTime": {
     "end_time": "2023-03-21T15:51:38.226472Z",
     "start_time": "2023-03-21T15:51:38.194787Z"
    }
   },
   "outputs": [
    {
     "data": {
      "text/plain": [
       "'\\xa01/1 anonim  válasza:'"
      ]
     },
     "execution_count": 479,
     "metadata": {},
     "output_type": "execute_result"
    }
   ],
   "source": [
    "df_comments[\"header\"].iloc[1]"
   ]
  },
  {
   "cell_type": "code",
   "execution_count": 335,
   "id": "27ac1565",
   "metadata": {
    "ExecuteTime": {
     "end_time": "2023-03-21T14:24:31.818439Z",
     "start_time": "2023-03-21T14:24:31.800743Z"
    }
   },
   "outputs": [
    {
     "data": {
      "text/plain": [
       "' 1/1 anonim  válasza:'"
      ]
     },
     "execution_count": 335,
     "metadata": {},
     "output_type": "execute_result"
    }
   ],
   "source": [
    "df_comments[\"header\"].str.normalize(\"NFKD\").iloc[1]"
   ]
  },
  {
   "cell_type": "code",
   "execution_count": 481,
   "id": "f5056cbb",
   "metadata": {
    "ExecuteTime": {
     "end_time": "2023-03-21T15:53:06.498287Z",
     "start_time": "2023-03-21T15:53:06.456767Z"
    }
   },
   "outputs": [],
   "source": [
    "df_comments = df_comments.assign(\n",
    "    header=lambda _df: _df[\"header\"].str.normalize(\"NFKD\"),\n",
    "    comment=lambda _df: _df[\"comment\"].str.normalize(\"NFKD\"),\n",
    ")"
   ]
  },
  {
   "cell_type": "markdown",
   "id": "2ddef20e",
   "metadata": {},
   "source": [
    "Regex"
   ]
  },
  {
   "cell_type": "code",
   "execution_count": 349,
   "id": "a62c60e8",
   "metadata": {
    "ExecuteTime": {
     "end_time": "2023-03-21T14:32:58.856759Z",
     "start_time": "2023-03-21T14:32:58.841382Z"
    }
   },
   "outputs": [
    {
     "data": {
      "text/plain": [
       "0     Figyelt kérdés\\nPéldául az ELTE szakkolle...\n",
       "1    Ha csak az elteseknek hirdetik meg a tagfelvé...\n",
       "0     Figyelt kérdés\\nNapok óta próbálom hívn...\n",
       "1    100%\\nMert ezen a héten még tavaszi szünet ...\n",
       "2      65%\\nMert még nem kezdődött meg a félév...\n",
       "                           ...                        \n",
       "0     Figyelt kérdés\\nNagyon keveset tudok róla,...\n",
       "1                                    83%\\n \\n[link]\\n \n",
       "0     Figyelt kérdés\\nAz első két évemben a vi...\n",
       "0     Figyelt kérdés\\nHeller, Rajk, SzISZ, esetle...\n",
       "1    84%\\nMCC, ha nem zavar az agymosásos része, ...\n",
       "Name: comment, Length: 83, dtype: object"
      ]
     },
     "execution_count": 349,
     "metadata": {},
     "output_type": "execute_result"
    }
   ],
   "source": [
    "df_comments[\"comment\"]"
   ]
  },
  {
   "cell_type": "code",
   "execution_count": 483,
   "id": "27088d1a",
   "metadata": {
    "ExecuteTime": {
     "end_time": "2023-03-21T15:54:17.869038Z",
     "start_time": "2023-03-21T15:54:17.828720Z"
    }
   },
   "outputs": [
    {
     "data": {
      "text/html": [
       "<div>\n",
       "<style scoped>\n",
       "    .dataframe tbody tr th:only-of-type {\n",
       "        vertical-align: middle;\n",
       "    }\n",
       "\n",
       "    .dataframe tbody tr th {\n",
       "        vertical-align: top;\n",
       "    }\n",
       "\n",
       "    .dataframe thead th {\n",
       "        text-align: right;\n",
       "    }\n",
       "</style>\n",
       "<table border=\"1\" class=\"dataframe\">\n",
       "  <thead>\n",
       "    <tr style=\"text-align: right;\">\n",
       "      <th></th>\n",
       "      <th>rate</th>\n",
       "      <th>text</th>\n",
       "    </tr>\n",
       "  </thead>\n",
       "  <tbody>\n",
       "    <tr>\n",
       "      <th>0</th>\n",
       "      <td>NaN</td>\n",
       "      <td>Figyelt kérdés\\nPéldául az ELTE szakkolle...</td>\n",
       "    </tr>\n",
       "    <tr>\n",
       "      <th>1</th>\n",
       "      <td>NaN</td>\n",
       "      <td>Ha csak az elteseknek hirdetik meg a tagfelvé...</td>\n",
       "    </tr>\n",
       "    <tr>\n",
       "      <th>0</th>\n",
       "      <td>NaN</td>\n",
       "      <td>Figyelt kérdés\\nNapok óta próbálom hívn...</td>\n",
       "    </tr>\n",
       "    <tr>\n",
       "      <th>1</th>\n",
       "      <td>100</td>\n",
       "      <td>\\nMert ezen a héten még tavaszi szünet van,...</td>\n",
       "    </tr>\n",
       "    <tr>\n",
       "      <th>2</th>\n",
       "      <td>65</td>\n",
       "      <td>\\nMert még nem kezdődött meg a félév...</td>\n",
       "    </tr>\n",
       "    <tr>\n",
       "      <th>...</th>\n",
       "      <td>...</td>\n",
       "      <td>...</td>\n",
       "    </tr>\n",
       "    <tr>\n",
       "      <th>3</th>\n",
       "      <td>NaN</td>\n",
       "      <td>annak a szaknak a kimondott kolesza ahova felv...</td>\n",
       "    </tr>\n",
       "    <tr>\n",
       "      <th>4</th>\n",
       "      <td>NaN</td>\n",
       "      <td>Nem, nem azt jelenti. A szakkollégium név ar...</td>\n",
       "    </tr>\n",
       "    <tr>\n",
       "      <th>5</th>\n",
       "      <td>NaN</td>\n",
       "      <td>Na de akkor csak abba a koleszba felvételizhe...</td>\n",
       "    </tr>\n",
       "    <tr>\n",
       "      <th>0</th>\n",
       "      <td>NaN</td>\n",
       "      <td>Figyelt kérdés\\nLakott már vki ott, és mi...</td>\n",
       "    </tr>\n",
       "    <tr>\n",
       "      <th>1</th>\n",
       "      <td>76</td>\n",
       "      <td>\\nJó hely, nekem több ismerősöm is lakik o...</td>\n",
       "    </tr>\n",
       "  </tbody>\n",
       "</table>\n",
       "<p>213 rows × 2 columns</p>\n",
       "</div>"
      ],
      "text/plain": [
       "   rate                                               text\n",
       "0   NaN   Figyelt kérdés\\nPéldául az ELTE szakkolle...\n",
       "1   NaN  Ha csak az elteseknek hirdetik meg a tagfelvé...\n",
       "0   NaN   Figyelt kérdés\\nNapok óta próbálom hívn...\n",
       "1   100  \\nMert ezen a héten még tavaszi szünet van,...\n",
       "2    65       \\nMert még nem kezdődött meg a félév...\n",
       "..  ...                                                ...\n",
       "3   NaN  annak a szaknak a kimondott kolesza ahova felv...\n",
       "4   NaN  Nem, nem azt jelenti. A szakkollégium név ar...\n",
       "5   NaN  Na de akkor csak abba a koleszba felvételizhe...\n",
       "0   NaN   Figyelt kérdés\\nLakott már vki ott, és mi...\n",
       "1    76  \\nJó hely, nekem több ismerősöm is lakik o...\n",
       "\n",
       "[213 rows x 2 columns]"
      ]
     },
     "execution_count": 483,
     "metadata": {},
     "output_type": "execute_result"
    }
   ],
   "source": [
    "rate_rgx = re.compile(\"(?P<rate>\\d{1,3})?%?(?P<text>.*)\", re.DOTALL)\n",
    "df_comments[\"comment\"].str.extract(rate_rgx)"
   ]
  },
  {
   "cell_type": "markdown",
   "id": "particular-hawaiian",
   "metadata": {},
   "source": [
    "# Tiltás elleni védelem"
   ]
  },
  {
   "cell_type": "markdown",
   "id": "absent-surrey",
   "metadata": {},
   "source": [
    "## Usar Agent\n",
    "\n",
    "-----\n",
    "\n",
    "**Mi az a user agent?**\n",
    "\n",
    "A user agent egy olyan információ, amelyet a webböngészők küldenek a weboldalaknak annak érdekében, hogy azok tudják, milyen típusú böngészőt használ a felhasználó. A user agent tartalmazza a böngésző típusát, verzióját, operációs rendszerét, valamint más olyan információkat is, amelyek segíthetnek az oldalaknak abban, hogy a lehető legjobb módon jelenítsék meg a tartalmukat az adott eszközön. A user agent fontos szerepet játszik a webfejlesztés során is, hiszen segítségével a webfejlesztők könnyen tesztelhetik, hogy az adott oldalak megfelelően működnek-e a különböző böngészőkön és eszközökön."
   ]
  },
  {
   "cell_type": "code",
   "execution_count": 484,
   "id": "worse-scanner",
   "metadata": {
    "ExecuteTime": {
     "end_time": "2023-03-21T15:55:30.887528Z",
     "start_time": "2023-03-21T15:55:30.846339Z"
    }
   },
   "outputs": [],
   "source": [
    "ua = UserAgent()"
   ]
  },
  {
   "cell_type": "code",
   "execution_count": 511,
   "id": "tutorial-transport",
   "metadata": {
    "ExecuteTime": {
     "end_time": "2023-03-21T15:55:52.316315Z",
     "start_time": "2023-03-21T15:55:52.291788Z"
    }
   },
   "outputs": [
    {
     "data": {
      "text/plain": [
       "'Mozilla/5.0 (Windows NT 10.0; Win64; x64) AppleWebKit/537.36 (KHTML like Gecko) Chrome/46.0.2486.0 Safari/537.36 Edge/13.10586'"
      ]
     },
     "execution_count": 511,
     "metadata": {},
     "output_type": "execute_result"
    }
   ],
   "source": [
    "ua.random"
   ]
  },
  {
   "cell_type": "markdown",
   "id": "transparent-leisure",
   "metadata": {},
   "source": [
    "## Proxy\n",
    "\n",
    "**Mi az a proxy?**\n",
    "\n",
    "A proxy egy olyan szoftver, amely lehetővé teszi, hogy az internetezők anonim módon böngészhessék az internetet, és elrejtsék az IP-címüket. Ez a szoftver közvetítőként működik a felhasználó és az internet között, és megváltoztatja a kérés forrásának azonosítóját, hogy az anonim maradjon. A proxy használata előnyös lehet, ha az internetező biztonságosabb böngészési élményt szeretne, vagy el akarja kerülni a tartalomszűrést, amelyet az internet szolgáltatói vagy más szervezetek végeznek. A proxy segítségével az internetezők szabadon böngészhetnek az interneten, anélkül hogy bárki nyomon követné az online tevékenységüket."
   ]
  },
  {
   "cell_type": "code",
   "execution_count": 512,
   "id": "veterinary-content",
   "metadata": {
    "ExecuteTime": {
     "end_time": "2023-03-21T15:56:45.125688Z",
     "start_time": "2023-03-21T15:56:45.101841Z"
    }
   },
   "outputs": [],
   "source": [
    "def get_proxies():\n",
    "    url = \"https://free-proxy-list.net/\"\n",
    "    response = requests.get(url)\n",
    "    soup = bs(response.content, \"lxml\")\n",
    "    table = soup.find(\"div\", {\"class\": \"table-responsive\"}).table.tbody\n",
    "    table = table.find_all(\"tr\")\n",
    "    proxies = [\n",
    "        (row.find_all(\"td\")[0].text + \":\" + row.find_all(\"td\")[1].text) for row in table\n",
    "    ]\n",
    "    return [\n",
    "        {\"http\": f\"http://{proxy}\", \"https\": f\"https://{proxy}\"} for proxy in proxies\n",
    "    ]"
   ]
  },
  {
   "cell_type": "code",
   "execution_count": 513,
   "id": "growing-reconstruction",
   "metadata": {
    "ExecuteTime": {
     "end_time": "2023-03-21T15:56:47.834209Z",
     "start_time": "2023-03-21T15:56:45.848522Z"
    }
   },
   "outputs": [],
   "source": [
    "proxies = get_proxies()"
   ]
  },
  {
   "cell_type": "code",
   "execution_count": 514,
   "id": "educated-following",
   "metadata": {
    "ExecuteTime": {
     "end_time": "2023-03-21T15:56:47.862713Z",
     "start_time": "2023-03-21T15:56:47.842738Z"
    }
   },
   "outputs": [
    {
     "data": {
      "text/plain": [
       "300"
      ]
     },
     "execution_count": 514,
     "metadata": {},
     "output_type": "execute_result"
    }
   ],
   "source": [
    "len(proxies)"
   ]
  },
  {
   "cell_type": "code",
   "execution_count": 303,
   "id": "372496d8",
   "metadata": {
    "ExecuteTime": {
     "end_time": "2023-03-21T14:15:11.982918Z",
     "start_time": "2023-03-21T14:15:11.958344Z"
    },
    "scrolled": true
   },
   "outputs": [
    {
     "data": {
      "text/plain": [
       "[{'http': 'http://202.150.132.53:8080',\n",
       "  'https': 'https://202.150.132.53:8080'},\n",
       " {'http': 'http://80.48.119.28:8080', 'https': 'https://80.48.119.28:8080'},\n",
       " {'http': 'http://139.99.237.62:80', 'https': 'https://139.99.237.62:80'},\n",
       " {'http': 'http://154.236.189.5:8080', 'https': 'https://154.236.189.5:8080'},\n",
       " {'http': 'http://16.163.217.247:8888',\n",
       "  'https': 'https://16.163.217.247:8888'}]"
      ]
     },
     "execution_count": 303,
     "metadata": {},
     "output_type": "execute_result"
    }
   ],
   "source": [
    "proxies[:5]"
   ]
  },
  {
   "cell_type": "markdown",
   "id": "e493399d",
   "metadata": {},
   "source": [
    "## Lassítás"
   ]
  },
  {
   "cell_type": "code",
   "execution_count": 289,
   "id": "9c378734",
   "metadata": {
    "ExecuteTime": {
     "end_time": "2023-03-21T14:09:25.111021Z",
     "start_time": "2023-03-21T14:09:22.531514Z"
    }
   },
   "outputs": [],
   "source": [
    "sleep(2 + np.random.random())"
   ]
  },
  {
   "cell_type": "markdown",
   "id": "511d351d",
   "metadata": {},
   "source": [
    "## Használat egy requestben"
   ]
  },
  {
   "cell_type": "code",
   "execution_count": null,
   "id": "9217b76d",
   "metadata": {
    "ExecuteTime": {
     "start_time": "2023-03-21T12:53:58.798Z"
    }
   },
   "outputs": [],
   "source": [
    "proxy = np.random.choice(proxies)\n",
    "\n",
    "headers = {\"User-Agent\": ua.random}\n",
    "\n",
    "timeout = 3\n",
    "\n",
    "sleep(2 + np.random.random())\n",
    "\n",
    "resp = requests.get(URL, headers=headers, proxies=proxy, timeout=3)"
   ]
  },
  {
   "cell_type": "code",
   "execution_count": 305,
   "id": "f4cde5d4",
   "metadata": {
    "ExecuteTime": {
     "end_time": "2023-03-21T14:15:28.889197Z",
     "start_time": "2023-03-21T14:15:28.864311Z"
    }
   },
   "outputs": [],
   "source": [
    "def get_soup(\n",
    "    url: str,\n",
    "    user_agent: str = None,\n",
    "    proxy: tuple = None,\n",
    "    timeout: int = None,\n",
    "    sleep_time: float = 0,\n",
    "):\n",
    "    headers = {\"User-Agent\": user_agent}\n",
    "    sleep(sleep_time)\n",
    "    resp = requests.get(url, headers=headers, proxies=proxy, timeout=timeout)\n",
    "    resp.raise_for_status()\n",
    "    return BeautifulSoup(resp.content, \"html5lib\")"
   ]
  },
  {
   "cell_type": "code",
   "execution_count": 319,
   "id": "d10d760f",
   "metadata": {
    "ExecuteTime": {
     "end_time": "2023-03-21T14:19:56.571296Z",
     "start_time": "2023-03-21T14:19:56.392932Z"
    }
   },
   "outputs": [
    {
     "data": {
      "text/plain": [
       "<!DOCTYPE html>\n",
       "<html lang=\"hu\"><head>\n",
       "<meta content=\"width=device-width, initial-scale=1\" name=\"viewport\"/>\n",
       "<meta charset=\"utf-8\"/>\n",
       "<title>Szakkollégium - Gyakori kérdések</title>\n",
       "<meta content=\"Szakkollégium - Kérdések a témában. Pl. A budapesti szakkollégiumokba csak akkor jelentkezhetek ha az adott egyetemre járok?\" name=\"description\"/>\n",
       "<meta content=\"szakkollégium, kérdések, válaszok\" name=\"keywords\"/>\n",
       "<meta content=\"Szakkollégium - Gyakori kérdések\" property=\"og:title\"/>\n",
       "<meta content=\"Szakkollégium - Kérdések a témában. Pl. A budapesti szakkollégiumokba csak akkor jelentkezhetek ha az adott egyetemre járok?\" property=\"og:description\"/>\n",
       "<meta content=\"website\" property=\"og:type\"/>\n",
       "<meta content=\"//static.gyakorikerdesek.hu/p/logo.jpg\" property=\"og:image\"/>\n",
       "<link href=\"//static.gyakorikerdesek.hu/favicon.ico\" rel=\"shortcut icon\"/>\n",
       "<link href=\"//static.gyakorikerdesek.hu/apple-touch-icon-144x144.png\" rel=\"apple-touch-icon\" sizes=\"144x144\"/>\n",
       "<meta content=\"#FFFFFF\" name=\"msapplication-TileColor\"/>\n",
       "<meta content=\"//static.gyakorikerdesek.hu/mstile-144x144.png\" name=\"msapplication-TileImage\"/>\n",
       "<style>\n",
       "BODY{ font-size: 100%; margin: 0; padding: 0; text-align: center; width: 100%; font-family: sans-serif;} #main{ margin: 0 auto; text-align: left; border: 0; width: 980px;} .flex{ display: flex; flex-wrap: wrap;} .menu1{ margin-bottom: 15px; padding-top: 3px;} .menu1 A{ display: inline-block; height: 35px;} .menu1 INPUT, .menu1 SELECT{ height: 20px; padding: 0;} .menu2{ width: 200px; line-height: 24px; margin-bottom: 20px; padding: 10px 0 10px 0;} .menu{ padding: 0 6px 0 6px;} .menu A{ text-decoration: none;} .menu A:hover{ text-decoration: underline;} #main1{ width: 200px; margin-right: 20px;} #main2{ width: 760px; padding-top: 5px;} A{ cursor: pointer; text-decoration: none;} A:hover{ text-decoration: underline;} #siteinfo{ width: 100%; text-align: center; font-size: 90%; margin-top: 50px; padding-top: 5px;} .betoltesikon{ background-image: url(\"//static.gyakorikerdesek.hu/p/betoltes.gif\"); width: 37px; height: 37px; display: block; margin: 10px auto 10px auto;} BUTTON{ padding: 5px 10px 5px 10px;} BUTTON:hover{ cursor: pointer;} H1{ font-size: 125%; text-align: center;} H2{ font-size: 115%; text-align: center;} H3{ font-size: 105%;} .morzsamenu{ font-size: 85%; padding: 0 4px 5px 0;} .hiba{ font-size: 110%; font-weight: bold; text-align: center; padding: 5px; margin: 10px auto 10px auto;} .ok{ font-weight: bold; width: 90%; padding: 15px; margin: 10px auto 10px auto; text-align: center;} UL{ text-align: left;} #main{ background-color: #dcdcdc;} BODY{ background-color: #dcdcdc;} @media only screen and (min-width: 1081px){ HTML{ background-color: #464646;} BODY{ background-color: #464646; margin: 0 auto;} #main{ padding: 0 35px;}} .menu1{ background-color: #fafafa; box-shadow: 0 4px 2px -2px darkgray;} .menu1 A:hover{ background-color: #f7f7f7; box-shadow: 1px 1px 1px #cccccc;} .menu1 INPUT, .menu1 SELECT{ border: solid #bfbfbf 1px;} .menu2{ background-color: #efefef; box-shadow: 3px 3px 3px #aaaaaa;} A{ color: #084a94;} #siteinfo{ border-top: solid #aaaaaa 1px;} BUTTON{ border: solid #888888 1px; background-color: #cad8e8; box-shadow: 2px 2px 2px #cdcdcd;} BUTTON:hover{ border: solid black 1px; background-color: #cdcdcd;} .morzsamenu{ color: #464646;} .morzsamenu A{ color: #084a94;} .hiba{ color: #880000;} .hiba A{ color: #440000;} .ok{ border: solid #8888dd 1px; box-shadow: 2px 4px 4px #464646;} .kulcsszo_lista{ width: 100%;} .kulcsszo_lista DIV{ width: 25%; margin: 5px 0 5px 0;} .kulcsszo_lista SPAN{ color: #666666;} .oldalszamok{ margin: 20px 0 20px 0; text-align: center;} .oldalszamok A, .oldalszamok SPAN{ display: inline-block; border: solid gray 1px; padding: 3px; background-color: white; min-width: 15px; font-weight: bold; border-radius: 5px;}.oldalszamok A:hover:not(.active){ background-color: #ddd;} .kerdes_normal{ background-image: url(\"//static.gyakorikerdesek.hu/p/kerdes_normal.png\"); background-size: auto; width: 20px; height: 20px; min-width: 20px; max-width: 20px; margin: 1px 8px 1px 4px; padding: 0;} .kerdeslista{ background-color: white; text-align: left; border: solid #dddddd 1px; border-right: solid #aaaaaa 2px; border-bottom: solid #aaaaaa 2px; margin: 3px 0 3px 0; padding: 3px 0 3px 0; align-items: center; min-height: 40px;} .kerdeslista_szoveg{ word-break: break-word; max-width: 630px;} .kerdeslista_valasz{ margin: 0 5px 0 auto; border-radius: 50%; background-color: #dcdcdc; width: 25px; height: 25px; line-height: 25px; min-width: 25px; max-width: 25px; text-align: center; font-size: 11px;} .sor{ background-color: #efefef;} .kerdes_alatt{ font-size: 95%; color: #808080;} .kerdeslista_szavazas{ background-image: url(\"//static.gyakorikerdesek.hu/p/szavazas.png\"); width: 20px; height: 20px; min-width: 20px; max-width: 20px; margin-left: auto;} #stialert{ position: fixed; height: 100vh; margin: 0; padding: 0; background-color: rgba(0,0,0,0.3); font-size: 16px;}\n",
       "#stialert A{ color: #27c;}\n",
       "#stialert BUTTON{ display: inline-block; width: auto; padding: 8px 15px; margin: 3px 0; text-transform: uppercase; background-color: #fff; color: #000;}\n",
       "#stialert #stidiv{ position: relative; width: 800px; max-width: 78%; max-height: 80%; padding: 20px; background-color: #ddd; border: solid #888888 1px; border-radius: 6px; box-shadow: 5px 30px 30px #888888; text-align: center; overflow-x: hidden; overflow-y: auto;}\n",
       "#stialert SPAN{ white-space: nowrap;}\n",
       "#stialert .sti_valasztas{ display: flex; justify-content: space-between; margin: 10px 0;}\n",
       "</style>\n",
       "<script>\n",
       "function e(s){ return(document.getElementById(s));}\n",
       "function cookienemok(){ if(confirm(\"Ehhez a művelethez szükség van a cookie-k használatára. Engedélyezed ezt a weboldal számára?\")){ ccookie(\"cookieok\",new Date().getTime(),0,94608000); return false;} else return true;}\n",
       "function gcookie(s){ var re=new RegExp(s+\"=([^;]+)\"); var value=re.exec(document.cookie); return(value!=null ? unescape(value[1]):null);}\n",
       "function ccookie(nev,ertek,uzenet,exp){\n",
       " uzenet=(typeof uzenet!==\"undefined\" ? uzenet:1); exp=(typeof exp!==\"undefined\" ? exp:(ertek==\"\" ? -1:0));\n",
       " if(nev!=\"cookieok\" && !gcookie(\"cookieok\")){ if(uzenet==0 || cookienemok()) return(0);}\n",
       " if(exp!=0){ var t=new Date().getTime()+(exp*1000),d=new Date(); d.setTime(t);}\n",
       " document.cookie=encodeURIComponent(nev)+\"=\"+encodeURIComponent(ertek)+\"; path=/; \"+(exp!=\"\" ? \"expires=\"+d.toGMTString()+\"; \":\"\")+\"domain=gyakorikerdesek.hu\"; return(1);\n",
       "}\n",
       "function displayset(s,n){ if(e(s)!==null) e(s).style.display=(n==2 ? \"flex\": (n==1 ? \"block\":\"none\"));}\n",
       "var betoltesalatt=0;\n",
       "function betoltes(res,mode){\n",
       " if(mode==0){ betoltesalatt=1; displayset(res,0); e(res).innerHTML=\"<span class=\\\"betoltesikon\\\"></span>\"; setTimeout(function(){ betoltes(res,1);},300);}\n",
       " else if(mode==1 && betoltesalatt==1) displayset(res,1);\n",
       "}\n",
       "function classdel(c){ var x=document.getElementsByClassName(c); for(var i=0;i<x.length;i++) x[i].innerHTML=\"\";}\n",
       "function ugras(el){\n",
       " el=e(el); etop=el.offsetTop; wtop=window.scrollY; wbottom=wtop+window.innerHeight;\n",
       " if(etop>=wbottom || etop<=wtop) window.scrollTo(0,Math.max(etop-50,0));\n",
       "}\n",
       "voltres=[];\n",
       "function getscript(js,res){\n",
       " if(res!=\"\"){\n",
       "  if(this.className!=e(res).className){ if(e(res).innerHTML!=\"\" && voltres[res]==js){ e(res).innerHTML=\"\"; return;} classdel(e(res).className);}\n",
       "  if(res!=\"res\"){ displayset(res,1); ugras(res); betoltes(res,0);}\n",
       " }\n",
       " voltres[res]=js;\n",
       " var jss=document.createElement(\"script\"); jss.type=\"text/javascript\"; jss.src=js; jss.async=true;\n",
       " document.getElementsByTagName(\"head\")[0].appendChild(jss);\n",
       "}\n",
       "function sti_allitas(n,ertek){ document.getElementById(n).innerHTML=document.getElementById(n).innerHTML.replace((ertek==\"BE\" ? \"BE\":\"KI\"),(ertek==\"BE\" ? \"KI\":\"BE\"));}\n",
       "function sti_meret(){ dd=document.getElementById(\"stidiv\"); dd.style.left=((o.offsetWidth-dd.offsetWidth)/2)+\"px\"; dd.style.top=((o.offsetHeight-dd.offsetHeight)/2)+\"px\";}\n",
       "function stialert(){\n",
       " d=document;\n",
       " if(document.getElementById(\"stialert\")) return(null);\n",
       " o=d.getElementsByTagName(\"html\")[0].appendChild(d.createElement(\"div\")); o.id=\"stialert\";\n",
       " d.body.style.position=\"absolute\"; o.style.width=d.body.offsetWidth+\"px\";\n",
       " o.innerHTML=\"<div id=\\\"stidiv\\\"><p><b>Adataid védelme fontos számunkra!</b></p><p>Mint a weboldalak többsége az interneten, honlapunk működéséhez és célzott hirdetések megjelenítéséhez mi és hirdetési partnereink is cookie-kat tárolunk az általad használt eszközön. Ahhoz, hogy ezt megtehessük, a hozzájárulásod szükséges. Erről az <a href=\\\"/adatvedelem\\\">adatvédelmi tájékoztatónkban</a> részletes információkhoz juthatsz, illetve bizonyos cookie-k használatával kapcsolatban további lehetőségeid vannak.</p><p><button onclick='sti_lehetosegek();'>További lehetőségek</button> &nbsp; <button onclick='sti_mentes();' style=\\\"background-color: #27c; color: #fff;\\\">Elfogadom</button></p></div>\";\n",
       " sti_meret();\n",
       "}\n",
       "function sti_kiir(n){\n",
       " if(n==\"\") be=1; else if(sti_ertek!=-1 && sti_ertek!=null) be=2; else be=0;\n",
       " return(\"<span\"+(be!=1 ? \" style=\\\"cursor: pointer; color: #27c;\\\" onclick='sti_allitas(\\\"\"+n+\"\\\",this.innerHTML);'\":\"\")+\">\"+(be>0 ? \"BE\":\"KI\")+\"</span>\");\n",
       "}\n",
       "function sti_valasztas(t,r,n){\n",
       " return(\"<div class=\\\"sti_valasztas\\\"><div style=\\\"text-align: left;\\\"><b>\"+t+\":</b>\"+(n==\"\" ? \" (nem kikapcsolható)\":\"\")+\"<br><small>\"+r+\"</small></div><div id='\"+n+\"'>\"+sti_kiir(n)+\"</div></div>\");\n",
       "}\n",
       "function sti_lehetosegek(){\n",
       " document.getElementById(\"stidiv\").innerHTML=\"<p>A weboldalunk és hirdetési partnereink által használt cookie-kat két részre bontottuk. A működéshez feltétlen szükségesek kikapcsolására nincs lehetőséged. A személyre szabottabb hirdetésekkel számodra érdekesebb reklámok jelenhetnek meg. Amennyiben ezt nem szeretnéd, elutasíthatod. További információkat az <a href=\\\"/adatvedelem\\\">adatvédelmi tájékoztatónkban</a> olvashatsz.</b></p>\"+sti_valasztas(\"Az oldal működéséhez szükséges cookie-k\",\"Szükségesek a belépés/regisztráció esetén történő azonosításhoz<br>Szükségesek a hirdetésekkel kapcsolatos gyakoriságkorlátozáshoz, összesített jelentésekhez és visszaélések elleni intézkedések céljából\",\"\")+sti_valasztas(\"Személyre szabott hirdetések megjelenítéséhez szükséges cookie-k\",\"A célzott hirdetések korábban gyűjtött adatokon alapulnak, illetve adatokat gyűjthetnek a hirdetés célzásához\",\"stiok\")+(sti_ertek!=null ? \"<div class=\\\"sti_valasztas\\\"><div style=\\\"text-align: left;\\\"><a onclick='sti_visszavonas();' style=\\\"cursor: pointer;\\\">Korábbi hozzájárulás visszavonása</a><br><small>Ha visszavonod a korábbi nyilatkozatod, ezt úgy tekintjük, hogy a weboldalunk működéséhez szükséges cookie-k használatát sem engedélyezed. Enélkül viszont a honlapunk tartalmát sem fogod elérni.</small></div></div>\":\"\")+\"<p><button onclick='sti_mentes();'>Beállítások mentése</button></p>\";\n",
       " sti_meret();\n",
       "}\n",
       "function sti_mentes(){\n",
       " c=document.getElementById(\"stiok\");\n",
       " t=new Date().getTime(); d=new Date(); d.setTime(t+31536000000); if(c && c.innerHTML.indexOf(\">KI<\")!==-1) t=-1;\n",
       " document.cookie=encodeURIComponent(\"cookieok\")+\"=\"+encodeURIComponent(t)+\"; path=/; expires=\"+d.toGMTString()+\"; domain=\"+window.location.hostname.replace(\"www.\",\"\");\n",
       " if(sti_ertek!=null && (sti_ertek==t || (sti_ertek>-1 && t>-1))){ document.getElementsByTagName(\"html\")[0].removeChild(document.getElementById(\"stialert\")); sti_ertek=t;} else window.location.reload(false);\n",
       "}\n",
       "function sti_visszavonas(){\n",
       " t=new Date().getTime(); d=new Date(); d.setTime(t-1);\n",
       " document.cookie=encodeURIComponent(\"cookieok\")+\"=\"+encodeURIComponent(t)+\"; path=/; expires=\"+d.toGMTString()+\"; domain=\"+window.location.hostname.replace(\"www.\",\"\");\n",
       " document.getElementById(\"stidiv\").innerHTML=\"<p><b>Visszavontad a cookie-k használatát lehetővé tevő hozzájárulásodat.</b></p><p>A weboldalunk használatához feltétlenül szükséges cookie-k nélkül a honlapunk tartalmát nem éred el. Ha a későbbiekben meggondolnád magad, a honlap újbóli meglátogatásakor újra dönthetsz a cookie-król.</p>\";\n",
       "}\n",
       "var re=new RegExp(\"cookieok=([^;]+)\"); var sti_ertek=re.exec(document.cookie); sti_ertek=(sti_ertek!=null ? unescape(sti_ertek[1]):null);\n",
       "\n",
       "</script>\n",
       "\n",
       "\n",
       "</head>\n",
       "<body>\n",
       "\n",
       "<div id=\"main\">\n",
       "<div class=\"flex menu1\" style=\"align-items: center; flex-wrap: nowrap;\">\n",
       "<div><img alt=\"fejléc\" onclick='location.href=\"/\";' src=\"//static.gyakorikerdesek.hu/p/fejlec_desktop.png\" style=\"width: 250px; height: 50px; margin-right: 10px; cursor: pointer;\"/></div>\n",
       "<div>\n",
       "<a href=\"/\" title=\"Gyakorikérdések kezdőoldal\"><img alt=\"Gyakori kérdések\" src=\"//static.gyakorikerdesek.hu/p/desktopmenu_kezdooldal.png\" style=\"width: 30px; height: 30px;\"/></a>\n",
       " <a href=\"/belepes\"><img alt=\"Belépés\" src=\"//static.gyakorikerdesek.hu/p/desktopmenu_sajat.png\" title=\"Belépés - Regisztráció\"/></a> <a href=\"/belepes\"><img alt=\"Új kérdés\" src=\"//static.gyakorikerdesek.hu/p/desktopmenu_uj.png\" title=\"Új kérdés\"/></a> <a href=\"/egy_veletlen_kerdes\" title=\"Egy véletlen kérdés\"><img alt=\"Véletlen kérdés\" src=\"//static.gyakorikerdesek.hu/p/desktopmenu_veletlen.png\" style=\"width: 84px; height: 30px;\"/></a>\n",
       "</div>\n",
       "<form action=\"/kereses.php\" id=\"keresesform\" method=\"get\" onsubmit='if(e(\"keres\").value.trim()!=\"\") window.open(\"/kereses.php?keres=\"+e(\"keres\").value.trim()+(e(\"kategoria\") &amp;&amp; e(\"kategoria\").value!=\"0\" ? \"&amp;kategoria=\"+e(\"kategoria\").value:\"\"),\"_self\"); return false;' style=\"margin-left: auto;\">\n",
       "<div class=\"flex\" style=\"align-items: center;\">\n",
       "<div><input id=\"keres\" maxlength=\"50\" name=\"keres\" size=\"20\" title=\"Keresett szó\" type=\"text\" value=\"szakkollégium\"/></div>\n",
       "<div style=\"margin: 0 5px 0 10px;\"><img alt=\"Keresés\" onclick='e(\"keresesform\").onsubmit();' src=\"//static.gyakorikerdesek.hu/p/mobilmenu_kereses.png\" style=\"cursor: pointer; width: 30px; height: 30px;\"/></div>\n",
       "</div></form>\n",
       "</div>\n",
       "<div class=\"flex\" style=\"flex-wrap: nowrap;\">\n",
       "<div id=\"main1\">\n",
       "\n",
       "<div class=\"menu2\"><div class=\"menu\" id=\"alkategoria\"><div><i><a href=\"/\">Kezdőoldal</a></i></div><div><a href=\"/allatok\">Állatok</a></div><div><a href=\"/csaladi-kapcsolatok\">Családi kapcsolatok</a></div><div><a href=\"/egeszseg\">Egészség</a></div><div><a href=\"/elektronikus-eszkozok\">Elektronikus eszközök</a></div><div><a href=\"/emberek\">Emberek</a></div><div><a href=\"/etelek-italok\">Ételek, italok</a></div><div><a href=\"/ezoteria\">Ezotéria</a></div><div><a href=\"/felnott-parkapcsolatok\">Felnőtt párkapcsolatok</a></div><div><a href=\"/fogyokurak\">Fogyókúrák</a></div><div><a href=\"/gyerekvallalas-neveles\">Gyerekvállalás, nevelés</a></div><div><a href=\"/ismerkedes\">Ismerkedés</a></div><div><a href=\"/kozlekedes\">Közlekedés</a></div><div><a href=\"/kozoktatas-tanfolyamok\">Közoktatás, tanfolyamok</a></div><div><a href=\"/kultura-es-kozosseg\">Kultúra és közösség</a></div><div><a href=\"/otthon\">Otthon</a></div><div><a href=\"/politika\">Politika</a></div><div><a href=\"/sport-mozgas\">Sport, mozgás</a></div><div><a href=\"/szamitastechnika\">Számítástechnika</a></div><div><a href=\"/szepseg-es-divat\">Szépség és divat</a></div><div><a href=\"/szexualitas\">Szexualitás</a></div><div><a href=\"/szorakozas\">Szórakozás</a></div><div><a href=\"/tini-parkapcsolatok\">Tini párkapcsolatok</a></div><div><a href=\"/tudomanyok\">Tudományok</a></div><div><a href=\"/utazas\">Utazás</a></div><div><a href=\"/unnepek\">Ünnepek</a></div><div><a href=\"/uzlet-es-penzugyek\">Üzlet és pénzügyek</a></div><div><a href=\"/egyeb-kerdesek\">Egyéb kérdések</a></div></div></div><br/></div><div id=\"main2\"><div class=\"morzsamenu\"><a href=\"/\" title=\"Gyakorikerdesek\">Kezdőoldal</a> » <b>Keresés</b></div>\n",
       "<h1>Szakkollégium - Gyakori kérdések</h1>\n",
       "<h2>Talált kulcsszavak:</h2><div class=\"flex kulcsszo_lista\"><div><input class=\"check\" id=\"chkb106826\" onclick='alert(\"A kulcsszó figyelés beállításához be kell jelentkezned!\"); location.href=\"/belepes\";' type=\"checkbox\"/> <a href=\"/kereses.php?keres=szakkoll%C3%A9gium\">szakkollégium</a></div><div><input class=\"check\" id=\"chkb358583\" onclick='alert(\"A kulcsszó figyelés beállításához be kell jelentkezned!\"); location.href=\"/belepes\";' type=\"checkbox\"/> <a href=\"/kereses.php?keres=M%C3%A1rton+%C3%81ron+Szakkoll%C3%A9gium\">Márton Áron Szakkollégium</a></div><div><input class=\"check\" id=\"chkb1557150\" onclick='alert(\"A kulcsszó figyelés beállításához be kell jelentkezned!\"); location.href=\"/belepes\";' type=\"checkbox\"/> <a href=\"/kereses.php?keres=Szent+Ign%C3%A1c+Jezsuita+Szakkoll%C3%A9gium\">Szent Ignác Jezsuita Szakkollégium</a></div></div><br/><h2>Talált kérdések:</h2><div class=\"oldalszamok\" style=\"text-align: center;\"> <span style=\"background-color: #efefef; padding: 5px; font-weight: bold;\">1</span> <a href=\"/kereses.php?keres=szakkoll%C3%A9gium&amp;oldal=2\" title=\"szakkollégium 2.\">2</a>  <a href=\"/kereses.php?keres=szakkoll%C3%A9gium&amp;oldal=3\" title=\"szakkollégium 3.\">3</a>  <a href=\"/kereses.php?keres=szakkoll%C3%A9gium&amp;oldal=4\" title=\"szakkollégium 4.\">4</a>  <a href=\"/kereses.php?keres=szakkoll%C3%A9gium&amp;oldal=5\" title=\"szakkollégium 5.\">5</a>  <a href=\"/kereses.php?keres=szakkoll%C3%A9gium&amp;oldal=6\" title=\"szakkollégium 6.\">6</a>  <a href=\"/kereses.php?keres=szakkoll%C3%A9gium&amp;oldal=7\" title=\"szakkollégium 7.\">7</a>  <a href=\"/kereses.php?keres=szakkoll%C3%A9gium&amp;oldal=8\" title=\"szakkollégium 8.\">8</a>  <a href=\"/kereses.php?keres=szakkoll%C3%A9gium&amp;oldal=9\" title=\"szakkollégium 9.\">9</a>  <a href=\"/kereses.php?keres=szakkoll%C3%A9gium&amp;oldal=10\" title=\"szakkollégium 10.\">10</a> <a href=\"/kereses.php?keres=szakkoll%C3%A9gium&amp;oldal=2\" title=\"szakkollégium 2.\">❯</a> <a href=\"/kereses.php?keres=szakkoll%C3%A9gium&amp;oldal=10\" title=\"szakkollégium 10.\">❯❯</a> </div>\n",
       "<div class=\"flex kerdeslista\" id=\"k12165689\" style=\"flex-wrap: nowrap;\"><div class=\"kerdes_normal\"></div><div class=\"kerdeslista_szoveg\"><a href=\"/kozoktatas-tanfolyamok__egyeb-kerdesek__12165689-a-budapesti-szakkollegiumokba-csak-akkor-jelentkezhetek-ha-az-adott-egyetemre-ja\">A budapesti szakkollégiumokba csak akkor jelentkezhetek ha az adott egyetemre járok?</a><br/><span class=\"kerdes_alatt\"><a class=\"kerdes_alatt\" href=\"/kozoktatas-tanfolyamok__egyeb-kerdesek\">Közoktatás, tanfolyamok » Egyéb kérdések</a></span></div><div class=\"kerdeslista_valasz\">1</div></div><div class=\"flex kerdeslista sor\" id=\"k12143277\" style=\"flex-wrap: nowrap;\"><div class=\"kerdes_normal\"></div><div class=\"kerdeslista_szoveg\"><a href=\"/kozoktatas-tanfolyamok__magyar-iskolak__12143277-miert-nem-veszik-fel-az-elte-btk-n-a-telefont\">Miért nem veszik fel az ELTE btk.-n a telefont?</a><br/><span class=\"kerdes_alatt\"><a class=\"kerdes_alatt\" href=\"/kozoktatas-tanfolyamok__magyar-iskolak\">Közoktatás, tanfolyamok » Magyar iskolák</a></span></div><div class=\"kerdeslista_valasz\">3</div></div><div class=\"flex kerdeslista\" id=\"k12104749\" style=\"flex-wrap: nowrap;\"><div class=\"kerdes_normal\"></div><div class=\"kerdeslista_szoveg\"><a href=\"/kozoktatas-tanfolyamok__egyeb-kerdesek__12104749-szakkollegiumi-tapasztalatok\">Szakkollégiumi tapasztalatok?</a><br/><span class=\"kerdes_alatt\"><a class=\"kerdes_alatt\" href=\"/kozoktatas-tanfolyamok__egyeb-kerdesek\">Közoktatás, tanfolyamok » Egyéb kérdések</a></span></div><div class=\"kerdeslista_valasz\">2</div></div><div class=\"flex kerdeslista sor\" id=\"k12090303\" style=\"flex-wrap: nowrap;\"><div class=\"kerdes_normal\"></div><div class=\"kerdeslista_szoveg\"><a href=\"/kozoktatas-tanfolyamok__tanulasi-lehetosegek__12090303-mit-kell-tudni-az-egyetemi-szakkollegiumokrol-pontosan-hogy-mukodik-mik-a-tags\">Mit kell tudni az egyetemi szakkollégiumokról? pontosan hogy működik, mik a tagsági feltételek, és mik kötelezettségek?</a><br/><span class=\"kerdes_alatt\"><a class=\"kerdes_alatt\" href=\"/kozoktatas-tanfolyamok__tanulasi-lehetosegek\">Közoktatás, tanfolyamok » Tanulási lehetőségek</a></span></div><div class=\"kerdeslista_valasz\">2</div></div><div class=\"flex kerdeslista\" id=\"k11913351\" style=\"flex-wrap: nowrap;\"><div class=\"kerdes_normal\"></div><div class=\"kerdeslista_szoveg\"><a href=\"/kozoktatas-tanfolyamok__magyar-iskolak__11913351-phd-skent-keso-szakkolegiumba-jelentkezni\">PhD-sként késő szakkolégiumba jelentkezni?</a><br/><span class=\"kerdes_alatt\"><a class=\"kerdes_alatt\" href=\"/kozoktatas-tanfolyamok__magyar-iskolak\">Közoktatás, tanfolyamok » Magyar iskolák</a></span></div><div class=\"kerdeslista_valasz\">0</div></div><div class=\"flex kerdeslista sor\" id=\"k11894807\" style=\"flex-wrap: nowrap;\"><div class=\"kerdes_normal\"></div><div class=\"kerdeslista_szoveg\"><a href=\"/kozoktatas-tanfolyamok__magyar-iskolak__11894807-miert-epp-a-harkaly-szerepel-az-elte-bibo-istvan-szakkollegium-logojabanbannere\">Miért épp a harkály szerepel az ELTE Bibó István Szakkollégium logójában/bannerében?</a><br/><span class=\"kerdes_alatt\"><a class=\"kerdes_alatt\" href=\"/kozoktatas-tanfolyamok__magyar-iskolak\">Közoktatás, tanfolyamok » Magyar iskolák</a></span></div><div class=\"kerdeslista_valasz\">0</div></div><div class=\"flex kerdeslista\" id=\"k11888739\" style=\"flex-wrap: nowrap;\"><div class=\"kerdes_normal\"></div><div class=\"kerdeslista_szoveg\"><a href=\"/kozoktatas-tanfolyamok__magyar-iskolak__11888739-a-benda-kalman-szakkollegium-felveteli-elbeszelgetesen-mi-varhato-milyen-kerdes\">A Benda Kálmán Szakkollégium felvételi elbeszélgetésén mi várható? Milyen kérdések? Milyen témák?</a><br/><span class=\"kerdes_alatt\"><a class=\"kerdes_alatt\" href=\"/kozoktatas-tanfolyamok__magyar-iskolak\">Közoktatás, tanfolyamok » Magyar iskolák</a></span></div><div class=\"kerdeslista_valasz\">0</div></div><div class=\"flex kerdeslista sor\" id=\"k11854503\" style=\"flex-wrap: nowrap;\"><div class=\"kerdes_normal\"></div><div class=\"kerdeslista_szoveg\"><a href=\"/kozoktatas-tanfolyamok__magyar-iskolak__11854503-mcc-mathias-corvinus-collegiumrol-velemeny\">MCC (mathias corvinus collégium)ról vélemény?</a><br/><span class=\"kerdes_alatt\"><a class=\"kerdes_alatt\" href=\"/kozoktatas-tanfolyamok__magyar-iskolak\">Közoktatás, tanfolyamok » Magyar iskolák</a></span></div><div class=\"kerdeslista_valasz\">3</div></div><div class=\"flex kerdeslista\" id=\"k11853338\" style=\"flex-wrap: nowrap;\"><div class=\"kerdes_normal\"></div><div class=\"kerdeslista_szoveg\"><a href=\"/kozoktatas-tanfolyamok__specialis-tanfolyamok__11853338-lenne-eselyem-szakkollegiumba\">Lenne esélyem szakkollégiumba?</a><br/><span class=\"kerdes_alatt\"><a class=\"kerdes_alatt\" href=\"/kozoktatas-tanfolyamok__specialis-tanfolyamok\">Közoktatás, tanfolyamok » Speciális tanfolyamok</a></span></div><div class=\"kerdeslista_valasz\">3</div></div><div class=\"flex kerdeslista sor\" id=\"k11851503\" style=\"flex-wrap: nowrap;\"><div class=\"kerdes_normal\"></div><div class=\"kerdeslista_szoveg\"><a href=\"/kozoktatas-tanfolyamok__magyar-iskolak__11851503-az-eotvos-jozsef-szakkollegiumra-kinek-van-eselye-bekerulni\">Az Eötvös József Szakkollégiumra kinek van esélye bekerülni?</a><br/><span class=\"kerdes_alatt\"><a class=\"kerdes_alatt\" href=\"/kozoktatas-tanfolyamok__magyar-iskolak\">Közoktatás, tanfolyamok » Magyar iskolák</a></span></div><div class=\"kerdeslista_valasz\">1</div></div><div class=\"flex kerdeslista\" id=\"k11837483\" style=\"flex-wrap: nowrap;\"><div class=\"kerdes_normal\"></div><div class=\"kerdeslista_szoveg\"><a href=\"/kozoktatas-tanfolyamok__magyar-iskolak__11837483-elte-szakkollegiumokrol-mit-lehet-tudni-hogyan-kell-jelentkezni\">ELTE szakkollégiumokról mit lehet tudni? Hogyan kell jelentkezni?</a><br/><span class=\"kerdes_alatt\"><a class=\"kerdes_alatt\" href=\"/kozoktatas-tanfolyamok__magyar-iskolak\">Közoktatás, tanfolyamok » Magyar iskolák</a></span></div><div class=\"kerdeslista_valasz\">3</div></div><div class=\"flex kerdeslista sor\" id=\"k11832490\" style=\"flex-wrap: nowrap;\"><div class=\"kerdes_normal\"></div><div class=\"kerdeslista_szoveg\"><a href=\"/kozoktatas-tanfolyamok__egyeb-kerdesek__11832490-melyiket-ajanlanatok-inkabb-az-elte-marton-aron-szakkollegiumot-vagy-az-erdos\">Melyiket ajánlanátok inkább, az ELTE Márton Áron Szakkollégiumot, vagy az Erdős Pál Kollégiumot?</a><br/><span class=\"kerdes_alatt\"><a class=\"kerdes_alatt\" href=\"/kozoktatas-tanfolyamok__egyeb-kerdesek\">Közoktatás, tanfolyamok » Egyéb kérdések</a></span></div><div class=\"kerdeslista_valasz\">1</div></div><div class=\"flex kerdeslista\" id=\"k11800923\" style=\"flex-wrap: nowrap;\"><div class=\"kerdes_normal\"></div><div class=\"kerdeslista_szoveg\"><a href=\"/kozoktatas-tanfolyamok__magyar-iskolak__11800923-az-elte-illyes-sandor-szakkollegiumaba-mennyire-nehez-bekerulni-golyakent\">Az ELTE Illyés Sándor Szakkollégiumába mennyire nehéz bekerülni gólyaként?</a><br/><span class=\"kerdes_alatt\"><a class=\"kerdes_alatt\" href=\"/kozoktatas-tanfolyamok__magyar-iskolak\">Közoktatás, tanfolyamok » Magyar iskolák</a></span></div><div class=\"kerdeslista_valasz\">1</div></div><div class=\"flex kerdeslista sor\" id=\"k11792228\" style=\"flex-wrap: nowrap;\"><div class=\"kerdes_normal\"></div><div class=\"kerdeslista_szoveg\"><a href=\"/kozoktatas-tanfolyamok__tanulasi-lehetosegek__11792228-elte-ik-programtervezo-informatikus-msc-velemenyek\">ELTE IK programtervező informatikus MSc vélemények?</a><br/><span class=\"kerdes_alatt\"><a class=\"kerdes_alatt\" href=\"/kozoktatas-tanfolyamok__tanulasi-lehetosegek\">Közoktatás, tanfolyamok » Tanulási lehetőségek</a></span></div><div class=\"kerdeslista_szavazas\" title=\"Szavazással bővített kérdés\"></div><div class=\"kerdeslista_valasz\" style=\"margin-left: 8px;\">2</div></div><div class=\"flex kerdeslista\" id=\"k11763442\" style=\"flex-wrap: nowrap;\"><div class=\"kerdes_normal\"></div><div class=\"kerdeslista_szoveg\"><a href=\"/kozoktatas-tanfolyamok__egyeb-kerdesek__11763442-elso-eves-egyetemistakent-is-jelentkezhetek-szakkoliba\">Első éves egyetemistaként is jelentkezhetek szakkoliba?</a><br/><span class=\"kerdes_alatt\"><a class=\"kerdes_alatt\" href=\"/kozoktatas-tanfolyamok__egyeb-kerdesek\">Közoktatás, tanfolyamok » Egyéb kérdések</a></span></div><div class=\"kerdeslista_valasz\">2</div></div><div class=\"flex kerdeslista sor\" id=\"k11699696\" style=\"flex-wrap: nowrap;\"><div class=\"kerdes_normal\"></div><div class=\"kerdeslista_szoveg\"><a href=\"/kozoktatas-tanfolyamok__egyeb-kerdesek__11699696-milyen-mindenkinek-elerheto-szakkolik-vannak-pesten\">Milyen mindenkinek elérhető szakkolik vannak Pesten?</a><br/><span class=\"kerdes_alatt\"><a class=\"kerdes_alatt\" href=\"/kozoktatas-tanfolyamok__egyeb-kerdesek\">Közoktatás, tanfolyamok » Egyéb kérdések</a></span></div><div class=\"kerdeslista_valasz\">2</div></div><div class=\"flex kerdeslista\" id=\"k11589033\" style=\"flex-wrap: nowrap;\"><div class=\"kerdes_normal\"></div><div class=\"kerdeslista_szoveg\"><a href=\"/kozoktatas-tanfolyamok__magyar-iskolak__11589033-mit-tudtok-a-navratil-akos-szakkollegiumrol\">Mit tudtok a Navratil Ákos szakkollégiumról?</a><br/><span class=\"kerdes_alatt\"><a class=\"kerdes_alatt\" href=\"/kozoktatas-tanfolyamok__magyar-iskolak\">Közoktatás, tanfolyamok » Magyar iskolák</a></span></div><div class=\"kerdeslista_valasz\">2</div></div><div class=\"flex kerdeslista sor\" id=\"k11554175\" style=\"flex-wrap: nowrap;\"><div class=\"kerdes_normal\"></div><div class=\"kerdeslista_szoveg\"><a href=\"/uzlet-es-penzugyek__karrier-fizetes__11554175-egyetem-mellett-minel-elobb-gyakornoki-munka-vagy-tanulni-amennyit-csak-lehet\">Egyetem mellett minél előbb gyakornoki munka, vagy tanulni, amennyit csak lehet?</a><br/><span class=\"kerdes_alatt\"><a class=\"kerdes_alatt\" href=\"/uzlet-es-penzugyek__karrier-fizetes\">Üzlet és pénzügyek » Karrier, fizetés</a></span></div><div class=\"kerdeslista_szavazas\" title=\"Szavazással bővített kérdés\"></div><div class=\"kerdeslista_valasz\" style=\"margin-left: 8px;\">14</div></div><div class=\"flex kerdeslista\" id=\"k11553419\" style=\"flex-wrap: nowrap;\"><div class=\"kerdes_normal\"></div><div class=\"kerdeslista_szoveg\"><a href=\"/kozoktatas-tanfolyamok__tanulasi-lehetosegek__11553419-szakkolegiumi-felvetel-hogy-mukodik-ha-valaki-csak-bejaros-es-nem-bentlakos-aka\">Szakkolégiumi felvétel hogy működik, ha valaki csak bejárós és nem bentlakós akar lenni?</a><br/><span class=\"kerdes_alatt\"><a class=\"kerdes_alatt\" href=\"/kozoktatas-tanfolyamok__tanulasi-lehetosegek\">Közoktatás, tanfolyamok » Tanulási lehetőségek</a></span></div><div class=\"kerdeslista_valasz\">2</div></div><div class=\"flex kerdeslista sor\" id=\"k11541072\" style=\"flex-wrap: nowrap;\"><div class=\"kerdes_normal\"></div><div class=\"kerdeslista_szoveg\"><a href=\"/kozoktatas-tanfolyamok__egyeb-kerdesek__11541072-ha-nagyon-jo-erettsegit-irok-de-nincsenek-versenyeredmenyeim-akkormeg-van-esel\">Ha nagyon jó érettségit írok, de nincsenek versenyeredményeim, akkormég van esély arra, hogy felvegyenek a Bolyai Kollégiumba (ELTE)?</a><br/><span class=\"kerdes_alatt\"><a class=\"kerdes_alatt\" href=\"/kozoktatas-tanfolyamok__egyeb-kerdesek\">Közoktatás, tanfolyamok » Egyéb kérdések</a></span></div><div class=\"kerdeslista_valasz\">3</div></div><div class=\"flex kerdeslista\" id=\"k11540555\" style=\"flex-wrap: nowrap;\"><div class=\"kerdes_normal\"></div><div class=\"kerdeslista_szoveg\"><a href=\"/kozoktatas-tanfolyamok__tanulasi-lehetosegek__11540555-velemenyek-az-elte-illyes-sandor-szakkollegiumarol\">Vélemények az ELTE Illyés Sándor Szakkollégiumáról?</a><br/><span class=\"kerdes_alatt\"><a class=\"kerdes_alatt\" href=\"/kozoktatas-tanfolyamok__tanulasi-lehetosegek\">Közoktatás, tanfolyamok » Tanulási lehetőségek</a></span></div><div class=\"kerdeslista_valasz\">2</div></div><div class=\"flex kerdeslista sor\" id=\"k11507308\" style=\"flex-wrap: nowrap;\"><div class=\"kerdes_normal\"></div><div class=\"kerdeslista_szoveg\"><a href=\"/kozoktatas-tanfolyamok__tanulasi-lehetosegek__11507308-velemenyek-az-eotvos-jozsef-collegiumrol\">Vélemények az Eötvös József Collegiumról?</a><br/><span class=\"kerdes_alatt\"><a class=\"kerdes_alatt\" href=\"/kozoktatas-tanfolyamok__tanulasi-lehetosegek\">Közoktatás, tanfolyamok » Tanulási lehetőségek</a></span></div><div class=\"kerdeslista_valasz\">1</div></div><div class=\"flex kerdeslista\" id=\"k11340462\" style=\"flex-wrap: nowrap;\"><div class=\"kerdes_normal\"></div><div class=\"kerdeslista_szoveg\"><a href=\"/kozoktatas-tanfolyamok__tanulasi-lehetosegek__11340462-milyen-szakkollegiumokat-ismertek-ahova-nem-csak-1-2-evben-lehet-jelentkezni-j\">Milyen szakkollégiumokat ismertek, ahova nem csak 1-2. évben lehet jelentkezni jogász szakos hallgatóként?</a><br/><span class=\"kerdes_alatt\"><a class=\"kerdes_alatt\" href=\"/kozoktatas-tanfolyamok__tanulasi-lehetosegek\">Közoktatás, tanfolyamok » Tanulási lehetőségek</a></span></div><div class=\"kerdeslista_valasz\">0</div></div><div class=\"flex kerdeslista sor\" id=\"k11327958\" style=\"flex-wrap: nowrap;\"><div class=\"kerdes_normal\"></div><div class=\"kerdeslista_szoveg\"><a href=\"/kozoktatas-tanfolyamok__tanulasi-lehetosegek__11327958-szerintetek-melyik-corvinusos-szakkoli-a-legjobb\">Szerintetek melyik Corvinusos szakkoli a legjobb?</a><br/><span class=\"kerdes_alatt\"><a class=\"kerdes_alatt\" href=\"/kozoktatas-tanfolyamok__tanulasi-lehetosegek\">Közoktatás, tanfolyamok » Tanulási lehetőségek</a></span></div><div class=\"kerdeslista_szavazas\" title=\"Szavazással bővített kérdés\"></div><div class=\"kerdeslista_valasz\" style=\"margin-left: 8px;\">1</div></div><div class=\"oldalszamok\" style=\"text-align: center;\"> <span style=\"background-color: #efefef; padding: 5px; font-weight: bold;\">1</span> <a href=\"/kereses.php?keres=szakkoll%C3%A9gium&amp;oldal=2\" title=\"szakkollégium 2.\">2</a>  <a href=\"/kereses.php?keres=szakkoll%C3%A9gium&amp;oldal=3\" title=\"szakkollégium 3.\">3</a>  <a href=\"/kereses.php?keres=szakkoll%C3%A9gium&amp;oldal=4\" title=\"szakkollégium 4.\">4</a>  <a href=\"/kereses.php?keres=szakkoll%C3%A9gium&amp;oldal=5\" title=\"szakkollégium 5.\">5</a>  <a href=\"/kereses.php?keres=szakkoll%C3%A9gium&amp;oldal=6\" title=\"szakkollégium 6.\">6</a>  <a href=\"/kereses.php?keres=szakkoll%C3%A9gium&amp;oldal=7\" title=\"szakkollégium 7.\">7</a>  <a href=\"/kereses.php?keres=szakkoll%C3%A9gium&amp;oldal=8\" title=\"szakkollégium 8.\">8</a>  <a href=\"/kereses.php?keres=szakkoll%C3%A9gium&amp;oldal=9\" title=\"szakkollégium 9.\">9</a>  <a href=\"/kereses.php?keres=szakkoll%C3%A9gium&amp;oldal=10\" title=\"szakkollégium 10.\">10</a> <a href=\"/kereses.php?keres=szakkoll%C3%A9gium&amp;oldal=2\" title=\"szakkollégium 2.\">❯</a> <a href=\"/kereses.php?keres=szakkoll%C3%A9gium&amp;oldal=10\" title=\"szakkollégium 10.\">❯❯</a> </div>\n",
       "</div></div><br/><div id=\"widgettaboola\"></div>\n",
       "<div id=\"siteinfo\">\n",
       "<button onclick='if(!gcookie(\"cookieok\") &amp;&amp; cookienemok()) return false; ccookie(\"sotet_mod\",\"1679408396\",1209600); location.reload(false);'>Sötét mód bekapcsolása</button><br/><br/>\n",
       "\n",
       "Minden jog fenntartva © 2023, www.gyakorikerdesek.hu<br/>\n",
       "<a href=\"/help\">GYIK</a> |\n",
       "<a href=\"/felhasznaloi_szabalyzat\">Szabályzat</a> |\n",
       "<a href=\"/jogi_nyilatkozat\">Jogi nyilatkozat</a> |\n",
       "<a href=\"/adatvedelem\">Adatvédelem</a> | <a href=\"#\" onclick=\"stialert(); sti_lehetosegek();\">Cookie beállítások</a> |\n",
       "<a href=\"//www.webminute.hu/\" target=\"_blank\">WebMinute Kft.</a> |\n",
       "<a href=\"/facebook\" target=\"_blank\">Facebook</a> |\n",
       "Kapcsolat: <span style=\"white-space: nowrap;\">info(kukac)gyakorikerdesek.hu</span>\n",
       "<br/><br/>\n",
       "<div style=\"text-align: center;\">A weboldalon megjelenő anyagok nem minősülnek szerkesztői tartalomnak, előzetes ellenőrzésen nem esnek át, az üzemeltető véleményét nem tükrözik.<br/>Ha kifogással szeretne élni valamely tartalommal kapcsolatban, kérjük jelezze e-mailes elérhetőségünkön!</div>\n",
       "</div>\n",
       "</div>\n",
       "<div id=\"res\"></div>\n",
       "<script>stialert();</script>\n",
       "\n",
       "</body></html>"
      ]
     },
     "execution_count": 319,
     "metadata": {},
     "output_type": "execute_result"
    }
   ],
   "source": [
    "get_soup(URL, user_agent=ua.random, proxy=None, timeout=3, sleep_time=0)"
   ]
  },
  {
   "cell_type": "markdown",
   "id": "sized-apparel",
   "metadata": {
    "heading_collapsed": true
   },
   "source": [
    "# Adatszerzés PDF-ből"
   ]
  },
  {
   "cell_type": "markdown",
   "id": "opposed-grenada",
   "metadata": {
    "hidden": true
   },
   "source": [
    "Szöveg kiszedése"
   ]
  },
  {
   "cell_type": "code",
   "execution_count": 245,
   "id": "essential-intervention",
   "metadata": {
    "ExecuteTime": {
     "end_time": "2023-03-21T14:05:20.541763Z",
     "start_time": "2023-03-21T14:05:19.657463Z"
    },
    "hidden": true
   },
   "outputs": [],
   "source": [
    "text = textract.process(\"rajk_modell.pdf\", method=\"pdftotext\")"
   ]
  },
  {
   "cell_type": "markdown",
   "id": "taken-belle",
   "metadata": {
    "hidden": true
   },
   "source": [
    "Nézzünk bele"
   ]
  },
  {
   "cell_type": "code",
   "execution_count": 246,
   "id": "natural-moderator",
   "metadata": {
    "ExecuteTime": {
     "end_time": "2023-03-21T14:05:22.005883Z",
     "start_time": "2023-03-21T14:05:21.981899Z"
    },
    "hidden": true
   },
   "outputs": [
    {
     "data": {
      "text/plain": [
       "b'CHIK\\xef\\xbf\\xbdN ATTILA \\xef\\xbf\\xbd ILY\\xef\\xbf\\xbdS M\\xef\\xbf\\xbdRTON\\r\\nA Rajk-modell: egy pedag\\xef\\xbf\\xbdgiai k\\xef\\xbf\\xbds\\xef\\xbf\\xbdrlet \\xef\\xbf\\xbds tapasztalata'"
      ]
     },
     "execution_count": 246,
     "metadata": {},
     "output_type": "execute_result"
    }
   ],
   "source": [
    "text[:100]"
   ]
  },
  {
   "cell_type": "code",
   "execution_count": 249,
   "id": "elect-corner",
   "metadata": {
    "ExecuteTime": {
     "end_time": "2023-03-21T14:05:31.014569Z",
     "start_time": "2023-03-21T14:05:30.987977Z"
    },
    "hidden": true,
    "tags": []
   },
   "outputs": [
    {
     "data": {
      "text/plain": [
       "'CHIK�N ATTILA � ILY�S M�RTON\\r\\nA Rajk-modell: egy pedag�giai k�s�rlet �s tapasztalatai\\r\\nBevezet�s\\r\\nEg'"
      ]
     },
     "execution_count": 249,
     "metadata": {},
     "output_type": "execute_result"
    }
   ],
   "source": [
    "text.decode(\"utf-8\")[:100]"
   ]
  },
  {
   "cell_type": "markdown",
   "id": "registered-course",
   "metadata": {
    "hidden": true
   },
   "source": [
    "Alakítsuk át"
   ]
  },
  {
   "cell_type": "code",
   "execution_count": 230,
   "id": "4321c04d",
   "metadata": {
    "ExecuteTime": {
     "end_time": "2023-03-21T14:03:36.743271Z",
     "start_time": "2023-03-21T14:03:36.702679Z"
    },
    "hidden": true
   },
   "outputs": [
    {
     "data": {
      "text/plain": [
       "0    CHIK�N ATTILA � ILY�S M�RTON\\r\\nA Rajk-modell:...\n",
       "dtype: object"
      ]
     },
     "execution_count": 230,
     "metadata": {},
     "output_type": "execute_result"
    }
   ],
   "source": [
    "pd.Series([text]).str.normalize(\"NFKD\")"
   ]
  },
  {
   "cell_type": "markdown",
   "id": "adequate-communications",
   "metadata": {
    "hidden": true
   },
   "source": [
    "Normalizáljuk"
   ]
  },
  {
   "cell_type": "code",
   "execution_count": 255,
   "id": "frequent-mobility",
   "metadata": {
    "ExecuteTime": {
     "end_time": "2023-03-21T14:06:19.911820Z",
     "start_time": "2023-03-21T14:06:19.887466Z"
    },
    "hidden": true,
    "scrolled": false,
    "tags": []
   },
   "outputs": [
    {
     "data": {
      "text/plain": [
       "'CHIK�N ATTILA � ILY�S M�RTON\\r\\nA Rajk-modell: egy pedag�giai k�s�rlet �s tapasztalatai\\r\\nBevezet�s\\r\\nEgy orsz�g oktat�si rendszer�nek sz�nvonal�t egyebek mellett a l�tez form�k v�ltozatoss�ga, az innovat�v k�s�rletek befogad�sa is m�lyen jellemzi. A szakkoll�giumok val�ban innovat�v form�k: b�r term�szetesen m�s orsz�gokban is tal�lhat�k olyan int�zm�nyek, amelyek a hazai szakkoll�giumok h�rom mark�ns jellemzj�nek, a szakmais�gnak, k�z�ss�gis�gnek �s t�rsadalmi �rz�kenys�gnek ak�r t�bb von�s�val is rendelkeznek, tapasztalataink szerint ezek integr�lt egys�g�nek megval�s�t�sa hungaricum. K�l�n �rdekess�get �s fontoss�got ad a magyar szakkoll�giumi rendszernek, hogy eredeti form�j�ban alulr�l j�v kezdem�nyez�sk�nt j�tt l�tre, s b�r �vtizedek �ta elismerten bizony�t, mind a mai napig l�nyeg�ben javar�szt �llami t�mogat�s n�lk�l mk�dik. Lehet persze, hogy ez haszn�ra v�lt: a hazai felsoktat�s-ir�ny�t�s t�bb �vtizedes cikkcakkjainak k�nyszer k�vet�se val�sz�nleg ink�bb �rtott, mint haszn�lt volna a szakkoll�giumi mozgalomnak.\\r\\nUgyanakkor a hazai, d�nten �llamilag ir�ny�tott felsoktat�s keret�ben sok egyetemen, fiskol�n egyre nehezebb a jelenlegi, tulajdonk�ppen ,,trt\" kateg�ri�ban mk�dni. Nagy sz�ks�g lenne arra, hogy a szakkoll�giumok a tehets�ggondoz�snak ne csak szavakban legyenek elismert eszk�zei, hanem megkapj�k az eredm�nyess�get lehetv� tev anyagi �s erk�lcsi t�mogat�st. Szerencs�tlen dolog, hogy mik�zben a t�rsadalmi �s technikai fejld�s egyre erteljesebben h�vja fel a figyelmet arra, hogy n�vekv ig�ny van �s lesz a t�meges k�pz�sen t�l a kiemelked k�pess�g, �n�ll� gondolkod�s�, alkot�k�pes emberekre, haz�nk felsoktat�sa nem �l azzal a ,,v�letlen\" szerencs�vel, hogy kialakult benne a szakkoll�giumok erre alkalmas, saj�tos rendszere.\\r\\nVil�gos, hogy l�nyegesen t�bb tud�sra lenne sz�ks�g a szakkoll�giumokr�l ahhoz, hogy p�ld�juk sz�lesebb k�rben is hasznosulhasson. Ehhez szeretn�nk e cikkel hozz�j�rulni. A szakkoll�giumok sokf�l�k, s ez j� � nem gondoljuk, hogy a Rajk-modellj�nek k�vet�se lenne az egyetlen j�rhat� �t. �gy v�lj�k azonban, hogy ez a modell m�r hosszabb t�von is bizony�tott, s ez�rt tal�n nem �rdektelen jellemzit m�soknak is megfontolni.\\r\\n�� Educatio 2016/3. Chik�n Attila � Ily�s M�rton: A Rajk-modell: egy pedag�giai k�s�rlet �s tapasztalatai, 332�347. pp.\\r\\n332\\r\\n\\r\\n\\x0cchik�n attila � ily�s m�rton: a rajk-modell ...\\r\\nA cikk keret�ben t�rgyalt Rajk-modellt a k�vetkez ism�rvekkel �rhatjuk le: � sz�lesk�r auton�mi�val rendelkez felsoktat�si int�zm�ny; � tev�kenys�ge �rt�kk�zpont�, a koll�gist�k �ltal elfogadott szem�lyes �s t�rsadalmi �r-\\r\\nt�kek az alapja; � mk�d�se a tags�g �ntev�kenys�g�re �p�l, amelyet di�k�nkorm�nyzat ir�ny�t; � az �j tagok kiv�laszt�sa a mindenkori di�kok joga �s feladata, ennek elk�sz�t�se sor�n\\r\\nfokozottan figyel a h�tr�nyos helyzet di�kok es�lyeinek biztos�t�s�ra; � tagjainak d�nt h�nyada egy�tt lakik; � a di�kok folyamatos �s sz�nvonalas, �ltaluk szabadon megv�lasztott t�m�j� �s form�j�\\r\\nszakmai munk�t v�geznek, melyet a k�z�ss�g �ltal meghat�rozott krit�riumok szerint ellenriznek �s �rt�kelnek; � a tagok t�rsadalmi �rz�kenys�g�t kifejez t�nyleges cselekv�sek, programok a k�z�ss�gi l�t integr�ns r�sz�t k�pezik.\\r\\nT�rt�neti �ttekint�s\\r\\nA Rajk L�szl� Szakkoll�gium 1970 m�rcius�ban alakult meg, 25 alap�t� taggal, az akkori Marx K�roly K�zgazdas�gtudom�nyi Egyetem (n�pszer nev�n a K�zg�z) Veres P�ln� utcai �p�let�nek n�h�ny szob�j�ban. A kital�l�s �s alap�t�sfolyamatban kulcsszerepe volt a di�koknak, de az egyetem rektor�nak, Szab� K�lm�nnak elk�telezett t�mogat�sa n�lk�l a Szakkoll�gium nem j�hetett volna l�tre.\\r\\nA Szakkoll�gium (a hatvanas �vekben egy�ltal�n nem term�szetesen ad�d�) gondolat�nak megfogan�s�hoz �s megval�s�t�s�hoz az 1968-as gazdas�gi mechanizmus reform ut�n kialakult viszonylag szabadabb t�rsadalmi l�gk�r h�rom folyom�nya vezetett el: egyr�szt a K�zg�z �tfog� oktat�si �s mk�d�si reformja, m�sr�szt az a felismer�s, hogy az orsz�gban f�jdalmas m�rt�kben lelassult a t�rsadalmi mobilit�s, harmadr�szt pedig a n�pi koll�giumi mozgalom tartalmi rehabilit�ci�ja. A Szakkoll�gium elk�pek�nt szervezeti-k�z�ss�gi szinten a n�pi koll�giumok, szakmai vonatkoz�sban pedig az angol college-ok (s ehhez kapcsol�d�an a t�rt�nelmi E�tv�s Collegium) jelentek meg, ezekbl gy�rtuk �ssze a Szakkoll�gium modellj�t.\\r\\nA K�zg�znak az akkori t�rsadalmi viszonyokhoz k�pest �ltal�nosan is liber�lisabb vezet�se, �len a mindenkori rektorokkal az orsz�gos, vagy ak�r a budapesti helyzethez k�pest is nagyobb mozg�steret tett lehetv� a kurzusok tematik�j�ban, az elad�k megh�v�s�ban, a k�z�ss�gi cselekm�nyekben. Sokszor kellett az aktu�lis politikai neh�zs�gekkel megk�zdeni, de fontos �s inspir�l� �rz�s volt, hogy ez nem volt eredm�nytelen.\\r\\nA szakmai �s k�z�ss�gi munka f�kusz�ban, a hetvenes �vekben a szocializmus reformj�nak k�zgazdas�gi �s szociol�giai lehets�gei �lltak, kevesebb sz� esett a politikai keretekrl. Ez a helyzet gyorsan �s radik�lisan megv�ltozott a nyolcvanas �vek fordul�j�t�l, amikor nem kev�s bels �s k�ls csat�roz�s ut�n l�nyeg�ben a rendszerv�lt�s lehets�gei ker�ltek elt�rbe (akkor persze m�g nem tudtuk, hogy ezt �gy kell h�vni). Ez megnyilv�nult a kurzustematik�kban, a rendezv�nyek jelleg�ben �s megh�vottjaiban, s elvezetett oda, hogy a nyolcvanas �vek m�sodik fel�ben a Rajk �s a Bib� �ltal vezetett szakkoll�giumi mozgalom a rendszerv�lt�s t�nylegesen komoly t�nyezj�v� v�lt.\\r\\nA rendszerv�lt�s �veiben a Rajk gyorsan alkalmazkodott a helyzethez: tudatosan szak�tottunk az int�zm�nyi politiz�l�ssal, �tszervezt�k, profibb alapokra helyezt�k a szakmai rendszer�nket (amely, ezt fontos hangs�lyozni, nem sz�netelt az akt�v politi-\\r\\n333\\r\\n\\r\\n\\x0cszakkoll�giumok �s elitk�pz�s\\r\\nz�l�s �veiben sem: ugyan�gy megvoltak a kurzusok, TDK dolgozatok, elad�sok, mint kor�bban). Ebben a folyamatban jelents szerepe volt a Soros Alap�tv�nyt�l a szakmai munka finansz�roz�s�ra kapott t�mogat�snak (amelyet sok �ven �t rendszeresen kapott h�rom szakkoll�gium: a Rajk, a Bib� �s a Sz�chenyi, s alkalmank�nt m�sok is). Hozz� kell tenni, hogy ehhez a t�mogat�shoz soha semmilyen belesz�l�si t�rekv�s vagy k�s�rlet nem kapcsol�dott. Innentl kezdve tudtunk tiszteletd�jat fizetni a kurzusvezetinknek, s egyidejleg jelentsen megn�velt�k a tagokkal szembeni szakmai k�vetelm�nyeket is.\\r\\nA szakmai munka fejleszt�s�nek fontos alapelve volt, hogy a szakkoll�gist�k mindig a nemzetk�zi �lvonalat tekints�k m�rc�nek. Ennek megval�s�t�s�ban sokat seg�tett, hogy a rendszerv�lt�st k�veten meg�l�nk�ltek a nemzetk�zi, fleg eur�pai csereprogramok, gyakoribb� v�ltak az �szt�nd�jlehets�gek. M�ig �rv�nyes tendenci�v� v�lt, hogy alig van olyan rajkos, aki ne t�ltene legal�bb f�l �vet k�lf�ldi k�pz�sen egyetemi p�lyafut�sa alatt. K�l�n�sen jelents az a kilencvenes �vek elej�n megindult tendencia, hogy ar�nyaiban igen jelents sz�m� rajkos folytat tov�bbi mester, vagy fleg PhD tanulm�nyokat a hazai v�gz�s ut�n, r�ad�sul a vil�g legjobb egyetemein. A Harvarddal, Berkeley-vel, Stanforddal, MIT-vel, Oxforddal, Barcelon�val, Princetonnal kezdd, �s j�csk�n folytat�d� impoz�ns lista azt igazolja, hogy a rajkos tanulm�nyokkal kieg�sz�tett Corvinus (emellett a k�sbbiekben CEU �s ELTECON) k�pz�s b�rhol a vil�gon versenyk�pes.\\r\\nA vil�gsz�nvonal�rt nemcsak kiutaztak di�kjaink, hanem ide is hozt�k. 1995-ben alap�tottuk meg a John von Neumann d�jat, majd 2004-ben a Herbert Simon d�jat: az elbbivel a k�zgazdas�gtan, az ut�bbival az �zleti tudom�nyok azon vil�gviszonylatban kiemelked k�pviselit ismerj�k el (a koll�giumi gyl�s gondosan elk�sz�tett d�nt�se alapj�n), akiknek munk�ss�ga jelents hat�st gyakorol a koll�gist�k gondolkod�s�ra. A d�jasok n�vsora sz�munkra is szinte hihetetlen: �t Nobel d�jassal az �len val�ban a vil�g legfels szakmai elitje fogadta el megh�v�sunkat. A d�jazottak egy nyilv�nos elad�st �s egy z�rtk�r (speci�lisan erre felk�sz�lt di�koknak sz�l�) mesterkurzust tartanak Budapesten.\\r\\nA kilencvenes �s k�tezres �vek tapasztalatai szerint j�r�szt kudarcos egyetemi reformjai, a Corvinus-t, illetve jogeldjeit �rt politikai t�mad�sok nagyon sok neh�zs�get okoztak a Rajk sz�m�ra is. A Corvinuson megtapasztalt sz�nvonales�s (amelynek legfontosabb okai k�z�tt a megsz�ntet�ssel, k�l�nb�z szint ,,integr�ci�kkal\" val� fenyegetetts�g �s a p�nz�gyi, szem�lyi �s t�rgyi felt�telek biztos�t�sa n�lk�l megval�sult hallgat�i l�tsz�memel�s j�tszotta a fszerepet) oda vezetett, hogy a Rajknak vissza kellett t�rnie a 70-es, 80-as �vek gyakorlat�hoz �s az egyetemi k�pz�s tov�bbgondol�s�ra, kieg�sz�t�s�re orient�lt kurzusok helyett nagy sz�mban kell tartanunk az egyetemi k�pz�s hi�nyoss�gait p�tl� kurzusokat is. K�l�n�sen jelents hat�sa volt a Corvinus k�zgazdas�gtani k�pz�s�ben el�llt ir�nyv�lt�snak, aminek ellenhat�sak�nt l�trej�tt az ELTE k�zgazdas�gtani k�pz�se, ahonnan �vek �ta rendszeresen vesz�nk fel hallgat�kat.\\r\\nA rendszerv�lt�st k�veten elkezdett terjedni haz�nkban a szakkoll�giumi mozgalom, s ez a folyamat ma is tart. Jelenleg t�bb mint sz�z, mag�t szakkoll�giumnak nevez int�zm�ny van Magyarorsz�gon, �s m�r a hat�ron t�l is. Sok vita �vezi ma is azt, hogy melyek azok a krit�riumok, amelyek alapj�n egy int�zm�ny szakkoll�giumnak tekinthet. A Rajk v�ltoz� intenzit�ssal vett r�szt ezekben a vit�kban. Van egy k�vetkezetesen k�pviselt �ll�spontunk, amely a kilencvenes �vek elej�n a mozgalom akkori r�sztvevi �ltal elfogadott ,,Szakkoll�giumi Chart�ra\" �p�l, ami a sok k�l�nb�z h�tt�rrel �s motiv�ci�val l�trej�tt szakkoll�gium jelents r�sze sz�m�ra t�ls�gosan szk. �ll�spontunk\\r\\n334\\r\\n\\r\\n\\x0cchik�n attila � ily�s m�rton: a rajk-modell ...\\r\\nszerint nagyon sok igen tiszteletre m�lt� �s eredm�nyes int�zm�ny l�tezik �s l�tezhet egym�s mellett an�lk�l, hogy mindegyiket egy ,,szakkoll�gium\" erny al� kellene besorolni. Meg kell jegyezni, hogy az egym�st k�vet korm�nyzatok sok �g�rettel, de kev�s �rdemi aktivit�ssal ink�bb n�velt�k, mintsem kisim�tott�k volna az ellentmond�sokat. A Rajk � b�rmilyen st�diumban is voltak a mozgalmon bel�li vit�k � mindig akt�v volt a kapcsolatok szervez�s�ben. A rendszeres szakkoll�gium k�zi programok � k�zt�k a NYATA-k (ny�ri tal�lkoz�k) mellett kiemelend, hogy a Rajk �tt�r szerepet j�tszott abban, hogy t�bb �ves mag�nyos rajkos tags�g ut�n az id�ntl t�bb hazai szakkoll�gium is tagja lett az eur�pai szakkoll�gium-t�pus� szervezd�seket �sszefog� EUCA-nak (European University College Association). Tev�kenys�g�nk elismer�s�t jelzi, hogy a Rajkot az EUCA Board-j�nak tagj�v� v�lasztott�k.\\r\\nAz ezredfordul� t�j�n, az �j �vezred elej�n felers�dtek a koll�giumban az �rt�kvit�k. A folyamatban l�v t�rsadalmi v�ltoz�sok sok tekintetben nem azokba az ir�nyokba mutatnak, amelyeket a Rajk szellemis�ge alapj�n v�rtunk, rem�lt�nk. Mivel a koll�gium �rt�kk�zpont� mk�d�se a szocializ�ci�s folyamataink k�zponti eleme, a koll�giumon bel�li �s k�v�li vil�g �rt�keinek diverg�l�sa frusztr�ci�hoz, elbizonytalanod�shoz vezetett. Kider�lt azonban, hogy az alappill�rek nem k�rnyezetf�ggek; a szakmai elitk�pz�sre szks�g van, a k�z�ss�gi �letre �r�k ig�nye marad a koroszt�lynak �s a t�rsadalomban folyamatosan vannak kih�v�sok, amikkel foglalkozni �rdemes.\\r\\nA Rajk alapelvei\\r\\nA Rajk a tagjainak sz�m�ra a felntt� v�l�s terepe. Ehhez kapcsol�dik pedag�giai programja, strukt�r�ja �s kult�r�ja is.\\r\\nA pedag�giai program alapjai\\r\\nA Rajk egyetemi szakkoll�gium, ahol 19 � 25 �ves di�kok, fiatal felnttek �lnek szoros k�z�ss�gben. A modell c�lja a szem�lyis�g kibontakoztat�sa �s fejleszt�se. Az int�zm�ny term�szetszerleg, de tudatosan v�llaltan is ,,hozott anyagb�l dolgozik;\" ide k�zel k�sz szem�lyis�gek ker�lnek be, megl�v t�rsadalmi �s csal�di h�tt�rrel, egy�ni �let�ttal. Egy di�k mond�s�t m�ig sokat id�zik a tagjaink � �reznek igazs�got benne: a Rajk sz�tszed darabokra �s �jra �sszerak. Ez semmik�pp se jelenti, hogy a Rajk c�lja az egy�nek m�ltj�nak fel�l�r�sa, nem t�rekszik tiszta lap nyit�s�ra! �pp ellenkezleg, a sokf�le hozott elem �rt�kes alapanyag ebben a k�z�ss�gben.\\r\\nA Rajk pedag�giai-program kulcseleme, hogy minden esem�ny, tud�s �s �rt�k �l k�z�ss�gi �lm�nybe �gyaz�djon be, �s val�snak �rzett, t�ttel j�r� kih�v�st jelentsen a tagok sz�m�ra. A Rajk egy viszonylag z�rt �s szeret k�z�ss�g, ahol az int�zm�ny sok szempontb�l v�di a di�kokat, hogy kell biztons�g�rzet�k legyen a kock�zatv�llal�shoz, �nkifejt�shez. Ek�zben m�gis k�pes val�snak tn t�tet biztos�tani az egy�ni d�nt�sekhez: a k�z�ss�gi visszajelz�sek ereje olyan ers, hogy a r�sztvevk sz�m�ra ez nem ,,j�t�k\" � a v�gzettek �vtizedes t�vlatb�l is �let�k legintenz�vebb �lm�nyek�nt hivatkoznak egyes rajkb�li konfliktusaikra.\\r\\nA felntt� v�l�s nagy k�rd�se r�viden, hogy mi�rt �rdemes �s hogyan kellene �lni. � Van-e felelss�g�k, r�hat�suk az ket k�r�lvev vil�gra? � Mi az egy�ni boldogs�g �s a k�z�ss�g viszonya?\\r\\n335\\r\\n\\r\\n\\x0cszakkoll�giumok �s elitk�pz�s\\r\\n� Mi a siker? � Milyen anyagi j�l�tre sz�m�thatnak �s az anyagi javakat mire akarj�k haszn�lni? � Mi az erk�lcs, norm�k, �rt�kek szerepe a szem�lyes �let�kben? � Milyen st�lusban �rdemes �lni, mi a vag�ny? � Hogyan �lj�k meg a nemis�get, t�rsas kapcsolatokat? Milyen csal�dot szeretn�nek �p�-\\r\\nteni?\\r\\nSz�lk, vall�sok, celebek, v�lem�nyvez�rek mondj�k el v�laszaikat. Az �rintett koroszt�ly viszont saj�t v�laszokat keres, amihez a kort�rsak v�lem�nye a sz�m�ra legmeghat�roz�bb: sok folyos�i, hajnali besz�lget�s forog ezek k�r�l a k�rd�sek k�r�l.\\r\\nR�ad�sul nem el�g saj�t v�laszokat tal�lni, k�pviselni �s megv�deni azt, de fel kell k�sz�lni a folyamatos v�ltoz�sra is. Ez�rt nem az ,,iskola\" feladata az ,,igazs�g\" megmond�sa. Rajk-modell ehelyett azt k�pviseli, hogy a k�z�ss�g haszn�lja fel az egy�ni, ak�r k�ls v�lem�nyeket szabadon, �s a bels vit�i alapj�n krist�lyosodjanak ki az egyes tagok saj�t v�laszai ezekben a ,,nagy\" k�rd�sekben.\\r\\nA Rajk nyitott, �n�ll� v�lem�nyalkot�st hangs�lyoz� modellj�vel kapcsolatban gyakori kritika, hogy az ilyen intenz�v k�z�ss�g hi�ba nyitott �s megenged, m�gis term�szet�bl ad�d�an egynems�t: mik�zben azt mondja, hogy b�rki, b�rmit behozhat vagy gondolhat, a v�g�n m�gis mindenki azonos �rt�krendre jut. A Rajkkal kapcsolatban sokszor felmer�l a v�d, hogy eleve az int�zm�nyi berendezked�s�bl, hagyom�nyaib�l fakad�an is ,,liber�lis\" �rt�krendet sug�roz.\\r\\nTerm�szetesen a Rajk egy �rt�kk�z�ss�g: m�g ha a k�z�s �rt�kek hat�rai el�gg� defini�latlanok is, a sok bels interakci�ban kialakulnak k�z�s norm�k. A Rajk hagyom�nyaib�l �s k�l�n�sen emberk�p�bl val�ban fakad egyfajta vil�gk�p. Neh�z lenne ezt puszta liber�lis jelzvel lefedni. Fontos elem az egy�ni felelss�g �s szabads�g eszm�nye ebben a vil�gk�pben. Ugyanakkor legal�bb ilyen hangs�lyos a k�z�ss�g szerepe: a mindennapi egy�tt�l�s szinte kommunaszer helyzeteket hoz idnk�nt, de �ltal�noss�gban is nagyon domin�ns vonal a k�z�ss�gekben val� gondolkod�s �s a felelss�gv�llal�s. A Rajk hagyom�nyainak igen ers eleme a nemzeti identit�s meg�l�se, �s egyfajta patriotizmus hangs�lyoz�sa is. �sszess�g�ben elmondhat�, hogy a Rajk vil�gk�pe �s hagyom�nyai olyan komplexek, hogy b�rmilyen vall�si-politikai be�ll�totts�g� egy�n megtal�lhatja a sz�m�ra szimpatikus gy�kereket, amelyekbl saj�t �rt�kvil�g�t �s v�lem�nyeit levezetheti. Ezt igazolja a t�bb �vtized alatt v�gzett hallgat�ink p�ly�ja is.)\\r\\nM�g ha a Rajk nem is ad k�sz �s egyszer v�laszt az �let �rtelm�re, de azt �zeni, hogy �rdemes keresni. Nem csak lehets�g�nk, de egyben feladatunk is, hogy �rt�k�t�letet alkossunk, illetve v�lem�nyt nyilv�n�tsunk a minket k�r�lvev esem�nyekrl, d�nt�sekrl. A vil�g alkot�, cselekv r�szei vagyunk, lehet �s �rdemes is hatni a vil�gunkra, megtanulva ennek form�it, hat�rait, felv�llalva mor�lis dilemm�it.\\r\\nA rajkosok sz�m�ra egyszerre megnyugtat� �s frusztr�l� kih�v�s ez � persze szem�lyis�gf�gg, kin�l melyik az ersebb.\\r\\nA h�rom pill�r\\r\\nKev�s szlogen maradt f�nt �vtizedekig a Rajk t�rt�net�ben. Ilyen az, hogy a Rajk tev�kenys�ge h�rom pill�rre �p�l: szakmais�g, k�z�ss�g, t�rsadalmi �rz�kenys�g. Jellemz, hogy m�g az els kett; a ,,szakma\" �s a ,,k�z�ss�g\" stabil int�zm�nyrendszerrel �s vil�gos\\r\\n336\\r\\n\\r\\n\\x0cchik�n attila � ily�s m�rton: a rajk-modell ...\\r\\ntartalommal rendelkezik a tags�g k�ztudat�ban, a 3. pill�r mindig ,,v�ls�gban van.\" Ennek oka, hogy nincs bej�ratott kik�vezett �tja a c�l el�r�s�nek: erre a pill�rre igaz a legink�bb, hogy ,,minden gener�ci�nak meg kell alkotnia a saj�t koll�gium�t.\"\\r\\nA szakmais�g, mint legfbb legitim�ci�s pill�r\\r\\nA szakkoll�gium alapja a szakmai kiv�l�s�g �g�rete. A szakkoll�giumi modell t�rt�nelmileg is elssorban ebbl fakadt, tehets�ggondoz�sra, elitk�pz�sre ir�nyult. Ezt a korai c�lt tov�bb ers�tette a felsoktat�s t�megesed�se, ami term�szetszerleg hozta l�tre az ig�nyt, hogy az �tlagosn�l t�bbet akar� di�kok sz�m�ra j�jjenek l�tre int�zm�nyek. A 90es �vek szakkoll�giumi expanzi�j�nak is ez volt az egyik �szt�nzje.\\r\\nA szakmais�g a koll�giumon bel�l egyetemi k�pz�sen t�lmutat� kurzusokban, folyamatosan megszervezett szakmai elad�sokban, rendezv�nyekben �s a tanulm�nyi versenyek � elssorban a TDK, de sz�mos m�s megm�rettet�s is idetartozik � kiemelt szerep�ben jelenik meg.\\r\\nA szik�r sz�mok nyelv�n, a di�kok jellemzen k�t szakkoll�giumi kurzust vesznek fel f�l�vente az egyetemi tanulm�nyaikon t�l. Ezek egyenk�nt heti k�t �r�s kiscsoportos (4-8 fs) tal�lkoz�t �s jelents egy�ni k�sz�l�st jelentenek, f�l�venk�nti besz�mol�val, amelynek valamilyen saj�t produktum l�trehoz�s�n kell alapulnia.\\r\\nA 90-100 di�kunk �vrl-�vre 30-40 TDK dolgozatot �r meg, amivel a Corvinus Egyetem TDK- helyez�seinek 10-20%-t szerzik meg (a Rajk a Corvinus nappali di�kjainak 1,5%-�t adja).\\r\\n�vente �tlagosan 50 szakmai elad�s � k�z�tt�k a nemzetk�zi �lvonalba tartoz� tud�sok� is � zajlik a koll�giumban.\\r\\nA sz�mok m�g�tt rejlik a Rajk modell saj�toss�ga, az, hogy a szakmais�g m�lyen be�gyaz�dik az �ntev�kenys�g, a verseny �s az innov�ci� �rt�krendszer�be.\\r\\nA magyar felsoktat�sban sajn�latosan nagy hangs�lyt kap m�g ma is a di�kok passz�v szerepe melletti front�lis tud�s�tad�s. Az egyetemi szinten azonban m�r egyre kev�sb� lehet egys�ges, kanoniz�lt tud�sr�l besz�lni, ink�bb sz�mos m�dszertan �s tudom�nyos iskola egym�sra hat�s�nak �s verseny�nek lehet�nk tan�i, melyek sor�n a di�k, a tan�r �s a t�ma m�ly egym�sra tal�l�sa vezethet a kiv�l�s�ghoz.\\r\\nA Rajkban egy kiz�r�lag di�kokb�l �ll� test�let a Szakmai Munka Tan�cs (SZMT) szervezi a kurzusrendszert. k k�rik fel elzetes ig�nyfelm�r�s ut�n a tan�rokat p�ly�zat bead�s�ra �s csak az a kurzus indul el, amelyre legal�bb n�gy tag jelentkezik (a maxim�lis l�tsz�m nyolc f). A f�l�venk�nt megval�sul� 20-25 kurzusb�l minden �vben 4-5 �j. Gyakorlatilag alig van olyan kurzustart�, aki folyamatosan k�pes megnyerni a sz�ks�ges sz�m� hallgat�t � tal�n emiatt nem alakul ki egyfajta ,,Rajk k�zgazdas�gi iskola\" saj�tos m�dszertannal �s vil�gn�zettel (az ut�bbi 3 �vben �sszesen 90 tan�runk tan�tott legal�bb egyszer a Rajkban).\\r\\nEz a nagyon intenz�ven versenyeztet k�zeg el�g idegen a magyar felsoktat�st�l, de komoly preszt�zst ad a tan�rainknak, m�g ha n�ha nehezen fogadj�k, hogy ak�r sikeres �vek ut�n kiker�lnek a rendszerbl. Mivel ennek komoly hagyom�nya van, ez�rt mindenki tudja, hogy folyamatosan fejlesztenie kell a tematik�t �s a pedag�giai eszk�zeit. Felmer�lhet a vesz�lye � a magyar felsoktat�s sok r�sz�ben kialakul� ,,ti nem tanultok, mi nem tan�tunk\" rossz kompromisszum�nak; mi szor�tan� a di�kokat a neh�z kurzusok v�laszt�s�ra? A Rajkban komoly elismerts�ge van a ,,neh�z kurzusoknak,\" ahol a neh�z\\r\\n337\\r\\n\\r\\n\\x0cszakkoll�giumok �s elitk�pz�s\\r\\nteljes�t�snek a hiteles kurzustart� �rtelmet ad. Ez az�rt is �rdekes, mert a kurzus nem teljes�t�s�nek komoly s�lya van: k�t nem teljes�t�s automatikus kiz�r�ssal j�r, ami ut�n a koll�giumi gyl�s k�tharmados t�bbs�ggel veheti csak vissza a hib�z� tagot � ez mindig komoly k�z�ss�gi tiszt�t�tz.\\r\\nK�z�ss�gis�g\\r\\nA Rajk n�pi koll�giumi gy�ker hagyom�nyainak egyik legfontosabbika, hogy a koll�gium keretet ny�jt az �nfejleszt�shez, de nem paternalista m�don, hanem a n�pi koll�giumok ,,neveletlenek nevelnek neveletleneket\" elve alapj�n. Ez l�nyeg�ben azt jelenti, hogy az ide beker�l emberek szem�lyis�gjegyei �s szocializ�ci�s h�ttere nagyon elt�r, de egyar�nt �rt�kes hozom�ny, amelynek alapj�n egym�st befoly�solva, csiszolva v�lnak t�rsadalmilag felels �rtelmis�giv�.\\r\\nStruktur�lis elvek a felv�teln�l: a k�z�ss�g �sszet�tele\\r\\nAligha kell r�szletezni, hogy az eml�tett csiszol�d�s lehets�gei nagym�rt�kben f�ggenek att�l, mennyire soksz�n a koll�giumi k�zeg. Mivel a felv�teli sor�n minden jelentkeznek azonos es�lyt igyeksz�nk adni, a struktur�lis megfontol�sok ink�bb a felv�teli elk�sz�t�s sor�n j�tszanak nagy szerepet: melyek az agit�ci� c�lcsoportjai, milyen h�tt�rrel rendelkez embereket szeretn�nk nagyobb sz�mban vonzani.\\r\\nA Rajk �rt�krendj�nek egyik kulcseleme a t�rsadalmi mobilit�s elseg�t�se, az es�lykiegyenl�t�sre val� t�rekv�s, amihez mk�d�si modell�nk szerint elengedhetetlen�l sz�ks�ges a nagyon elt�r csal�di h�tter szakkoll�gist�k egy�ttmk�d�se. (A Rajkban r�g�ta bentlak� lehet minden koll�gista, �gy a budapestiek is.) A szakkoll�gium fenn�ll�sa �ta folyamatosan voltak tagjaink k�z�tt kedvez �s kedveztlen otthoni adotts�gokkal idej�v emberek, s nagyon gyakran kider�lt, hogy milyen sok dimenzi�s (az anyagi �s szellemi javakhoz, kapcsolatokhoz, szocializ�ci�s helyzetekhez val� hozz�f�r�st mag�ban foglal�) a ,,t�rsadalmi h�tt�r\" kifejez�s. Az elt�r szok�sok, �rt�kek, amelyeket a k�l�nb�z t�pus� telep�l�sekrl, h�tt�rbl �rkezk hoznak magukkal, gyakran vezet elsz�r k�lcs�n�s r�csod�lkoz�sra, majd �rdekld�sre, v�g�l a szimpatikus, egy�nhez ill elemek be�p�t�s�re.\\r\\nEgy rajkos kurzusbesz�mol�hoz (Debreczeni D�niel 2015) �ssze�ll�tott adatb�zisban megvizsg�ltuk, hogy a 2004�2014 k�z�tt felv�teliz hallgat�k felv�tel�t mennyiben befoly�solta a felv�teliz szociol�giai helyzete. Ez az elemz�s betekint�st ny�jthat abba, hogy mennyiben �rv�nyes�lnek az felv�teli elvek a Rajk t�nyleges gyakorlat�ban.\\r\\nA felv�telizktl n�h�ny alapvet statisztikai adatot megk�rdez�nk minden alkalommal (nem, kor, k�z�piskola t�pusa, egyetemi �tlag, sz�lk v�gzetts�ge �s foglalkoz�sa, lak�hely, testv�rek sz�ma). Az elemz�shez logit modellt haszn�ltunk (ez a felv�teli val�sz�ns�g�t becs�li a felsorolt param�terek alapj�n). 548 jelentkezbl 543 jelentkez adatait tudtuk felhaszn�lni.\\r\\nA v�rakoz�soknak megfelelen a legt�bb szociol�giai param�ternek nincs hat�sa a felv�teli eredm�nyre. �rdekes, hogy m�g a lak�hely t�pusa (Budapest, v�ros, falu) vagy az iskolat�pus sem!\\r\\n338\\r\\n\\r\\n\\x0cchik�n attila � ily�s m�rton: a rajk-modell ...\\r\\nUgyanakkor az anya v�gzetts�ge (iskol�ban elt�lt�tt �vek sz�ma) szignifik�nsan negat�v. A felv�telizk t�bbs�g�nek diplom�s az �desanyja (79%) �m a felv�teli kifejezetten t�mogatja az elsgener�ci�s �rtelmis�gi jelentkezket.\\r\\nEzen k�v�l a felv�teli idej�ig el�rt egyetemi �tlag szignifik�ns m�g �s pozit�v. (�rdekes, hogy az egyetemi �tlagot nem magyar�zz�k ,,hozott\" szociol�giai jellemzk a felv�telizink k�z�tt. Ez nyilv�n az�rt lehet, mert a Rajkba felv�telizk eleve ambici�zusabbak, a rosszabb helyzetbl j�vk k�z�l is csak azok pr�b�lj�k meg a felv�telit, akiknek az egyetemi tanulm�nyaikkal nincsenek gondjai).\\r\\nEzek az eredm�nyek azt mutatj�k, hogy a Rajk felv�telij�ben val�ban megjelenik a soksz�ns�gi szempont, a mobilit�s t�mogat�sa, �s a teljes�tm�ny-elv.\\r\\nUgyanakkor a modellnek nagyon alacsony az �sszes�tett magyar�z� ereje, ami azt igazolja, hogy a m�lyebb szem�lyis�gjegyek fel�l�rj�k a hozott szociol�giai helyzetet.\\r\\nA k�z�ss�gi �let jellemzi\\r\\nTerm�szetes, hogy min�l t�bb ,,fel�leten\" �rintkezhetnek egym�ssal a di�kok, ann�l gazdagabb a hat�s, amit egym�sra gyakorolnak, ann�l jobbak �nfejleszt�si lehets�geik. Persze mindenkinek szem�lyes d�nt�se, hogy kikkel, milyen ter�leten mk�dik egy�tt, de a koll�gium megteremti a lehets�get arra, hogy ez a v�laszt�s min�l t�bb �s t�bbf�le lehets�gre terjedjen ki.\\r\\nSzob�ink �t emeleten helyezkednek el. Az emeleti �let az inform�lis egy�ttl�tek, spont�n k�z�ss�gi �s politikai vit�k elsdleges sz�ntere, de emeletvacsor�k, sz�let�snapi bulik is �sszetartj�k az egy�ttlak�kat. Ezzel egy�tt a kapcsol�d�sok soksz�nbb� t�tele, a kevered�s n�vel�se �rdek�ben c�lszernek tartjuk a szob�k �venk�nti �jraeloszt�s�t. Az elhelyez�srl v�gs soron a Di�kbizotts�g (DB) d�nt � az egy�ni ig�nyek figyelembe v�tel�vel, persze a konfliktusok kezel�se a di�kvezet�s mindenkori nagy pr�b�ja.\\r\\nSzint�n mindenki maga d�nti el, milyen kurzusra j�r, s ez nemcsak a kurzus t�rgya miatt fontos, hanem az�rt is, mivel �gy dl el, kikkel dolgozik egy�tt egy f�l�ven-�ven �t; ez csup�n 80-100 emberrel val� egy�ttmk�d�st ig�nyel a teljes rajkos �let�t sor�n. Tov�bbi sokoldal� interakci� val�sul meg az�ltal, hogy a Rajk �nszervezd tev�kenys�ge megk�v�nja az �nigazgat�s sz�mos int�zm�ny�nek, tart�s vagy idszaki bizotts�gainak mk�d�s�t. Ezek a bizotts�gok c�lir�nyos mk�d�s�k mellett k�z�ss�gi tartalmat is hordoznak, a rendszeres ,,hivatalos\" �sszej�veteleik mellett a gyakori teah�zak, s�r�z�sek alkalm�val. (A rajkos szlengben n�mi egyszers�t�ssel a teah�zak a koll�giumban, a s�r�z�sek a koll�giumon k�v�l, t�bbnyire k�s este tartott, n�h�nyt�l egy-k�t tucatig terjed r�sztvevvel rendezett megbesz�l�sek ,,mv�sznevei.\")\\r\\nFontos kiemelni, hogy a k�z�ss�gi �let alakul�s�t nagym�rt�kben befoly�solj�k a virtu�lis t�rben l�trej�v kapcsolatok, mk�d�si elemek is. A mi tapasztalatunk szerint ezek nem g�tolj�k, st, elseg�tik a szem�lyes kapcsolatok alakul�s�t � amellett, hogy elengedhetetlen k�zeg�t jelentik a koll�giumi mk�d�s tartalmi �s szervezeti megval�s�t�s�nak. A sz�raz adatok ugyan sok mindent elfednek, de az internetes kommunik�ci� s�ly�t az�rt valamennyire jellemzi, hogy a Rajk intranetj�re a 2014/15-�s tan�vben 13 369 e-mail ker�lt. Ehhez hozz�j�n m�g a DB �s a k�l�nb�z egy�b bizotts�gok, illetve minden egyes kurzus saj�t csoportja. A Facebook szakkoll�giumi oldal�n, amelyet csak mostan�ban kezdt�nk igaz�n haszn�lni, az elm�lt h�rom �vben 407 poszt jelent meg, amelyek 6056 hozz�sz�l�st vonzottak. A Rajk@czikkek oldalra egy �v alatt 261 �r�s ke-\\r\\n339\\r\\n\\r\\n\\x0cszakkoll�giumok �s elitk�pz�s\\r\\nr�lt, amelyekhez 418 hozz�sz�l�s t�rt�nt. A koll�giumi �let szervezetts�g�t �s dinamik�j�t egyszeren lehetetlen lenne e platformok n�lk�l fenntartani.\\r\\nA ,,3. pill�r\": a t�rsadalmi �rz�kenys�g (avagy ,,van-e a Rajknak �nmag�n t�lmutat� c�lja\"?)\\r\\nA t�rsadalmi szerep sok vit�t kiv�lt� k�rd�s. Az egyik �ll�spont szerint a Rajk egyed�li c�lja a tagjainak szem�lyes fejld�se, boldogs�ga. A m�sik sz�lss�ges �ll�spont szerint a Rajk sok szempontb�l egyfajta k�z�sen alak�tott ,,vall�s\" a tagok sz�m�ra (saj�t �rt�kekkel, hittel a ,,j� vil�gr�l\", ritu�l�kkal stb.), amely t�lmutat az egy�nen.\\r\\nA Rajk t�rt�nete jelzi, hogy val�j�ban a kett egym�st felt�telezi. A felntt� v�l�s alapk�rd�se a mi�rt �s hogyan �rtelmes �lni, egyszeren nem v�laszolhat� meg an�lk�l, hogy magunkon t�lmutat� c�lokban ne f�rdess�k meg v�laszainkat.\\r\\nA magyar iskolarendszer folyamatos felk�sz�l�s valamilyen pr�bat�telre: vizsg�ra, felv�telire, diplom�ra, �m ezek sor�n elsikkad, hogy mi az eg�sz val�di c�lja. Sok di�knak lehet az az �rz�se, hogy az iskola valami t�voli j�vben elkezdd �letre k�sz�t fel. Ezt ers�tik az olyan v�lem�nyek, hogy ,,a di�kok dolga a tanul�s,\" ,,t�vol kell tartani a gyerekektl a politik�t.\" Val�sz�nleg ez m�r az �ltal�nos vagy k�z�piskol�ban is ink�bb k�ros infantiliz�l�st eredm�nyez.\\r\\nA Rajk modellje szerint felntt, �n�ll� emberr� nem valami j�vbeli beavat�si szertart�s r�v�n v�lunk, amire az iskola felk�sz�t, hanem az �letben val� eligazod�s gyakorl�s�val. A t�rsadalmi �rz�kenys�g elv�r�sa �s ehhez kapcsol�d�an a Rajk �s a rajkosok mag�n t�lmutat� felelss�ge pedag�giai eszk�z is. (Nem v�letlen, hogy a Rajk mint�j�t k�vet koll�giumok szinte mindegyike k�l�n neves�ti ezt az �ndefin�ci�j�ban. Ugyancsak �rdekes, hogy az egyh�zi szakkoll�giumokn�l ezt idnk�nt a ,,spiritualit�s\" gondolata v�ltja fel � ez is azt jelzi, hogy ez a ,,3. pill�rnek\" sokkal komolyabb szerepe van, ami kor�ntsem mer�l ki a k�z�leti t�j�kozotts�g megszerz�s�ben, vagy a kamp�nyszer �nk�ntesked�sben.)\\r\\nA rendszerv�lt�st k�vet idszakban nem csek�ly neh�zs�get okozott a Rajk t�rsadalmi szerep�nek �jragondol�sa. Az int�zm�nyi politiz�l�s tudatos visszaszor�t�sa cez�r�t jelentett a nyolcvanas �vek gyakorlat�hoz k�pest.\\r\\nA t�rsadalmi k�rd�sek megvitat�sa term�szetesen tov�bbra is a Rajk alaptev�kenys�g�hez tartozik: kurzusok, elad�sok, vitak�r�k foglalkoznak t�rsadalmi, szakpolitikai vagy ak�r politikai t�m�kkal. Ezen t�lmutat�an keress�k a gyakorlatban is megval�s�that� akci�kat, amelyekben eredm�nyesen tudjuk k�zvet�teni a t�rsadalmi �rz�kenys�g elv�t a szakkoll�gist�k sz�m�ra, hogy egy�ttal bemutathassuk, hogy a Rajk �nmag�n t�lmutat� t�rsadalmi hat�sokra is k�pes. Ezen k�s�rletek k�z�l m�ig tov�bb �l h�rom sz�l.\\r\\nAz egyik az egyetemre jut�s elseg�t�se a h�tr�nyos helyzet fiatalok sz�m�ra. Ez a m�r a Szakkoll�gium alap�t�sakor is fontos gondolatk�r nem vesz�tett jelents�g�bl az �vek sor�n. Ennek egyik legsikeresebb form�ja az imm�r negyedik �ve mk�d Szab� K�lm�n Tehets�gprogram. Ennek keret�ben rajkosok visszal�togatnak k�z�piskol�ikba, s ott sz�mukra megb�zhat� �rt�k�t�let volt tan�raik seg�ts�g�vel keresik azokat a di�kokat, akiket k�pess�geik eljuttathatn�nak az egyetemi p�ly�ra, de szoci�lis helyzet�k ezt nem tenn� lehetv�. A programba beker�l di�koknak a Rajk k�l�n e c�lra elk�l�n�tett forr�sokb�l biztos�t egy tan�ves tand�j �sszeg�nek megfelel t�mogat�st, amennyiben siker�l az egyetemi felv�telij�k (ezt kieg�sz�ti sz�mos t�mogat�, mentor�l� program).\\r\\n340\\r\\n\\r\\n\\x0cchik�n attila � ily�s m�rton: a rajk-modell ...\\r\\nEgy m�sik, kev�sb� l�tv�nyosan, de folyamatosan jelen l�v t�rsadalmi k�rd�s a roma n�pess�g helyzete. Konferenci�kkal, faluprogramokkal, di�kok tanulm�nyainak seg�t�s�vel pr�b�lunk szer�ny eszk�zeinkkel seg�teni.\\r\\nA harmadik sz�l a k�z�p-eur�pai gondolat felsz�nen tart�sa. Ehhez kapcsol�dva a legmark�nsabb fejlem�ny a k�t�vente �ltalunk megrendezett k�z�p- eur�pai di�kkonferencia, amelynek t�bb tucatnyi k�lf�ldi r�sztvevj�vel a mindenkor aktu�lisnak tartott t�m�kban hangzanak el elad�sok, s folyik igen �rt�kes szem�lyes kapcsolat�p�t�s.\\r\\nA Rajk t�rsadalmi be�gyazotts�g�nak folyamatos megteremt�se szempontj�b�l kiemelkeden fontos a koll�gist�k �ltal v�lasztott, tekint�lyes k�z�leti szem�lyis�gekbl �ll� Tan�csad� Test�let, amely rendszeres �l�seken foglal �ll�st a koll�gist�k �ltal kezdem�nyezett k�rd�sekben, s amelynek tagjaihoz szem�lyesen is fordulhatunk.\\r\\nA Rajk mk�d�si elvei\\r\\nA Rajk mindennapi �let�t seg�ti megszervezni n�h�ny sz�les k�rben elfogadott mk�d�si elv. Ezek alapj�n a tagok tudj�k, mi a szok�sjog, mire sz�m�thatnak konkr�t helyzetekben.\\r\\nFolyamatorient�lts�g\\r\\nA mk�d�s leg�tfog�bb elve a folyamatorient�lts�g, persze az eredm�nyess�g elv�r�sa mellett. V�gs soron ez a legfontosabb jele annak, hogy oktat�si-nevel int�zm�ny a Rajk. A v�gs c�l az, hogy mindenbl tanuljanak a tagjaink.\\r\\nA folyamatorient�lts�g m�sik fontos k�vetkezm�nye a k�z�ss�gi be�gyazotts�g, legitimit�s nagyfok� elv�r�sa. Ez felmer�l poz�ci�k �s k�l�n�sen vezeti szerepek ell�t�sa kapcs�n: egy�ltal�n nem el�g el�rni a kitz�tt c�lt, hanem azt a k�z�ss�g sz�m�ra elfogadott� is kell tenni, bevonva, motiv�lva a tagok sz�lesebb k�r�t.\\r\\nA koll�gium 90-100 fs l�tsz�ma tudatosan v�llalt, a rajkos mk�d�snek megfelel m�ret k�z�ss�get ad. M�g mindenki ismer mindenkit � legal�bb enyhe k�t�s van minden tag k�z�tt, de m�r el�g nagy a l�tsz�m ahhoz, hogy kisebb, szorosabban kapcsol�d� t�rsas�gok is kialakuljanak (ezek r�ad�sul t�bbsz�r�sen �tfedik egym�st a k�l�nf�le dimenzi�k tekintet�ben: (szintk�z�ss�g, bar�ti t�rsas�gok, �letkor stb.). Ez saj�tos dinamik�t visz a mk�d�sbe �s jobban megalapozza egyes kezdem�nyez�sek, szem�lyi amb�ci�k legitimit�s�t. Sz�mos programot vagy adott poz�ci�ra jelentkez szem�lyt egyes kiscsoportok tekintenek jel�ltj�knek vagy sz�v�gy�knek. Ahhoz, hogy koll�giumi szint legitim�ci�t szerezzenek a kiscsoporti c�ljukhoz, t�bb m�s csoportot is meg kell nyerni t�mogat�ul.\\r\\n�ntev�kenys�g\\r\\nA Rajkban csak az j�n l�tre, amit a tagok megval�s�tanak. Ennek az alapelvnek k�t f �zenete van. Egyr�szt szem�lyes felelss�gv�llal�sra �szt�n�z. Ne v�rj, ne mutogass m�sra, ha szerinted valamire sz�ks�g van, kezdd el megcsin�lni, szervezz koal�ci�t, tematiz�ld, vidd a koll�gium sz�ne el�, val�s�tsd meg!\\r\\nA m�sik �zenet az, hogy minden tag szabadon megval�s�thatja mag�t: a koll�gium ny�lt platform, amibe mindenki beviheti saj�t c�ljait. (A szk�s erforr�sok�rt � p�nz, id, figyelem � term�szetesen versenyeznek az �nszervezd programok.)\\r\\n341\\r\\n\\r\\n\\x0cszakkoll�giumok �s elitk�pz�s\\r\\nSzab�lyk�vet�s, m�lt�nyoss�gi k�relmekkel\\r\\nA Rajk a tags�g �ltal elfogadott Szervezeti �s Mk�d�si Szab�lyzat alapj�n mk�dik. A szab�lyokhoz val� viszony a rajkos pedag�giai modell egyik sarkalatos pontja �s a bels vit�k gyakori forr�sa. A k�zoktat�sban jellemzen a di�koknak nincs r�hat�sa az int�zm�ny szab�lyaira, passz�v elfogad�k csak. Ha a k�v�lrl r�erltetett szab�lyokkal szemben az egy�n saj�t �n�rdeke fesz�l, akkor az �gyesked�s, szab�lyker�l�s domin�ns v�laszt�ss� v�llhat (ak�r t�rsadalmi szinten is). A Rajkban azt tapasztalhatj�k meg a tagok, hogy v�gs soron az�rt tartjuk be a szab�lyainkat, mert magunk hoztuk ket. Ha valamely szab�ly �letszertlenn� v�lik, vagy s�rti az egy�nek �rdekeit, akkor a szab�ly k�z�ss�gi megv�ltoztat�sa lehet a megfelel v�lasz.\\r\\nPersze l�teznek egyedi elb�r�l�st ig�nyl �gyek, amikor valaki a szab�ly al�li felment�st k�r, mert valamilyen komoly, elre nem l�that� k�r�lm�ny mer�l fel. Ennek form�ja a m�lt�nyoss�gi k�relem. A Rajkban erre gyakorlatilag minden szab�lyunkkal kapcsolatban van lehets�g. Alapelv (�s r�szletesen szab�lyozott) hogy a m�lt�nyoss�gi k�relem elfogad�s�nak komoly � az esetileg felf�ggeszteni k�v�n szab�ly s�ly�hoz m�rhet � �ra legyen. Az SZMSZ-be foglalt szab�lyokhoz kapcsol�d� m�lt�nyoss�gi k�relmeket p�ld�ul a Koll�gium Gyl�s 2/3-os t�bbs�ggel fogadhatja el � ilyen esetek rendszeresen, de nem t�l gyakran fordulnak el, mindig komoly vit�t v�ltva ki. A m�lt�nyoss�gi k�relmek finom szab�lyoz�sa: azt �zeni, hogy t�rekedni kell j� szab�lyokat hozni �s azokat betartani, de figyelembe kell venni az �let komplexit�s�t is: a szab�lyok nem mentes�tenek a d�nt�sek al�l, hanem seg�tik azt.\\r\\nSzocializ�ci� �s a ,,koll�giumi p�lya�v\"\\r\\nA szakkoll�giumok �ltal�nos kih�v�sa, hogy �gy kell stabil szervezeti kult�r�t ki�p�teni�k, hogy k�zben a tags�g nagyon gyorsan cser�ldik. Ez�rt k�l�n�sen fontos a ,,rajkos szocializ�ci�\" az �jonnan felvettek (Rajkos szlengben �F-ek) sz�m�ra. Ez m�ra nagyon komplex rendszerr� v�lt. Az �F-ek els �lm�nye, hogy a felv�teli d�nt�st k�vet este meg�nnepelj�k ket (ez rendszerint valamilyen sz�rre�lis helysz�nen � mostans�g egy elhagyott k�lv�rosi gy�r�p�letben t�rt�nik). Az eg�sz rajkos els �vben a tagok kiemelt figyelmet kapnak, �s gyorsan int�zm�nyi felelss�get is: � K�t h�nap ut�n az �vfolyam maga k�z�l v�laszt k�t deleg�ltat a DB-be. A deleg�ltak\\r\\nkiv�laszt�sa a koll�gium k�z�ss�ge eltt zajlik, de csak az �F-ek sz�lnak hozz� �s szavaznak. � Sz�mos fontos k�z�ss�gi esem�ny szervezit (T�li �s Ny�ri T�bor, Udvarb�l stb.) az �F �vfolyam adja (jellemzen inform�lis keretek k�z�tt osztj�k el ezeket a feladatokat).\\r\\nE megb�z�sok �ltal�nos �zenete az, hogy teljes jog�, felels tagjai, a koll�gium j�vj�nek �s jelen�nek let�tem�nyesei lettek. A felsbb �vesek sz�m�ra kifejezetten ers, inform�lis k�z�ss�gi elv�r�s, hogy foglalkozzanak az �F-ekkel. Ugyanakkor a sz�monk�r�s szempontj�b�l �s a kritikai visszajelz�sekkel kapcsolatban az els rajkos �v v�dett st�tuszt biztos�t; mindenkiben hisz�nk, hogy a maga saj�tos �tkeres�s�ben megtal�lja a maga saj�t rajkos modellj�t.\\r\\nA koll�giumban a 2. �s 3. �vesek a koll�gium megval�s�t�i � elssorban ebben a korban v�lasztj�k meg ket form�lis poz�ci�kba, ekkor kapnak kem�ny szem�lyes visszajelz�seket. Az �reg koll�gist�kkal szembeni hagyom�nyos szerepelv�r�s fbb elemei a k�vetke-\\r\\n342\\r\\n\\r\\n\\x0cchik�n attila � ily�s m�rton: a rajk-modell ...\\r\\nzk: a k�lvil�g fel� is �rt�kes szakmai eredm�nyek el�r�se, a nagyobb �v strat�giai �s elvi vit�kban val� akt�v r�szv�tel �s a fiatalabbak szocializ�ci�ja.\\r\\nMindez a szervezet mk�d�se sor�n ers sz�v�hat�st fejt ki: folyamatosan v�ltoz� szerepekben tal�lj�k magukat a tagok.\\r\\nSok szakkoll�gium k�zd azzal a probl�m�val, hogy a tags�g ,,akt�v\" �letszakasza r�vid, az idsebbek m�r ink�bb elmennek dolgozni, kip�r�gnek a k�z�ss�gi �raml�sb�l. A Rajk-modellben tudatosan t�reksz�nk arra, hogy a teljes p�ly�t fussa be a tags�g. Ez sok szempontb�l ellene sz�l a hazai felsoktat�s bachelor-master strukt�r�j�nak. A hazai felsoktat�si strat�gia �s az egyes int�zm�nyek sz�m�ra is fontos kih�v�s, hogy a felsoktat�si int�zm�nyek mester szinten a nemzetk�zi versenyben milyen �rt�kaj�nlatot tudnak ny�jtani.\\r\\nAz eddigi tapasztalatok szerint a tags�gunk a hazai mesterk�n�lat mellett d�nt, j�r�szt az�rt, mert nem akarja a koll�giumi p�ly�j�t feladni. Ezt ellent�telezi az, hogy nagyon ers a CEMS-CEU-Erasmus �szt�nd�jak ir�nti kereslet. Ers alapot jelent teh�t a rajkosok itt tart�s�hoz az a kimondott, s a val�s�gban is igazol�dni l�tsz� t�tel, hogy a hazai master+rajkos diploma egy�ttesen fel�r egy komoly k�lf�ldi masterrel.\\r\\nA koll�giumi �let szervez�se, a szervezeti strukt�ra\\r\\nAz �nszervezd�s, a folyamatorient�lts�g, a m�lt�nyoss�gi k�relmek mind nagyfok� bels szervezeti rugalmass�got ig�nyelnek. Ugyanakkor ez csak akkor tarthat� fent, ha vannak biztos pontok, amelyek mindenki sz�m�ra meghat�rozz�k a koll�giumi �let kereteit, �v�t. Ezek l�t�t �rott �s �ratlan szab�lyaink, s nem kis m�rt�kben hagyom�nyaink hat�rozz�k meg. A koll�giumi programk�n�lat sz�mos eleme: koligyl�sek, f t�borok, elre l�that� programok adj�k a ,,Nefelejts\"-et, ami megh�zza az adott f�l�v �v�t, s amelyhez mindenki illesztheti szem�lyes programjait.\\r\\nA Rajk k�ldet�s�bl egyenesen k�vetkezik, hogy a tags�g demokratikusan v�lasztott test�letei d�ntenek minden mk�d�si k�rd�sben. A koll�gium h�rom nem di�k tagj�nak (eln�k, igazgat� �s a neveltan�r) ugyan�gy egy szavazati joga van, mint b�rmely di�knak. Szerep�k ink�bb a folytonoss�g biztos�t�sa, a mentor�l�s �s a koll�gium kifel� t�rt�n k�pviselete. Term�szetesen ezekre a poz�ci�kra is a di�kok keresnek jelentkezket, majd v�lasztanak k�z�l�k.\\r\\nA k�l�nb�z test�letek � a koll�gium sokr�t tagolts�g�nak �s sokir�ny� mk�d�s�nek megfelelen jellemzen horizont�lis strukt�r�t k�peznek, melyben az egyes test�letek k�z�tti viszony alig hierarchiz�lt, a munkamegoszt�s d�nten funkcion�lis.\\r\\nEnnek a strukt�r�nak saj�tos jelleget ad, hogy a Rajknak egyidejleg kell megval�s�tania a szervezeti �s a k�z�ss�gi mk�d�st. Ez term�szetesen ersen laz�tja a szervezeti fegyelmet, ugyanakkor jelents terepet ad az egy�ni kezdem�nyez�seknek, kreativit�snak. A szigor�an szab�lyozott demokratikus v�laszt�si rendszer ers legitimit�st ad az egyes test�leteknek, ami term�szetesen megn�veli ezek mozg�ster�t, lehetv� t�ve, hogy ne merev szab�lyok domin�ljanak, hanem a tags�g konkr�t elgondol�saihoz rugalmasan alkalmazkod� mk�d�sm�d alakuljon ki.\\r\\nEz a mk�d�si logika term�szetesen sz�mos �rtelmez�si, helyzet�rt�kel�si vit�nak ad teret. A koll�gium alapelveibl kifejezetten k�vetkeznek ezek a vit�k, hiszen ezek teszik lehetv� azt, hogy az emberek maguk�nak �rezz�k, �s �lland�an jobb�tani akarj�k a szervezeti mk�d�st. A Rajk nagyon sokat foglakozik saj�t mag�val: a visszacsatol�soknak,\\r\\n343\\r\\n\\r\\n\\x0cszakkoll�giumok �s elitk�pz�s\\r\\n�rt�kel�seknek, tervek kialak�t�s�nak esem�nyei a koll�gium mindennapjaihoz tartoznak. Ennek a folyamatnak a k�vetkezm�nye, hogy mik�zben a Rajk alapelvei, tev�kenys�g�nek f pill�rei els l�t�sra alig k�l�nb�znek az alap�t�skor megfogalmazottakt�l, a val� mk�d�s az �vek sor�n fokozatosan (a k�ls felt�telek �s a tags�g ig�nyei ment�n) form�l�dott, s m�ra sokkal komplexebb� v�lt.\\r\\nA szervezeti �let cs�cs�n a Koll�giumi Gyl�s helyezkedik el. A szavaz�k�pess�g hat�ra az �ssztags�g 75%-a, amit kem�nyen betartunk (a n�ha hajnalig tart� gyl�sek egyegy szakasz�ban ez nem k�nny). �vente 6-7 koll�giumi gyl�st tartunk, s annak sz�m�t a Ny�ri T�bor teljes idtartama is. A koll�giumi gyl�snek b�rmilyen k�rd�st jog�ban �ll napirendre tzni (a Di�kbizotts�g, vagy a koll�gist�k 20%-nak javaslat�ra), s l�nyeg�ben itt dlnek el a strat�giai k�rd�sek� rendszerint alapos elk�sz�t�s ut�n. A koll�giumi gyl�s (amelyet a Di�kbizotts�g titk�ra vezet) 2/3-os t�bbs�ggel v�ltoztathatja meg a Szervezeti �s Mk�d�si Szab�lyzatot (SZMSZ).\\r\\nA koll�gium operat�v vezet�s�t egy idk�z�nk�nt v�ltoz�, 6-8 tart�san mk�d, �s igen sok ad-hoc bizotts�gb�l �ll� h�l�zat l�tja el, amelynek koll�giumi �letp�ly�ja sor�n hosszabb-r�videbb idre szinte minden rajkos r�sz�v� v�lik.\\r\\nE bizotts�gok k�z�tt kiemelt szerepe van a Di�kbizotts�gnak (DB), amelyet a koll�giumi gyl�s v�laszt �vente; h�t di�k, az igazgat� �s a neveltan�r alkotja. A DB hetente tartott 5-6 �r�s �l�sein (amelyeket a titk�r vezet) a koll�giumi �let teljess�g�t �tfogja. A DB nem egy \"�rtekezlet\" sokkal ink�bb egy h�mp�lyg f�rum, ahol a tags�g jelents r�sze megfordul. A DB minden h�ten �rt�keli az elz h�t esem�nyeit (ez rendk�v�l fontos visszacsatol�s, �ltal�ban egy-m�sf�l �r�t tart). A DB �ll�tja �ssze a programokat hossz�- �s r�vidt�vra, koordin�lja a koll�gium tov�bbi bizotts�gainak mk�d�s�t, kezeli a szem�lyi �gyeket, d�nt a p�nz�gyi k�rd�sekben, vit�kat kezdem�nyez a koll�giumban felmer�lt elvi k�rd�sekrl, d�nt a szobaelhelyez�sekrl; a d�nt�sek t�bbs�gi szavaz�ssal sz�letnek. Azt, hogy a DB egyszerre f�rum �s d�nt�shoz� szerv, nem mindig k�nny �sszehangolni. Mindenesetre �gy v�lj�k, hogy a rajkos modell siker�nek egyik kulcsa a DB feladatk�r�nek �s mk�d�si m�dj�nak helyes kialak�t�sa volt.\\r\\nA koll�giumi gyl�s �ltal v�lasztott Szakmai Munka Tan�cs�nak felelss�gi k�r�be tartozik a koll�giumban foly� szakmai munka valamennyi tartalmi �s szervez�si k�rd�s�nek kezel�se. Feladataik k�z�tt szerepel a kurzusok megszervez�se �s monitoroz�sa, az egy�ni szakmai besz�mol�k �rt�kel�se, a Neumann- �s Simon-d�jasok v�laszt�s�nak elk�sz�t�se, l�togat�suk szakmai tartalm�nak fel�gyelete.\\r\\nA hat di�kb�l �s az igazgat�b�l �ll� Felv�teli Bizotts�got is a koll�giumi gyl�s v�lasztja minden �vben. Teljes jogk�rrel rendelkezik a felv�tel lebonyol�t�s�ban. A felv�teli egy k�rd�vbl �s egy sz�belibl �ll. A felvehet �j tagok sz�m�r�l a koll�giumi gyl�s d�nt, a k�rd�vek tartalm�t a koll�gist�k t�bbl�pcss folyamatban, k�z�ss�gi vit�kban alak�tj�k ki, a sz�beli fordul�n pedig valamennyi jelenlegi �s volt szakkoll�gista r�szt vehet � ers teh�t a k�z�ss�gi kontroll, de a d�nt�s maga csak a bizotts�g h�t tagj�nak szavazat�n m�lik.\\r\\nTov�bbi fontos �lland� bizotts�g a Rajkban a VOSZK-munkacsoport (amely a volt szakkoll�gist�kkal val� kapcsolatot szervezi), a P�nz�gyi Bizotts�g (a p�nzszerz�s �s a gazd�lkod�s operat�v megszervez�s�re), a Lak�bizotts�g (amely az �p�let mk�dtet�s�t seg�ti el, a f�ll�s� gondnokkal kar�ltve) � a koll�giumot seg�ti m�g egy �lland� f�ll�s� adminisztrat�v munkat�rs, aki a sz�mviteli feladatokat l�tja el. Az egyes nagyobb l�pt�k\\r\\n344\\r\\n\\r\\n\\x0cchik�n attila � ily�s m�rton: a rajk-modell ...\\r\\nesem�nyek szervez�s�t ad hoc csoportok v�gzik, amelyek mind a DB-hez vannak becsatorn�zva.\\r\\nA koll�giumi tev�kenys�g szervez�s�nek integr�ns r�sze a mk�d�shez sz�ks�ges p�nz�gyi fedezet biztos�t�sa. Elmondhat�, hogy a koll�gium soha nem d�sk�lt a p�nzben, de legfontosabb c�ljainkra mindig megteremtett�k a fedezetet. Ez gyakran j�rt sok munk�val, de soha nem tett�nk elvi kompromisszumokat a p�nzszerz�s �rdek�ben, m�g ha ez a m�ltban �s a jelenben is t�bb alkalommal hozta h�tr�nyos helyzetbe a koll�giumot. A finansz�roz�sunk alapjait (jelenlegi s�lyuk szerinti sorrendben) a mindenkori tags�g befizet�sei, az alumni t�mogat�sa, az �llami fejkv�ta, v�ltoz� �sszeg p�ly�zati p�nzek, a koll�gist�k �ltal megb�z�si szerzd�ssel v�gzett munk�k ellen�rt�ke, �s az �p�letfenntart�shoz t�rt�n eseti egyetemi t�mogat�sok jelentik.\\r\\nAz alumni\\r\\nA Rajkban eddig k�zel 800-an v�geztek. M�r a legels v�gzs �vfolyam megalap�totta (akkor jogi keretek hi�ny�ban inform�lisan) a Volt Szakkoll�gist�k K�r�t (Voszk), �s idvel ennek szervezeti keretei (egyes�let) is kialakultak. Az �sszetart�s �rz�s�nek erss�g�t jelzi a hamar kialakult ,,a rajkoss�g egy �letre sz�l\" szlogen. A Voszk az�rt is fontos, mert minden ,,iskola\" t�rsadalmi be�gyazotts�g�nak megteremt�s�ben meghat�roz� szerep van az aluminnak. Ers �s �l alumni n�lk�l minden �j ,,iskola\" csak momentum, amelyet k�nnyen elsodor, fel�l�r vagy megsz�ntet a k�lvil�g. A Voszk soksz�n: a fiatalabbak visszaj�rnak bulizni, a gyerekeseknek gyereknapot tartunk (ilyenkor 40-60 gyerek rohang�l az �p�letben a homokoz� �s a koll�gist�kkal val� t�rsasj�t�koz�s sz�nhelyei k�z�tt), a m�s ,,szubkult�r�khoz\" tartoz� �regdi�koknak ultiversenyt, k�z�s kosaraz�st, vagy focit szervez�nk. Visszaj�rnak az elad�sokra vagy �pp eladni, tan�tani vagy h�borogni a vil�gon. Szakmai rendszer�nkben kurzusvezeti, konzulensi, opponensi szerepekben n�lk�l�zhetetlen a r�szv�tel�k. Gyakran k�r�nk tl�k tan�csot, egy�nenk�nt, vagy ,,kerekasztalok\" keret�ben. B�szk�k vagyunk a volt szakkoll�gist�inkra.\\r\\nA Rajk-modell �zenete\\r\\nA Rajk-modell organikusan alakult, d�nten az �ppen �rz�kelt k�ls k�rnyezet impulzusaira, hib�ira-hi�nyoss�gaira adott v�laszok �tj�n. �lland� bels k�rd�s�nk volt, hogy ez az eg�sz modell csak egy �tmeneti torzult vil�gra adott v�lasz-e; kell-e Rajk, ha m�r nincs diktat�ra, ha j� lesz az egyetem, ha mindenki sz�m�ra el�rhetek lesznek a legjobb lehets�gek � m�g ha csak k�lf�ld�n is?\\r\\nM�ra arra jutottunk, hogy a sok k�nyszerhelyzet kitermelt egy maradand� pedag�giai innov�ci�t, amit b�tran felv�llalhatunk, mert t�lntt a l�trej�tt�t kiv�lt� k�r�lm�nyeken.\\r\\nA Rajk-modell szerepe a felsoktat�sban\\r\\nA hazai felsoktat�s sz�m�ra komoly kih�v�st jelent a nemzetk�zi verseny. Ma ezt m�g tal�n nem igaz�n �rzik a vezet int�zm�nyek, mert a m�sodvonalbeli (egy�bk�nt helyi szinten nagyon fontos t�rsadalmi funkci�t bet�lt) int�zm�nyektl t�megesen vonzanak el hallgat�kat, de a k�z�piskol�sok legjobbjai k�z�tt egyre ink�bb le�rt�keldik a hazai felsoktat�s. Ez �ngerjeszt folyamatt� v�lhat, ami azt eredm�nyezi, hogy hazai egyetem\\r\\n345\\r\\n\\r\\n\\x0cszakkoll�giumok �s elitk�pz�s\\r\\negyszeren nem cs�b�t�; ha nem ide j�n a hazai elit, akkor a hazai k�z�poszt�ly is ink�bb az (egy�bk�nt sokszor m�sodvonalbeli) k�lf�ldi lehets�geket kezdi keresni.\\r\\nMindek�zben dr�maian beszk�lnek a hazai egyetemeinken a t�rsadalmi mobilit�s lehets�gei � j�r�szt a k�zoktat�s �ltal�nos probl�m�i miatt is.\\r\\nErre ers, innovat�v v�laszt tudna adni a Rajk-modell kiterjeszt�se. Egyetemeink fejlesztend ers alap- �s t�megk�pz�se akkor v�lhat nemzetk�zileg is versenyk�pess�, ha a di�kok beker�lhetnek olyan szem�lyes nevel�si-k�z�ss�gi elitk�pz�sekbe is, amit a szakkoll�giumok k�pesek ny�jtani. Ennek szervezeti-int�zm�nyi megold�s�t keresve hamar eljutunk az angol college- sziszt�m�hoz. A szakkoll�giumok term�szetes t�mogat�i, st meg�li minden egy�b kiv�l�s�gi kezdem�nyez�snek (CEMS, nemzetk�zi kapcsolatok, TDK, tant�rgyfejleszt�s stb.) Ezek nem kiv�lt�i, hanem kieg�sz�ti a szakkoll�giumoknak, abban az �rtelemben, hogy a szakkoll�gium adj�k azt az �l k�zeget, amely ezeket az oktat�si innov�ci�kat �rt�keli, haszn�lja, fejleszti.\\r\\nA Rajk-modell a k�zoktat�sban\\r\\nA szakkoll�gium a felntt� v�l�s pedag�giai szitu�ci�j�ra j�tt l�tre, de sz�mos eleme a kor�bbi �letszakaszokban is hasznos lehet. A hazai k�zoktat�sban a Rajk-modell elemeit hasznos�tani lehet: � A k�zoktat�s koll�giumaiban: a Rajk-modellnek az adott koroszt�lyhoz igaz�t�sa p�-\\r\\nratlan lehets�get k�n�lhat arra, hogy a megl�v egy�tt�l�s igazi �lm�nypedag�giai elemm� v�ljon. � K�z�ss�gszervez�s: a rajkos-modell sz�mos eleme minim�lis igaz�t�ssal hozz�j�rulhat a k�z�piskolai di�k�let vitaliz�l�s�hoz. � Iskola �s gyakorlat: a k�zoktat�ssal kapcsolatos egyik visszat�r kritika a gyakorlatorient�lts�g hi�nya. E tekintetben a szakkoll�giumi modell m�lyebben be�gyazott �lm�nyt ny�jthat. Az igazi gyakorlat a di�koknak a saj�t tev�kenys�g�k �n�ll� megszervez�se, a d�nt�shozatal gyakorl�sa.\\r\\nA szakkoll�gium a pedag�gi�ban\\r\\nA szakkoll�giumi modellt, ezt a speci�lis hazai innov�ci�t kor�ntsem kutatt�k el�gg� a hazai pedag�gi�ban, mik�zben hossz� id �ta val�s ig�nyeket el�g�t ki �s meggyz eredm�nyei vannak. Az ehhez hasonl�, az �let �ltal kitermelt j� p�ld�kat hozz�f�rhetv� kell tenni a szakma (ez esetben a pedag�gia, az oktat�sszervez�s) sz�m�ra. Minden szakkoll�gium term�szetszerleg befel� fordul� �s �nmag�t egyedinek �rz szervezet, de egyfajta �l laborat�rium is. Kihagyott lehets�g, ha az eredm�nyek nem csatorn�z�dnak be a szakma diskurzus�ba.\\r\\nZ�rsz�\\r\\nHisz�nk abban, hogy a Rajk eredm�nyes pedag�giai k�s�rlet, amely p�ld�ul szolg�lhat. Sz�munkra ezt bizony�tja: � a di�kok szakmai kiv�l�s�g�t jelz eredm�nyek, � a jelentkezk stabilan nagy sz�ma (2,5-3 szoros t�ljelentkez�s), � a volt szakkoll�gist�k k�td�se a Rajkhoz,\\r\\n346\\r\\n\\r\\n\\x0cchik�n attila � ily�s m�rton: a rajk-modell ... � a kurzusvezet�sre jelentkez tan�rok, � sz�mos fiatalabb szakkoll�gium felhaszn�lta tapasztalatainkat � a modell m�s szakte-\\r\\nr�leteken, m�s egyetemek mellett is mk�dk�pes. Mindez m�r 46 �ve stabilan mk�dik. A hazai felsoktat�s sok kih�v�ssal, elv�r�ssal n�z szembe: � A sz�ks�ges t�megk�pz�s mellett a tehets�ggondoz�s, a speci�lis ig�nyek kiszolg�l�sa �s a szakmai munk�ban a szem�lyess�g megtart�sa, � a t�rsadalmi mobilit�s lehets�g�nek fenntart�sa a t�rsadalmi koh�zi� ers�t�se mellett, � nemzetk�zi versenyk�pess�g el�r�se, a hazai hallgat�k sz�m�ra legyen megfelel magyarorsz�gi felsoktat�si lehets�g, st, ez k�lf�ldi di�kok sz�m�ra is legyen cs�b�t�. A szakkoll�giumi modell alapja, hogy nem ugyanazt a megold�st kell haszn�lni minden probl�m�ra, hanem szabad teret kell engedni az innov�ci�knak. �gy v�lj�k, az emberek joggal l�thatnak ebben az int�zm�nyt�pusban egy olyan nyitott �s egyben kreat�v p�ldak�nt szolg�l� platformot, amely b�r mag�val is folyamatosan meghasonul, �lland�an v�ltozik, m�gis ers, �rz�keny v�laszokat k�pes adni az aktu�lis kih�v�sokra.\\r\\n347\\r\\n\\r\\n\\x0c'"
      ]
     },
     "execution_count": 255,
     "metadata": {},
     "output_type": "execute_result"
    }
   ],
   "source": [
    "normalize(\"NFKD\", text.decode(\"utf-8\"))"
   ]
  }
 ],
 "metadata": {
  "kernelspec": {
   "display_name": "Python 3 (ipykernel)",
   "language": "python",
   "name": "python3"
  },
  "language_info": {
   "codemirror_mode": {
    "name": "ipython",
    "version": 3
   },
   "file_extension": ".py",
   "mimetype": "text/x-python",
   "name": "python",
   "nbconvert_exporter": "python",
   "pygments_lexer": "ipython3",
   "version": "3.10.8"
  },
  "toc": {
   "base_numbering": 1,
   "nav_menu": {},
   "number_sections": true,
   "sideBar": true,
   "skip_h1_title": false,
   "title_cell": "Table of Contents",
   "title_sidebar": "Contents",
   "toc_cell": false,
   "toc_position": {
    "height": "calc(100% - 180px)",
    "left": "10px",
    "top": "150px",
    "width": "165px"
   },
   "toc_section_display": true,
   "toc_window_display": true
  }
 },
 "nbformat": 4,
 "nbformat_minor": 5
}
